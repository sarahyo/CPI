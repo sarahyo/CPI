{
 "cells": [
  {
   "cell_type": "code",
   "execution_count": 1,
   "id": "6468179d",
   "metadata": {},
   "outputs": [],
   "source": [
    "import os\n",
    "import pandas as pd\n",
    "import json\n",
    "from pandas import json_normalize\n",
    "from skimpy import skim\n",
    "import numpy as np\n",
    "import plotly_express as px\n",
    "import matplotlib.pylab as plt\n",
    "pd.set_option('display.float_format', lambda x: '{:.0f}'.format(x))"
   ]
  },
  {
   "cell_type": "code",
   "execution_count": 2,
   "id": "0f64f371",
   "metadata": {},
   "outputs": [],
   "source": [
    "columns = [\n",
    "    'categories', \"manufacturer\", \"title\", \"lastUpdate\", \"lastPriceChange\",\n",
    "    \"rootCategory\", \"productType\", \"parentAsin\", \"variationCSV\", \"asin\",\n",
    "    \"type\", \"hasReviews\", \"trackingSince\", \"brand\", \"productGroup\", \"partNumber\",\n",
    "    \"model\", \"color\", \"edition\", \"isAdultProduct\", \"isEligibleForTradeIn\",\n",
    "    \"isEligibleForSuperSaverShipping\", \"offers\", \"buyBoxSellerIdHistory\",\n",
    "    \"isRedirectASIN\", \"isSNS\", \"author\", \"binding\", \"numberOfItems\",\n",
    "    \"numberOfPages\", \"publicationDate\", \"releaseDate\", \"languages\",\n",
    "    \"lastRatingUpdate\", \"size\", \"frequentlyBoughtTogether\", \"promotions\",\n",
    "    \"coupon\", \"categoryTree\"\n",
    "]\n",
    "\n",
    "path_to_json_files = '../out/'\n",
    "df_list = []\n",
    "\n",
    "for filename in os.listdir(path_to_json_files):\n",
    "    if filename.endswith('.json'):\n",
    "        with open(os.path.join(path_to_json_files, filename)) as user_file:\n",
    "            parsed_json = json.load(user_file)\n",
    "        if 'products' in parsed_json:\n",
    "            df = json_normalize(parsed_json['products'])\n",
    "            df1 = df[columns]\n",
    "            df_list.append(df1)\n",
    "\n",
    "combined_df = pd.concat(df_list, ignore_index=True)\n",
    "\n",
    "# combined_df.to_csv('result_8000.csv')\n"
   ]
  },
  {
   "cell_type": "code",
   "execution_count": 3,
   "id": "6bc6fc2d",
   "metadata": {},
   "outputs": [],
   "source": [
    "columns2 = [\n",
    "    'categories', \"lastUpdate\", \"lastPriceChange\",\n",
    "    \"rootCategory\", \"productType\", \"parentAsin\", \"asin\",\n",
    "    \"type\", \"hasReviews\", \"trackingSince\", \"brand\", \"productGroup\", \"partNumber\",\n",
    "    \"edition\", \"isAdultProduct\", \"isEligibleForTradeIn\",\n",
    "    \"isEligibleForSuperSaverShipping\", \"offers\", \"buyBoxSellerIdHistory\",\n",
    "    \"isRedirectASIN\", \"isSNS\", \"author\", \"binding\", \"publicationDate\", \"releaseDate\", \"languages\",\n",
    "    \"frequentlyBoughtTogether\", \"promotions\", \"coupon\", \"categoryTree\"\n",
    "]\n",
    "\n",
    "test = combined_df[columns2]\n"
   ]
  },
  {
   "cell_type": "code",
   "execution_count": 33,
   "id": "1b6e248c",
   "metadata": {},
   "outputs": [],
   "source": [
    "category = test[['productGroup', 'asin', 'categories', 'categoryTree', \"rootCategory\"]]\n",
    "filters = pd.read_csv('home & kitchen.csv')\n",
    "filters.columns=['nodeID', 'nodePath', 'Query', 'Refinement Link', 'Unnamed: 4',\n",
    "       'Unnamed: 5', 'Unnamed: 6']\n",
    "\n",
    "nodid = list(filters['nodeID'])\n",
    "nodepath = list(filters['nodePath'])\n",
    "\n",
    "cats = []\n",
    "for i, ids in enumerate(nodid):\n",
    "    for j in range(len(category['categories'])):\n",
    "        if ids in category['categories'][j]:\n",
    "            cats.append((nodepath[i], ids, category['asin'][j]))\n",
    "\n",
    "cats_df = pd.DataFrame(cats, columns=['nodepath', 'nodeID', 'asin'])\n",
    "result=category.merge(cats_df, on = 'asin', how = 'left')\n",
    "result.to_csv('filter_merge_categories.csv')"
   ]
  },
  {
   "cell_type": "code",
   "execution_count": null,
   "id": "b4274efb",
   "metadata": {},
   "outputs": [],
   "source": [
    "plot_df = result.groupby(['nodeID', 'nodepath'], as_index=False).agg({'asin': 'count'})\n",
    "check = result.groupby(['asin', 'nodeID', 'nodepath'], as_index=False).count()\n",
    "chek_s = check['nodepath'].str.split('/', expand=True)\n",
    "ch = pd.concat([check, chek_s], axis=1)\n",
    "ch['lastCategory'] = ch['nodepath'].str.split('/').str[-1]\n",
    "check1 = ch.drop_duplicates(subset='asin', keep='first')\n",
    "check1.columns = ['asin', 'nodeID', 'nodepath', 'productGroup',\n",
    "                  'categories', 'categoryTree', 'rootCategory', 'path0',\n",
    "                  'path1', 'path2', 'path3', 'path4', 'path5',\n",
    "                  'path6', 'path7', 'path8', 'lastCategory']\n",
    "\n",
    "check1 = check1[['asin', 'nodeID', 'nodepath', 'path0', 'path1', 'path2',\n",
    "                 'path3', 'path4', 'path5', 'path6', 'path7', 'path8', 'lastCategory']]\n",
    "\n",
    "check1.to_csv('asin_path_id.csv', index=False)"
   ]
  },
  {
   "cell_type": "code",
   "execution_count": 67,
   "id": "bf0adcd0",
   "metadata": {},
   "outputs": [
    {
     "data": {
      "application/vnd.plotly.v1+json": {
       "config": {
        "plotlyServerURL": "https://plot.ly"
       },
       "data": [
        {
         "domain": {
          "x": [
           0,
           1
          ],
          "y": [
           0,
           1
          ]
         },
         "hovertemplate": "path1=%{label}<br>asin=%{value}<extra></extra>",
         "labels": [
          "Bath",
          "Bedding",
          "Event & Party Supplies",
          "Furniture",
          "Heating, Cooling & Air Quality",
          "Home Décor Products",
          "Irons & Steamers",
          "Kids' Home Store",
          "Kitchen & Dining",
          "Seasonal Décor",
          "Storage & Organization",
          "Vacuums & Floor Care",
          "Wall Art"
         ],
         "legendgroup": "",
         "name": "",
         "showlegend": true,
         "type": "pie",
         "values": [
          400,
          885,
          107,
          839,
          139,
          1739,
          48,
          1,
          3676,
          61,
          421,
          65,
          4
         ]
        }
       ],
       "layout": {
        "legend": {
         "tracegroupgap": 0
        },
        "margin": {
         "t": 60
        },
        "template": {
         "data": {
          "bar": [
           {
            "error_x": {
             "color": "#2a3f5f"
            },
            "error_y": {
             "color": "#2a3f5f"
            },
            "marker": {
             "line": {
              "color": "#E5ECF6",
              "width": 0.5
             },
             "pattern": {
              "fillmode": "overlay",
              "size": 10,
              "solidity": 0.2
             }
            },
            "type": "bar"
           }
          ],
          "barpolar": [
           {
            "marker": {
             "line": {
              "color": "#E5ECF6",
              "width": 0.5
             },
             "pattern": {
              "fillmode": "overlay",
              "size": 10,
              "solidity": 0.2
             }
            },
            "type": "barpolar"
           }
          ],
          "carpet": [
           {
            "aaxis": {
             "endlinecolor": "#2a3f5f",
             "gridcolor": "white",
             "linecolor": "white",
             "minorgridcolor": "white",
             "startlinecolor": "#2a3f5f"
            },
            "baxis": {
             "endlinecolor": "#2a3f5f",
             "gridcolor": "white",
             "linecolor": "white",
             "minorgridcolor": "white",
             "startlinecolor": "#2a3f5f"
            },
            "type": "carpet"
           }
          ],
          "choropleth": [
           {
            "colorbar": {
             "outlinewidth": 0,
             "ticks": ""
            },
            "type": "choropleth"
           }
          ],
          "contour": [
           {
            "colorbar": {
             "outlinewidth": 0,
             "ticks": ""
            },
            "colorscale": [
             [
              0,
              "#0d0887"
             ],
             [
              0.1111111111111111,
              "#46039f"
             ],
             [
              0.2222222222222222,
              "#7201a8"
             ],
             [
              0.3333333333333333,
              "#9c179e"
             ],
             [
              0.4444444444444444,
              "#bd3786"
             ],
             [
              0.5555555555555556,
              "#d8576b"
             ],
             [
              0.6666666666666666,
              "#ed7953"
             ],
             [
              0.7777777777777778,
              "#fb9f3a"
             ],
             [
              0.8888888888888888,
              "#fdca26"
             ],
             [
              1,
              "#f0f921"
             ]
            ],
            "type": "contour"
           }
          ],
          "contourcarpet": [
           {
            "colorbar": {
             "outlinewidth": 0,
             "ticks": ""
            },
            "type": "contourcarpet"
           }
          ],
          "heatmap": [
           {
            "colorbar": {
             "outlinewidth": 0,
             "ticks": ""
            },
            "colorscale": [
             [
              0,
              "#0d0887"
             ],
             [
              0.1111111111111111,
              "#46039f"
             ],
             [
              0.2222222222222222,
              "#7201a8"
             ],
             [
              0.3333333333333333,
              "#9c179e"
             ],
             [
              0.4444444444444444,
              "#bd3786"
             ],
             [
              0.5555555555555556,
              "#d8576b"
             ],
             [
              0.6666666666666666,
              "#ed7953"
             ],
             [
              0.7777777777777778,
              "#fb9f3a"
             ],
             [
              0.8888888888888888,
              "#fdca26"
             ],
             [
              1,
              "#f0f921"
             ]
            ],
            "type": "heatmap"
           }
          ],
          "heatmapgl": [
           {
            "colorbar": {
             "outlinewidth": 0,
             "ticks": ""
            },
            "colorscale": [
             [
              0,
              "#0d0887"
             ],
             [
              0.1111111111111111,
              "#46039f"
             ],
             [
              0.2222222222222222,
              "#7201a8"
             ],
             [
              0.3333333333333333,
              "#9c179e"
             ],
             [
              0.4444444444444444,
              "#bd3786"
             ],
             [
              0.5555555555555556,
              "#d8576b"
             ],
             [
              0.6666666666666666,
              "#ed7953"
             ],
             [
              0.7777777777777778,
              "#fb9f3a"
             ],
             [
              0.8888888888888888,
              "#fdca26"
             ],
             [
              1,
              "#f0f921"
             ]
            ],
            "type": "heatmapgl"
           }
          ],
          "histogram": [
           {
            "marker": {
             "pattern": {
              "fillmode": "overlay",
              "size": 10,
              "solidity": 0.2
             }
            },
            "type": "histogram"
           }
          ],
          "histogram2d": [
           {
            "colorbar": {
             "outlinewidth": 0,
             "ticks": ""
            },
            "colorscale": [
             [
              0,
              "#0d0887"
             ],
             [
              0.1111111111111111,
              "#46039f"
             ],
             [
              0.2222222222222222,
              "#7201a8"
             ],
             [
              0.3333333333333333,
              "#9c179e"
             ],
             [
              0.4444444444444444,
              "#bd3786"
             ],
             [
              0.5555555555555556,
              "#d8576b"
             ],
             [
              0.6666666666666666,
              "#ed7953"
             ],
             [
              0.7777777777777778,
              "#fb9f3a"
             ],
             [
              0.8888888888888888,
              "#fdca26"
             ],
             [
              1,
              "#f0f921"
             ]
            ],
            "type": "histogram2d"
           }
          ],
          "histogram2dcontour": [
           {
            "colorbar": {
             "outlinewidth": 0,
             "ticks": ""
            },
            "colorscale": [
             [
              0,
              "#0d0887"
             ],
             [
              0.1111111111111111,
              "#46039f"
             ],
             [
              0.2222222222222222,
              "#7201a8"
             ],
             [
              0.3333333333333333,
              "#9c179e"
             ],
             [
              0.4444444444444444,
              "#bd3786"
             ],
             [
              0.5555555555555556,
              "#d8576b"
             ],
             [
              0.6666666666666666,
              "#ed7953"
             ],
             [
              0.7777777777777778,
              "#fb9f3a"
             ],
             [
              0.8888888888888888,
              "#fdca26"
             ],
             [
              1,
              "#f0f921"
             ]
            ],
            "type": "histogram2dcontour"
           }
          ],
          "mesh3d": [
           {
            "colorbar": {
             "outlinewidth": 0,
             "ticks": ""
            },
            "type": "mesh3d"
           }
          ],
          "parcoords": [
           {
            "line": {
             "colorbar": {
              "outlinewidth": 0,
              "ticks": ""
             }
            },
            "type": "parcoords"
           }
          ],
          "pie": [
           {
            "automargin": true,
            "type": "pie"
           }
          ],
          "scatter": [
           {
            "fillpattern": {
             "fillmode": "overlay",
             "size": 10,
             "solidity": 0.2
            },
            "type": "scatter"
           }
          ],
          "scatter3d": [
           {
            "line": {
             "colorbar": {
              "outlinewidth": 0,
              "ticks": ""
             }
            },
            "marker": {
             "colorbar": {
              "outlinewidth": 0,
              "ticks": ""
             }
            },
            "type": "scatter3d"
           }
          ],
          "scattercarpet": [
           {
            "marker": {
             "colorbar": {
              "outlinewidth": 0,
              "ticks": ""
             }
            },
            "type": "scattercarpet"
           }
          ],
          "scattergeo": [
           {
            "marker": {
             "colorbar": {
              "outlinewidth": 0,
              "ticks": ""
             }
            },
            "type": "scattergeo"
           }
          ],
          "scattergl": [
           {
            "marker": {
             "colorbar": {
              "outlinewidth": 0,
              "ticks": ""
             }
            },
            "type": "scattergl"
           }
          ],
          "scattermapbox": [
           {
            "marker": {
             "colorbar": {
              "outlinewidth": 0,
              "ticks": ""
             }
            },
            "type": "scattermapbox"
           }
          ],
          "scatterpolar": [
           {
            "marker": {
             "colorbar": {
              "outlinewidth": 0,
              "ticks": ""
             }
            },
            "type": "scatterpolar"
           }
          ],
          "scatterpolargl": [
           {
            "marker": {
             "colorbar": {
              "outlinewidth": 0,
              "ticks": ""
             }
            },
            "type": "scatterpolargl"
           }
          ],
          "scatterternary": [
           {
            "marker": {
             "colorbar": {
              "outlinewidth": 0,
              "ticks": ""
             }
            },
            "type": "scatterternary"
           }
          ],
          "surface": [
           {
            "colorbar": {
             "outlinewidth": 0,
             "ticks": ""
            },
            "colorscale": [
             [
              0,
              "#0d0887"
             ],
             [
              0.1111111111111111,
              "#46039f"
             ],
             [
              0.2222222222222222,
              "#7201a8"
             ],
             [
              0.3333333333333333,
              "#9c179e"
             ],
             [
              0.4444444444444444,
              "#bd3786"
             ],
             [
              0.5555555555555556,
              "#d8576b"
             ],
             [
              0.6666666666666666,
              "#ed7953"
             ],
             [
              0.7777777777777778,
              "#fb9f3a"
             ],
             [
              0.8888888888888888,
              "#fdca26"
             ],
             [
              1,
              "#f0f921"
             ]
            ],
            "type": "surface"
           }
          ],
          "table": [
           {
            "cells": {
             "fill": {
              "color": "#EBF0F8"
             },
             "line": {
              "color": "white"
             }
            },
            "header": {
             "fill": {
              "color": "#C8D4E3"
             },
             "line": {
              "color": "white"
             }
            },
            "type": "table"
           }
          ]
         },
         "layout": {
          "annotationdefaults": {
           "arrowcolor": "#2a3f5f",
           "arrowhead": 0,
           "arrowwidth": 1
          },
          "autotypenumbers": "strict",
          "coloraxis": {
           "colorbar": {
            "outlinewidth": 0,
            "ticks": ""
           }
          },
          "colorscale": {
           "diverging": [
            [
             0,
             "#8e0152"
            ],
            [
             0.1,
             "#c51b7d"
            ],
            [
             0.2,
             "#de77ae"
            ],
            [
             0.3,
             "#f1b6da"
            ],
            [
             0.4,
             "#fde0ef"
            ],
            [
             0.5,
             "#f7f7f7"
            ],
            [
             0.6,
             "#e6f5d0"
            ],
            [
             0.7,
             "#b8e186"
            ],
            [
             0.8,
             "#7fbc41"
            ],
            [
             0.9,
             "#4d9221"
            ],
            [
             1,
             "#276419"
            ]
           ],
           "sequential": [
            [
             0,
             "#0d0887"
            ],
            [
             0.1111111111111111,
             "#46039f"
            ],
            [
             0.2222222222222222,
             "#7201a8"
            ],
            [
             0.3333333333333333,
             "#9c179e"
            ],
            [
             0.4444444444444444,
             "#bd3786"
            ],
            [
             0.5555555555555556,
             "#d8576b"
            ],
            [
             0.6666666666666666,
             "#ed7953"
            ],
            [
             0.7777777777777778,
             "#fb9f3a"
            ],
            [
             0.8888888888888888,
             "#fdca26"
            ],
            [
             1,
             "#f0f921"
            ]
           ],
           "sequentialminus": [
            [
             0,
             "#0d0887"
            ],
            [
             0.1111111111111111,
             "#46039f"
            ],
            [
             0.2222222222222222,
             "#7201a8"
            ],
            [
             0.3333333333333333,
             "#9c179e"
            ],
            [
             0.4444444444444444,
             "#bd3786"
            ],
            [
             0.5555555555555556,
             "#d8576b"
            ],
            [
             0.6666666666666666,
             "#ed7953"
            ],
            [
             0.7777777777777778,
             "#fb9f3a"
            ],
            [
             0.8888888888888888,
             "#fdca26"
            ],
            [
             1,
             "#f0f921"
            ]
           ]
          },
          "colorway": [
           "#636efa",
           "#EF553B",
           "#00cc96",
           "#ab63fa",
           "#FFA15A",
           "#19d3f3",
           "#FF6692",
           "#B6E880",
           "#FF97FF",
           "#FECB52"
          ],
          "font": {
           "color": "#2a3f5f"
          },
          "geo": {
           "bgcolor": "white",
           "lakecolor": "white",
           "landcolor": "#E5ECF6",
           "showlakes": true,
           "showland": true,
           "subunitcolor": "white"
          },
          "hoverlabel": {
           "align": "left"
          },
          "hovermode": "closest",
          "mapbox": {
           "style": "light"
          },
          "paper_bgcolor": "white",
          "plot_bgcolor": "#E5ECF6",
          "polar": {
           "angularaxis": {
            "gridcolor": "white",
            "linecolor": "white",
            "ticks": ""
           },
           "bgcolor": "#E5ECF6",
           "radialaxis": {
            "gridcolor": "white",
            "linecolor": "white",
            "ticks": ""
           }
          },
          "scene": {
           "xaxis": {
            "backgroundcolor": "#E5ECF6",
            "gridcolor": "white",
            "gridwidth": 2,
            "linecolor": "white",
            "showbackground": true,
            "ticks": "",
            "zerolinecolor": "white"
           },
           "yaxis": {
            "backgroundcolor": "#E5ECF6",
            "gridcolor": "white",
            "gridwidth": 2,
            "linecolor": "white",
            "showbackground": true,
            "ticks": "",
            "zerolinecolor": "white"
           },
           "zaxis": {
            "backgroundcolor": "#E5ECF6",
            "gridcolor": "white",
            "gridwidth": 2,
            "linecolor": "white",
            "showbackground": true,
            "ticks": "",
            "zerolinecolor": "white"
           }
          },
          "shapedefaults": {
           "line": {
            "color": "#2a3f5f"
           }
          },
          "ternary": {
           "aaxis": {
            "gridcolor": "white",
            "linecolor": "white",
            "ticks": ""
           },
           "baxis": {
            "gridcolor": "white",
            "linecolor": "white",
            "ticks": ""
           },
           "bgcolor": "#E5ECF6",
           "caxis": {
            "gridcolor": "white",
            "linecolor": "white",
            "ticks": ""
           }
          },
          "title": {
           "x": 0.05
          },
          "xaxis": {
           "automargin": true,
           "gridcolor": "white",
           "linecolor": "white",
           "ticks": "",
           "title": {
            "standoff": 15
           },
           "zerolinecolor": "white",
           "zerolinewidth": 2
          },
          "yaxis": {
           "automargin": true,
           "gridcolor": "white",
           "linecolor": "white",
           "ticks": "",
           "title": {
            "standoff": 15
           },
           "zerolinecolor": "white",
           "zerolinewidth": 2
          }
         }
        }
       }
      },
      "text/html": [
       "<div>                            <div id=\"e71170b9-e047-449c-ad3a-c9e2de0aa170\" class=\"plotly-graph-div\" style=\"height:525px; width:100%;\"></div>            <script type=\"text/javascript\">                require([\"plotly\"], function(Plotly) {                    window.PLOTLYENV=window.PLOTLYENV || {};                                    if (document.getElementById(\"e71170b9-e047-449c-ad3a-c9e2de0aa170\")) {                    Plotly.newPlot(                        \"e71170b9-e047-449c-ad3a-c9e2de0aa170\",                        [{\"domain\":{\"x\":[0.0,1.0],\"y\":[0.0,1.0]},\"hovertemplate\":\"path1=%{label}\\u003cbr\\u003easin=%{value}\\u003cextra\\u003e\\u003c\\u002fextra\\u003e\",\"labels\":[\"Bath\",\"Bedding\",\"Event & Party Supplies\",\"Furniture\",\"Heating, Cooling & Air Quality\",\"Home D\\u00e9cor Products\",\"Irons & Steamers\",\"Kids' Home Store\",\"Kitchen & Dining\",\"Seasonal D\\u00e9cor\",\"Storage & Organization\",\"Vacuums & Floor Care\",\"Wall Art\"],\"legendgroup\":\"\",\"name\":\"\",\"showlegend\":true,\"values\":[400,885,107,839,139,1739,48,1,3676,61,421,65,4],\"type\":\"pie\"}],                        {\"template\":{\"data\":{\"histogram2dcontour\":[{\"type\":\"histogram2dcontour\",\"colorbar\":{\"outlinewidth\":0,\"ticks\":\"\"},\"colorscale\":[[0.0,\"#0d0887\"],[0.1111111111111111,\"#46039f\"],[0.2222222222222222,\"#7201a8\"],[0.3333333333333333,\"#9c179e\"],[0.4444444444444444,\"#bd3786\"],[0.5555555555555556,\"#d8576b\"],[0.6666666666666666,\"#ed7953\"],[0.7777777777777778,\"#fb9f3a\"],[0.8888888888888888,\"#fdca26\"],[1.0,\"#f0f921\"]]}],\"choropleth\":[{\"type\":\"choropleth\",\"colorbar\":{\"outlinewidth\":0,\"ticks\":\"\"}}],\"histogram2d\":[{\"type\":\"histogram2d\",\"colorbar\":{\"outlinewidth\":0,\"ticks\":\"\"},\"colorscale\":[[0.0,\"#0d0887\"],[0.1111111111111111,\"#46039f\"],[0.2222222222222222,\"#7201a8\"],[0.3333333333333333,\"#9c179e\"],[0.4444444444444444,\"#bd3786\"],[0.5555555555555556,\"#d8576b\"],[0.6666666666666666,\"#ed7953\"],[0.7777777777777778,\"#fb9f3a\"],[0.8888888888888888,\"#fdca26\"],[1.0,\"#f0f921\"]]}],\"heatmap\":[{\"type\":\"heatmap\",\"colorbar\":{\"outlinewidth\":0,\"ticks\":\"\"},\"colorscale\":[[0.0,\"#0d0887\"],[0.1111111111111111,\"#46039f\"],[0.2222222222222222,\"#7201a8\"],[0.3333333333333333,\"#9c179e\"],[0.4444444444444444,\"#bd3786\"],[0.5555555555555556,\"#d8576b\"],[0.6666666666666666,\"#ed7953\"],[0.7777777777777778,\"#fb9f3a\"],[0.8888888888888888,\"#fdca26\"],[1.0,\"#f0f921\"]]}],\"heatmapgl\":[{\"type\":\"heatmapgl\",\"colorbar\":{\"outlinewidth\":0,\"ticks\":\"\"},\"colorscale\":[[0.0,\"#0d0887\"],[0.1111111111111111,\"#46039f\"],[0.2222222222222222,\"#7201a8\"],[0.3333333333333333,\"#9c179e\"],[0.4444444444444444,\"#bd3786\"],[0.5555555555555556,\"#d8576b\"],[0.6666666666666666,\"#ed7953\"],[0.7777777777777778,\"#fb9f3a\"],[0.8888888888888888,\"#fdca26\"],[1.0,\"#f0f921\"]]}],\"contourcarpet\":[{\"type\":\"contourcarpet\",\"colorbar\":{\"outlinewidth\":0,\"ticks\":\"\"}}],\"contour\":[{\"type\":\"contour\",\"colorbar\":{\"outlinewidth\":0,\"ticks\":\"\"},\"colorscale\":[[0.0,\"#0d0887\"],[0.1111111111111111,\"#46039f\"],[0.2222222222222222,\"#7201a8\"],[0.3333333333333333,\"#9c179e\"],[0.4444444444444444,\"#bd3786\"],[0.5555555555555556,\"#d8576b\"],[0.6666666666666666,\"#ed7953\"],[0.7777777777777778,\"#fb9f3a\"],[0.8888888888888888,\"#fdca26\"],[1.0,\"#f0f921\"]]}],\"surface\":[{\"type\":\"surface\",\"colorbar\":{\"outlinewidth\":0,\"ticks\":\"\"},\"colorscale\":[[0.0,\"#0d0887\"],[0.1111111111111111,\"#46039f\"],[0.2222222222222222,\"#7201a8\"],[0.3333333333333333,\"#9c179e\"],[0.4444444444444444,\"#bd3786\"],[0.5555555555555556,\"#d8576b\"],[0.6666666666666666,\"#ed7953\"],[0.7777777777777778,\"#fb9f3a\"],[0.8888888888888888,\"#fdca26\"],[1.0,\"#f0f921\"]]}],\"mesh3d\":[{\"type\":\"mesh3d\",\"colorbar\":{\"outlinewidth\":0,\"ticks\":\"\"}}],\"scatter\":[{\"fillpattern\":{\"fillmode\":\"overlay\",\"size\":10,\"solidity\":0.2},\"type\":\"scatter\"}],\"parcoords\":[{\"type\":\"parcoords\",\"line\":{\"colorbar\":{\"outlinewidth\":0,\"ticks\":\"\"}}}],\"scatterpolargl\":[{\"type\":\"scatterpolargl\",\"marker\":{\"colorbar\":{\"outlinewidth\":0,\"ticks\":\"\"}}}],\"bar\":[{\"error_x\":{\"color\":\"#2a3f5f\"},\"error_y\":{\"color\":\"#2a3f5f\"},\"marker\":{\"line\":{\"color\":\"#E5ECF6\",\"width\":0.5},\"pattern\":{\"fillmode\":\"overlay\",\"size\":10,\"solidity\":0.2}},\"type\":\"bar\"}],\"scattergeo\":[{\"type\":\"scattergeo\",\"marker\":{\"colorbar\":{\"outlinewidth\":0,\"ticks\":\"\"}}}],\"scatterpolar\":[{\"type\":\"scatterpolar\",\"marker\":{\"colorbar\":{\"outlinewidth\":0,\"ticks\":\"\"}}}],\"histogram\":[{\"marker\":{\"pattern\":{\"fillmode\":\"overlay\",\"size\":10,\"solidity\":0.2}},\"type\":\"histogram\"}],\"scattergl\":[{\"type\":\"scattergl\",\"marker\":{\"colorbar\":{\"outlinewidth\":0,\"ticks\":\"\"}}}],\"scatter3d\":[{\"type\":\"scatter3d\",\"line\":{\"colorbar\":{\"outlinewidth\":0,\"ticks\":\"\"}},\"marker\":{\"colorbar\":{\"outlinewidth\":0,\"ticks\":\"\"}}}],\"scattermapbox\":[{\"type\":\"scattermapbox\",\"marker\":{\"colorbar\":{\"outlinewidth\":0,\"ticks\":\"\"}}}],\"scatterternary\":[{\"type\":\"scatterternary\",\"marker\":{\"colorbar\":{\"outlinewidth\":0,\"ticks\":\"\"}}}],\"scattercarpet\":[{\"type\":\"scattercarpet\",\"marker\":{\"colorbar\":{\"outlinewidth\":0,\"ticks\":\"\"}}}],\"carpet\":[{\"aaxis\":{\"endlinecolor\":\"#2a3f5f\",\"gridcolor\":\"white\",\"linecolor\":\"white\",\"minorgridcolor\":\"white\",\"startlinecolor\":\"#2a3f5f\"},\"baxis\":{\"endlinecolor\":\"#2a3f5f\",\"gridcolor\":\"white\",\"linecolor\":\"white\",\"minorgridcolor\":\"white\",\"startlinecolor\":\"#2a3f5f\"},\"type\":\"carpet\"}],\"table\":[{\"cells\":{\"fill\":{\"color\":\"#EBF0F8\"},\"line\":{\"color\":\"white\"}},\"header\":{\"fill\":{\"color\":\"#C8D4E3\"},\"line\":{\"color\":\"white\"}},\"type\":\"table\"}],\"barpolar\":[{\"marker\":{\"line\":{\"color\":\"#E5ECF6\",\"width\":0.5},\"pattern\":{\"fillmode\":\"overlay\",\"size\":10,\"solidity\":0.2}},\"type\":\"barpolar\"}],\"pie\":[{\"automargin\":true,\"type\":\"pie\"}]},\"layout\":{\"autotypenumbers\":\"strict\",\"colorway\":[\"#636efa\",\"#EF553B\",\"#00cc96\",\"#ab63fa\",\"#FFA15A\",\"#19d3f3\",\"#FF6692\",\"#B6E880\",\"#FF97FF\",\"#FECB52\"],\"font\":{\"color\":\"#2a3f5f\"},\"hovermode\":\"closest\",\"hoverlabel\":{\"align\":\"left\"},\"paper_bgcolor\":\"white\",\"plot_bgcolor\":\"#E5ECF6\",\"polar\":{\"bgcolor\":\"#E5ECF6\",\"angularaxis\":{\"gridcolor\":\"white\",\"linecolor\":\"white\",\"ticks\":\"\"},\"radialaxis\":{\"gridcolor\":\"white\",\"linecolor\":\"white\",\"ticks\":\"\"}},\"ternary\":{\"bgcolor\":\"#E5ECF6\",\"aaxis\":{\"gridcolor\":\"white\",\"linecolor\":\"white\",\"ticks\":\"\"},\"baxis\":{\"gridcolor\":\"white\",\"linecolor\":\"white\",\"ticks\":\"\"},\"caxis\":{\"gridcolor\":\"white\",\"linecolor\":\"white\",\"ticks\":\"\"}},\"coloraxis\":{\"colorbar\":{\"outlinewidth\":0,\"ticks\":\"\"}},\"colorscale\":{\"sequential\":[[0.0,\"#0d0887\"],[0.1111111111111111,\"#46039f\"],[0.2222222222222222,\"#7201a8\"],[0.3333333333333333,\"#9c179e\"],[0.4444444444444444,\"#bd3786\"],[0.5555555555555556,\"#d8576b\"],[0.6666666666666666,\"#ed7953\"],[0.7777777777777778,\"#fb9f3a\"],[0.8888888888888888,\"#fdca26\"],[1.0,\"#f0f921\"]],\"sequentialminus\":[[0.0,\"#0d0887\"],[0.1111111111111111,\"#46039f\"],[0.2222222222222222,\"#7201a8\"],[0.3333333333333333,\"#9c179e\"],[0.4444444444444444,\"#bd3786\"],[0.5555555555555556,\"#d8576b\"],[0.6666666666666666,\"#ed7953\"],[0.7777777777777778,\"#fb9f3a\"],[0.8888888888888888,\"#fdca26\"],[1.0,\"#f0f921\"]],\"diverging\":[[0,\"#8e0152\"],[0.1,\"#c51b7d\"],[0.2,\"#de77ae\"],[0.3,\"#f1b6da\"],[0.4,\"#fde0ef\"],[0.5,\"#f7f7f7\"],[0.6,\"#e6f5d0\"],[0.7,\"#b8e186\"],[0.8,\"#7fbc41\"],[0.9,\"#4d9221\"],[1,\"#276419\"]]},\"xaxis\":{\"gridcolor\":\"white\",\"linecolor\":\"white\",\"ticks\":\"\",\"title\":{\"standoff\":15},\"zerolinecolor\":\"white\",\"automargin\":true,\"zerolinewidth\":2},\"yaxis\":{\"gridcolor\":\"white\",\"linecolor\":\"white\",\"ticks\":\"\",\"title\":{\"standoff\":15},\"zerolinecolor\":\"white\",\"automargin\":true,\"zerolinewidth\":2},\"scene\":{\"xaxis\":{\"backgroundcolor\":\"#E5ECF6\",\"gridcolor\":\"white\",\"linecolor\":\"white\",\"showbackground\":true,\"ticks\":\"\",\"zerolinecolor\":\"white\",\"gridwidth\":2},\"yaxis\":{\"backgroundcolor\":\"#E5ECF6\",\"gridcolor\":\"white\",\"linecolor\":\"white\",\"showbackground\":true,\"ticks\":\"\",\"zerolinecolor\":\"white\",\"gridwidth\":2},\"zaxis\":{\"backgroundcolor\":\"#E5ECF6\",\"gridcolor\":\"white\",\"linecolor\":\"white\",\"showbackground\":true,\"ticks\":\"\",\"zerolinecolor\":\"white\",\"gridwidth\":2}},\"shapedefaults\":{\"line\":{\"color\":\"#2a3f5f\"}},\"annotationdefaults\":{\"arrowcolor\":\"#2a3f5f\",\"arrowhead\":0,\"arrowwidth\":1},\"geo\":{\"bgcolor\":\"white\",\"landcolor\":\"#E5ECF6\",\"subunitcolor\":\"white\",\"showland\":true,\"showlakes\":true,\"lakecolor\":\"white\"},\"title\":{\"x\":0.05},\"mapbox\":{\"style\":\"light\"}}},\"legend\":{\"tracegroupgap\":0},\"margin\":{\"t\":60}},                        {\"responsive\": true}                    ).then(function(){\n",
       "                            \n",
       "var gd = document.getElementById('e71170b9-e047-449c-ad3a-c9e2de0aa170');\n",
       "var x = new MutationObserver(function (mutations, observer) {{\n",
       "        var display = window.getComputedStyle(gd).display;\n",
       "        if (!display || display === 'none') {{\n",
       "            console.log([gd, 'removed!']);\n",
       "            Plotly.purge(gd);\n",
       "            observer.disconnect();\n",
       "        }}\n",
       "}});\n",
       "\n",
       "// Listen for the removal of the full notebook cells\n",
       "var notebookContainer = gd.closest('#notebook-container');\n",
       "if (notebookContainer) {{\n",
       "    x.observe(notebookContainer, {childList: true});\n",
       "}}\n",
       "\n",
       "// Listen for the clearing of the current output cell\n",
       "var outputEl = gd.closest('.output');\n",
       "if (outputEl) {{\n",
       "    x.observe(outputEl, {childList: true});\n",
       "}}\n",
       "\n",
       "                        })                };                });            </script>        </div>"
      ]
     },
     "metadata": {},
     "output_type": "display_data"
    },
    {
     "data": {
      "application/vnd.plotly.v1+json": {
       "config": {
        "plotlyServerURL": "https://plot.ly"
       },
       "data": [
        {
         "domain": {
          "x": [
           0,
           1
          ],
          "y": [
           0,
           1
          ]
         },
         "hoverinfo": "label+percent",
         "hovertemplate": "path1=%{label}<br>asin=%{value}<extra></extra>",
         "labels": [
          "Bath",
          "Bedding",
          "Event & Party Supplies",
          "Furniture",
          "Heating, Cooling & Air Quality",
          "Home Décor Products",
          "Irons & Steamers",
          "Kids' Home Store",
          "Kitchen & Dining",
          "Seasonal Décor",
          "Storage & Organization",
          "Vacuums & Floor Care",
          "Wall Art"
         ],
         "legendgroup": "",
         "name": "",
         "showlegend": true,
         "textfont": {
          "size": 20
         },
         "textinfo": "value",
         "type": "pie",
         "values": [
          400,
          885,
          107,
          839,
          139,
          1739,
          48,
          1,
          3676,
          61,
          421,
          65,
          4
         ]
        }
       ],
       "layout": {
        "legend": {
         "tracegroupgap": 0
        },
        "margin": {
         "t": 60
        },
        "template": {
         "data": {
          "bar": [
           {
            "error_x": {
             "color": "#2a3f5f"
            },
            "error_y": {
             "color": "#2a3f5f"
            },
            "marker": {
             "line": {
              "color": "#E5ECF6",
              "width": 0.5
             },
             "pattern": {
              "fillmode": "overlay",
              "size": 10,
              "solidity": 0.2
             }
            },
            "type": "bar"
           }
          ],
          "barpolar": [
           {
            "marker": {
             "line": {
              "color": "#E5ECF6",
              "width": 0.5
             },
             "pattern": {
              "fillmode": "overlay",
              "size": 10,
              "solidity": 0.2
             }
            },
            "type": "barpolar"
           }
          ],
          "carpet": [
           {
            "aaxis": {
             "endlinecolor": "#2a3f5f",
             "gridcolor": "white",
             "linecolor": "white",
             "minorgridcolor": "white",
             "startlinecolor": "#2a3f5f"
            },
            "baxis": {
             "endlinecolor": "#2a3f5f",
             "gridcolor": "white",
             "linecolor": "white",
             "minorgridcolor": "white",
             "startlinecolor": "#2a3f5f"
            },
            "type": "carpet"
           }
          ],
          "choropleth": [
           {
            "colorbar": {
             "outlinewidth": 0,
             "ticks": ""
            },
            "type": "choropleth"
           }
          ],
          "contour": [
           {
            "colorbar": {
             "outlinewidth": 0,
             "ticks": ""
            },
            "colorscale": [
             [
              0,
              "#0d0887"
             ],
             [
              0.1111111111111111,
              "#46039f"
             ],
             [
              0.2222222222222222,
              "#7201a8"
             ],
             [
              0.3333333333333333,
              "#9c179e"
             ],
             [
              0.4444444444444444,
              "#bd3786"
             ],
             [
              0.5555555555555556,
              "#d8576b"
             ],
             [
              0.6666666666666666,
              "#ed7953"
             ],
             [
              0.7777777777777778,
              "#fb9f3a"
             ],
             [
              0.8888888888888888,
              "#fdca26"
             ],
             [
              1,
              "#f0f921"
             ]
            ],
            "type": "contour"
           }
          ],
          "contourcarpet": [
           {
            "colorbar": {
             "outlinewidth": 0,
             "ticks": ""
            },
            "type": "contourcarpet"
           }
          ],
          "heatmap": [
           {
            "colorbar": {
             "outlinewidth": 0,
             "ticks": ""
            },
            "colorscale": [
             [
              0,
              "#0d0887"
             ],
             [
              0.1111111111111111,
              "#46039f"
             ],
             [
              0.2222222222222222,
              "#7201a8"
             ],
             [
              0.3333333333333333,
              "#9c179e"
             ],
             [
              0.4444444444444444,
              "#bd3786"
             ],
             [
              0.5555555555555556,
              "#d8576b"
             ],
             [
              0.6666666666666666,
              "#ed7953"
             ],
             [
              0.7777777777777778,
              "#fb9f3a"
             ],
             [
              0.8888888888888888,
              "#fdca26"
             ],
             [
              1,
              "#f0f921"
             ]
            ],
            "type": "heatmap"
           }
          ],
          "heatmapgl": [
           {
            "colorbar": {
             "outlinewidth": 0,
             "ticks": ""
            },
            "colorscale": [
             [
              0,
              "#0d0887"
             ],
             [
              0.1111111111111111,
              "#46039f"
             ],
             [
              0.2222222222222222,
              "#7201a8"
             ],
             [
              0.3333333333333333,
              "#9c179e"
             ],
             [
              0.4444444444444444,
              "#bd3786"
             ],
             [
              0.5555555555555556,
              "#d8576b"
             ],
             [
              0.6666666666666666,
              "#ed7953"
             ],
             [
              0.7777777777777778,
              "#fb9f3a"
             ],
             [
              0.8888888888888888,
              "#fdca26"
             ],
             [
              1,
              "#f0f921"
             ]
            ],
            "type": "heatmapgl"
           }
          ],
          "histogram": [
           {
            "marker": {
             "pattern": {
              "fillmode": "overlay",
              "size": 10,
              "solidity": 0.2
             }
            },
            "type": "histogram"
           }
          ],
          "histogram2d": [
           {
            "colorbar": {
             "outlinewidth": 0,
             "ticks": ""
            },
            "colorscale": [
             [
              0,
              "#0d0887"
             ],
             [
              0.1111111111111111,
              "#46039f"
             ],
             [
              0.2222222222222222,
              "#7201a8"
             ],
             [
              0.3333333333333333,
              "#9c179e"
             ],
             [
              0.4444444444444444,
              "#bd3786"
             ],
             [
              0.5555555555555556,
              "#d8576b"
             ],
             [
              0.6666666666666666,
              "#ed7953"
             ],
             [
              0.7777777777777778,
              "#fb9f3a"
             ],
             [
              0.8888888888888888,
              "#fdca26"
             ],
             [
              1,
              "#f0f921"
             ]
            ],
            "type": "histogram2d"
           }
          ],
          "histogram2dcontour": [
           {
            "colorbar": {
             "outlinewidth": 0,
             "ticks": ""
            },
            "colorscale": [
             [
              0,
              "#0d0887"
             ],
             [
              0.1111111111111111,
              "#46039f"
             ],
             [
              0.2222222222222222,
              "#7201a8"
             ],
             [
              0.3333333333333333,
              "#9c179e"
             ],
             [
              0.4444444444444444,
              "#bd3786"
             ],
             [
              0.5555555555555556,
              "#d8576b"
             ],
             [
              0.6666666666666666,
              "#ed7953"
             ],
             [
              0.7777777777777778,
              "#fb9f3a"
             ],
             [
              0.8888888888888888,
              "#fdca26"
             ],
             [
              1,
              "#f0f921"
             ]
            ],
            "type": "histogram2dcontour"
           }
          ],
          "mesh3d": [
           {
            "colorbar": {
             "outlinewidth": 0,
             "ticks": ""
            },
            "type": "mesh3d"
           }
          ],
          "parcoords": [
           {
            "line": {
             "colorbar": {
              "outlinewidth": 0,
              "ticks": ""
             }
            },
            "type": "parcoords"
           }
          ],
          "pie": [
           {
            "automargin": true,
            "type": "pie"
           }
          ],
          "scatter": [
           {
            "fillpattern": {
             "fillmode": "overlay",
             "size": 10,
             "solidity": 0.2
            },
            "type": "scatter"
           }
          ],
          "scatter3d": [
           {
            "line": {
             "colorbar": {
              "outlinewidth": 0,
              "ticks": ""
             }
            },
            "marker": {
             "colorbar": {
              "outlinewidth": 0,
              "ticks": ""
             }
            },
            "type": "scatter3d"
           }
          ],
          "scattercarpet": [
           {
            "marker": {
             "colorbar": {
              "outlinewidth": 0,
              "ticks": ""
             }
            },
            "type": "scattercarpet"
           }
          ],
          "scattergeo": [
           {
            "marker": {
             "colorbar": {
              "outlinewidth": 0,
              "ticks": ""
             }
            },
            "type": "scattergeo"
           }
          ],
          "scattergl": [
           {
            "marker": {
             "colorbar": {
              "outlinewidth": 0,
              "ticks": ""
             }
            },
            "type": "scattergl"
           }
          ],
          "scattermapbox": [
           {
            "marker": {
             "colorbar": {
              "outlinewidth": 0,
              "ticks": ""
             }
            },
            "type": "scattermapbox"
           }
          ],
          "scatterpolar": [
           {
            "marker": {
             "colorbar": {
              "outlinewidth": 0,
              "ticks": ""
             }
            },
            "type": "scatterpolar"
           }
          ],
          "scatterpolargl": [
           {
            "marker": {
             "colorbar": {
              "outlinewidth": 0,
              "ticks": ""
             }
            },
            "type": "scatterpolargl"
           }
          ],
          "scatterternary": [
           {
            "marker": {
             "colorbar": {
              "outlinewidth": 0,
              "ticks": ""
             }
            },
            "type": "scatterternary"
           }
          ],
          "surface": [
           {
            "colorbar": {
             "outlinewidth": 0,
             "ticks": ""
            },
            "colorscale": [
             [
              0,
              "#0d0887"
             ],
             [
              0.1111111111111111,
              "#46039f"
             ],
             [
              0.2222222222222222,
              "#7201a8"
             ],
             [
              0.3333333333333333,
              "#9c179e"
             ],
             [
              0.4444444444444444,
              "#bd3786"
             ],
             [
              0.5555555555555556,
              "#d8576b"
             ],
             [
              0.6666666666666666,
              "#ed7953"
             ],
             [
              0.7777777777777778,
              "#fb9f3a"
             ],
             [
              0.8888888888888888,
              "#fdca26"
             ],
             [
              1,
              "#f0f921"
             ]
            ],
            "type": "surface"
           }
          ],
          "table": [
           {
            "cells": {
             "fill": {
              "color": "#EBF0F8"
             },
             "line": {
              "color": "white"
             }
            },
            "header": {
             "fill": {
              "color": "#C8D4E3"
             },
             "line": {
              "color": "white"
             }
            },
            "type": "table"
           }
          ]
         },
         "layout": {
          "annotationdefaults": {
           "arrowcolor": "#2a3f5f",
           "arrowhead": 0,
           "arrowwidth": 1
          },
          "autotypenumbers": "strict",
          "coloraxis": {
           "colorbar": {
            "outlinewidth": 0,
            "ticks": ""
           }
          },
          "colorscale": {
           "diverging": [
            [
             0,
             "#8e0152"
            ],
            [
             0.1,
             "#c51b7d"
            ],
            [
             0.2,
             "#de77ae"
            ],
            [
             0.3,
             "#f1b6da"
            ],
            [
             0.4,
             "#fde0ef"
            ],
            [
             0.5,
             "#f7f7f7"
            ],
            [
             0.6,
             "#e6f5d0"
            ],
            [
             0.7,
             "#b8e186"
            ],
            [
             0.8,
             "#7fbc41"
            ],
            [
             0.9,
             "#4d9221"
            ],
            [
             1,
             "#276419"
            ]
           ],
           "sequential": [
            [
             0,
             "#0d0887"
            ],
            [
             0.1111111111111111,
             "#46039f"
            ],
            [
             0.2222222222222222,
             "#7201a8"
            ],
            [
             0.3333333333333333,
             "#9c179e"
            ],
            [
             0.4444444444444444,
             "#bd3786"
            ],
            [
             0.5555555555555556,
             "#d8576b"
            ],
            [
             0.6666666666666666,
             "#ed7953"
            ],
            [
             0.7777777777777778,
             "#fb9f3a"
            ],
            [
             0.8888888888888888,
             "#fdca26"
            ],
            [
             1,
             "#f0f921"
            ]
           ],
           "sequentialminus": [
            [
             0,
             "#0d0887"
            ],
            [
             0.1111111111111111,
             "#46039f"
            ],
            [
             0.2222222222222222,
             "#7201a8"
            ],
            [
             0.3333333333333333,
             "#9c179e"
            ],
            [
             0.4444444444444444,
             "#bd3786"
            ],
            [
             0.5555555555555556,
             "#d8576b"
            ],
            [
             0.6666666666666666,
             "#ed7953"
            ],
            [
             0.7777777777777778,
             "#fb9f3a"
            ],
            [
             0.8888888888888888,
             "#fdca26"
            ],
            [
             1,
             "#f0f921"
            ]
           ]
          },
          "colorway": [
           "#636efa",
           "#EF553B",
           "#00cc96",
           "#ab63fa",
           "#FFA15A",
           "#19d3f3",
           "#FF6692",
           "#B6E880",
           "#FF97FF",
           "#FECB52"
          ],
          "font": {
           "color": "#2a3f5f"
          },
          "geo": {
           "bgcolor": "white",
           "lakecolor": "white",
           "landcolor": "#E5ECF6",
           "showlakes": true,
           "showland": true,
           "subunitcolor": "white"
          },
          "hoverlabel": {
           "align": "left"
          },
          "hovermode": "closest",
          "mapbox": {
           "style": "light"
          },
          "paper_bgcolor": "white",
          "plot_bgcolor": "#E5ECF6",
          "polar": {
           "angularaxis": {
            "gridcolor": "white",
            "linecolor": "white",
            "ticks": ""
           },
           "bgcolor": "#E5ECF6",
           "radialaxis": {
            "gridcolor": "white",
            "linecolor": "white",
            "ticks": ""
           }
          },
          "scene": {
           "xaxis": {
            "backgroundcolor": "#E5ECF6",
            "gridcolor": "white",
            "gridwidth": 2,
            "linecolor": "white",
            "showbackground": true,
            "ticks": "",
            "zerolinecolor": "white"
           },
           "yaxis": {
            "backgroundcolor": "#E5ECF6",
            "gridcolor": "white",
            "gridwidth": 2,
            "linecolor": "white",
            "showbackground": true,
            "ticks": "",
            "zerolinecolor": "white"
           },
           "zaxis": {
            "backgroundcolor": "#E5ECF6",
            "gridcolor": "white",
            "gridwidth": 2,
            "linecolor": "white",
            "showbackground": true,
            "ticks": "",
            "zerolinecolor": "white"
           }
          },
          "shapedefaults": {
           "line": {
            "color": "#2a3f5f"
           }
          },
          "ternary": {
           "aaxis": {
            "gridcolor": "white",
            "linecolor": "white",
            "ticks": ""
           },
           "baxis": {
            "gridcolor": "white",
            "linecolor": "white",
            "ticks": ""
           },
           "bgcolor": "#E5ECF6",
           "caxis": {
            "gridcolor": "white",
            "linecolor": "white",
            "ticks": ""
           }
          },
          "title": {
           "x": 0.05
          },
          "xaxis": {
           "automargin": true,
           "gridcolor": "white",
           "linecolor": "white",
           "ticks": "",
           "title": {
            "standoff": 15
           },
           "zerolinecolor": "white",
           "zerolinewidth": 2
          },
          "yaxis": {
           "automargin": true,
           "gridcolor": "white",
           "linecolor": "white",
           "ticks": "",
           "title": {
            "standoff": 15
           },
           "zerolinecolor": "white",
           "zerolinewidth": 2
          }
         }
        }
       }
      },
      "text/html": [
       "<div>                            <div id=\"372c6807-74b5-4212-b81a-9173f887d8d3\" class=\"plotly-graph-div\" style=\"height:525px; width:100%;\"></div>            <script type=\"text/javascript\">                require([\"plotly\"], function(Plotly) {                    window.PLOTLYENV=window.PLOTLYENV || {};                                    if (document.getElementById(\"372c6807-74b5-4212-b81a-9173f887d8d3\")) {                    Plotly.newPlot(                        \"372c6807-74b5-4212-b81a-9173f887d8d3\",                        [{\"domain\":{\"x\":[0.0,1.0],\"y\":[0.0,1.0]},\"hovertemplate\":\"path1=%{label}\\u003cbr\\u003easin=%{value}\\u003cextra\\u003e\\u003c\\u002fextra\\u003e\",\"labels\":[\"Bath\",\"Bedding\",\"Event & Party Supplies\",\"Furniture\",\"Heating, Cooling & Air Quality\",\"Home D\\u00e9cor Products\",\"Irons & Steamers\",\"Kids' Home Store\",\"Kitchen & Dining\",\"Seasonal D\\u00e9cor\",\"Storage & Organization\",\"Vacuums & Floor Care\",\"Wall Art\"],\"legendgroup\":\"\",\"name\":\"\",\"showlegend\":true,\"values\":[400,885,107,839,139,1739,48,1,3676,61,421,65,4],\"type\":\"pie\",\"textfont\":{\"size\":20},\"hoverinfo\":\"label+percent\",\"textinfo\":\"value\"}],                        {\"template\":{\"data\":{\"histogram2dcontour\":[{\"type\":\"histogram2dcontour\",\"colorbar\":{\"outlinewidth\":0,\"ticks\":\"\"},\"colorscale\":[[0.0,\"#0d0887\"],[0.1111111111111111,\"#46039f\"],[0.2222222222222222,\"#7201a8\"],[0.3333333333333333,\"#9c179e\"],[0.4444444444444444,\"#bd3786\"],[0.5555555555555556,\"#d8576b\"],[0.6666666666666666,\"#ed7953\"],[0.7777777777777778,\"#fb9f3a\"],[0.8888888888888888,\"#fdca26\"],[1.0,\"#f0f921\"]]}],\"choropleth\":[{\"type\":\"choropleth\",\"colorbar\":{\"outlinewidth\":0,\"ticks\":\"\"}}],\"histogram2d\":[{\"type\":\"histogram2d\",\"colorbar\":{\"outlinewidth\":0,\"ticks\":\"\"},\"colorscale\":[[0.0,\"#0d0887\"],[0.1111111111111111,\"#46039f\"],[0.2222222222222222,\"#7201a8\"],[0.3333333333333333,\"#9c179e\"],[0.4444444444444444,\"#bd3786\"],[0.5555555555555556,\"#d8576b\"],[0.6666666666666666,\"#ed7953\"],[0.7777777777777778,\"#fb9f3a\"],[0.8888888888888888,\"#fdca26\"],[1.0,\"#f0f921\"]]}],\"heatmap\":[{\"type\":\"heatmap\",\"colorbar\":{\"outlinewidth\":0,\"ticks\":\"\"},\"colorscale\":[[0.0,\"#0d0887\"],[0.1111111111111111,\"#46039f\"],[0.2222222222222222,\"#7201a8\"],[0.3333333333333333,\"#9c179e\"],[0.4444444444444444,\"#bd3786\"],[0.5555555555555556,\"#d8576b\"],[0.6666666666666666,\"#ed7953\"],[0.7777777777777778,\"#fb9f3a\"],[0.8888888888888888,\"#fdca26\"],[1.0,\"#f0f921\"]]}],\"heatmapgl\":[{\"type\":\"heatmapgl\",\"colorbar\":{\"outlinewidth\":0,\"ticks\":\"\"},\"colorscale\":[[0.0,\"#0d0887\"],[0.1111111111111111,\"#46039f\"],[0.2222222222222222,\"#7201a8\"],[0.3333333333333333,\"#9c179e\"],[0.4444444444444444,\"#bd3786\"],[0.5555555555555556,\"#d8576b\"],[0.6666666666666666,\"#ed7953\"],[0.7777777777777778,\"#fb9f3a\"],[0.8888888888888888,\"#fdca26\"],[1.0,\"#f0f921\"]]}],\"contourcarpet\":[{\"type\":\"contourcarpet\",\"colorbar\":{\"outlinewidth\":0,\"ticks\":\"\"}}],\"contour\":[{\"type\":\"contour\",\"colorbar\":{\"outlinewidth\":0,\"ticks\":\"\"},\"colorscale\":[[0.0,\"#0d0887\"],[0.1111111111111111,\"#46039f\"],[0.2222222222222222,\"#7201a8\"],[0.3333333333333333,\"#9c179e\"],[0.4444444444444444,\"#bd3786\"],[0.5555555555555556,\"#d8576b\"],[0.6666666666666666,\"#ed7953\"],[0.7777777777777778,\"#fb9f3a\"],[0.8888888888888888,\"#fdca26\"],[1.0,\"#f0f921\"]]}],\"surface\":[{\"type\":\"surface\",\"colorbar\":{\"outlinewidth\":0,\"ticks\":\"\"},\"colorscale\":[[0.0,\"#0d0887\"],[0.1111111111111111,\"#46039f\"],[0.2222222222222222,\"#7201a8\"],[0.3333333333333333,\"#9c179e\"],[0.4444444444444444,\"#bd3786\"],[0.5555555555555556,\"#d8576b\"],[0.6666666666666666,\"#ed7953\"],[0.7777777777777778,\"#fb9f3a\"],[0.8888888888888888,\"#fdca26\"],[1.0,\"#f0f921\"]]}],\"mesh3d\":[{\"type\":\"mesh3d\",\"colorbar\":{\"outlinewidth\":0,\"ticks\":\"\"}}],\"scatter\":[{\"fillpattern\":{\"fillmode\":\"overlay\",\"size\":10,\"solidity\":0.2},\"type\":\"scatter\"}],\"parcoords\":[{\"type\":\"parcoords\",\"line\":{\"colorbar\":{\"outlinewidth\":0,\"ticks\":\"\"}}}],\"scatterpolargl\":[{\"type\":\"scatterpolargl\",\"marker\":{\"colorbar\":{\"outlinewidth\":0,\"ticks\":\"\"}}}],\"bar\":[{\"error_x\":{\"color\":\"#2a3f5f\"},\"error_y\":{\"color\":\"#2a3f5f\"},\"marker\":{\"line\":{\"color\":\"#E5ECF6\",\"width\":0.5},\"pattern\":{\"fillmode\":\"overlay\",\"size\":10,\"solidity\":0.2}},\"type\":\"bar\"}],\"scattergeo\":[{\"type\":\"scattergeo\",\"marker\":{\"colorbar\":{\"outlinewidth\":0,\"ticks\":\"\"}}}],\"scatterpolar\":[{\"type\":\"scatterpolar\",\"marker\":{\"colorbar\":{\"outlinewidth\":0,\"ticks\":\"\"}}}],\"histogram\":[{\"marker\":{\"pattern\":{\"fillmode\":\"overlay\",\"size\":10,\"solidity\":0.2}},\"type\":\"histogram\"}],\"scattergl\":[{\"type\":\"scattergl\",\"marker\":{\"colorbar\":{\"outlinewidth\":0,\"ticks\":\"\"}}}],\"scatter3d\":[{\"type\":\"scatter3d\",\"line\":{\"colorbar\":{\"outlinewidth\":0,\"ticks\":\"\"}},\"marker\":{\"colorbar\":{\"outlinewidth\":0,\"ticks\":\"\"}}}],\"scattermapbox\":[{\"type\":\"scattermapbox\",\"marker\":{\"colorbar\":{\"outlinewidth\":0,\"ticks\":\"\"}}}],\"scatterternary\":[{\"type\":\"scatterternary\",\"marker\":{\"colorbar\":{\"outlinewidth\":0,\"ticks\":\"\"}}}],\"scattercarpet\":[{\"type\":\"scattercarpet\",\"marker\":{\"colorbar\":{\"outlinewidth\":0,\"ticks\":\"\"}}}],\"carpet\":[{\"aaxis\":{\"endlinecolor\":\"#2a3f5f\",\"gridcolor\":\"white\",\"linecolor\":\"white\",\"minorgridcolor\":\"white\",\"startlinecolor\":\"#2a3f5f\"},\"baxis\":{\"endlinecolor\":\"#2a3f5f\",\"gridcolor\":\"white\",\"linecolor\":\"white\",\"minorgridcolor\":\"white\",\"startlinecolor\":\"#2a3f5f\"},\"type\":\"carpet\"}],\"table\":[{\"cells\":{\"fill\":{\"color\":\"#EBF0F8\"},\"line\":{\"color\":\"white\"}},\"header\":{\"fill\":{\"color\":\"#C8D4E3\"},\"line\":{\"color\":\"white\"}},\"type\":\"table\"}],\"barpolar\":[{\"marker\":{\"line\":{\"color\":\"#E5ECF6\",\"width\":0.5},\"pattern\":{\"fillmode\":\"overlay\",\"size\":10,\"solidity\":0.2}},\"type\":\"barpolar\"}],\"pie\":[{\"automargin\":true,\"type\":\"pie\"}]},\"layout\":{\"autotypenumbers\":\"strict\",\"colorway\":[\"#636efa\",\"#EF553B\",\"#00cc96\",\"#ab63fa\",\"#FFA15A\",\"#19d3f3\",\"#FF6692\",\"#B6E880\",\"#FF97FF\",\"#FECB52\"],\"font\":{\"color\":\"#2a3f5f\"},\"hovermode\":\"closest\",\"hoverlabel\":{\"align\":\"left\"},\"paper_bgcolor\":\"white\",\"plot_bgcolor\":\"#E5ECF6\",\"polar\":{\"bgcolor\":\"#E5ECF6\",\"angularaxis\":{\"gridcolor\":\"white\",\"linecolor\":\"white\",\"ticks\":\"\"},\"radialaxis\":{\"gridcolor\":\"white\",\"linecolor\":\"white\",\"ticks\":\"\"}},\"ternary\":{\"bgcolor\":\"#E5ECF6\",\"aaxis\":{\"gridcolor\":\"white\",\"linecolor\":\"white\",\"ticks\":\"\"},\"baxis\":{\"gridcolor\":\"white\",\"linecolor\":\"white\",\"ticks\":\"\"},\"caxis\":{\"gridcolor\":\"white\",\"linecolor\":\"white\",\"ticks\":\"\"}},\"coloraxis\":{\"colorbar\":{\"outlinewidth\":0,\"ticks\":\"\"}},\"colorscale\":{\"sequential\":[[0.0,\"#0d0887\"],[0.1111111111111111,\"#46039f\"],[0.2222222222222222,\"#7201a8\"],[0.3333333333333333,\"#9c179e\"],[0.4444444444444444,\"#bd3786\"],[0.5555555555555556,\"#d8576b\"],[0.6666666666666666,\"#ed7953\"],[0.7777777777777778,\"#fb9f3a\"],[0.8888888888888888,\"#fdca26\"],[1.0,\"#f0f921\"]],\"sequentialminus\":[[0.0,\"#0d0887\"],[0.1111111111111111,\"#46039f\"],[0.2222222222222222,\"#7201a8\"],[0.3333333333333333,\"#9c179e\"],[0.4444444444444444,\"#bd3786\"],[0.5555555555555556,\"#d8576b\"],[0.6666666666666666,\"#ed7953\"],[0.7777777777777778,\"#fb9f3a\"],[0.8888888888888888,\"#fdca26\"],[1.0,\"#f0f921\"]],\"diverging\":[[0,\"#8e0152\"],[0.1,\"#c51b7d\"],[0.2,\"#de77ae\"],[0.3,\"#f1b6da\"],[0.4,\"#fde0ef\"],[0.5,\"#f7f7f7\"],[0.6,\"#e6f5d0\"],[0.7,\"#b8e186\"],[0.8,\"#7fbc41\"],[0.9,\"#4d9221\"],[1,\"#276419\"]]},\"xaxis\":{\"gridcolor\":\"white\",\"linecolor\":\"white\",\"ticks\":\"\",\"title\":{\"standoff\":15},\"zerolinecolor\":\"white\",\"automargin\":true,\"zerolinewidth\":2},\"yaxis\":{\"gridcolor\":\"white\",\"linecolor\":\"white\",\"ticks\":\"\",\"title\":{\"standoff\":15},\"zerolinecolor\":\"white\",\"automargin\":true,\"zerolinewidth\":2},\"scene\":{\"xaxis\":{\"backgroundcolor\":\"#E5ECF6\",\"gridcolor\":\"white\",\"linecolor\":\"white\",\"showbackground\":true,\"ticks\":\"\",\"zerolinecolor\":\"white\",\"gridwidth\":2},\"yaxis\":{\"backgroundcolor\":\"#E5ECF6\",\"gridcolor\":\"white\",\"linecolor\":\"white\",\"showbackground\":true,\"ticks\":\"\",\"zerolinecolor\":\"white\",\"gridwidth\":2},\"zaxis\":{\"backgroundcolor\":\"#E5ECF6\",\"gridcolor\":\"white\",\"linecolor\":\"white\",\"showbackground\":true,\"ticks\":\"\",\"zerolinecolor\":\"white\",\"gridwidth\":2}},\"shapedefaults\":{\"line\":{\"color\":\"#2a3f5f\"}},\"annotationdefaults\":{\"arrowcolor\":\"#2a3f5f\",\"arrowhead\":0,\"arrowwidth\":1},\"geo\":{\"bgcolor\":\"white\",\"landcolor\":\"#E5ECF6\",\"subunitcolor\":\"white\",\"showland\":true,\"showlakes\":true,\"lakecolor\":\"white\"},\"title\":{\"x\":0.05},\"mapbox\":{\"style\":\"light\"}}},\"legend\":{\"tracegroupgap\":0},\"margin\":{\"t\":60}},                        {\"responsive\": true}                    ).then(function(){\n",
       "                            \n",
       "var gd = document.getElementById('372c6807-74b5-4212-b81a-9173f887d8d3');\n",
       "var x = new MutationObserver(function (mutations, observer) {{\n",
       "        var display = window.getComputedStyle(gd).display;\n",
       "        if (!display || display === 'none') {{\n",
       "            console.log([gd, 'removed!']);\n",
       "            Plotly.purge(gd);\n",
       "            observer.disconnect();\n",
       "        }}\n",
       "}});\n",
       "\n",
       "// Listen for the removal of the full notebook cells\n",
       "var notebookContainer = gd.closest('#notebook-container');\n",
       "if (notebookContainer) {{\n",
       "    x.observe(notebookContainer, {childList: true});\n",
       "}}\n",
       "\n",
       "// Listen for the clearing of the current output cell\n",
       "var outputEl = gd.closest('.output');\n",
       "if (outputEl) {{\n",
       "    x.observe(outputEl, {childList: true});\n",
       "}}\n",
       "\n",
       "                        })                };                });            </script>        </div>"
      ]
     },
     "metadata": {},
     "output_type": "display_data"
    }
   ],
   "source": [
    "df=check1.groupby('path1', as_index=False).count()[['path1','asin']]\n",
    "\n",
    "fig = px.pie(df, values='asin', names='path1')\n",
    "fig.show()\n",
    "\n",
    "fig.update_traces(hoverinfo='label+percent', textinfo='value', textfont_size=20,\n",
    "                  )\n",
    "fig.show()"
   ]
  },
  {
   "cell_type": "code",
   "execution_count": 77,
   "id": "b5197387",
   "metadata": {},
   "outputs": [
    {
     "data": {
      "application/vnd.plotly.v1+json": {
       "config": {
        "plotlyServerURL": "https://plot.ly"
       },
       "data": [
        {
         "branchvalues": "total",
         "customdata": [
          [
           "Dinnerware & Serveware"
          ],
          [
           "Dinnerware & Serveware"
          ],
          [
           "Cookware, Bakeware & Tools"
          ],
          [
           "Dinnerware & Serveware"
          ],
          [
           "Dinnerware & Serveware"
          ],
          [
           "Dinnerware & Serveware"
          ],
          [
           "Dinnerware & Serveware"
          ],
          [
           "Dinnerware & Serveware"
          ],
          [
           "Dinnerware & Serveware"
          ],
          [
           "Dinnerware & Serveware"
          ],
          [
           "Dinnerware & Serveware"
          ],
          [
           "Dinnerware & Serveware"
          ],
          [
           "Tabletop Accessories"
          ],
          [
           "Dinnerware & Serveware"
          ],
          [
           "Tabletop & Serveware"
          ],
          [
           "Dinnerware & Serveware"
          ],
          [
           "Coffee Maker Parts & Accessories"
          ],
          [
           "Coffee Maker Parts & Accessories"
          ],
          [
           "Tabletop Accessories"
          ],
          [
           "Coffee Maker Parts & Accessories"
          ],
          [
           "Dinnerware & Serveware"
          ],
          [
           "Dinnerware & Serveware"
          ],
          [
           "Dinnerware & Serveware"
          ],
          [
           "Dinnerware & Serveware"
          ],
          [
           "Tabletop & Serveware"
          ],
          [
           "Coffee Maker Parts & Accessories"
          ],
          [
           "Dinnerware & Serveware"
          ],
          [
           "Tabletop & Serveware"
          ],
          [
           "Dinnerware & Serveware"
          ],
          [
           "Dinnerware & Serveware"
          ],
          [
           "Dinnerware & Serveware"
          ],
          [
           "Dinnerware & Serveware"
          ],
          [
           "Tabletop & Serveware"
          ],
          [
           "Dinnerware & Serveware"
          ],
          [
           "Cookware, Bakeware & Tools"
          ],
          [
           "Dinnerware & Serveware"
          ],
          [
           "Tabletop Accessories"
          ],
          [
           "Dinnerware & Serveware"
          ],
          [
           "Coffee Maker Parts & Accessories"
          ],
          [
           "Dinnerware & Serveware"
          ],
          [
           "Dinnerware & Serveware"
          ],
          [
           "Dinnerware & Serveware"
          ],
          [
           "Bar Tools & Drinkware"
          ],
          [
           "Dinnerware & Serveware"
          ],
          [
           "Dinnerware & Serveware"
          ],
          [
           "Cookware, Bakeware & Tools"
          ],
          [
           "Dinnerware & Serveware"
          ],
          [
           "Tabletop Accessories"
          ],
          [
           "Dinnerware & Serveware"
          ],
          [
           "Dinnerware & Serveware"
          ],
          [
           "Tabletop & Serveware"
          ],
          [
           "Restaurant Appliances & Equipment"
          ],
          [
           "Cookware, Bakeware & Tools"
          ],
          [
           "Dinnerware & Serveware"
          ],
          [
           "Dinnerware & Serveware"
          ],
          [
           "Bar Tools & Drinkware"
          ],
          [
           "Bar Tools & Drinkware"
          ],
          [
           "Tabletop & Serveware"
          ],
          [
           "Cookware, Bakeware & Tools"
          ],
          [
           "Tabletop & Serveware"
          ],
          [
           "Tabletop & Serveware"
          ],
          [
           "Cookware, Bakeware & Tools"
          ],
          [
           "Tabletop Accessories"
          ],
          [
           "Cookware, Bakeware & Tools"
          ],
          [
           "Tabletop & Serveware"
          ],
          [
           "Tabletop & Serveware"
          ],
          [
           "Dinnerware & Serveware"
          ],
          [
           "Dinnerware & Serveware"
          ],
          [
           "Cookware, Bakeware & Tools"
          ],
          [
           "Coffee Maker Parts & Accessories"
          ],
          [
           "Coffee Maker Parts & Accessories"
          ],
          [
           "Restaurant Appliances & Equipment"
          ],
          [
           "Tabletop Accessories"
          ],
          [
           "Bar Tools & Drinkware"
          ],
          [
           "Dinnerware & Serveware"
          ],
          [
           "Tabletop Accessories"
          ],
          [
           "Tabletop & Serveware"
          ],
          [
           "Dinnerware & Serveware"
          ],
          [
           "Dinnerware & Serveware"
          ],
          [
           "Dinnerware & Serveware"
          ],
          [
           "Dinnerware & Serveware"
          ],
          [
           "Dinnerware & Serveware"
          ],
          [
           "Cookware, Bakeware & Tools"
          ],
          [
           "Tabletop & Serveware"
          ],
          [
           "Dinnerware & Serveware"
          ],
          [
           "Dinnerware & Serveware"
          ],
          [
           "Bar Tools & Drinkware"
          ],
          [
           "Tabletop & Serveware"
          ],
          [
           "Bar Tools & Drinkware"
          ],
          [
           "Coffee Maker Parts & Accessories"
          ],
          [
           "Restaurant Appliances & Equipment"
          ],
          [
           "Tabletop & Serveware"
          ],
          [
           "Dinnerware & Serveware"
          ],
          [
           "Cookware, Bakeware & Tools"
          ],
          [
           "Tabletop & Serveware"
          ],
          [
           "Tabletop Accessories"
          ],
          [
           "Dinnerware & Serveware"
          ],
          [
           "Bar Tools & Drinkware"
          ],
          [
           "Coffee Maker Parts & Accessories"
          ],
          [
           "Cookware, Bakeware & Tools"
          ],
          [
           "Dinnerware & Serveware"
          ],
          [
           "Restaurant Appliances & Equipment"
          ],
          [
           "Tabletop & Serveware"
          ],
          [
           "Tabletop Accessories"
          ],
          [
           "Coffee Maker Parts & Accessories"
          ],
          [
           "(?)"
          ],
          [
           "(?)"
          ],
          [
           "(?)"
          ],
          [
           "(?)"
          ]
         ],
         "domain": {
          "x": [
           0,
           1
          ],
          "y": [
           0,
           1
          ]
         },
         "hovertemplate": "labels=%{label}<br>asin=%{value}<br>parent=%{parent}<br>id=%{id}<br>path3=%{customdata[0]}<extra></extra>",
         "ids": [
          "Home & Kitchen/Kitchen & Dining/Dining & Entertaining/Dinnerware & Serveware/Serveware/Beverage Serveware/Carafes",
          "Home & Kitchen/Kitchen & Dining/Dining & Entertaining/Dinnerware & Serveware/Dinnerware/Bowls/Cereal Bowls",
          "Home & Kitchen/Kitchen & Dining/Food Service Equipment & Supplies/Cookware, Bakeware & Tools/Kitchen Knives/Asian Knives/Chinese Chef's Knives & Cleavers",
          "Home & Kitchen/Kitchen & Dining/Dining & Entertaining/Dinnerware & Serveware/Dinnerware/Plates/Appetizer Plates",
          "Home & Kitchen/Kitchen & Dining/Dining & Entertaining/Dinnerware & Serveware/Dinnerware/Bowls/Bowl Sets",
          "Home & Kitchen/Kitchen & Dining/Dining & Entertaining/Dinnerware & Serveware/Dinnerware/Plates/Bread & Butter Plates",
          "Home & Kitchen/Kitchen & Dining/Dining & Entertaining/Dinnerware & Serveware/Serveware/Tongs/Buffet Tongs",
          "Home & Kitchen/Kitchen & Dining/Dining & Entertaining/Dinnerware & Serveware/Serveware/Servers/Cake, Pie & Pastry Servers",
          "Home & Kitchen/Kitchen & Dining/Dining & Entertaining/Dinnerware & Serveware/Serveware/Serving Dishes, Trays & Platters/Serving Trays",
          "Home & Kitchen/Kitchen & Dining/Dining & Entertaining/Dinnerware & Serveware/Dinnerware/Bowls/Snack Bowls",
          "Home & Kitchen/Kitchen & Dining/Dining & Entertaining/Dinnerware & Serveware/Serveware/Serving Bowls & Tureens/Serving Bowls",
          "Home & Kitchen/Kitchen & Dining/Dining & Entertaining/Dinnerware & Serveware/Dinnerware/Plates/Specialty Plates",
          "Home & Kitchen/Kitchen & Dining/Dining & Entertaining/Tabletop Accessories/Linens/Disposable Table Covers/Table Skirts",
          "Home & Kitchen/Kitchen & Dining/Dining & Entertaining/Dinnerware & Serveware/Dinnerware/Bowls/Soup Bowls",
          "Home & Kitchen/Kitchen & Dining/Food Service Equipment & Supplies/Tabletop & Serveware/Linen & Table Accessories/Tabletop Accessories/Plate & Napkin Holders",
          "Home & Kitchen/Kitchen & Dining/Dining & Entertaining/Dinnerware & Serveware/Serveware/Serving Dishes, Trays & Platters/Platters",
          "Home & Kitchen/Kitchen & Dining/Coffee, Tea & Espresso/Coffee Maker Parts & Accessories/Coffee Machine Accessories/Coffee Pod Holders/Pod Baskets",
          "Home & Kitchen/Kitchen & Dining/Coffee, Tea & Espresso/Coffee Maker Parts & Accessories/Coffee Machine Accessories/Coffee Pod Holders/Pod Drawers",
          "Home & Kitchen/Kitchen & Dining/Dining & Entertaining/Tabletop Accessories/Linens/Potholders & Oven Mitts/Potholders",
          "Home & Kitchen/Kitchen & Dining/Coffee, Tea & Espresso/Coffee Maker Parts & Accessories/Coffee Machine Accessories/Coffee Filters/Reusable Filters",
          "Home & Kitchen/Kitchen & Dining/Dining & Entertaining/Dinnerware & Serveware/Serveware/Serving Spoons/Rice & Potato Servers",
          "Home & Kitchen/Kitchen & Dining/Dining & Entertaining/Dinnerware & Serveware/Dinnerware/Bowls/Salad Bowls",
          "Home & Kitchen/Kitchen & Dining/Dining & Entertaining/Dinnerware & Serveware/Dinnerware/Plates/Salad Plates",
          "Home & Kitchen/Kitchen & Dining/Dining & Entertaining/Dinnerware & Serveware/Serveware/Servers/Salad Servers",
          "Home & Kitchen/Kitchen & Dining/Food Service Equipment & Supplies/Tabletop & Serveware/Condiment Holders & Dispensers/Salt & Pepper/Salt & Pepper Mill Sets",
          "Home & Kitchen/Kitchen & Dining/Coffee, Tea & Espresso/Coffee Maker Parts & Accessories/Coffee Machine Accessories/Coffee Filters/Permanent Filters",
          "Home & Kitchen/Kitchen & Dining/Dining & Entertaining/Dinnerware & Serveware/Dinnerware/Bowls/Rice Bowls",
          "Home & Kitchen/Kitchen & Dining/Food Service Equipment & Supplies/Tabletop & Serveware/Condiment Holders & Dispensers/Salt & Pepper/Pepper Mills",
          "Home & Kitchen/Kitchen & Dining/Dining & Entertaining/Dinnerware & Serveware/Serveware/Serving Forks/Pickle & Olive Forks",
          "Home & Kitchen/Kitchen & Dining/Dining & Entertaining/Dinnerware & Serveware/Serveware/Serving Bowls & Tureens/Nut Bowls",
          "Home & Kitchen/Kitchen & Dining/Dining & Entertaining/Dinnerware & Serveware/Dinnerware/Teacups, Mugs & Saucers/Coffee Cups & Mugs",
          "Home & Kitchen/Kitchen & Dining/Dining & Entertaining/Dinnerware & Serveware/Serveware/Serving Bowls & Tureens/Condiment Pots",
          "Home & Kitchen/Kitchen & Dining/Food Service Equipment & Supplies/Tabletop & Serveware/Bar Equipment/Bar Tools & Glasses/Corkscrews & Openers",
          "Home & Kitchen/Kitchen & Dining/Dining & Entertaining/Dinnerware & Serveware/Dinnerware/Teacups, Mugs & Saucers/Cup & Saucer Sets",
          "Home & Kitchen/Kitchen & Dining/Food Service Equipment & Supplies/Cookware, Bakeware & Tools/Kitchen Knives/Asian Knives/Deba Knives",
          "Home & Kitchen/Kitchen & Dining/Dining & Entertaining/Dinnerware & Serveware/Dinnerware/Bowls/Dessert Bowls",
          "Home & Kitchen/Kitchen & Dining/Dining & Entertaining/Tabletop Accessories/Linens/Potholders & Oven Mitts/Oven Mitts",
          "Home & Kitchen/Kitchen & Dining/Dining & Entertaining/Dinnerware & Serveware/Dinnerware/Plates/Dessert Plates",
          "Home & Kitchen/Kitchen & Dining/Coffee, Tea & Espresso/Coffee Maker Parts & Accessories/Coffee Machine Accessories/Coffee Filters/Disposable Filters",
          "Home & Kitchen/Kitchen & Dining/Dining & Entertaining/Dinnerware & Serveware/Dinnerware/Plates/Dinner Plates",
          "Home & Kitchen/Kitchen & Dining/Dining & Entertaining/Dinnerware & Serveware/Dinnerware/Teacups, Mugs & Saucers/Espresso Cups",
          "Home & Kitchen/Kitchen & Dining/Dining & Entertaining/Dinnerware & Serveware/Dinnerware/Bowls/Fruit Bowls",
          "Home & Kitchen/Kitchen & Dining/Dining & Entertaining/Bar Tools & Drinkware/Bar Tools/Ice Buckets & Tongs/Ice Buckets",
          "Home & Kitchen/Kitchen & Dining/Dining & Entertaining/Dinnerware & Serveware/Serveware/Beverage Serveware/Iced Beverage Dispensers",
          "Home & Kitchen/Kitchen & Dining/Dining & Entertaining/Dinnerware & Serveware/Serveware/Beverage Serveware/Jugs",
          "Home & Kitchen/Kitchen & Dining/Food Service Equipment & Supplies/Cookware, Bakeware & Tools/Kitchen Knives/Cleavers/Meat Cleavers",
          "Home & Kitchen/Kitchen & Dining/Dining & Entertaining/Dinnerware & Serveware/Dinnerware/Teacups, Mugs & Saucers/Mug Sets",
          "Home & Kitchen/Kitchen & Dining/Dining & Entertaining/Tabletop Accessories/Linens/Accessories/Napkin Rings",
          "Home & Kitchen/Kitchen & Dining/Dining & Entertaining/Dinnerware & Serveware/Serveware/Serving Dishes, Trays & Platters/Divided Dishes, Trays & Platters",
          "Home & Kitchen/Kitchen & Dining/Dining & Entertaining/Dinnerware & Serveware/Dinnerware/Teacups, Mugs & Saucers/Teacups",
          "Home & Kitchen/Kitchen & Dining/Food Service Equipment & Supplies/Tabletop & Serveware/Bar Equipment/Bar Refrigeration/Wine & Bottle Chillers",
          "Home & Kitchen/Kitchen & Dining/Food Service Equipment & Supplies/Restaurant Appliances & Equipment/Commercial Food Preparation Equipment/Commercial Food Packaging Equipment/Vacuum Sealer Bags",
          "Home & Kitchen/Kitchen & Dining/Food Service Equipment & Supplies/Cookware, Bakeware & Tools/Kitchen Knives/Asian Knives/Usuba & Nakiri Knives",
          "Home & Kitchen/Kitchen & Dining/Dining & Entertaining/Dinnerware & Serveware/Serveware/Beverage Serveware/Wine Decanters",
          "Home & Kitchen/Kitchen & Dining/Dining & Entertaining/Dinnerware & Serveware/Serveware/Serving Bowls & Tureens/Trifle Bowls",
          "Home & Kitchen/Kitchen & Dining/Dining & Entertaining/Bar Tools & Drinkware/Bar Tools/Wine Stoppers & Pourers/Wine Stoppers",
          "Home & Kitchen/Kitchen & Dining/Dining & Entertaining/Bar Tools & Drinkware/Bar Tools/Wine Stoppers & Pourers/Wine Pourers",
          "Home & Kitchen/Kitchen & Dining/Food Service Equipment & Supplies/Tabletop & Serveware/Linen & Table Accessories/Tabletop Accessories/Toothpick Dispensers",
          "Home & Kitchen/Kitchen & Dining/Food Service Equipment & Supplies/Cookware, Bakeware & Tools/Kitchen Knives/Specialty Knives/Seafood Knives",
          "Home & Kitchen/Kitchen & Dining/Food Service Equipment & Supplies/Tabletop & Serveware/Condiment Holders & Dispensers/Salt & Pepper/Salt Shakers",
          "Home & Kitchen/Kitchen & Dining/Food Service Equipment & Supplies/Tabletop & Serveware/Condiment Holders & Dispensers/Salt & Pepper/Salt Mills",
          "Home & Kitchen/Kitchen & Dining/Food Service Equipment & Supplies/Cookware, Bakeware & Tools/Kitchen Knives/Asian Knives/Santoku Knives",
          "Home & Kitchen/Kitchen & Dining/Dining & Entertaining/Tabletop Accessories/Linens/Accessories",
          "Home & Kitchen/Kitchen & Dining/Food Service Equipment & Supplies/Cookware, Bakeware & Tools/Kitchen Knives/Asian Knives",
          "Home & Kitchen/Kitchen & Dining/Food Service Equipment & Supplies/Tabletop & Serveware/Bar Equipment/Bar Refrigeration",
          "Home & Kitchen/Kitchen & Dining/Food Service Equipment & Supplies/Tabletop & Serveware/Bar Equipment/Bar Tools & Glasses",
          "Home & Kitchen/Kitchen & Dining/Dining & Entertaining/Dinnerware & Serveware/Serveware/Beverage Serveware",
          "Home & Kitchen/Kitchen & Dining/Dining & Entertaining/Dinnerware & Serveware/Dinnerware/Bowls",
          "Home & Kitchen/Kitchen & Dining/Food Service Equipment & Supplies/Cookware, Bakeware & Tools/Kitchen Knives/Cleavers",
          "Home & Kitchen/Kitchen & Dining/Coffee, Tea & Espresso/Coffee Maker Parts & Accessories/Coffee Machine Accessories/Coffee Filters",
          "Home & Kitchen/Kitchen & Dining/Coffee, Tea & Espresso/Coffee Maker Parts & Accessories/Coffee Machine Accessories/Coffee Pod Holders",
          "Home & Kitchen/Kitchen & Dining/Food Service Equipment & Supplies/Restaurant Appliances & Equipment/Commercial Food Preparation Equipment/Commercial Food Packaging Equipment",
          "Home & Kitchen/Kitchen & Dining/Dining & Entertaining/Tabletop Accessories/Linens/Disposable Table Covers",
          "Home & Kitchen/Kitchen & Dining/Dining & Entertaining/Bar Tools & Drinkware/Bar Tools/Ice Buckets & Tongs",
          "Home & Kitchen/Kitchen & Dining/Dining & Entertaining/Dinnerware & Serveware/Dinnerware/Plates",
          "Home & Kitchen/Kitchen & Dining/Dining & Entertaining/Tabletop Accessories/Linens/Potholders & Oven Mitts",
          "Home & Kitchen/Kitchen & Dining/Food Service Equipment & Supplies/Tabletop & Serveware/Condiment Holders & Dispensers/Salt & Pepper",
          "Home & Kitchen/Kitchen & Dining/Dining & Entertaining/Dinnerware & Serveware/Serveware/Servers",
          "Home & Kitchen/Kitchen & Dining/Dining & Entertaining/Dinnerware & Serveware/Serveware/Serving Bowls & Tureens",
          "Home & Kitchen/Kitchen & Dining/Dining & Entertaining/Dinnerware & Serveware/Serveware/Serving Dishes, Trays & Platters",
          "Home & Kitchen/Kitchen & Dining/Dining & Entertaining/Dinnerware & Serveware/Serveware/Serving Forks",
          "Home & Kitchen/Kitchen & Dining/Dining & Entertaining/Dinnerware & Serveware/Serveware/Serving Spoons",
          "Home & Kitchen/Kitchen & Dining/Food Service Equipment & Supplies/Cookware, Bakeware & Tools/Kitchen Knives/Specialty Knives",
          "Home & Kitchen/Kitchen & Dining/Food Service Equipment & Supplies/Tabletop & Serveware/Linen & Table Accessories/Tabletop Accessories",
          "Home & Kitchen/Kitchen & Dining/Dining & Entertaining/Dinnerware & Serveware/Dinnerware/Teacups, Mugs & Saucers",
          "Home & Kitchen/Kitchen & Dining/Dining & Entertaining/Dinnerware & Serveware/Serveware/Tongs",
          "Home & Kitchen/Kitchen & Dining/Dining & Entertaining/Bar Tools & Drinkware/Bar Tools/Wine Stoppers & Pourers",
          "Home & Kitchen/Kitchen & Dining/Food Service Equipment & Supplies/Tabletop & Serveware/Bar Equipment",
          "Home & Kitchen/Kitchen & Dining/Dining & Entertaining/Bar Tools & Drinkware/Bar Tools",
          "Home & Kitchen/Kitchen & Dining/Coffee, Tea & Espresso/Coffee Maker Parts & Accessories/Coffee Machine Accessories",
          "Home & Kitchen/Kitchen & Dining/Food Service Equipment & Supplies/Restaurant Appliances & Equipment/Commercial Food Preparation Equipment",
          "Home & Kitchen/Kitchen & Dining/Food Service Equipment & Supplies/Tabletop & Serveware/Condiment Holders & Dispensers",
          "Home & Kitchen/Kitchen & Dining/Dining & Entertaining/Dinnerware & Serveware/Dinnerware",
          "Home & Kitchen/Kitchen & Dining/Food Service Equipment & Supplies/Cookware, Bakeware & Tools/Kitchen Knives",
          "Home & Kitchen/Kitchen & Dining/Food Service Equipment & Supplies/Tabletop & Serveware/Linen & Table Accessories",
          "Home & Kitchen/Kitchen & Dining/Dining & Entertaining/Tabletop Accessories/Linens",
          "Home & Kitchen/Kitchen & Dining/Dining & Entertaining/Dinnerware & Serveware/Serveware",
          "Home & Kitchen/Kitchen & Dining/Dining & Entertaining/Bar Tools & Drinkware",
          "Home & Kitchen/Kitchen & Dining/Coffee, Tea & Espresso/Coffee Maker Parts & Accessories",
          "Home & Kitchen/Kitchen & Dining/Food Service Equipment & Supplies/Cookware, Bakeware & Tools",
          "Home & Kitchen/Kitchen & Dining/Dining & Entertaining/Dinnerware & Serveware",
          "Home & Kitchen/Kitchen & Dining/Food Service Equipment & Supplies/Restaurant Appliances & Equipment",
          "Home & Kitchen/Kitchen & Dining/Food Service Equipment & Supplies/Tabletop & Serveware",
          "Home & Kitchen/Kitchen & Dining/Dining & Entertaining/Tabletop Accessories",
          "Home & Kitchen/Kitchen & Dining/Coffee, Tea & Espresso",
          "Home & Kitchen/Kitchen & Dining/Dining & Entertaining",
          "Home & Kitchen/Kitchen & Dining/Food Service Equipment & Supplies",
          "Home & Kitchen/Kitchen & Dining",
          "Home & Kitchen"
         ],
         "labels": [
          "Carafes",
          "Cereal Bowls",
          "Chinese Chef's Knives & Cleavers",
          "Appetizer Plates",
          "Bowl Sets",
          "Bread & Butter Plates",
          "Buffet Tongs",
          "Cake, Pie & Pastry Servers",
          "Serving Trays",
          "Snack Bowls",
          "Serving Bowls",
          "Specialty Plates",
          "Table Skirts",
          "Soup Bowls",
          "Plate & Napkin Holders",
          "Platters",
          "Pod Baskets",
          "Pod Drawers",
          "Potholders",
          "Reusable Filters",
          "Rice & Potato Servers",
          "Salad Bowls",
          "Salad Plates",
          "Salad Servers",
          "Salt & Pepper Mill Sets",
          "Permanent Filters",
          "Rice Bowls",
          "Pepper Mills",
          "Pickle & Olive Forks",
          "Nut Bowls",
          "Coffee Cups & Mugs",
          "Condiment Pots",
          "Corkscrews & Openers",
          "Cup & Saucer Sets",
          "Deba Knives",
          "Dessert Bowls",
          "Oven Mitts",
          "Dessert Plates",
          "Disposable Filters",
          "Dinner Plates",
          "Espresso Cups",
          "Fruit Bowls",
          "Ice Buckets",
          "Iced Beverage Dispensers",
          "Jugs",
          "Meat Cleavers",
          "Mug Sets",
          "Napkin Rings",
          "Divided Dishes, Trays & Platters",
          "Teacups",
          "Wine & Bottle Chillers",
          "Vacuum Sealer Bags",
          "Usuba & Nakiri Knives",
          "Wine Decanters",
          "Trifle Bowls",
          "Wine Stoppers",
          "Wine Pourers",
          "Toothpick Dispensers",
          "Seafood Knives",
          "Salt Shakers",
          "Salt Mills",
          "Santoku Knives",
          "Accessories",
          "Asian Knives",
          "Bar Refrigeration",
          "Bar Tools & Glasses",
          "Beverage Serveware",
          "Bowls",
          "Cleavers",
          "Coffee Filters",
          "Coffee Pod Holders",
          "Commercial Food Packaging Equipment",
          "Disposable Table Covers",
          "Ice Buckets & Tongs",
          "Plates",
          "Potholders & Oven Mitts",
          "Salt & Pepper",
          "Servers",
          "Serving Bowls & Tureens",
          "Serving Dishes, Trays & Platters",
          "Serving Forks",
          "Serving Spoons",
          "Specialty Knives",
          "Tabletop Accessories",
          "Teacups, Mugs & Saucers",
          "Tongs",
          "Wine Stoppers & Pourers",
          "Bar Equipment",
          "Bar Tools",
          "Coffee Machine Accessories",
          "Commercial Food Preparation Equipment",
          "Condiment Holders & Dispensers",
          "Dinnerware",
          "Kitchen Knives",
          "Linen & Table Accessories",
          "Linens",
          "Serveware",
          "Bar Tools & Drinkware",
          "Coffee Maker Parts & Accessories",
          "Cookware, Bakeware & Tools",
          "Dinnerware & Serveware",
          "Restaurant Appliances & Equipment",
          "Tabletop & Serveware",
          "Tabletop Accessories",
          "Coffee, Tea & Espresso",
          "Dining & Entertaining",
          "Food Service Equipment & Supplies",
          "Kitchen & Dining",
          "Home & Kitchen"
         ],
         "marker": {
          "colors": [
           "#636efa",
           "#636efa",
           "#EF553B",
           "#636efa",
           "#636efa",
           "#636efa",
           "#636efa",
           "#636efa",
           "#636efa",
           "#636efa",
           "#636efa",
           "#636efa",
           "#00cc96",
           "#636efa",
           "#ab63fa",
           "#636efa",
           "#FFA15A",
           "#FFA15A",
           "#00cc96",
           "#FFA15A",
           "#636efa",
           "#636efa",
           "#636efa",
           "#636efa",
           "#ab63fa",
           "#FFA15A",
           "#636efa",
           "#ab63fa",
           "#636efa",
           "#636efa",
           "#636efa",
           "#636efa",
           "#ab63fa",
           "#636efa",
           "#EF553B",
           "#636efa",
           "#00cc96",
           "#636efa",
           "#FFA15A",
           "#636efa",
           "#636efa",
           "#636efa",
           "#19d3f3",
           "#636efa",
           "#636efa",
           "#EF553B",
           "#636efa",
           "#00cc96",
           "#636efa",
           "#636efa",
           "#ab63fa",
           "#FF6692",
           "#EF553B",
           "#636efa",
           "#636efa",
           "#19d3f3",
           "#19d3f3",
           "#ab63fa",
           "#EF553B",
           "#ab63fa",
           "#ab63fa",
           "#EF553B",
           "#00cc96",
           "#EF553B",
           "#ab63fa",
           "#ab63fa",
           "#636efa",
           "#636efa",
           "#EF553B",
           "#FFA15A",
           "#FFA15A",
           "#FF6692",
           "#00cc96",
           "#19d3f3",
           "#636efa",
           "#00cc96",
           "#ab63fa",
           "#636efa",
           "#636efa",
           "#636efa",
           "#636efa",
           "#636efa",
           "#EF553B",
           "#ab63fa",
           "#636efa",
           "#636efa",
           "#19d3f3",
           "#ab63fa",
           "#19d3f3",
           "#FFA15A",
           "#FF6692",
           "#ab63fa",
           "#636efa",
           "#EF553B",
           "#ab63fa",
           "#00cc96",
           "#636efa",
           "#19d3f3",
           "#FFA15A",
           "#EF553B",
           "#636efa",
           "#FF6692",
           "#ab63fa",
           "#00cc96",
           "#FFA15A",
           "#B6E880",
           "#B6E880",
           "#B6E880",
           "#B6E880"
          ]
         },
         "name": "",
         "parents": [
          "Home & Kitchen/Kitchen & Dining/Dining & Entertaining/Dinnerware & Serveware/Serveware/Beverage Serveware",
          "Home & Kitchen/Kitchen & Dining/Dining & Entertaining/Dinnerware & Serveware/Dinnerware/Bowls",
          "Home & Kitchen/Kitchen & Dining/Food Service Equipment & Supplies/Cookware, Bakeware & Tools/Kitchen Knives/Asian Knives",
          "Home & Kitchen/Kitchen & Dining/Dining & Entertaining/Dinnerware & Serveware/Dinnerware/Plates",
          "Home & Kitchen/Kitchen & Dining/Dining & Entertaining/Dinnerware & Serveware/Dinnerware/Bowls",
          "Home & Kitchen/Kitchen & Dining/Dining & Entertaining/Dinnerware & Serveware/Dinnerware/Plates",
          "Home & Kitchen/Kitchen & Dining/Dining & Entertaining/Dinnerware & Serveware/Serveware/Tongs",
          "Home & Kitchen/Kitchen & Dining/Dining & Entertaining/Dinnerware & Serveware/Serveware/Servers",
          "Home & Kitchen/Kitchen & Dining/Dining & Entertaining/Dinnerware & Serveware/Serveware/Serving Dishes, Trays & Platters",
          "Home & Kitchen/Kitchen & Dining/Dining & Entertaining/Dinnerware & Serveware/Dinnerware/Bowls",
          "Home & Kitchen/Kitchen & Dining/Dining & Entertaining/Dinnerware & Serveware/Serveware/Serving Bowls & Tureens",
          "Home & Kitchen/Kitchen & Dining/Dining & Entertaining/Dinnerware & Serveware/Dinnerware/Plates",
          "Home & Kitchen/Kitchen & Dining/Dining & Entertaining/Tabletop Accessories/Linens/Disposable Table Covers",
          "Home & Kitchen/Kitchen & Dining/Dining & Entertaining/Dinnerware & Serveware/Dinnerware/Bowls",
          "Home & Kitchen/Kitchen & Dining/Food Service Equipment & Supplies/Tabletop & Serveware/Linen & Table Accessories/Tabletop Accessories",
          "Home & Kitchen/Kitchen & Dining/Dining & Entertaining/Dinnerware & Serveware/Serveware/Serving Dishes, Trays & Platters",
          "Home & Kitchen/Kitchen & Dining/Coffee, Tea & Espresso/Coffee Maker Parts & Accessories/Coffee Machine Accessories/Coffee Pod Holders",
          "Home & Kitchen/Kitchen & Dining/Coffee, Tea & Espresso/Coffee Maker Parts & Accessories/Coffee Machine Accessories/Coffee Pod Holders",
          "Home & Kitchen/Kitchen & Dining/Dining & Entertaining/Tabletop Accessories/Linens/Potholders & Oven Mitts",
          "Home & Kitchen/Kitchen & Dining/Coffee, Tea & Espresso/Coffee Maker Parts & Accessories/Coffee Machine Accessories/Coffee Filters",
          "Home & Kitchen/Kitchen & Dining/Dining & Entertaining/Dinnerware & Serveware/Serveware/Serving Spoons",
          "Home & Kitchen/Kitchen & Dining/Dining & Entertaining/Dinnerware & Serveware/Dinnerware/Bowls",
          "Home & Kitchen/Kitchen & Dining/Dining & Entertaining/Dinnerware & Serveware/Dinnerware/Plates",
          "Home & Kitchen/Kitchen & Dining/Dining & Entertaining/Dinnerware & Serveware/Serveware/Servers",
          "Home & Kitchen/Kitchen & Dining/Food Service Equipment & Supplies/Tabletop & Serveware/Condiment Holders & Dispensers/Salt & Pepper",
          "Home & Kitchen/Kitchen & Dining/Coffee, Tea & Espresso/Coffee Maker Parts & Accessories/Coffee Machine Accessories/Coffee Filters",
          "Home & Kitchen/Kitchen & Dining/Dining & Entertaining/Dinnerware & Serveware/Dinnerware/Bowls",
          "Home & Kitchen/Kitchen & Dining/Food Service Equipment & Supplies/Tabletop & Serveware/Condiment Holders & Dispensers/Salt & Pepper",
          "Home & Kitchen/Kitchen & Dining/Dining & Entertaining/Dinnerware & Serveware/Serveware/Serving Forks",
          "Home & Kitchen/Kitchen & Dining/Dining & Entertaining/Dinnerware & Serveware/Serveware/Serving Bowls & Tureens",
          "Home & Kitchen/Kitchen & Dining/Dining & Entertaining/Dinnerware & Serveware/Dinnerware/Teacups, Mugs & Saucers",
          "Home & Kitchen/Kitchen & Dining/Dining & Entertaining/Dinnerware & Serveware/Serveware/Serving Bowls & Tureens",
          "Home & Kitchen/Kitchen & Dining/Food Service Equipment & Supplies/Tabletop & Serveware/Bar Equipment/Bar Tools & Glasses",
          "Home & Kitchen/Kitchen & Dining/Dining & Entertaining/Dinnerware & Serveware/Dinnerware/Teacups, Mugs & Saucers",
          "Home & Kitchen/Kitchen & Dining/Food Service Equipment & Supplies/Cookware, Bakeware & Tools/Kitchen Knives/Asian Knives",
          "Home & Kitchen/Kitchen & Dining/Dining & Entertaining/Dinnerware & Serveware/Dinnerware/Bowls",
          "Home & Kitchen/Kitchen & Dining/Dining & Entertaining/Tabletop Accessories/Linens/Potholders & Oven Mitts",
          "Home & Kitchen/Kitchen & Dining/Dining & Entertaining/Dinnerware & Serveware/Dinnerware/Plates",
          "Home & Kitchen/Kitchen & Dining/Coffee, Tea & Espresso/Coffee Maker Parts & Accessories/Coffee Machine Accessories/Coffee Filters",
          "Home & Kitchen/Kitchen & Dining/Dining & Entertaining/Dinnerware & Serveware/Dinnerware/Plates",
          "Home & Kitchen/Kitchen & Dining/Dining & Entertaining/Dinnerware & Serveware/Dinnerware/Teacups, Mugs & Saucers",
          "Home & Kitchen/Kitchen & Dining/Dining & Entertaining/Dinnerware & Serveware/Dinnerware/Bowls",
          "Home & Kitchen/Kitchen & Dining/Dining & Entertaining/Bar Tools & Drinkware/Bar Tools/Ice Buckets & Tongs",
          "Home & Kitchen/Kitchen & Dining/Dining & Entertaining/Dinnerware & Serveware/Serveware/Beverage Serveware",
          "Home & Kitchen/Kitchen & Dining/Dining & Entertaining/Dinnerware & Serveware/Serveware/Beverage Serveware",
          "Home & Kitchen/Kitchen & Dining/Food Service Equipment & Supplies/Cookware, Bakeware & Tools/Kitchen Knives/Cleavers",
          "Home & Kitchen/Kitchen & Dining/Dining & Entertaining/Dinnerware & Serveware/Dinnerware/Teacups, Mugs & Saucers",
          "Home & Kitchen/Kitchen & Dining/Dining & Entertaining/Tabletop Accessories/Linens/Accessories",
          "Home & Kitchen/Kitchen & Dining/Dining & Entertaining/Dinnerware & Serveware/Serveware/Serving Dishes, Trays & Platters",
          "Home & Kitchen/Kitchen & Dining/Dining & Entertaining/Dinnerware & Serveware/Dinnerware/Teacups, Mugs & Saucers",
          "Home & Kitchen/Kitchen & Dining/Food Service Equipment & Supplies/Tabletop & Serveware/Bar Equipment/Bar Refrigeration",
          "Home & Kitchen/Kitchen & Dining/Food Service Equipment & Supplies/Restaurant Appliances & Equipment/Commercial Food Preparation Equipment/Commercial Food Packaging Equipment",
          "Home & Kitchen/Kitchen & Dining/Food Service Equipment & Supplies/Cookware, Bakeware & Tools/Kitchen Knives/Asian Knives",
          "Home & Kitchen/Kitchen & Dining/Dining & Entertaining/Dinnerware & Serveware/Serveware/Beverage Serveware",
          "Home & Kitchen/Kitchen & Dining/Dining & Entertaining/Dinnerware & Serveware/Serveware/Serving Bowls & Tureens",
          "Home & Kitchen/Kitchen & Dining/Dining & Entertaining/Bar Tools & Drinkware/Bar Tools/Wine Stoppers & Pourers",
          "Home & Kitchen/Kitchen & Dining/Dining & Entertaining/Bar Tools & Drinkware/Bar Tools/Wine Stoppers & Pourers",
          "Home & Kitchen/Kitchen & Dining/Food Service Equipment & Supplies/Tabletop & Serveware/Linen & Table Accessories/Tabletop Accessories",
          "Home & Kitchen/Kitchen & Dining/Food Service Equipment & Supplies/Cookware, Bakeware & Tools/Kitchen Knives/Specialty Knives",
          "Home & Kitchen/Kitchen & Dining/Food Service Equipment & Supplies/Tabletop & Serveware/Condiment Holders & Dispensers/Salt & Pepper",
          "Home & Kitchen/Kitchen & Dining/Food Service Equipment & Supplies/Tabletop & Serveware/Condiment Holders & Dispensers/Salt & Pepper",
          "Home & Kitchen/Kitchen & Dining/Food Service Equipment & Supplies/Cookware, Bakeware & Tools/Kitchen Knives/Asian Knives",
          "Home & Kitchen/Kitchen & Dining/Dining & Entertaining/Tabletop Accessories/Linens",
          "Home & Kitchen/Kitchen & Dining/Food Service Equipment & Supplies/Cookware, Bakeware & Tools/Kitchen Knives",
          "Home & Kitchen/Kitchen & Dining/Food Service Equipment & Supplies/Tabletop & Serveware/Bar Equipment",
          "Home & Kitchen/Kitchen & Dining/Food Service Equipment & Supplies/Tabletop & Serveware/Bar Equipment",
          "Home & Kitchen/Kitchen & Dining/Dining & Entertaining/Dinnerware & Serveware/Serveware",
          "Home & Kitchen/Kitchen & Dining/Dining & Entertaining/Dinnerware & Serveware/Dinnerware",
          "Home & Kitchen/Kitchen & Dining/Food Service Equipment & Supplies/Cookware, Bakeware & Tools/Kitchen Knives",
          "Home & Kitchen/Kitchen & Dining/Coffee, Tea & Espresso/Coffee Maker Parts & Accessories/Coffee Machine Accessories",
          "Home & Kitchen/Kitchen & Dining/Coffee, Tea & Espresso/Coffee Maker Parts & Accessories/Coffee Machine Accessories",
          "Home & Kitchen/Kitchen & Dining/Food Service Equipment & Supplies/Restaurant Appliances & Equipment/Commercial Food Preparation Equipment",
          "Home & Kitchen/Kitchen & Dining/Dining & Entertaining/Tabletop Accessories/Linens",
          "Home & Kitchen/Kitchen & Dining/Dining & Entertaining/Bar Tools & Drinkware/Bar Tools",
          "Home & Kitchen/Kitchen & Dining/Dining & Entertaining/Dinnerware & Serveware/Dinnerware",
          "Home & Kitchen/Kitchen & Dining/Dining & Entertaining/Tabletop Accessories/Linens",
          "Home & Kitchen/Kitchen & Dining/Food Service Equipment & Supplies/Tabletop & Serveware/Condiment Holders & Dispensers",
          "Home & Kitchen/Kitchen & Dining/Dining & Entertaining/Dinnerware & Serveware/Serveware",
          "Home & Kitchen/Kitchen & Dining/Dining & Entertaining/Dinnerware & Serveware/Serveware",
          "Home & Kitchen/Kitchen & Dining/Dining & Entertaining/Dinnerware & Serveware/Serveware",
          "Home & Kitchen/Kitchen & Dining/Dining & Entertaining/Dinnerware & Serveware/Serveware",
          "Home & Kitchen/Kitchen & Dining/Dining & Entertaining/Dinnerware & Serveware/Serveware",
          "Home & Kitchen/Kitchen & Dining/Food Service Equipment & Supplies/Cookware, Bakeware & Tools/Kitchen Knives",
          "Home & Kitchen/Kitchen & Dining/Food Service Equipment & Supplies/Tabletop & Serveware/Linen & Table Accessories",
          "Home & Kitchen/Kitchen & Dining/Dining & Entertaining/Dinnerware & Serveware/Dinnerware",
          "Home & Kitchen/Kitchen & Dining/Dining & Entertaining/Dinnerware & Serveware/Serveware",
          "Home & Kitchen/Kitchen & Dining/Dining & Entertaining/Bar Tools & Drinkware/Bar Tools",
          "Home & Kitchen/Kitchen & Dining/Food Service Equipment & Supplies/Tabletop & Serveware",
          "Home & Kitchen/Kitchen & Dining/Dining & Entertaining/Bar Tools & Drinkware",
          "Home & Kitchen/Kitchen & Dining/Coffee, Tea & Espresso/Coffee Maker Parts & Accessories",
          "Home & Kitchen/Kitchen & Dining/Food Service Equipment & Supplies/Restaurant Appliances & Equipment",
          "Home & Kitchen/Kitchen & Dining/Food Service Equipment & Supplies/Tabletop & Serveware",
          "Home & Kitchen/Kitchen & Dining/Dining & Entertaining/Dinnerware & Serveware",
          "Home & Kitchen/Kitchen & Dining/Food Service Equipment & Supplies/Cookware, Bakeware & Tools",
          "Home & Kitchen/Kitchen & Dining/Food Service Equipment & Supplies/Tabletop & Serveware",
          "Home & Kitchen/Kitchen & Dining/Dining & Entertaining/Tabletop Accessories",
          "Home & Kitchen/Kitchen & Dining/Dining & Entertaining/Dinnerware & Serveware",
          "Home & Kitchen/Kitchen & Dining/Dining & Entertaining",
          "Home & Kitchen/Kitchen & Dining/Coffee, Tea & Espresso",
          "Home & Kitchen/Kitchen & Dining/Food Service Equipment & Supplies",
          "Home & Kitchen/Kitchen & Dining/Dining & Entertaining",
          "Home & Kitchen/Kitchen & Dining/Food Service Equipment & Supplies",
          "Home & Kitchen/Kitchen & Dining/Food Service Equipment & Supplies",
          "Home & Kitchen/Kitchen & Dining/Dining & Entertaining",
          "Home & Kitchen/Kitchen & Dining",
          "Home & Kitchen/Kitchen & Dining",
          "Home & Kitchen/Kitchen & Dining",
          "Home & Kitchen",
          ""
         ],
         "textinfo": "label+percent parent",
         "type": "treemap",
         "values": [
          3,
          1,
          1,
          1,
          16,
          1,
          1,
          4,
          13,
          2,
          15,
          2,
          4,
          2,
          8,
          3,
          1,
          2,
          27,
          3,
          1,
          1,
          2,
          4,
          2,
          1,
          2,
          18,
          1,
          1,
          24,
          1,
          20,
          1,
          1,
          2,
          10,
          1,
          17,
          6,
          1,
          3,
          7,
          4,
          7,
          1,
          5,
          2,
          1,
          1,
          4,
          4,
          2,
          1,
          1,
          8,
          1,
          2,
          6,
          7,
          5,
          7,
          2,
          11,
          4,
          20,
          15,
          29,
          1,
          21,
          3,
          4,
          4,
          7,
          13,
          37,
          32,
          8,
          18,
          17,
          1,
          1,
          6,
          10,
          32,
          1,
          9,
          24,
          16,
          24,
          4,
          32,
          74,
          18,
          10,
          43,
          61,
          16,
          24,
          18,
          135,
          4,
          66,
          43,
          24,
          194,
          88,
          306,
          306
         ]
        }
       ],
       "layout": {
        "height": 800,
        "legend": {
         "tracegroupgap": 0
        },
        "template": {
         "data": {
          "bar": [
           {
            "error_x": {
             "color": "#2a3f5f"
            },
            "error_y": {
             "color": "#2a3f5f"
            },
            "marker": {
             "line": {
              "color": "#E5ECF6",
              "width": 0.5
             },
             "pattern": {
              "fillmode": "overlay",
              "size": 10,
              "solidity": 0.2
             }
            },
            "type": "bar"
           }
          ],
          "barpolar": [
           {
            "marker": {
             "line": {
              "color": "#E5ECF6",
              "width": 0.5
             },
             "pattern": {
              "fillmode": "overlay",
              "size": 10,
              "solidity": 0.2
             }
            },
            "type": "barpolar"
           }
          ],
          "carpet": [
           {
            "aaxis": {
             "endlinecolor": "#2a3f5f",
             "gridcolor": "white",
             "linecolor": "white",
             "minorgridcolor": "white",
             "startlinecolor": "#2a3f5f"
            },
            "baxis": {
             "endlinecolor": "#2a3f5f",
             "gridcolor": "white",
             "linecolor": "white",
             "minorgridcolor": "white",
             "startlinecolor": "#2a3f5f"
            },
            "type": "carpet"
           }
          ],
          "choropleth": [
           {
            "colorbar": {
             "outlinewidth": 0,
             "ticks": ""
            },
            "type": "choropleth"
           }
          ],
          "contour": [
           {
            "colorbar": {
             "outlinewidth": 0,
             "ticks": ""
            },
            "colorscale": [
             [
              0,
              "#0d0887"
             ],
             [
              0.1111111111111111,
              "#46039f"
             ],
             [
              0.2222222222222222,
              "#7201a8"
             ],
             [
              0.3333333333333333,
              "#9c179e"
             ],
             [
              0.4444444444444444,
              "#bd3786"
             ],
             [
              0.5555555555555556,
              "#d8576b"
             ],
             [
              0.6666666666666666,
              "#ed7953"
             ],
             [
              0.7777777777777778,
              "#fb9f3a"
             ],
             [
              0.8888888888888888,
              "#fdca26"
             ],
             [
              1,
              "#f0f921"
             ]
            ],
            "type": "contour"
           }
          ],
          "contourcarpet": [
           {
            "colorbar": {
             "outlinewidth": 0,
             "ticks": ""
            },
            "type": "contourcarpet"
           }
          ],
          "heatmap": [
           {
            "colorbar": {
             "outlinewidth": 0,
             "ticks": ""
            },
            "colorscale": [
             [
              0,
              "#0d0887"
             ],
             [
              0.1111111111111111,
              "#46039f"
             ],
             [
              0.2222222222222222,
              "#7201a8"
             ],
             [
              0.3333333333333333,
              "#9c179e"
             ],
             [
              0.4444444444444444,
              "#bd3786"
             ],
             [
              0.5555555555555556,
              "#d8576b"
             ],
             [
              0.6666666666666666,
              "#ed7953"
             ],
             [
              0.7777777777777778,
              "#fb9f3a"
             ],
             [
              0.8888888888888888,
              "#fdca26"
             ],
             [
              1,
              "#f0f921"
             ]
            ],
            "type": "heatmap"
           }
          ],
          "heatmapgl": [
           {
            "colorbar": {
             "outlinewidth": 0,
             "ticks": ""
            },
            "colorscale": [
             [
              0,
              "#0d0887"
             ],
             [
              0.1111111111111111,
              "#46039f"
             ],
             [
              0.2222222222222222,
              "#7201a8"
             ],
             [
              0.3333333333333333,
              "#9c179e"
             ],
             [
              0.4444444444444444,
              "#bd3786"
             ],
             [
              0.5555555555555556,
              "#d8576b"
             ],
             [
              0.6666666666666666,
              "#ed7953"
             ],
             [
              0.7777777777777778,
              "#fb9f3a"
             ],
             [
              0.8888888888888888,
              "#fdca26"
             ],
             [
              1,
              "#f0f921"
             ]
            ],
            "type": "heatmapgl"
           }
          ],
          "histogram": [
           {
            "marker": {
             "pattern": {
              "fillmode": "overlay",
              "size": 10,
              "solidity": 0.2
             }
            },
            "type": "histogram"
           }
          ],
          "histogram2d": [
           {
            "colorbar": {
             "outlinewidth": 0,
             "ticks": ""
            },
            "colorscale": [
             [
              0,
              "#0d0887"
             ],
             [
              0.1111111111111111,
              "#46039f"
             ],
             [
              0.2222222222222222,
              "#7201a8"
             ],
             [
              0.3333333333333333,
              "#9c179e"
             ],
             [
              0.4444444444444444,
              "#bd3786"
             ],
             [
              0.5555555555555556,
              "#d8576b"
             ],
             [
              0.6666666666666666,
              "#ed7953"
             ],
             [
              0.7777777777777778,
              "#fb9f3a"
             ],
             [
              0.8888888888888888,
              "#fdca26"
             ],
             [
              1,
              "#f0f921"
             ]
            ],
            "type": "histogram2d"
           }
          ],
          "histogram2dcontour": [
           {
            "colorbar": {
             "outlinewidth": 0,
             "ticks": ""
            },
            "colorscale": [
             [
              0,
              "#0d0887"
             ],
             [
              0.1111111111111111,
              "#46039f"
             ],
             [
              0.2222222222222222,
              "#7201a8"
             ],
             [
              0.3333333333333333,
              "#9c179e"
             ],
             [
              0.4444444444444444,
              "#bd3786"
             ],
             [
              0.5555555555555556,
              "#d8576b"
             ],
             [
              0.6666666666666666,
              "#ed7953"
             ],
             [
              0.7777777777777778,
              "#fb9f3a"
             ],
             [
              0.8888888888888888,
              "#fdca26"
             ],
             [
              1,
              "#f0f921"
             ]
            ],
            "type": "histogram2dcontour"
           }
          ],
          "mesh3d": [
           {
            "colorbar": {
             "outlinewidth": 0,
             "ticks": ""
            },
            "type": "mesh3d"
           }
          ],
          "parcoords": [
           {
            "line": {
             "colorbar": {
              "outlinewidth": 0,
              "ticks": ""
             }
            },
            "type": "parcoords"
           }
          ],
          "pie": [
           {
            "automargin": true,
            "type": "pie"
           }
          ],
          "scatter": [
           {
            "fillpattern": {
             "fillmode": "overlay",
             "size": 10,
             "solidity": 0.2
            },
            "type": "scatter"
           }
          ],
          "scatter3d": [
           {
            "line": {
             "colorbar": {
              "outlinewidth": 0,
              "ticks": ""
             }
            },
            "marker": {
             "colorbar": {
              "outlinewidth": 0,
              "ticks": ""
             }
            },
            "type": "scatter3d"
           }
          ],
          "scattercarpet": [
           {
            "marker": {
             "colorbar": {
              "outlinewidth": 0,
              "ticks": ""
             }
            },
            "type": "scattercarpet"
           }
          ],
          "scattergeo": [
           {
            "marker": {
             "colorbar": {
              "outlinewidth": 0,
              "ticks": ""
             }
            },
            "type": "scattergeo"
           }
          ],
          "scattergl": [
           {
            "marker": {
             "colorbar": {
              "outlinewidth": 0,
              "ticks": ""
             }
            },
            "type": "scattergl"
           }
          ],
          "scattermapbox": [
           {
            "marker": {
             "colorbar": {
              "outlinewidth": 0,
              "ticks": ""
             }
            },
            "type": "scattermapbox"
           }
          ],
          "scatterpolar": [
           {
            "marker": {
             "colorbar": {
              "outlinewidth": 0,
              "ticks": ""
             }
            },
            "type": "scatterpolar"
           }
          ],
          "scatterpolargl": [
           {
            "marker": {
             "colorbar": {
              "outlinewidth": 0,
              "ticks": ""
             }
            },
            "type": "scatterpolargl"
           }
          ],
          "scatterternary": [
           {
            "marker": {
             "colorbar": {
              "outlinewidth": 0,
              "ticks": ""
             }
            },
            "type": "scatterternary"
           }
          ],
          "surface": [
           {
            "colorbar": {
             "outlinewidth": 0,
             "ticks": ""
            },
            "colorscale": [
             [
              0,
              "#0d0887"
             ],
             [
              0.1111111111111111,
              "#46039f"
             ],
             [
              0.2222222222222222,
              "#7201a8"
             ],
             [
              0.3333333333333333,
              "#9c179e"
             ],
             [
              0.4444444444444444,
              "#bd3786"
             ],
             [
              0.5555555555555556,
              "#d8576b"
             ],
             [
              0.6666666666666666,
              "#ed7953"
             ],
             [
              0.7777777777777778,
              "#fb9f3a"
             ],
             [
              0.8888888888888888,
              "#fdca26"
             ],
             [
              1,
              "#f0f921"
             ]
            ],
            "type": "surface"
           }
          ],
          "table": [
           {
            "cells": {
             "fill": {
              "color": "#EBF0F8"
             },
             "line": {
              "color": "white"
             }
            },
            "header": {
             "fill": {
              "color": "#C8D4E3"
             },
             "line": {
              "color": "white"
             }
            },
            "type": "table"
           }
          ]
         },
         "layout": {
          "annotationdefaults": {
           "arrowcolor": "#2a3f5f",
           "arrowhead": 0,
           "arrowwidth": 1
          },
          "autotypenumbers": "strict",
          "coloraxis": {
           "colorbar": {
            "outlinewidth": 0,
            "ticks": ""
           }
          },
          "colorscale": {
           "diverging": [
            [
             0,
             "#8e0152"
            ],
            [
             0.1,
             "#c51b7d"
            ],
            [
             0.2,
             "#de77ae"
            ],
            [
             0.3,
             "#f1b6da"
            ],
            [
             0.4,
             "#fde0ef"
            ],
            [
             0.5,
             "#f7f7f7"
            ],
            [
             0.6,
             "#e6f5d0"
            ],
            [
             0.7,
             "#b8e186"
            ],
            [
             0.8,
             "#7fbc41"
            ],
            [
             0.9,
             "#4d9221"
            ],
            [
             1,
             "#276419"
            ]
           ],
           "sequential": [
            [
             0,
             "#0d0887"
            ],
            [
             0.1111111111111111,
             "#46039f"
            ],
            [
             0.2222222222222222,
             "#7201a8"
            ],
            [
             0.3333333333333333,
             "#9c179e"
            ],
            [
             0.4444444444444444,
             "#bd3786"
            ],
            [
             0.5555555555555556,
             "#d8576b"
            ],
            [
             0.6666666666666666,
             "#ed7953"
            ],
            [
             0.7777777777777778,
             "#fb9f3a"
            ],
            [
             0.8888888888888888,
             "#fdca26"
            ],
            [
             1,
             "#f0f921"
            ]
           ],
           "sequentialminus": [
            [
             0,
             "#0d0887"
            ],
            [
             0.1111111111111111,
             "#46039f"
            ],
            [
             0.2222222222222222,
             "#7201a8"
            ],
            [
             0.3333333333333333,
             "#9c179e"
            ],
            [
             0.4444444444444444,
             "#bd3786"
            ],
            [
             0.5555555555555556,
             "#d8576b"
            ],
            [
             0.6666666666666666,
             "#ed7953"
            ],
            [
             0.7777777777777778,
             "#fb9f3a"
            ],
            [
             0.8888888888888888,
             "#fdca26"
            ],
            [
             1,
             "#f0f921"
            ]
           ]
          },
          "colorway": [
           "#636efa",
           "#EF553B",
           "#00cc96",
           "#ab63fa",
           "#FFA15A",
           "#19d3f3",
           "#FF6692",
           "#B6E880",
           "#FF97FF",
           "#FECB52"
          ],
          "font": {
           "color": "#2a3f5f"
          },
          "geo": {
           "bgcolor": "white",
           "lakecolor": "white",
           "landcolor": "#E5ECF6",
           "showlakes": true,
           "showland": true,
           "subunitcolor": "white"
          },
          "hoverlabel": {
           "align": "left"
          },
          "hovermode": "closest",
          "mapbox": {
           "style": "light"
          },
          "paper_bgcolor": "white",
          "plot_bgcolor": "#E5ECF6",
          "polar": {
           "angularaxis": {
            "gridcolor": "white",
            "linecolor": "white",
            "ticks": ""
           },
           "bgcolor": "#E5ECF6",
           "radialaxis": {
            "gridcolor": "white",
            "linecolor": "white",
            "ticks": ""
           }
          },
          "scene": {
           "xaxis": {
            "backgroundcolor": "#E5ECF6",
            "gridcolor": "white",
            "gridwidth": 2,
            "linecolor": "white",
            "showbackground": true,
            "ticks": "",
            "zerolinecolor": "white"
           },
           "yaxis": {
            "backgroundcolor": "#E5ECF6",
            "gridcolor": "white",
            "gridwidth": 2,
            "linecolor": "white",
            "showbackground": true,
            "ticks": "",
            "zerolinecolor": "white"
           },
           "zaxis": {
            "backgroundcolor": "#E5ECF6",
            "gridcolor": "white",
            "gridwidth": 2,
            "linecolor": "white",
            "showbackground": true,
            "ticks": "",
            "zerolinecolor": "white"
           }
          },
          "shapedefaults": {
           "line": {
            "color": "#2a3f5f"
           }
          },
          "ternary": {
           "aaxis": {
            "gridcolor": "white",
            "linecolor": "white",
            "ticks": ""
           },
           "baxis": {
            "gridcolor": "white",
            "linecolor": "white",
            "ticks": ""
           },
           "bgcolor": "#E5ECF6",
           "caxis": {
            "gridcolor": "white",
            "linecolor": "white",
            "ticks": ""
           }
          },
          "title": {
           "x": 0.05
          },
          "xaxis": {
           "automargin": true,
           "gridcolor": "white",
           "linecolor": "white",
           "ticks": "",
           "title": {
            "standoff": 15
           },
           "zerolinecolor": "white",
           "zerolinewidth": 2
          },
          "yaxis": {
           "automargin": true,
           "gridcolor": "white",
           "linecolor": "white",
           "ticks": "",
           "title": {
            "standoff": 15
           },
           "zerolinecolor": "white",
           "zerolinewidth": 2
          }
         }
        },
        "title": {
         "text": "Categories Treemap"
        },
        "width": 800
       }
      },
      "text/html": [
       "<div>                            <div id=\"b038fc27-4574-4d6f-9edf-d427cfd2fd0c\" class=\"plotly-graph-div\" style=\"height:800px; width:800px;\"></div>            <script type=\"text/javascript\">                require([\"plotly\"], function(Plotly) {                    window.PLOTLYENV=window.PLOTLYENV || {};                                    if (document.getElementById(\"b038fc27-4574-4d6f-9edf-d427cfd2fd0c\")) {                    Plotly.newPlot(                        \"b038fc27-4574-4d6f-9edf-d427cfd2fd0c\",                        [{\"branchvalues\":\"total\",\"customdata\":[[\"Dinnerware & Serveware\"],[\"Dinnerware & Serveware\"],[\"Cookware, Bakeware & Tools\"],[\"Dinnerware & Serveware\"],[\"Dinnerware & Serveware\"],[\"Dinnerware & Serveware\"],[\"Dinnerware & Serveware\"],[\"Dinnerware & Serveware\"],[\"Dinnerware & Serveware\"],[\"Dinnerware & Serveware\"],[\"Dinnerware & Serveware\"],[\"Dinnerware & Serveware\"],[\"Tabletop Accessories\"],[\"Dinnerware & Serveware\"],[\"Tabletop & Serveware\"],[\"Dinnerware & Serveware\"],[\"Coffee Maker Parts & Accessories\"],[\"Coffee Maker Parts & Accessories\"],[\"Tabletop Accessories\"],[\"Coffee Maker Parts & Accessories\"],[\"Dinnerware & Serveware\"],[\"Dinnerware & Serveware\"],[\"Dinnerware & Serveware\"],[\"Dinnerware & Serveware\"],[\"Tabletop & Serveware\"],[\"Coffee Maker Parts & Accessories\"],[\"Dinnerware & Serveware\"],[\"Tabletop & Serveware\"],[\"Dinnerware & Serveware\"],[\"Dinnerware & Serveware\"],[\"Dinnerware & Serveware\"],[\"Dinnerware & Serveware\"],[\"Tabletop & Serveware\"],[\"Dinnerware & Serveware\"],[\"Cookware, Bakeware & Tools\"],[\"Dinnerware & Serveware\"],[\"Tabletop Accessories\"],[\"Dinnerware & Serveware\"],[\"Coffee Maker Parts & Accessories\"],[\"Dinnerware & Serveware\"],[\"Dinnerware & Serveware\"],[\"Dinnerware & Serveware\"],[\"Bar Tools & Drinkware\"],[\"Dinnerware & Serveware\"],[\"Dinnerware & Serveware\"],[\"Cookware, Bakeware & Tools\"],[\"Dinnerware & Serveware\"],[\"Tabletop Accessories\"],[\"Dinnerware & Serveware\"],[\"Dinnerware & Serveware\"],[\"Tabletop & Serveware\"],[\"Restaurant Appliances & Equipment\"],[\"Cookware, Bakeware & Tools\"],[\"Dinnerware & Serveware\"],[\"Dinnerware & Serveware\"],[\"Bar Tools & Drinkware\"],[\"Bar Tools & Drinkware\"],[\"Tabletop & Serveware\"],[\"Cookware, Bakeware & Tools\"],[\"Tabletop & Serveware\"],[\"Tabletop & Serveware\"],[\"Cookware, Bakeware & Tools\"],[\"Tabletop Accessories\"],[\"Cookware, Bakeware & Tools\"],[\"Tabletop & Serveware\"],[\"Tabletop & Serveware\"],[\"Dinnerware & Serveware\"],[\"Dinnerware & Serveware\"],[\"Cookware, Bakeware & Tools\"],[\"Coffee Maker Parts & Accessories\"],[\"Coffee Maker Parts & Accessories\"],[\"Restaurant Appliances & Equipment\"],[\"Tabletop Accessories\"],[\"Bar Tools & Drinkware\"],[\"Dinnerware & Serveware\"],[\"Tabletop Accessories\"],[\"Tabletop & Serveware\"],[\"Dinnerware & Serveware\"],[\"Dinnerware & Serveware\"],[\"Dinnerware & Serveware\"],[\"Dinnerware & Serveware\"],[\"Dinnerware & Serveware\"],[\"Cookware, Bakeware & Tools\"],[\"Tabletop & Serveware\"],[\"Dinnerware & Serveware\"],[\"Dinnerware & Serveware\"],[\"Bar Tools & Drinkware\"],[\"Tabletop & Serveware\"],[\"Bar Tools & Drinkware\"],[\"Coffee Maker Parts & Accessories\"],[\"Restaurant Appliances & Equipment\"],[\"Tabletop & Serveware\"],[\"Dinnerware & Serveware\"],[\"Cookware, Bakeware & Tools\"],[\"Tabletop & Serveware\"],[\"Tabletop Accessories\"],[\"Dinnerware & Serveware\"],[\"Bar Tools & Drinkware\"],[\"Coffee Maker Parts & Accessories\"],[\"Cookware, Bakeware & Tools\"],[\"Dinnerware & Serveware\"],[\"Restaurant Appliances & Equipment\"],[\"Tabletop & Serveware\"],[\"Tabletop Accessories\"],[\"Coffee Maker Parts & Accessories\"],[\"(?)\"],[\"(?)\"],[\"(?)\"],[\"(?)\"]],\"domain\":{\"x\":[0.0,1.0],\"y\":[0.0,1.0]},\"hovertemplate\":\"labels=%{label}\\u003cbr\\u003easin=%{value}\\u003cbr\\u003eparent=%{parent}\\u003cbr\\u003eid=%{id}\\u003cbr\\u003epath3=%{customdata[0]}\\u003cextra\\u003e\\u003c\\u002fextra\\u003e\",\"ids\":[\"Home & Kitchen\\u002fKitchen & Dining\\u002fDining & Entertaining\\u002fDinnerware & Serveware\\u002fServeware\\u002fBeverage Serveware\\u002fCarafes\",\"Home & Kitchen\\u002fKitchen & Dining\\u002fDining & Entertaining\\u002fDinnerware & Serveware\\u002fDinnerware\\u002fBowls\\u002fCereal Bowls\",\"Home & Kitchen\\u002fKitchen & Dining\\u002fFood Service Equipment & Supplies\\u002fCookware, Bakeware & Tools\\u002fKitchen Knives\\u002fAsian Knives\\u002fChinese Chef's Knives & Cleavers\",\"Home & Kitchen\\u002fKitchen & Dining\\u002fDining & Entertaining\\u002fDinnerware & Serveware\\u002fDinnerware\\u002fPlates\\u002fAppetizer Plates\",\"Home & Kitchen\\u002fKitchen & Dining\\u002fDining & Entertaining\\u002fDinnerware & Serveware\\u002fDinnerware\\u002fBowls\\u002fBowl Sets\",\"Home & Kitchen\\u002fKitchen & Dining\\u002fDining & Entertaining\\u002fDinnerware & Serveware\\u002fDinnerware\\u002fPlates\\u002fBread & Butter Plates\",\"Home & Kitchen\\u002fKitchen & Dining\\u002fDining & Entertaining\\u002fDinnerware & Serveware\\u002fServeware\\u002fTongs\\u002fBuffet Tongs\",\"Home & Kitchen\\u002fKitchen & Dining\\u002fDining & Entertaining\\u002fDinnerware & Serveware\\u002fServeware\\u002fServers\\u002fCake, Pie & Pastry Servers\",\"Home & Kitchen\\u002fKitchen & Dining\\u002fDining & Entertaining\\u002fDinnerware & Serveware\\u002fServeware\\u002fServing Dishes, Trays & Platters\\u002fServing Trays\",\"Home & Kitchen\\u002fKitchen & Dining\\u002fDining & Entertaining\\u002fDinnerware & Serveware\\u002fDinnerware\\u002fBowls\\u002fSnack Bowls\",\"Home & Kitchen\\u002fKitchen & Dining\\u002fDining & Entertaining\\u002fDinnerware & Serveware\\u002fServeware\\u002fServing Bowls & Tureens\\u002fServing Bowls\",\"Home & Kitchen\\u002fKitchen & Dining\\u002fDining & Entertaining\\u002fDinnerware & Serveware\\u002fDinnerware\\u002fPlates\\u002fSpecialty Plates\",\"Home & Kitchen\\u002fKitchen & Dining\\u002fDining & Entertaining\\u002fTabletop Accessories\\u002fLinens\\u002fDisposable Table Covers\\u002fTable Skirts\",\"Home & Kitchen\\u002fKitchen & Dining\\u002fDining & Entertaining\\u002fDinnerware & Serveware\\u002fDinnerware\\u002fBowls\\u002fSoup Bowls\",\"Home & Kitchen\\u002fKitchen & Dining\\u002fFood Service Equipment & Supplies\\u002fTabletop & Serveware\\u002fLinen & Table Accessories\\u002fTabletop Accessories\\u002fPlate & Napkin Holders\",\"Home & Kitchen\\u002fKitchen & Dining\\u002fDining & Entertaining\\u002fDinnerware & Serveware\\u002fServeware\\u002fServing Dishes, Trays & Platters\\u002fPlatters\",\"Home & Kitchen\\u002fKitchen & Dining\\u002fCoffee, Tea & Espresso\\u002fCoffee Maker Parts & Accessories\\u002fCoffee Machine Accessories\\u002fCoffee Pod Holders\\u002fPod Baskets\",\"Home & Kitchen\\u002fKitchen & Dining\\u002fCoffee, Tea & Espresso\\u002fCoffee Maker Parts & Accessories\\u002fCoffee Machine Accessories\\u002fCoffee Pod Holders\\u002fPod Drawers\",\"Home & Kitchen\\u002fKitchen & Dining\\u002fDining & Entertaining\\u002fTabletop Accessories\\u002fLinens\\u002fPotholders & Oven Mitts\\u002fPotholders\",\"Home & Kitchen\\u002fKitchen & Dining\\u002fCoffee, Tea & Espresso\\u002fCoffee Maker Parts & Accessories\\u002fCoffee Machine Accessories\\u002fCoffee Filters\\u002fReusable Filters\",\"Home & Kitchen\\u002fKitchen & Dining\\u002fDining & Entertaining\\u002fDinnerware & Serveware\\u002fServeware\\u002fServing Spoons\\u002fRice & Potato Servers\",\"Home & Kitchen\\u002fKitchen & Dining\\u002fDining & Entertaining\\u002fDinnerware & Serveware\\u002fDinnerware\\u002fBowls\\u002fSalad Bowls\",\"Home & Kitchen\\u002fKitchen & Dining\\u002fDining & Entertaining\\u002fDinnerware & Serveware\\u002fDinnerware\\u002fPlates\\u002fSalad Plates\",\"Home & Kitchen\\u002fKitchen & Dining\\u002fDining & Entertaining\\u002fDinnerware & Serveware\\u002fServeware\\u002fServers\\u002fSalad Servers\",\"Home & Kitchen\\u002fKitchen & Dining\\u002fFood Service Equipment & Supplies\\u002fTabletop & Serveware\\u002fCondiment Holders & Dispensers\\u002fSalt & Pepper\\u002fSalt & Pepper Mill Sets\",\"Home & Kitchen\\u002fKitchen & Dining\\u002fCoffee, Tea & Espresso\\u002fCoffee Maker Parts & Accessories\\u002fCoffee Machine Accessories\\u002fCoffee Filters\\u002fPermanent Filters\",\"Home & Kitchen\\u002fKitchen & Dining\\u002fDining & Entertaining\\u002fDinnerware & Serveware\\u002fDinnerware\\u002fBowls\\u002fRice Bowls\",\"Home & Kitchen\\u002fKitchen & Dining\\u002fFood Service Equipment & Supplies\\u002fTabletop & Serveware\\u002fCondiment Holders & Dispensers\\u002fSalt & Pepper\\u002fPepper Mills\",\"Home & Kitchen\\u002fKitchen & Dining\\u002fDining & Entertaining\\u002fDinnerware & Serveware\\u002fServeware\\u002fServing Forks\\u002fPickle & Olive Forks\",\"Home & Kitchen\\u002fKitchen & Dining\\u002fDining & Entertaining\\u002fDinnerware & Serveware\\u002fServeware\\u002fServing Bowls & Tureens\\u002fNut Bowls\",\"Home & Kitchen\\u002fKitchen & Dining\\u002fDining & Entertaining\\u002fDinnerware & Serveware\\u002fDinnerware\\u002fTeacups, Mugs & Saucers\\u002fCoffee Cups & Mugs\",\"Home & Kitchen\\u002fKitchen & Dining\\u002fDining & Entertaining\\u002fDinnerware & Serveware\\u002fServeware\\u002fServing Bowls & Tureens\\u002fCondiment Pots\",\"Home & Kitchen\\u002fKitchen & Dining\\u002fFood Service Equipment & Supplies\\u002fTabletop & Serveware\\u002fBar Equipment\\u002fBar Tools & Glasses\\u002fCorkscrews & Openers\",\"Home & Kitchen\\u002fKitchen & Dining\\u002fDining & Entertaining\\u002fDinnerware & Serveware\\u002fDinnerware\\u002fTeacups, Mugs & Saucers\\u002fCup & Saucer Sets\",\"Home & Kitchen\\u002fKitchen & Dining\\u002fFood Service Equipment & Supplies\\u002fCookware, Bakeware & Tools\\u002fKitchen Knives\\u002fAsian Knives\\u002fDeba Knives\",\"Home & Kitchen\\u002fKitchen & Dining\\u002fDining & Entertaining\\u002fDinnerware & Serveware\\u002fDinnerware\\u002fBowls\\u002fDessert Bowls\",\"Home & Kitchen\\u002fKitchen & Dining\\u002fDining & Entertaining\\u002fTabletop Accessories\\u002fLinens\\u002fPotholders & Oven Mitts\\u002fOven Mitts\",\"Home & Kitchen\\u002fKitchen & Dining\\u002fDining & Entertaining\\u002fDinnerware & Serveware\\u002fDinnerware\\u002fPlates\\u002fDessert Plates\",\"Home & Kitchen\\u002fKitchen & Dining\\u002fCoffee, Tea & Espresso\\u002fCoffee Maker Parts & Accessories\\u002fCoffee Machine Accessories\\u002fCoffee Filters\\u002fDisposable Filters\",\"Home & Kitchen\\u002fKitchen & Dining\\u002fDining & Entertaining\\u002fDinnerware & Serveware\\u002fDinnerware\\u002fPlates\\u002fDinner Plates\",\"Home & Kitchen\\u002fKitchen & Dining\\u002fDining & Entertaining\\u002fDinnerware & Serveware\\u002fDinnerware\\u002fTeacups, Mugs & Saucers\\u002fEspresso Cups\",\"Home & Kitchen\\u002fKitchen & Dining\\u002fDining & Entertaining\\u002fDinnerware & Serveware\\u002fDinnerware\\u002fBowls\\u002fFruit Bowls\",\"Home & Kitchen\\u002fKitchen & Dining\\u002fDining & Entertaining\\u002fBar Tools & Drinkware\\u002fBar Tools\\u002fIce Buckets & Tongs\\u002fIce Buckets\",\"Home & Kitchen\\u002fKitchen & Dining\\u002fDining & Entertaining\\u002fDinnerware & Serveware\\u002fServeware\\u002fBeverage Serveware\\u002fIced Beverage Dispensers\",\"Home & Kitchen\\u002fKitchen & Dining\\u002fDining & Entertaining\\u002fDinnerware & Serveware\\u002fServeware\\u002fBeverage Serveware\\u002fJugs\",\"Home & Kitchen\\u002fKitchen & Dining\\u002fFood Service Equipment & Supplies\\u002fCookware, Bakeware & Tools\\u002fKitchen Knives\\u002fCleavers\\u002fMeat Cleavers\",\"Home & Kitchen\\u002fKitchen & Dining\\u002fDining & Entertaining\\u002fDinnerware & Serveware\\u002fDinnerware\\u002fTeacups, Mugs & Saucers\\u002fMug Sets\",\"Home & Kitchen\\u002fKitchen & Dining\\u002fDining & Entertaining\\u002fTabletop Accessories\\u002fLinens\\u002fAccessories\\u002fNapkin Rings\",\"Home & Kitchen\\u002fKitchen & Dining\\u002fDining & Entertaining\\u002fDinnerware & Serveware\\u002fServeware\\u002fServing Dishes, Trays & Platters\\u002fDivided Dishes, Trays & Platters\",\"Home & Kitchen\\u002fKitchen & Dining\\u002fDining & Entertaining\\u002fDinnerware & Serveware\\u002fDinnerware\\u002fTeacups, Mugs & Saucers\\u002fTeacups\",\"Home & Kitchen\\u002fKitchen & Dining\\u002fFood Service Equipment & Supplies\\u002fTabletop & Serveware\\u002fBar Equipment\\u002fBar Refrigeration\\u002fWine & Bottle Chillers\",\"Home & Kitchen\\u002fKitchen & Dining\\u002fFood Service Equipment & Supplies\\u002fRestaurant Appliances & Equipment\\u002fCommercial Food Preparation Equipment\\u002fCommercial Food Packaging Equipment\\u002fVacuum Sealer Bags\",\"Home & Kitchen\\u002fKitchen & Dining\\u002fFood Service Equipment & Supplies\\u002fCookware, Bakeware & Tools\\u002fKitchen Knives\\u002fAsian Knives\\u002fUsuba & Nakiri Knives\",\"Home & Kitchen\\u002fKitchen & Dining\\u002fDining & Entertaining\\u002fDinnerware & Serveware\\u002fServeware\\u002fBeverage Serveware\\u002fWine Decanters\",\"Home & Kitchen\\u002fKitchen & Dining\\u002fDining & Entertaining\\u002fDinnerware & Serveware\\u002fServeware\\u002fServing Bowls & Tureens\\u002fTrifle Bowls\",\"Home & Kitchen\\u002fKitchen & Dining\\u002fDining & Entertaining\\u002fBar Tools & Drinkware\\u002fBar Tools\\u002fWine Stoppers & Pourers\\u002fWine Stoppers\",\"Home & Kitchen\\u002fKitchen & Dining\\u002fDining & Entertaining\\u002fBar Tools & Drinkware\\u002fBar Tools\\u002fWine Stoppers & Pourers\\u002fWine Pourers\",\"Home & Kitchen\\u002fKitchen & Dining\\u002fFood Service Equipment & Supplies\\u002fTabletop & Serveware\\u002fLinen & Table Accessories\\u002fTabletop Accessories\\u002fToothpick Dispensers\",\"Home & Kitchen\\u002fKitchen & Dining\\u002fFood Service Equipment & Supplies\\u002fCookware, Bakeware & Tools\\u002fKitchen Knives\\u002fSpecialty Knives\\u002fSeafood Knives\",\"Home & Kitchen\\u002fKitchen & Dining\\u002fFood Service Equipment & Supplies\\u002fTabletop & Serveware\\u002fCondiment Holders & Dispensers\\u002fSalt & Pepper\\u002fSalt Shakers\",\"Home & Kitchen\\u002fKitchen & Dining\\u002fFood Service Equipment & Supplies\\u002fTabletop & Serveware\\u002fCondiment Holders & Dispensers\\u002fSalt & Pepper\\u002fSalt Mills\",\"Home & Kitchen\\u002fKitchen & Dining\\u002fFood Service Equipment & Supplies\\u002fCookware, Bakeware & Tools\\u002fKitchen Knives\\u002fAsian Knives\\u002fSantoku Knives\",\"Home & Kitchen\\u002fKitchen & Dining\\u002fDining & Entertaining\\u002fTabletop Accessories\\u002fLinens\\u002fAccessories\",\"Home & Kitchen\\u002fKitchen & Dining\\u002fFood Service Equipment & Supplies\\u002fCookware, Bakeware & Tools\\u002fKitchen Knives\\u002fAsian Knives\",\"Home & Kitchen\\u002fKitchen & Dining\\u002fFood Service Equipment & Supplies\\u002fTabletop & Serveware\\u002fBar Equipment\\u002fBar Refrigeration\",\"Home & Kitchen\\u002fKitchen & Dining\\u002fFood Service Equipment & Supplies\\u002fTabletop & Serveware\\u002fBar Equipment\\u002fBar Tools & Glasses\",\"Home & Kitchen\\u002fKitchen & Dining\\u002fDining & Entertaining\\u002fDinnerware & Serveware\\u002fServeware\\u002fBeverage Serveware\",\"Home & Kitchen\\u002fKitchen & Dining\\u002fDining & Entertaining\\u002fDinnerware & Serveware\\u002fDinnerware\\u002fBowls\",\"Home & Kitchen\\u002fKitchen & Dining\\u002fFood Service Equipment & Supplies\\u002fCookware, Bakeware & Tools\\u002fKitchen Knives\\u002fCleavers\",\"Home & Kitchen\\u002fKitchen & Dining\\u002fCoffee, Tea & Espresso\\u002fCoffee Maker Parts & Accessories\\u002fCoffee Machine Accessories\\u002fCoffee Filters\",\"Home & Kitchen\\u002fKitchen & Dining\\u002fCoffee, Tea & Espresso\\u002fCoffee Maker Parts & Accessories\\u002fCoffee Machine Accessories\\u002fCoffee Pod Holders\",\"Home & Kitchen\\u002fKitchen & Dining\\u002fFood Service Equipment & Supplies\\u002fRestaurant Appliances & Equipment\\u002fCommercial Food Preparation Equipment\\u002fCommercial Food Packaging Equipment\",\"Home & Kitchen\\u002fKitchen & Dining\\u002fDining & Entertaining\\u002fTabletop Accessories\\u002fLinens\\u002fDisposable Table Covers\",\"Home & Kitchen\\u002fKitchen & Dining\\u002fDining & Entertaining\\u002fBar Tools & Drinkware\\u002fBar Tools\\u002fIce Buckets & Tongs\",\"Home & Kitchen\\u002fKitchen & Dining\\u002fDining & Entertaining\\u002fDinnerware & Serveware\\u002fDinnerware\\u002fPlates\",\"Home & Kitchen\\u002fKitchen & Dining\\u002fDining & Entertaining\\u002fTabletop Accessories\\u002fLinens\\u002fPotholders & Oven Mitts\",\"Home & Kitchen\\u002fKitchen & Dining\\u002fFood Service Equipment & Supplies\\u002fTabletop & Serveware\\u002fCondiment Holders & Dispensers\\u002fSalt & Pepper\",\"Home & Kitchen\\u002fKitchen & Dining\\u002fDining & Entertaining\\u002fDinnerware & Serveware\\u002fServeware\\u002fServers\",\"Home & Kitchen\\u002fKitchen & Dining\\u002fDining & Entertaining\\u002fDinnerware & Serveware\\u002fServeware\\u002fServing Bowls & Tureens\",\"Home & Kitchen\\u002fKitchen & Dining\\u002fDining & Entertaining\\u002fDinnerware & Serveware\\u002fServeware\\u002fServing Dishes, Trays & Platters\",\"Home & Kitchen\\u002fKitchen & Dining\\u002fDining & Entertaining\\u002fDinnerware & Serveware\\u002fServeware\\u002fServing Forks\",\"Home & Kitchen\\u002fKitchen & Dining\\u002fDining & Entertaining\\u002fDinnerware & Serveware\\u002fServeware\\u002fServing Spoons\",\"Home & Kitchen\\u002fKitchen & Dining\\u002fFood Service Equipment & Supplies\\u002fCookware, Bakeware & Tools\\u002fKitchen Knives\\u002fSpecialty Knives\",\"Home & Kitchen\\u002fKitchen & Dining\\u002fFood Service Equipment & Supplies\\u002fTabletop & Serveware\\u002fLinen & Table Accessories\\u002fTabletop Accessories\",\"Home & Kitchen\\u002fKitchen & Dining\\u002fDining & Entertaining\\u002fDinnerware & Serveware\\u002fDinnerware\\u002fTeacups, Mugs & Saucers\",\"Home & Kitchen\\u002fKitchen & Dining\\u002fDining & Entertaining\\u002fDinnerware & Serveware\\u002fServeware\\u002fTongs\",\"Home & Kitchen\\u002fKitchen & Dining\\u002fDining & Entertaining\\u002fBar Tools & Drinkware\\u002fBar Tools\\u002fWine Stoppers & Pourers\",\"Home & Kitchen\\u002fKitchen & Dining\\u002fFood Service Equipment & Supplies\\u002fTabletop & Serveware\\u002fBar Equipment\",\"Home & Kitchen\\u002fKitchen & Dining\\u002fDining & Entertaining\\u002fBar Tools & Drinkware\\u002fBar Tools\",\"Home & Kitchen\\u002fKitchen & Dining\\u002fCoffee, Tea & Espresso\\u002fCoffee Maker Parts & Accessories\\u002fCoffee Machine Accessories\",\"Home & Kitchen\\u002fKitchen & Dining\\u002fFood Service Equipment & Supplies\\u002fRestaurant Appliances & Equipment\\u002fCommercial Food Preparation Equipment\",\"Home & Kitchen\\u002fKitchen & Dining\\u002fFood Service Equipment & Supplies\\u002fTabletop & Serveware\\u002fCondiment Holders & Dispensers\",\"Home & Kitchen\\u002fKitchen & Dining\\u002fDining & Entertaining\\u002fDinnerware & Serveware\\u002fDinnerware\",\"Home & Kitchen\\u002fKitchen & Dining\\u002fFood Service Equipment & Supplies\\u002fCookware, Bakeware & Tools\\u002fKitchen Knives\",\"Home & Kitchen\\u002fKitchen & Dining\\u002fFood Service Equipment & Supplies\\u002fTabletop & Serveware\\u002fLinen & Table Accessories\",\"Home & Kitchen\\u002fKitchen & Dining\\u002fDining & Entertaining\\u002fTabletop Accessories\\u002fLinens\",\"Home & Kitchen\\u002fKitchen & Dining\\u002fDining & Entertaining\\u002fDinnerware & Serveware\\u002fServeware\",\"Home & Kitchen\\u002fKitchen & Dining\\u002fDining & Entertaining\\u002fBar Tools & Drinkware\",\"Home & Kitchen\\u002fKitchen & Dining\\u002fCoffee, Tea & Espresso\\u002fCoffee Maker Parts & Accessories\",\"Home & Kitchen\\u002fKitchen & Dining\\u002fFood Service Equipment & Supplies\\u002fCookware, Bakeware & Tools\",\"Home & Kitchen\\u002fKitchen & Dining\\u002fDining & Entertaining\\u002fDinnerware & Serveware\",\"Home & Kitchen\\u002fKitchen & Dining\\u002fFood Service Equipment & Supplies\\u002fRestaurant Appliances & Equipment\",\"Home & Kitchen\\u002fKitchen & Dining\\u002fFood Service Equipment & Supplies\\u002fTabletop & Serveware\",\"Home & Kitchen\\u002fKitchen & Dining\\u002fDining & Entertaining\\u002fTabletop Accessories\",\"Home & Kitchen\\u002fKitchen & Dining\\u002fCoffee, Tea & Espresso\",\"Home & Kitchen\\u002fKitchen & Dining\\u002fDining & Entertaining\",\"Home & Kitchen\\u002fKitchen & Dining\\u002fFood Service Equipment & Supplies\",\"Home & Kitchen\\u002fKitchen & Dining\",\"Home & Kitchen\"],\"labels\":[\"Carafes\",\"Cereal Bowls\",\"Chinese Chef's Knives & Cleavers\",\"Appetizer Plates\",\"Bowl Sets\",\"Bread & Butter Plates\",\"Buffet Tongs\",\"Cake, Pie & Pastry Servers\",\"Serving Trays\",\"Snack Bowls\",\"Serving Bowls\",\"Specialty Plates\",\"Table Skirts\",\"Soup Bowls\",\"Plate & Napkin Holders\",\"Platters\",\"Pod Baskets\",\"Pod Drawers\",\"Potholders\",\"Reusable Filters\",\"Rice & Potato Servers\",\"Salad Bowls\",\"Salad Plates\",\"Salad Servers\",\"Salt & Pepper Mill Sets\",\"Permanent Filters\",\"Rice Bowls\",\"Pepper Mills\",\"Pickle & Olive Forks\",\"Nut Bowls\",\"Coffee Cups & Mugs\",\"Condiment Pots\",\"Corkscrews & Openers\",\"Cup & Saucer Sets\",\"Deba Knives\",\"Dessert Bowls\",\"Oven Mitts\",\"Dessert Plates\",\"Disposable Filters\",\"Dinner Plates\",\"Espresso Cups\",\"Fruit Bowls\",\"Ice Buckets\",\"Iced Beverage Dispensers\",\"Jugs\",\"Meat Cleavers\",\"Mug Sets\",\"Napkin Rings\",\"Divided Dishes, Trays & Platters\",\"Teacups\",\"Wine & Bottle Chillers\",\"Vacuum Sealer Bags\",\"Usuba & Nakiri Knives\",\"Wine Decanters\",\"Trifle Bowls\",\"Wine Stoppers\",\"Wine Pourers\",\"Toothpick Dispensers\",\"Seafood Knives\",\"Salt Shakers\",\"Salt Mills\",\"Santoku Knives\",\"Accessories\",\"Asian Knives\",\"Bar Refrigeration\",\"Bar Tools & Glasses\",\"Beverage Serveware\",\"Bowls\",\"Cleavers\",\"Coffee Filters\",\"Coffee Pod Holders\",\"Commercial Food Packaging Equipment\",\"Disposable Table Covers\",\"Ice Buckets & Tongs\",\"Plates\",\"Potholders & Oven Mitts\",\"Salt & Pepper\",\"Servers\",\"Serving Bowls & Tureens\",\"Serving Dishes, Trays & Platters\",\"Serving Forks\",\"Serving Spoons\",\"Specialty Knives\",\"Tabletop Accessories\",\"Teacups, Mugs & Saucers\",\"Tongs\",\"Wine Stoppers & Pourers\",\"Bar Equipment\",\"Bar Tools\",\"Coffee Machine Accessories\",\"Commercial Food Preparation Equipment\",\"Condiment Holders & Dispensers\",\"Dinnerware\",\"Kitchen Knives\",\"Linen & Table Accessories\",\"Linens\",\"Serveware\",\"Bar Tools & Drinkware\",\"Coffee Maker Parts & Accessories\",\"Cookware, Bakeware & Tools\",\"Dinnerware & Serveware\",\"Restaurant Appliances & Equipment\",\"Tabletop & Serveware\",\"Tabletop Accessories\",\"Coffee, Tea & Espresso\",\"Dining & Entertaining\",\"Food Service Equipment & Supplies\",\"Kitchen & Dining\",\"Home & Kitchen\"],\"marker\":{\"colors\":[\"#636efa\",\"#636efa\",\"#EF553B\",\"#636efa\",\"#636efa\",\"#636efa\",\"#636efa\",\"#636efa\",\"#636efa\",\"#636efa\",\"#636efa\",\"#636efa\",\"#00cc96\",\"#636efa\",\"#ab63fa\",\"#636efa\",\"#FFA15A\",\"#FFA15A\",\"#00cc96\",\"#FFA15A\",\"#636efa\",\"#636efa\",\"#636efa\",\"#636efa\",\"#ab63fa\",\"#FFA15A\",\"#636efa\",\"#ab63fa\",\"#636efa\",\"#636efa\",\"#636efa\",\"#636efa\",\"#ab63fa\",\"#636efa\",\"#EF553B\",\"#636efa\",\"#00cc96\",\"#636efa\",\"#FFA15A\",\"#636efa\",\"#636efa\",\"#636efa\",\"#19d3f3\",\"#636efa\",\"#636efa\",\"#EF553B\",\"#636efa\",\"#00cc96\",\"#636efa\",\"#636efa\",\"#ab63fa\",\"#FF6692\",\"#EF553B\",\"#636efa\",\"#636efa\",\"#19d3f3\",\"#19d3f3\",\"#ab63fa\",\"#EF553B\",\"#ab63fa\",\"#ab63fa\",\"#EF553B\",\"#00cc96\",\"#EF553B\",\"#ab63fa\",\"#ab63fa\",\"#636efa\",\"#636efa\",\"#EF553B\",\"#FFA15A\",\"#FFA15A\",\"#FF6692\",\"#00cc96\",\"#19d3f3\",\"#636efa\",\"#00cc96\",\"#ab63fa\",\"#636efa\",\"#636efa\",\"#636efa\",\"#636efa\",\"#636efa\",\"#EF553B\",\"#ab63fa\",\"#636efa\",\"#636efa\",\"#19d3f3\",\"#ab63fa\",\"#19d3f3\",\"#FFA15A\",\"#FF6692\",\"#ab63fa\",\"#636efa\",\"#EF553B\",\"#ab63fa\",\"#00cc96\",\"#636efa\",\"#19d3f3\",\"#FFA15A\",\"#EF553B\",\"#636efa\",\"#FF6692\",\"#ab63fa\",\"#00cc96\",\"#FFA15A\",\"#B6E880\",\"#B6E880\",\"#B6E880\",\"#B6E880\"]},\"name\":\"\",\"parents\":[\"Home & Kitchen\\u002fKitchen & Dining\\u002fDining & Entertaining\\u002fDinnerware & Serveware\\u002fServeware\\u002fBeverage Serveware\",\"Home & Kitchen\\u002fKitchen & Dining\\u002fDining & Entertaining\\u002fDinnerware & Serveware\\u002fDinnerware\\u002fBowls\",\"Home & Kitchen\\u002fKitchen & Dining\\u002fFood Service Equipment & Supplies\\u002fCookware, Bakeware & Tools\\u002fKitchen Knives\\u002fAsian Knives\",\"Home & Kitchen\\u002fKitchen & Dining\\u002fDining & Entertaining\\u002fDinnerware & Serveware\\u002fDinnerware\\u002fPlates\",\"Home & Kitchen\\u002fKitchen & Dining\\u002fDining & Entertaining\\u002fDinnerware & Serveware\\u002fDinnerware\\u002fBowls\",\"Home & Kitchen\\u002fKitchen & Dining\\u002fDining & Entertaining\\u002fDinnerware & Serveware\\u002fDinnerware\\u002fPlates\",\"Home & Kitchen\\u002fKitchen & Dining\\u002fDining & Entertaining\\u002fDinnerware & Serveware\\u002fServeware\\u002fTongs\",\"Home & Kitchen\\u002fKitchen & Dining\\u002fDining & Entertaining\\u002fDinnerware & Serveware\\u002fServeware\\u002fServers\",\"Home & Kitchen\\u002fKitchen & Dining\\u002fDining & Entertaining\\u002fDinnerware & Serveware\\u002fServeware\\u002fServing Dishes, Trays & Platters\",\"Home & Kitchen\\u002fKitchen & Dining\\u002fDining & Entertaining\\u002fDinnerware & Serveware\\u002fDinnerware\\u002fBowls\",\"Home & Kitchen\\u002fKitchen & Dining\\u002fDining & Entertaining\\u002fDinnerware & Serveware\\u002fServeware\\u002fServing Bowls & Tureens\",\"Home & Kitchen\\u002fKitchen & Dining\\u002fDining & Entertaining\\u002fDinnerware & Serveware\\u002fDinnerware\\u002fPlates\",\"Home & Kitchen\\u002fKitchen & Dining\\u002fDining & Entertaining\\u002fTabletop Accessories\\u002fLinens\\u002fDisposable Table Covers\",\"Home & Kitchen\\u002fKitchen & Dining\\u002fDining & Entertaining\\u002fDinnerware & Serveware\\u002fDinnerware\\u002fBowls\",\"Home & Kitchen\\u002fKitchen & Dining\\u002fFood Service Equipment & Supplies\\u002fTabletop & Serveware\\u002fLinen & Table Accessories\\u002fTabletop Accessories\",\"Home & Kitchen\\u002fKitchen & Dining\\u002fDining & Entertaining\\u002fDinnerware & Serveware\\u002fServeware\\u002fServing Dishes, Trays & Platters\",\"Home & Kitchen\\u002fKitchen & Dining\\u002fCoffee, Tea & Espresso\\u002fCoffee Maker Parts & Accessories\\u002fCoffee Machine Accessories\\u002fCoffee Pod Holders\",\"Home & Kitchen\\u002fKitchen & Dining\\u002fCoffee, Tea & Espresso\\u002fCoffee Maker Parts & Accessories\\u002fCoffee Machine Accessories\\u002fCoffee Pod Holders\",\"Home & Kitchen\\u002fKitchen & Dining\\u002fDining & Entertaining\\u002fTabletop Accessories\\u002fLinens\\u002fPotholders & Oven Mitts\",\"Home & Kitchen\\u002fKitchen & Dining\\u002fCoffee, Tea & Espresso\\u002fCoffee Maker Parts & Accessories\\u002fCoffee Machine Accessories\\u002fCoffee Filters\",\"Home & Kitchen\\u002fKitchen & Dining\\u002fDining & Entertaining\\u002fDinnerware & Serveware\\u002fServeware\\u002fServing Spoons\",\"Home & Kitchen\\u002fKitchen & Dining\\u002fDining & Entertaining\\u002fDinnerware & Serveware\\u002fDinnerware\\u002fBowls\",\"Home & Kitchen\\u002fKitchen & Dining\\u002fDining & Entertaining\\u002fDinnerware & Serveware\\u002fDinnerware\\u002fPlates\",\"Home & Kitchen\\u002fKitchen & Dining\\u002fDining & Entertaining\\u002fDinnerware & Serveware\\u002fServeware\\u002fServers\",\"Home & Kitchen\\u002fKitchen & Dining\\u002fFood Service Equipment & Supplies\\u002fTabletop & Serveware\\u002fCondiment Holders & Dispensers\\u002fSalt & Pepper\",\"Home & Kitchen\\u002fKitchen & Dining\\u002fCoffee, Tea & Espresso\\u002fCoffee Maker Parts & Accessories\\u002fCoffee Machine Accessories\\u002fCoffee Filters\",\"Home & Kitchen\\u002fKitchen & Dining\\u002fDining & Entertaining\\u002fDinnerware & Serveware\\u002fDinnerware\\u002fBowls\",\"Home & Kitchen\\u002fKitchen & Dining\\u002fFood Service Equipment & Supplies\\u002fTabletop & Serveware\\u002fCondiment Holders & Dispensers\\u002fSalt & Pepper\",\"Home & Kitchen\\u002fKitchen & Dining\\u002fDining & Entertaining\\u002fDinnerware & Serveware\\u002fServeware\\u002fServing Forks\",\"Home & Kitchen\\u002fKitchen & Dining\\u002fDining & Entertaining\\u002fDinnerware & Serveware\\u002fServeware\\u002fServing Bowls & Tureens\",\"Home & Kitchen\\u002fKitchen & Dining\\u002fDining & Entertaining\\u002fDinnerware & Serveware\\u002fDinnerware\\u002fTeacups, Mugs & Saucers\",\"Home & Kitchen\\u002fKitchen & Dining\\u002fDining & Entertaining\\u002fDinnerware & Serveware\\u002fServeware\\u002fServing Bowls & Tureens\",\"Home & Kitchen\\u002fKitchen & Dining\\u002fFood Service Equipment & Supplies\\u002fTabletop & Serveware\\u002fBar Equipment\\u002fBar Tools & Glasses\",\"Home & Kitchen\\u002fKitchen & Dining\\u002fDining & Entertaining\\u002fDinnerware & Serveware\\u002fDinnerware\\u002fTeacups, Mugs & Saucers\",\"Home & Kitchen\\u002fKitchen & Dining\\u002fFood Service Equipment & Supplies\\u002fCookware, Bakeware & Tools\\u002fKitchen Knives\\u002fAsian Knives\",\"Home & Kitchen\\u002fKitchen & Dining\\u002fDining & Entertaining\\u002fDinnerware & Serveware\\u002fDinnerware\\u002fBowls\",\"Home & Kitchen\\u002fKitchen & Dining\\u002fDining & Entertaining\\u002fTabletop Accessories\\u002fLinens\\u002fPotholders & Oven Mitts\",\"Home & Kitchen\\u002fKitchen & Dining\\u002fDining & Entertaining\\u002fDinnerware & Serveware\\u002fDinnerware\\u002fPlates\",\"Home & Kitchen\\u002fKitchen & Dining\\u002fCoffee, Tea & Espresso\\u002fCoffee Maker Parts & Accessories\\u002fCoffee Machine Accessories\\u002fCoffee Filters\",\"Home & Kitchen\\u002fKitchen & Dining\\u002fDining & Entertaining\\u002fDinnerware & Serveware\\u002fDinnerware\\u002fPlates\",\"Home & Kitchen\\u002fKitchen & Dining\\u002fDining & Entertaining\\u002fDinnerware & Serveware\\u002fDinnerware\\u002fTeacups, Mugs & Saucers\",\"Home & Kitchen\\u002fKitchen & Dining\\u002fDining & Entertaining\\u002fDinnerware & Serveware\\u002fDinnerware\\u002fBowls\",\"Home & Kitchen\\u002fKitchen & Dining\\u002fDining & Entertaining\\u002fBar Tools & Drinkware\\u002fBar Tools\\u002fIce Buckets & Tongs\",\"Home & Kitchen\\u002fKitchen & Dining\\u002fDining & Entertaining\\u002fDinnerware & Serveware\\u002fServeware\\u002fBeverage Serveware\",\"Home & Kitchen\\u002fKitchen & Dining\\u002fDining & Entertaining\\u002fDinnerware & Serveware\\u002fServeware\\u002fBeverage Serveware\",\"Home & Kitchen\\u002fKitchen & Dining\\u002fFood Service Equipment & Supplies\\u002fCookware, Bakeware & Tools\\u002fKitchen Knives\\u002fCleavers\",\"Home & Kitchen\\u002fKitchen & Dining\\u002fDining & Entertaining\\u002fDinnerware & Serveware\\u002fDinnerware\\u002fTeacups, Mugs & Saucers\",\"Home & Kitchen\\u002fKitchen & Dining\\u002fDining & Entertaining\\u002fTabletop Accessories\\u002fLinens\\u002fAccessories\",\"Home & Kitchen\\u002fKitchen & Dining\\u002fDining & Entertaining\\u002fDinnerware & Serveware\\u002fServeware\\u002fServing Dishes, Trays & Platters\",\"Home & Kitchen\\u002fKitchen & Dining\\u002fDining & Entertaining\\u002fDinnerware & Serveware\\u002fDinnerware\\u002fTeacups, Mugs & Saucers\",\"Home & Kitchen\\u002fKitchen & Dining\\u002fFood Service Equipment & Supplies\\u002fTabletop & Serveware\\u002fBar Equipment\\u002fBar Refrigeration\",\"Home & Kitchen\\u002fKitchen & Dining\\u002fFood Service Equipment & Supplies\\u002fRestaurant Appliances & Equipment\\u002fCommercial Food Preparation Equipment\\u002fCommercial Food Packaging Equipment\",\"Home & Kitchen\\u002fKitchen & Dining\\u002fFood Service Equipment & Supplies\\u002fCookware, Bakeware & Tools\\u002fKitchen Knives\\u002fAsian Knives\",\"Home & Kitchen\\u002fKitchen & Dining\\u002fDining & Entertaining\\u002fDinnerware & Serveware\\u002fServeware\\u002fBeverage Serveware\",\"Home & Kitchen\\u002fKitchen & Dining\\u002fDining & Entertaining\\u002fDinnerware & Serveware\\u002fServeware\\u002fServing Bowls & Tureens\",\"Home & Kitchen\\u002fKitchen & Dining\\u002fDining & Entertaining\\u002fBar Tools & Drinkware\\u002fBar Tools\\u002fWine Stoppers & Pourers\",\"Home & Kitchen\\u002fKitchen & Dining\\u002fDining & Entertaining\\u002fBar Tools & Drinkware\\u002fBar Tools\\u002fWine Stoppers & Pourers\",\"Home & Kitchen\\u002fKitchen & Dining\\u002fFood Service Equipment & Supplies\\u002fTabletop & Serveware\\u002fLinen & Table Accessories\\u002fTabletop Accessories\",\"Home & Kitchen\\u002fKitchen & Dining\\u002fFood Service Equipment & Supplies\\u002fCookware, Bakeware & Tools\\u002fKitchen Knives\\u002fSpecialty Knives\",\"Home & Kitchen\\u002fKitchen & Dining\\u002fFood Service Equipment & Supplies\\u002fTabletop & Serveware\\u002fCondiment Holders & Dispensers\\u002fSalt & Pepper\",\"Home & Kitchen\\u002fKitchen & Dining\\u002fFood Service Equipment & Supplies\\u002fTabletop & Serveware\\u002fCondiment Holders & Dispensers\\u002fSalt & Pepper\",\"Home & Kitchen\\u002fKitchen & Dining\\u002fFood Service Equipment & Supplies\\u002fCookware, Bakeware & Tools\\u002fKitchen Knives\\u002fAsian Knives\",\"Home & Kitchen\\u002fKitchen & Dining\\u002fDining & Entertaining\\u002fTabletop Accessories\\u002fLinens\",\"Home & Kitchen\\u002fKitchen & Dining\\u002fFood Service Equipment & Supplies\\u002fCookware, Bakeware & Tools\\u002fKitchen Knives\",\"Home & Kitchen\\u002fKitchen & Dining\\u002fFood Service Equipment & Supplies\\u002fTabletop & Serveware\\u002fBar Equipment\",\"Home & Kitchen\\u002fKitchen & Dining\\u002fFood Service Equipment & Supplies\\u002fTabletop & Serveware\\u002fBar Equipment\",\"Home & Kitchen\\u002fKitchen & Dining\\u002fDining & Entertaining\\u002fDinnerware & Serveware\\u002fServeware\",\"Home & Kitchen\\u002fKitchen & Dining\\u002fDining & Entertaining\\u002fDinnerware & Serveware\\u002fDinnerware\",\"Home & Kitchen\\u002fKitchen & Dining\\u002fFood Service Equipment & Supplies\\u002fCookware, Bakeware & Tools\\u002fKitchen Knives\",\"Home & Kitchen\\u002fKitchen & Dining\\u002fCoffee, Tea & Espresso\\u002fCoffee Maker Parts & Accessories\\u002fCoffee Machine Accessories\",\"Home & Kitchen\\u002fKitchen & Dining\\u002fCoffee, Tea & Espresso\\u002fCoffee Maker Parts & Accessories\\u002fCoffee Machine Accessories\",\"Home & Kitchen\\u002fKitchen & Dining\\u002fFood Service Equipment & Supplies\\u002fRestaurant Appliances & Equipment\\u002fCommercial Food Preparation Equipment\",\"Home & Kitchen\\u002fKitchen & Dining\\u002fDining & Entertaining\\u002fTabletop Accessories\\u002fLinens\",\"Home & Kitchen\\u002fKitchen & Dining\\u002fDining & Entertaining\\u002fBar Tools & Drinkware\\u002fBar Tools\",\"Home & Kitchen\\u002fKitchen & Dining\\u002fDining & Entertaining\\u002fDinnerware & Serveware\\u002fDinnerware\",\"Home & Kitchen\\u002fKitchen & Dining\\u002fDining & Entertaining\\u002fTabletop Accessories\\u002fLinens\",\"Home & Kitchen\\u002fKitchen & Dining\\u002fFood Service Equipment & Supplies\\u002fTabletop & Serveware\\u002fCondiment Holders & Dispensers\",\"Home & Kitchen\\u002fKitchen & Dining\\u002fDining & Entertaining\\u002fDinnerware & Serveware\\u002fServeware\",\"Home & Kitchen\\u002fKitchen & Dining\\u002fDining & Entertaining\\u002fDinnerware & Serveware\\u002fServeware\",\"Home & Kitchen\\u002fKitchen & Dining\\u002fDining & Entertaining\\u002fDinnerware & Serveware\\u002fServeware\",\"Home & Kitchen\\u002fKitchen & Dining\\u002fDining & Entertaining\\u002fDinnerware & Serveware\\u002fServeware\",\"Home & Kitchen\\u002fKitchen & Dining\\u002fDining & Entertaining\\u002fDinnerware & Serveware\\u002fServeware\",\"Home & Kitchen\\u002fKitchen & Dining\\u002fFood Service Equipment & Supplies\\u002fCookware, Bakeware & Tools\\u002fKitchen Knives\",\"Home & Kitchen\\u002fKitchen & Dining\\u002fFood Service Equipment & Supplies\\u002fTabletop & Serveware\\u002fLinen & Table Accessories\",\"Home & Kitchen\\u002fKitchen & Dining\\u002fDining & Entertaining\\u002fDinnerware & Serveware\\u002fDinnerware\",\"Home & Kitchen\\u002fKitchen & Dining\\u002fDining & Entertaining\\u002fDinnerware & Serveware\\u002fServeware\",\"Home & Kitchen\\u002fKitchen & Dining\\u002fDining & Entertaining\\u002fBar Tools & Drinkware\\u002fBar Tools\",\"Home & Kitchen\\u002fKitchen & Dining\\u002fFood Service Equipment & Supplies\\u002fTabletop & Serveware\",\"Home & Kitchen\\u002fKitchen & Dining\\u002fDining & Entertaining\\u002fBar Tools & Drinkware\",\"Home & Kitchen\\u002fKitchen & Dining\\u002fCoffee, Tea & Espresso\\u002fCoffee Maker Parts & Accessories\",\"Home & Kitchen\\u002fKitchen & Dining\\u002fFood Service Equipment & Supplies\\u002fRestaurant Appliances & Equipment\",\"Home & Kitchen\\u002fKitchen & Dining\\u002fFood Service Equipment & Supplies\\u002fTabletop & Serveware\",\"Home & Kitchen\\u002fKitchen & Dining\\u002fDining & Entertaining\\u002fDinnerware & Serveware\",\"Home & Kitchen\\u002fKitchen & Dining\\u002fFood Service Equipment & Supplies\\u002fCookware, Bakeware & Tools\",\"Home & Kitchen\\u002fKitchen & Dining\\u002fFood Service Equipment & Supplies\\u002fTabletop & Serveware\",\"Home & Kitchen\\u002fKitchen & Dining\\u002fDining & Entertaining\\u002fTabletop Accessories\",\"Home & Kitchen\\u002fKitchen & Dining\\u002fDining & Entertaining\\u002fDinnerware & Serveware\",\"Home & Kitchen\\u002fKitchen & Dining\\u002fDining & Entertaining\",\"Home & Kitchen\\u002fKitchen & Dining\\u002fCoffee, Tea & Espresso\",\"Home & Kitchen\\u002fKitchen & Dining\\u002fFood Service Equipment & Supplies\",\"Home & Kitchen\\u002fKitchen & Dining\\u002fDining & Entertaining\",\"Home & Kitchen\\u002fKitchen & Dining\\u002fFood Service Equipment & Supplies\",\"Home & Kitchen\\u002fKitchen & Dining\\u002fFood Service Equipment & Supplies\",\"Home & Kitchen\\u002fKitchen & Dining\\u002fDining & Entertaining\",\"Home & Kitchen\\u002fKitchen & Dining\",\"Home & Kitchen\\u002fKitchen & Dining\",\"Home & Kitchen\\u002fKitchen & Dining\",\"Home & Kitchen\",\"\"],\"values\":[3,1,1,1,16,1,1,4,13,2,15,2,4,2,8,3,1,2,27,3,1,1,2,4,2,1,2,18,1,1,24,1,20,1,1,2,10,1,17,6,1,3,7,4,7,1,5,2,1,1,4,4,2,1,1,8,1,2,6,7,5,7,2,11,4,20,15,29,1,21,3,4,4,7,13,37,32,8,18,17,1,1,6,10,32,1,9,24,16,24,4,32,74,18,10,43,61,16,24,18,135,4,66,43,24,194,88,306,306],\"type\":\"treemap\",\"textinfo\":\"label+percent parent\"}],                        {\"template\":{\"data\":{\"histogram2dcontour\":[{\"type\":\"histogram2dcontour\",\"colorbar\":{\"outlinewidth\":0,\"ticks\":\"\"},\"colorscale\":[[0.0,\"#0d0887\"],[0.1111111111111111,\"#46039f\"],[0.2222222222222222,\"#7201a8\"],[0.3333333333333333,\"#9c179e\"],[0.4444444444444444,\"#bd3786\"],[0.5555555555555556,\"#d8576b\"],[0.6666666666666666,\"#ed7953\"],[0.7777777777777778,\"#fb9f3a\"],[0.8888888888888888,\"#fdca26\"],[1.0,\"#f0f921\"]]}],\"choropleth\":[{\"type\":\"choropleth\",\"colorbar\":{\"outlinewidth\":0,\"ticks\":\"\"}}],\"histogram2d\":[{\"type\":\"histogram2d\",\"colorbar\":{\"outlinewidth\":0,\"ticks\":\"\"},\"colorscale\":[[0.0,\"#0d0887\"],[0.1111111111111111,\"#46039f\"],[0.2222222222222222,\"#7201a8\"],[0.3333333333333333,\"#9c179e\"],[0.4444444444444444,\"#bd3786\"],[0.5555555555555556,\"#d8576b\"],[0.6666666666666666,\"#ed7953\"],[0.7777777777777778,\"#fb9f3a\"],[0.8888888888888888,\"#fdca26\"],[1.0,\"#f0f921\"]]}],\"heatmap\":[{\"type\":\"heatmap\",\"colorbar\":{\"outlinewidth\":0,\"ticks\":\"\"},\"colorscale\":[[0.0,\"#0d0887\"],[0.1111111111111111,\"#46039f\"],[0.2222222222222222,\"#7201a8\"],[0.3333333333333333,\"#9c179e\"],[0.4444444444444444,\"#bd3786\"],[0.5555555555555556,\"#d8576b\"],[0.6666666666666666,\"#ed7953\"],[0.7777777777777778,\"#fb9f3a\"],[0.8888888888888888,\"#fdca26\"],[1.0,\"#f0f921\"]]}],\"heatmapgl\":[{\"type\":\"heatmapgl\",\"colorbar\":{\"outlinewidth\":0,\"ticks\":\"\"},\"colorscale\":[[0.0,\"#0d0887\"],[0.1111111111111111,\"#46039f\"],[0.2222222222222222,\"#7201a8\"],[0.3333333333333333,\"#9c179e\"],[0.4444444444444444,\"#bd3786\"],[0.5555555555555556,\"#d8576b\"],[0.6666666666666666,\"#ed7953\"],[0.7777777777777778,\"#fb9f3a\"],[0.8888888888888888,\"#fdca26\"],[1.0,\"#f0f921\"]]}],\"contourcarpet\":[{\"type\":\"contourcarpet\",\"colorbar\":{\"outlinewidth\":0,\"ticks\":\"\"}}],\"contour\":[{\"type\":\"contour\",\"colorbar\":{\"outlinewidth\":0,\"ticks\":\"\"},\"colorscale\":[[0.0,\"#0d0887\"],[0.1111111111111111,\"#46039f\"],[0.2222222222222222,\"#7201a8\"],[0.3333333333333333,\"#9c179e\"],[0.4444444444444444,\"#bd3786\"],[0.5555555555555556,\"#d8576b\"],[0.6666666666666666,\"#ed7953\"],[0.7777777777777778,\"#fb9f3a\"],[0.8888888888888888,\"#fdca26\"],[1.0,\"#f0f921\"]]}],\"surface\":[{\"type\":\"surface\",\"colorbar\":{\"outlinewidth\":0,\"ticks\":\"\"},\"colorscale\":[[0.0,\"#0d0887\"],[0.1111111111111111,\"#46039f\"],[0.2222222222222222,\"#7201a8\"],[0.3333333333333333,\"#9c179e\"],[0.4444444444444444,\"#bd3786\"],[0.5555555555555556,\"#d8576b\"],[0.6666666666666666,\"#ed7953\"],[0.7777777777777778,\"#fb9f3a\"],[0.8888888888888888,\"#fdca26\"],[1.0,\"#f0f921\"]]}],\"mesh3d\":[{\"type\":\"mesh3d\",\"colorbar\":{\"outlinewidth\":0,\"ticks\":\"\"}}],\"scatter\":[{\"fillpattern\":{\"fillmode\":\"overlay\",\"size\":10,\"solidity\":0.2},\"type\":\"scatter\"}],\"parcoords\":[{\"type\":\"parcoords\",\"line\":{\"colorbar\":{\"outlinewidth\":0,\"ticks\":\"\"}}}],\"scatterpolargl\":[{\"type\":\"scatterpolargl\",\"marker\":{\"colorbar\":{\"outlinewidth\":0,\"ticks\":\"\"}}}],\"bar\":[{\"error_x\":{\"color\":\"#2a3f5f\"},\"error_y\":{\"color\":\"#2a3f5f\"},\"marker\":{\"line\":{\"color\":\"#E5ECF6\",\"width\":0.5},\"pattern\":{\"fillmode\":\"overlay\",\"size\":10,\"solidity\":0.2}},\"type\":\"bar\"}],\"scattergeo\":[{\"type\":\"scattergeo\",\"marker\":{\"colorbar\":{\"outlinewidth\":0,\"ticks\":\"\"}}}],\"scatterpolar\":[{\"type\":\"scatterpolar\",\"marker\":{\"colorbar\":{\"outlinewidth\":0,\"ticks\":\"\"}}}],\"histogram\":[{\"marker\":{\"pattern\":{\"fillmode\":\"overlay\",\"size\":10,\"solidity\":0.2}},\"type\":\"histogram\"}],\"scattergl\":[{\"type\":\"scattergl\",\"marker\":{\"colorbar\":{\"outlinewidth\":0,\"ticks\":\"\"}}}],\"scatter3d\":[{\"type\":\"scatter3d\",\"line\":{\"colorbar\":{\"outlinewidth\":0,\"ticks\":\"\"}},\"marker\":{\"colorbar\":{\"outlinewidth\":0,\"ticks\":\"\"}}}],\"scattermapbox\":[{\"type\":\"scattermapbox\",\"marker\":{\"colorbar\":{\"outlinewidth\":0,\"ticks\":\"\"}}}],\"scatterternary\":[{\"type\":\"scatterternary\",\"marker\":{\"colorbar\":{\"outlinewidth\":0,\"ticks\":\"\"}}}],\"scattercarpet\":[{\"type\":\"scattercarpet\",\"marker\":{\"colorbar\":{\"outlinewidth\":0,\"ticks\":\"\"}}}],\"carpet\":[{\"aaxis\":{\"endlinecolor\":\"#2a3f5f\",\"gridcolor\":\"white\",\"linecolor\":\"white\",\"minorgridcolor\":\"white\",\"startlinecolor\":\"#2a3f5f\"},\"baxis\":{\"endlinecolor\":\"#2a3f5f\",\"gridcolor\":\"white\",\"linecolor\":\"white\",\"minorgridcolor\":\"white\",\"startlinecolor\":\"#2a3f5f\"},\"type\":\"carpet\"}],\"table\":[{\"cells\":{\"fill\":{\"color\":\"#EBF0F8\"},\"line\":{\"color\":\"white\"}},\"header\":{\"fill\":{\"color\":\"#C8D4E3\"},\"line\":{\"color\":\"white\"}},\"type\":\"table\"}],\"barpolar\":[{\"marker\":{\"line\":{\"color\":\"#E5ECF6\",\"width\":0.5},\"pattern\":{\"fillmode\":\"overlay\",\"size\":10,\"solidity\":0.2}},\"type\":\"barpolar\"}],\"pie\":[{\"automargin\":true,\"type\":\"pie\"}]},\"layout\":{\"autotypenumbers\":\"strict\",\"colorway\":[\"#636efa\",\"#EF553B\",\"#00cc96\",\"#ab63fa\",\"#FFA15A\",\"#19d3f3\",\"#FF6692\",\"#B6E880\",\"#FF97FF\",\"#FECB52\"],\"font\":{\"color\":\"#2a3f5f\"},\"hovermode\":\"closest\",\"hoverlabel\":{\"align\":\"left\"},\"paper_bgcolor\":\"white\",\"plot_bgcolor\":\"#E5ECF6\",\"polar\":{\"bgcolor\":\"#E5ECF6\",\"angularaxis\":{\"gridcolor\":\"white\",\"linecolor\":\"white\",\"ticks\":\"\"},\"radialaxis\":{\"gridcolor\":\"white\",\"linecolor\":\"white\",\"ticks\":\"\"}},\"ternary\":{\"bgcolor\":\"#E5ECF6\",\"aaxis\":{\"gridcolor\":\"white\",\"linecolor\":\"white\",\"ticks\":\"\"},\"baxis\":{\"gridcolor\":\"white\",\"linecolor\":\"white\",\"ticks\":\"\"},\"caxis\":{\"gridcolor\":\"white\",\"linecolor\":\"white\",\"ticks\":\"\"}},\"coloraxis\":{\"colorbar\":{\"outlinewidth\":0,\"ticks\":\"\"}},\"colorscale\":{\"sequential\":[[0.0,\"#0d0887\"],[0.1111111111111111,\"#46039f\"],[0.2222222222222222,\"#7201a8\"],[0.3333333333333333,\"#9c179e\"],[0.4444444444444444,\"#bd3786\"],[0.5555555555555556,\"#d8576b\"],[0.6666666666666666,\"#ed7953\"],[0.7777777777777778,\"#fb9f3a\"],[0.8888888888888888,\"#fdca26\"],[1.0,\"#f0f921\"]],\"sequentialminus\":[[0.0,\"#0d0887\"],[0.1111111111111111,\"#46039f\"],[0.2222222222222222,\"#7201a8\"],[0.3333333333333333,\"#9c179e\"],[0.4444444444444444,\"#bd3786\"],[0.5555555555555556,\"#d8576b\"],[0.6666666666666666,\"#ed7953\"],[0.7777777777777778,\"#fb9f3a\"],[0.8888888888888888,\"#fdca26\"],[1.0,\"#f0f921\"]],\"diverging\":[[0,\"#8e0152\"],[0.1,\"#c51b7d\"],[0.2,\"#de77ae\"],[0.3,\"#f1b6da\"],[0.4,\"#fde0ef\"],[0.5,\"#f7f7f7\"],[0.6,\"#e6f5d0\"],[0.7,\"#b8e186\"],[0.8,\"#7fbc41\"],[0.9,\"#4d9221\"],[1,\"#276419\"]]},\"xaxis\":{\"gridcolor\":\"white\",\"linecolor\":\"white\",\"ticks\":\"\",\"title\":{\"standoff\":15},\"zerolinecolor\":\"white\",\"automargin\":true,\"zerolinewidth\":2},\"yaxis\":{\"gridcolor\":\"white\",\"linecolor\":\"white\",\"ticks\":\"\",\"title\":{\"standoff\":15},\"zerolinecolor\":\"white\",\"automargin\":true,\"zerolinewidth\":2},\"scene\":{\"xaxis\":{\"backgroundcolor\":\"#E5ECF6\",\"gridcolor\":\"white\",\"linecolor\":\"white\",\"showbackground\":true,\"ticks\":\"\",\"zerolinecolor\":\"white\",\"gridwidth\":2},\"yaxis\":{\"backgroundcolor\":\"#E5ECF6\",\"gridcolor\":\"white\",\"linecolor\":\"white\",\"showbackground\":true,\"ticks\":\"\",\"zerolinecolor\":\"white\",\"gridwidth\":2},\"zaxis\":{\"backgroundcolor\":\"#E5ECF6\",\"gridcolor\":\"white\",\"linecolor\":\"white\",\"showbackground\":true,\"ticks\":\"\",\"zerolinecolor\":\"white\",\"gridwidth\":2}},\"shapedefaults\":{\"line\":{\"color\":\"#2a3f5f\"}},\"annotationdefaults\":{\"arrowcolor\":\"#2a3f5f\",\"arrowhead\":0,\"arrowwidth\":1},\"geo\":{\"bgcolor\":\"white\",\"landcolor\":\"#E5ECF6\",\"subunitcolor\":\"white\",\"showland\":true,\"showlakes\":true,\"lakecolor\":\"white\"},\"title\":{\"x\":0.05},\"mapbox\":{\"style\":\"light\"}}},\"legend\":{\"tracegroupgap\":0},\"title\":{\"text\":\"Categories Treemap\"},\"height\":800,\"width\":800},                        {\"responsive\": true}                    ).then(function(){\n",
       "                            \n",
       "var gd = document.getElementById('b038fc27-4574-4d6f-9edf-d427cfd2fd0c');\n",
       "var x = new MutationObserver(function (mutations, observer) {{\n",
       "        var display = window.getComputedStyle(gd).display;\n",
       "        if (!display || display === 'none') {{\n",
       "            console.log([gd, 'removed!']);\n",
       "            Plotly.purge(gd);\n",
       "            observer.disconnect();\n",
       "        }}\n",
       "}});\n",
       "\n",
       "// Listen for the removal of the full notebook cells\n",
       "var notebookContainer = gd.closest('#notebook-container');\n",
       "if (notebookContainer) {{\n",
       "    x.observe(notebookContainer, {childList: true});\n",
       "}}\n",
       "\n",
       "// Listen for the clearing of the current output cell\n",
       "var outputEl = gd.closest('.output');\n",
       "if (outputEl) {{\n",
       "    x.observe(outputEl, {childList: true});\n",
       "}}\n",
       "\n",
       "                        })                };                });            </script>        </div>"
      ]
     },
     "metadata": {},
     "output_type": "display_data"
    }
   ],
   "source": [
    "\n",
    "fig = px.treemap(check1.groupby(['path0', 'path1', 'path2', 'path3',\n",
    "       'path4', 'path5', 'path6'], as_index=False).count(),\n",
    "                 path=['path0', 'path1', 'path2', 'path3',\n",
    "       'path4', 'path5', 'path6'],\n",
    "                 values='asin',\n",
    "                 title=\"Categories Treemap\",\n",
    "                 width=800,\n",
    "                 height=800,\n",
    "                 color='path3')\n",
    "fig.update_traces(textinfo=\"label+percent parent\")\n",
    "chart_data = fig.data[0].hovertext\n",
    "\n",
    "fig.show()\n",
    "fig.write_html(\"categories_treemap2.html\")\n"
   ]
  },
  {
   "cell_type": "code",
   "execution_count": 78,
   "id": "6c811440",
   "metadata": {},
   "outputs": [
    {
     "data": {
      "application/vnd.plotly.v1+json": {
       "config": {
        "plotlyServerURL": "https://plot.ly"
       },
       "data": [
        {
         "branchvalues": "total",
         "customdata": [
          [
           "Dinnerware & Serveware"
          ],
          [
           "Tabletop & Serveware"
          ],
          [
           "Seasoning & Spice Tools"
          ],
          [
           "Dinnerware & Serveware"
          ],
          [
           "Tabletop & Serveware"
          ],
          [
           "Beds, Frames & Bases"
          ],
          [
           "Kitchen Knives & Accessories"
          ],
          [
           "Bar & Wine Tools"
          ],
          [
           "Seasoning & Spice Tools"
          ],
          [
           "Seasoning & Spice Tools"
          ],
          [
           "Seasoning & Spice Tools"
          ],
          [
           "Tabletop & Serveware"
          ],
          [
           "Kitchen Knives & Accessories"
          ],
          [
           "Cookware, Bakeware & Tools"
          ],
          [
           "Tabletop & Serveware"
          ],
          [
           "Graters, Peelers & Slicers"
          ],
          [
           "Cookware, Bakeware & Tools"
          ],
          [
           "Kitchen Knives & Accessories"
          ],
          [
           "Seasoning & Spice Tools"
          ],
          [
           "Kitchen Knives & Accessories"
          ],
          [
           "Tabletop & Serveware"
          ],
          [
           "Dinnerware & Serveware"
          ],
          [
           "Cookware, Bakeware & Tools"
          ],
          [
           "Tabletop & Serveware"
          ],
          [
           "Tabletop Accessories"
          ],
          [
           "Bar Tools & Drinkware"
          ],
          [
           "Tabletop & Serveware"
          ],
          [
           "Bar Tools & Drinkware"
          ],
          [
           "Bar Tools & Drinkware"
          ],
          [
           "Tabletop & Serveware"
          ],
          [
           "TV & Media Furniture"
          ],
          [
           "Glassware & Drinkware"
          ],
          [
           "Tabletop Accessories"
          ],
          [
           "TV & Media Furniture"
          ],
          [
           "Home Bar Furniture"
          ],
          [
           "Tabletop & Serveware"
          ],
          [
           "Tabletop & Serveware"
          ],
          [
           "Tabletop & Serveware"
          ],
          [
           "Beds, Frames & Bases"
          ],
          [
           "Cookware, Bakeware & Tools"
          ],
          [
           "Bar Tools & Drinkware"
          ],
          [
           "Candles"
          ],
          [
           "Tabletop & Serveware"
          ],
          [
           "Flatware"
          ],
          [
           "Tabletop & Serveware"
          ],
          [
           "Tabletop Accessories"
          ],
          [
           "Tabletop & Serveware"
          ],
          [
           "Dinnerware & Serveware"
          ],
          [
           "Decorating Tools"
          ],
          [
           "Dinnerware & Serveware"
          ],
          [
           "Baking Tools"
          ],
          [
           "Baking Tools & Accessories"
          ],
          [
           "Flatware"
          ],
          [
           "Tabletop & Serveware"
          ],
          [
           "Racks & Holders"
          ],
          [
           "Glassware & Drinkware"
          ],
          [
           "Dinnerware & Serveware"
          ],
          [
           "Bar & Wine Tools"
          ],
          [
           "Bar Tools & Drinkware"
          ],
          [
           "Bar Tools & Drinkware"
          ],
          [
           "Tabletop & Serveware"
          ],
          [
           "Tabletop & Serveware"
          ],
          [
           "Coffee, Tea & Espresso Appliances"
          ],
          [
           "Tabletop Accessories"
          ],
          [
           "Thermoses"
          ],
          [
           "Tabletop & Serveware"
          ],
          [
           "Bar Tools & Drinkware"
          ],
          [
           "Tabletop & Serveware"
          ],
          [
           "Cookware, Bakeware & Tools"
          ],
          [
           "Tabletop & Serveware"
          ],
          [
           "Thermoses"
          ],
          [
           "Cookware, Bakeware & Tools"
          ],
          [
           "Flatware"
          ],
          [
           "Tabletop & Serveware"
          ],
          [
           "Holders & Dispensers"
          ],
          [
           "Food Storage"
          ],
          [
           "Food Storage"
          ],
          [
           "Food Storage"
          ],
          [
           "Tabletop & Serveware"
          ],
          [
           "Dinnerware & Serveware"
          ],
          [
           "Restaurant Appliances & Equipment"
          ],
          [
           "Coffee Maker Parts & Accessories"
          ],
          [
           "Coffee & Espresso Machine Parts & Accessories"
          ],
          [
           "Dinnerware & Serveware"
          ],
          [
           "Food Storage"
          ],
          [
           "Coffee Maker Parts & Accessories"
          ],
          [
           "Coffee & Espresso Machine Parts & Accessories"
          ],
          [
           "Novelty"
          ],
          [
           "Coffee Maker Parts & Accessories"
          ],
          [
           "Coffee & Espresso Machine Parts & Accessories"
          ],
          [
           "Glassware & Drinkware"
          ],
          [
           "Bar Tools & Drinkware"
          ],
          [
           "Dinnerware & Serveware"
          ],
          [
           "Fruit & Vegetable Tools"
          ],
          [
           "Glassware & Drinkware"
          ],
          [
           "Decorating Tools"
          ],
          [
           "TV & Media Furniture"
          ],
          [
           "Tabletop & Serveware"
          ],
          [
           "Thermoses"
          ],
          [
           "Thermoses"
          ],
          [
           "Dinnerware & Serveware"
          ],
          [
           "Kitchen Accessories"
          ],
          [
           "Dinnerware & Serveware"
          ],
          [
           "Tabletop & Serveware"
          ],
          [
           "TV & Media Furniture"
          ],
          [
           "Baking Tools"
          ],
          [
           "Shower Curtains, Hooks & Liners"
          ],
          [
           "Measuring Tools & Scales"
          ],
          [
           "Flatware"
          ],
          [
           "Flatware"
          ],
          [
           "Tabletop & Serveware"
          ],
          [
           "Tabletop & Serveware"
          ],
          [
           "Kitchen Knives & Accessories"
          ],
          [
           "Tabletop Accessories"
          ],
          [
           "Tabletop & Serveware"
          ],
          [
           "Tabletop & Serveware"
          ],
          [
           "Dinnerware & Serveware"
          ],
          [
           "Tabletop Accessories"
          ],
          [
           "Baking Tools & Accessories"
          ],
          [
           "Tabletop & Serveware"
          ],
          [
           "Coffee Maker Parts & Accessories"
          ],
          [
           "Dinnerware & Serveware"
          ],
          [
           "Tea Accessories"
          ],
          [
           "Flatware"
          ],
          [
           "Dinnerware & Serveware"
          ],
          [
           "Tea Accessories"
          ],
          [
           "Dinnerware & Serveware"
          ],
          [
           "Coffee & Espresso Machine Parts & Accessories"
          ],
          [
           "Tabletop & Serveware"
          ],
          [
           "Dinnerware & Serveware"
          ],
          [
           "Tabletop & Serveware"
          ],
          [
           "Tabletop & Serveware"
          ],
          [
           "Dinnerware & Serveware"
          ],
          [
           "Bar Tools & Drinkware"
          ],
          [
           "Glassware & Drinkware"
          ],
          [
           "Tabletop & Serveware"
          ],
          [
           "Tabletop & Serveware"
          ],
          [
           "Graters, Peelers & Slicers"
          ],
          [
           "Cheese Tools"
          ],
          [
           "Coffee, Tea & Espresso Appliances"
          ],
          [
           "Cookware, Bakeware & Tools"
          ],
          [
           "Glassware & Drinkware"
          ],
          [
           "Bar Tools & Drinkware"
          ],
          [
           "Racks & Holders"
          ],
          [
           "Racks & Holders"
          ],
          [
           "Tabletop & Serveware"
          ],
          [
           "Cookware, Bakeware & Tools"
          ],
          [
           "Tabletop & Serveware"
          ],
          [
           "Dinnerware & Serveware"
          ],
          [
           "Dinnerware & Serveware"
          ],
          [
           "Tabletop & Serveware"
          ],
          [
           "Tabletop & Serveware"
          ],
          [
           "Tabletop Accessories"
          ],
          [
           "Tabletop & Serveware"
          ],
          [
           "Tabletop & Serveware"
          ],
          [
           "Flatware"
          ],
          [
           "Dinnerware & Serveware"
          ],
          [
           "Bar Tools & Drinkware"
          ],
          [
           "Racks & Holders"
          ],
          [
           "Racks & Holders"
          ],
          [
           "Tabletop & Serveware"
          ],
          [
           "Flatware"
          ],
          [
           "Dinnerware & Serveware"
          ],
          [
           "Tabletop & Serveware"
          ],
          [
           "Shower Curtains, Hooks & Liners"
          ],
          [
           "Glassware & Drinkware"
          ],
          [
           "Racks & Holders"
          ],
          [
           "Holders & Dispensers"
          ],
          [
           "Bar & Wine Tools"
          ],
          [
           "Racks & Holders"
          ],
          [
           "Racks & Holders"
          ],
          [
           "Tabletop & Serveware"
          ],
          [
           "Tabletop & Serveware"
          ],
          [
           "Glassware & Drinkware"
          ],
          [
           "Bar & Wine Tools"
          ],
          [
           "Coffee Maker Parts & Accessories"
          ],
          [
           "Coffee & Espresso Machine Parts & Accessories"
          ],
          [
           "Flatware"
          ],
          [
           "Tabletop & Serveware"
          ],
          [
           "Dinnerware & Serveware"
          ],
          [
           "Tabletop & Serveware"
          ],
          [
           "Dinnerware & Serveware"
          ],
          [
           "Glassware & Drinkware"
          ],
          [
           "Cookware, Bakeware & Tools"
          ],
          [
           "Kitchen Knives & Accessories"
          ],
          [
           "Dinnerware & Serveware"
          ],
          [
           "Cookware, Bakeware & Tools"
          ],
          [
           "Flatware"
          ],
          [
           "Flatware"
          ],
          [
           "Tabletop & Serveware"
          ],
          [
           "Dinnerware & Serveware"
          ],
          [
           "Bar Tools & Drinkware"
          ],
          [
           "Glassware & Drinkware"
          ],
          [
           "Flatware"
          ],
          [
           "Cookware, Bakeware & Tools"
          ],
          [
           "Flatware"
          ],
          [
           "Tabletop & Serveware"
          ],
          [
           "Cookware, Bakeware & Tools"
          ],
          [
           "Tabletop Accessories"
          ],
          [
           "Racks & Holders"
          ],
          [
           "Dinnerware & Serveware"
          ],
          [
           "Bar & Wine Tools"
          ],
          [
           "Cookware, Bakeware & Tools"
          ],
          [
           "Candles"
          ],
          [
           "Dinnerware & Serveware"
          ],
          [
           "Holders & Dispensers"
          ],
          [
           "Cookware, Bakeware & Tools"
          ],
          [
           "Racks & Holders"
          ],
          [
           "Baking Tools & Accessories"
          ],
          [
           "Baking Tools"
          ],
          [
           "Food Storage"
          ],
          [
           "Food Storage"
          ],
          [
           "Cookware, Bakeware & Tools"
          ],
          [
           "Glassware & Drinkware"
          ],
          [
           "Bar Tools & Drinkware"
          ],
          [
           "Glassware & Drinkware"
          ],
          [
           "Bar Tools & Drinkware"
          ],
          [
           "Candles"
          ],
          [
           "Glassware & Drinkware"
          ],
          [
           "Bar Tools & Drinkware"
          ],
          [
           "Tabletop & Serveware"
          ],
          [
           "Seasoning & Spice Tools"
          ],
          [
           "Measuring Tools & Scales"
          ],
          [
           "Kitchen Knives & Accessories"
          ],
          [
           "Glassware & Drinkware"
          ],
          [
           "Bar Tools & Drinkware"
          ],
          [
           "Glassware & Drinkware"
          ],
          [
           "Bar Tools & Drinkware"
          ],
          [
           "Pasta & Pizza Tools"
          ],
          [
           "Stove & Fireplace Accessories"
          ],
          [
           "Graters, Peelers & Slicers"
          ],
          [
           "Seasoning & Spice Tools"
          ],
          [
           "Tabletop & Serveware"
          ],
          [
           "Tabletop Accessories"
          ],
          [
           "Dinnerware & Serveware"
          ],
          [
           "Tabletop & Serveware"
          ],
          [
           "Racks & Holders"
          ],
          [
           "Racks & Holders"
          ],
          [
           "Dinnerware & Serveware"
          ],
          [
           "Tabletop & Serveware"
          ],
          [
           "Tea Accessories"
          ],
          [
           "Flatware"
          ],
          [
           "Flatware"
          ],
          [
           "Bar Tools & Drinkware"
          ],
          [
           "Kitchen Accessories"
          ],
          [
           "Racks & Holders"
          ],
          [
           "Racks & Holders"
          ],
          [
           "Racks & Holders"
          ],
          [
           "Tabletop Accessories"
          ],
          [
           "Tabletop & Serveware"
          ],
          [
           "Fruit & Vegetable Tools"
          ],
          [
           "Fruit & Vegetable Tools"
          ],
          [
           "Racks & Holders"
          ],
          [
           "Racks & Holders"
          ],
          [
           "Food Storage"
          ],
          [
           "Food Storage"
          ],
          [
           "Food Storage"
          ],
          [
           "Food Storage"
          ],
          [
           "Tabletop & Serveware"
          ],
          [
           "Cheese Tools"
          ],
          [
           "Cookware, Bakeware & Tools"
          ],
          [
           "Seasoning & Spice Tools"
          ],
          [
           "Bar Tools & Drinkware"
          ],
          [
           "Racks & Holders"
          ],
          [
           "Seasoning & Spice Tools"
          ],
          [
           "Seasoning & Spice Tools"
          ],
          [
           "Tabletop & Serveware"
          ],
          [
           "Dinnerware & Serveware"
          ],
          [
           "Beds, Frames & Bases"
          ],
          [
           "Specialty Appliances"
          ],
          [
           "Bar Tools & Drinkware"
          ],
          [
           "Dinnerware & Serveware"
          ],
          [
           "Tabletop & Serveware"
          ],
          [
           "Cookware, Bakeware & Tools"
          ],
          [
           "Bar & Wine Tools"
          ],
          [
           "Bar Tools & Drinkware"
          ],
          [
           "Cleaning Tools"
          ],
          [
           "Thermoses"
          ],
          [
           "Thermoses"
          ],
          [
           "Bar & Wine Tools"
          ],
          [
           "Kitchen Knives & Accessories"
          ],
          [
           "Baking Tools"
          ],
          [
           "Baking Tools & Accessories"
          ],
          [
           "Tabletop & Serveware"
          ],
          [
           "Bar Tools & Drinkware"
          ],
          [
           "Home Bar Furniture"
          ],
          [
           "Beds, Frames & Bases"
          ],
          [
           "Tabletop & Serveware"
          ],
          [
           "Cleaning Tools"
          ],
          [
           "Racks & Holders"
          ],
          [
           "Racks & Holders"
          ],
          [
           "Seasoning & Spice Tools"
          ],
          [
           "Flatware"
          ],
          [
           "Kitchen Knives & Accessories"
          ],
          [
           "Bar Tools & Drinkware"
          ],
          [
           "Glassware & Drinkware"
          ],
          [
           "Coffee & Espresso Machine Parts & Accessories"
          ],
          [
           "Coffee Maker Parts & Accessories"
          ],
          [
           "Food Storage"
          ],
          [
           "Food Storage"
          ],
          [
           "Restaurant Appliances & Equipment"
          ],
          [
           "Tabletop & Serveware"
          ],
          [
           "Kitchen Accessories"
          ],
          [
           "Fruit & Vegetable Tools"
          ],
          [
           "Bar & Wine Tools"
          ],
          [
           "Dinnerware & Serveware"
          ],
          [
           "Glassware & Drinkware"
          ],
          [
           "Dinnerware & Serveware"
          ],
          [
           "Tabletop & Serveware"
          ],
          [
           "Holders & Dispensers"
          ],
          [
           "Novelty"
          ],
          [
           "Coffee & Espresso Machine Parts & Accessories"
          ],
          [
           "Coffee Maker Parts & Accessories"
          ],
          [
           "Tabletop & Serveware"
          ],
          [
           "Flatware"
          ],
          [
           "Cheese Tools"
          ],
          [
           "Food Storage"
          ],
          [
           "Food Storage"
          ],
          [
           "Specialty Appliances"
          ],
          [
           "Flatware"
          ],
          [
           "Seasoning & Spice Tools"
          ],
          [
           "Tabletop & Serveware"
          ],
          [
           "Beds, Frames & Bases"
          ],
          [
           "Bar & Wine Tools"
          ],
          [
           "Thermoses"
          ],
          [
           "Thermoses"
          ],
          [
           "Coffee, Tea & Espresso Appliances"
          ],
          [
           "Cookware, Bakeware & Tools"
          ],
          [
           "Tabletop & Serveware"
          ],
          [
           "Flatware"
          ],
          [
           "Tabletop & Serveware"
          ],
          [
           "Tabletop Accessories"
          ],
          [
           "Bar Tools & Drinkware"
          ],
          [
           "Glassware & Drinkware"
          ],
          [
           "Graters, Peelers & Slicers"
          ],
          [
           "Stove & Fireplace Accessories"
          ],
          [
           "TV & Media Furniture"
          ],
          [
           "TV & Media Furniture"
          ],
          [
           "Pasta & Pizza Tools"
          ],
          [
           "Fruit & Vegetable Tools"
          ],
          [
           "Seasoning & Spice Tools"
          ],
          [
           "Measuring Tools & Scales"
          ],
          [
           "Flatware"
          ],
          [
           "Dinnerware & Serveware"
          ],
          [
           "Tabletop & Serveware"
          ],
          [
           "Flatware"
          ],
          [
           "Shower Curtains, Hooks & Liners"
          ],
          [
           "Candles"
          ],
          [
           "Kitchen Knives & Accessories"
          ],
          [
           "Flatware"
          ],
          [
           "Tea Accessories"
          ],
          [
           "Dinnerware & Serveware"
          ],
          [
           "Glassware & Drinkware"
          ],
          [
           "Racks & Holders"
          ],
          [
           "Racks & Holders"
          ],
          [
           "Bar & Wine Tools"
          ],
          [
           "Decorating Tools"
          ],
          [
           "Baking Tools"
          ],
          [
           "Baking Tools & Accessories"
          ],
          [
           "Bar & Wine Tools"
          ],
          [
           "Bar Tools & Drinkware"
          ],
          [
           "Beds, Frames & Bases"
          ],
          [
           "Candles"
          ],
          [
           "Cheese Tools"
          ],
          [
           "Cleaning Tools"
          ],
          [
           "Coffee & Espresso Machine Parts & Accessories"
          ],
          [
           "Coffee Maker Parts & Accessories"
          ],
          [
           "Coffee, Tea & Espresso Appliances"
          ],
          [
           "Cookware, Bakeware & Tools"
          ],
          [
           "Decorating Tools"
          ],
          [
           "Dinnerware & Serveware"
          ],
          [
           "Flatware"
          ],
          [
           "Food Storage"
          ],
          [
           "Food Storage"
          ],
          [
           "Fruit & Vegetable Tools"
          ],
          [
           "Glassware & Drinkware"
          ],
          [
           "Graters, Peelers & Slicers"
          ],
          [
           "Holders & Dispensers"
          ],
          [
           "Home Bar Furniture"
          ],
          [
           "Kitchen Accessories"
          ],
          [
           "Kitchen Knives & Accessories"
          ],
          [
           "Measuring Tools & Scales"
          ],
          [
           "Novelty"
          ],
          [
           "Pasta & Pizza Tools"
          ],
          [
           "Racks & Holders"
          ],
          [
           "Racks & Holders"
          ],
          [
           "Restaurant Appliances & Equipment"
          ],
          [
           "Seasoning & Spice Tools"
          ],
          [
           "Shower Curtains, Hooks & Liners"
          ],
          [
           "Specialty Appliances"
          ],
          [
           "Stove & Fireplace Accessories"
          ],
          [
           "TV & Media Furniture"
          ],
          [
           "TV & Media Furniture"
          ],
          [
           "Tabletop & Serveware"
          ],
          [
           "Tabletop Accessories"
          ],
          [
           "Tea Accessories"
          ],
          [
           "Thermoses"
          ],
          [
           "Thermoses"
          ],
          [
           "(?)"
          ],
          [
           "(?)"
          ],
          [
           "Beds, Frames & Bases"
          ],
          [
           "Candles"
          ],
          [
           "(?)"
          ],
          [
           "(?)"
          ],
          [
           "(?)"
          ],
          [
           "(?)"
          ],
          [
           "Cleaning Tools"
          ],
          [
           "(?)"
          ],
          [
           "(?)"
          ],
          [
           "TV & Media Furniture"
          ],
          [
           "Stove & Fireplace Accessories"
          ],
          [
           "Coffee & Espresso Machine Parts & Accessories"
          ],
          [
           "(?)"
          ],
          [
           "(?)"
          ],
          [
           "(?)"
          ],
          [
           "Cleaning Tools"
          ],
          [
           "(?)"
          ],
          [
           "Stove & Fireplace Accessories"
          ],
          [
           "Candles"
          ],
          [
           "(?)"
          ],
          [
           "(?)"
          ],
          [
           "(?)"
          ]
         ],
         "domain": {
          "x": [
           0,
           1
          ],
          "y": [
           0,
           1
          ]
         },
         "hovertemplate": "labels=%{label}<br>categories=%{value}<br>parent=%{parent}<br>id=%{id}<br>3=%{customdata[0]}<extra></extra>",
         "ids": [
          "Home & Kitchen/Kitchen & Dining/Dining & Entertaining/Dinnerware & Serveware/Serveware/Salad Serving Sets",
          "Home & Kitchen/Kitchen & Dining/Food Service Equipment & Supplies/Tabletop & Serveware/Condiment Holders & Dispensers/Salt & Pepper",
          "Home & Kitchen/Kitchen & Dining/Kitchen Utensils & Gadgets/Seasoning & Spice Tools/Salt & Pepper/Salt & Pepper Mill Sets",
          "Home & Kitchen/Kitchen & Dining/Dining & Entertaining/Dinnerware & Serveware/Serveware/Butter Dishes",
          "Home & Kitchen/Kitchen & Dining/Food Service Equipment & Supplies/Tabletop & Serveware/Condiment Holders & Dispensers/Butter Dishes & Servers",
          "Home & Kitchen/Furniture/Bedroom Furniture/Beds, Frames & Bases/Bases & Foundations/Bunkie Boards",
          "Home & Kitchen/Kitchen & Dining/Kitchen Utensils & Gadgets/Kitchen Knives & Accessories/Specialty Knives/Seafood Knives",
          "Home & Kitchen/Kitchen & Dining/Kitchen Utensils & Gadgets/Bar & Wine Tools/Corkscrews & Openers/Screwpull Levers",
          "Home & Kitchen/Kitchen & Dining/Kitchen Utensils & Gadgets/Seasoning & Spice Tools/Salt & Pepper/Salt Shakers",
          "Home & Kitchen/Kitchen & Dining/Kitchen Utensils & Gadgets/Seasoning & Spice Tools/Salt & Pepper/Salt & Pepper Shaker Sets",
          "Home & Kitchen/Kitchen & Dining/Kitchen Utensils & Gadgets/Seasoning & Spice Tools/Salt & Pepper/Salt Mills",
          "Home & Kitchen/Kitchen & Dining/Food Service Equipment & Supplies/Tabletop & Serveware/Condiment Holders & Dispensers/Salt & Pepper Shakers",
          "Home & Kitchen/Kitchen & Dining/Kitchen Utensils & Gadgets/Kitchen Knives & Accessories/Asian Knives/Santoku Knives",
          "Home & Kitchen/Kitchen & Dining/Food Service Equipment & Supplies/Cookware, Bakeware & Tools/Kitchen Knives/Cheese Knives",
          "Home & Kitchen/Kitchen & Dining/Food Service Equipment & Supplies/Tabletop & Serveware/Kitchen Linens/Chair Pads",
          "Home & Kitchen/Kitchen & Dining/Kitchen Utensils & Gadgets/Graters, Peelers & Slicers/Mandolines & Slicers/Cheese Slicers",
          "Home & Kitchen/Kitchen & Dining/Food Service Equipment & Supplies/Cookware, Bakeware & Tools/Kitchen Knives/Chef's Knives",
          "Home & Kitchen/Kitchen & Dining/Kitchen Utensils & Gadgets/Kitchen Knives & Accessories/Asian Knives/Chinese Chef's Knives & Cleavers",
          "Home & Kitchen/Kitchen & Dining/Kitchen Utensils & Gadgets/Seasoning & Spice Tools/Choppers & Mincers/Choppers",
          "Home & Kitchen/Kitchen & Dining/Kitchen Utensils & Gadgets/Kitchen Knives & Accessories/Specialty Knives/Cheese Knives",
          "Home & Kitchen/Kitchen & Dining/Food Service Equipment & Supplies/Tabletop & Serveware/Flatware/Chopsticks",
          "Home & Kitchen/Kitchen & Dining/Dining & Entertaining/Dinnerware & Serveware/Serveware/Chafing Dishes",
          "Home & Kitchen/Kitchen & Dining/Food Service Equipment & Supplies/Cookware, Bakeware & Tools/Kitchen Knives/Cleavers",
          "Home & Kitchen/Kitchen & Dining/Food Service Equipment & Supplies/Tabletop & Serveware/Kitchen Linens/Cloth Napkins",
          "Home & Kitchen/Kitchen & Dining/Dining & Entertaining/Tabletop Accessories/Linens/Cloth Napkins",
          "Home & Kitchen/Kitchen & Dining/Dining & Entertaining/Bar Tools & Drinkware/Bar Tools/Coasters",
          "Home & Kitchen/Kitchen & Dining/Food Service Equipment & Supplies/Tabletop & Serveware/Glassware & Drinkware/Cocktail Drinkware",
          "Home & Kitchen/Kitchen & Dining/Dining & Entertaining/Bar Tools & Drinkware/Bar Tools/Cocktail Napkins",
          "Home & Kitchen/Kitchen & Dining/Dining & Entertaining/Bar Tools & Drinkware/Bar Tools/Cocktail Picks",
          "Home & Kitchen/Kitchen & Dining/Food Service Equipment & Supplies/Tabletop & Serveware/Flatware/Chopstick & Cutlery Rests",
          "Home & Kitchen/Furniture/Living Room Furniture/TV & Media Furniture/Media Storage/Cassette Storage",
          "Home & Kitchen/Kitchen & Dining/Dining & Entertaining/Glassware & Drinkware/Wine & Champagne Glasses/Champagne Glasses",
          "Home & Kitchen/Kitchen & Dining/Dining & Entertaining/Tabletop Accessories/Linens/Chair Pads",
          "Home & Kitchen/Furniture/Game & Recreation Room Furniture/TV & Media Furniture/Media Storage/Cassette Storage",
          "Home & Kitchen/Furniture/Game & Recreation Room Furniture/Home Bar Furniture/Bars & Wine Cabinets/Bar Tables",
          "Home & Kitchen/Kitchen & Dining/Food Service Equipment & Supplies/Tabletop & Serveware/Bar Equipment/Bar Tools & Glasses",
          "Home & Kitchen/Kitchen & Dining/Food Service Equipment & Supplies/Tabletop & Serveware/Glassware & Drinkware/Beer Glasses",
          "Home & Kitchen/Kitchen & Dining/Food Service Equipment & Supplies/Tabletop & Serveware/Dinnerware/Bowls",
          "Home & Kitchen/Furniture/Bedroom Furniture/Beds, Frames & Bases/Bases & Foundations/Box Springs",
          "Home & Kitchen/Kitchen & Dining/Food Service Equipment & Supplies/Cookware, Bakeware & Tools/Kitchen Knives/Bread Knives",
          "Home & Kitchen/Kitchen & Dining/Dining & Entertaining/Bar Tools & Drinkware/Bar Tools/Seltzer Bottles & Chargers",
          "Home & Kitchen/Home Décor Products/Candles & Holders/Candles/Specialty Candles/Seasonal Celebration Candles",
          "Home & Kitchen/Kitchen & Dining/Food Service Equipment & Supplies/Tabletop & Serveware/Bar Equipment/Bar Refrigeration",
          "Home & Kitchen/Kitchen & Dining/Dining & Entertaining/Flatware/Spoons/Tablespoons",
          "Home & Kitchen/Kitchen & Dining/Food Service Equipment & Supplies/Tabletop & Serveware/Kitchen Linens/Tablecloths",
          "Home & Kitchen/Kitchen & Dining/Dining & Entertaining/Tabletop Accessories/Linens/Tablecloths",
          "Home & Kitchen/Kitchen & Dining/Food Service Equipment & Supplies/Tabletop & Serveware/Condiment Holders & Dispensers/Sugar Shakers",
          "Home & Kitchen/Kitchen & Dining/Dining & Entertaining/Dinnerware & Serveware/Cream & Sugar/Sugar Packet Holders",
          "Home & Kitchen/Kitchen & Dining/Bakeware/Decorating Tools/Wrapping & Packaging/Cake Carriers",
          "Home & Kitchen/Kitchen & Dining/Dining & Entertaining/Dinnerware & Serveware/Serveware/Cake Stands",
          "Home & Kitchen/Kitchen & Dining/Kitchen Utensils & Gadgets/Baking Tools/Baking & Pastry Utensils/Cake Testers",
          "Home & Kitchen/Kitchen & Dining/Bakeware/Baking Tools & Accessories/Baking & Pastry Utensils/Cake Testers",
          "Home & Kitchen/Kitchen & Dining/Dining & Entertaining/Flatware/Servers/Cake, Pie & Pastry Servers",
          "Home & Kitchen/Kitchen & Dining/Food Service Equipment & Supplies/Tabletop & Serveware/Linen & Table Accessories/Tabletop Accessories",
          "Home & Kitchen/Storage & Organization/Kitchen Storage & Organization/Racks & Holders/Wine Racks & Cabinets/Tabletop Wine Racks",
          "Home & Kitchen/Kitchen & Dining/Dining & Entertaining/Glassware & Drinkware/Cocktail Drinkware/Highball Glasses",
          "Home & Kitchen/Kitchen & Dining/Dining & Entertaining/Dinnerware & Serveware/Serveware/Honey Jars",
          "Home & Kitchen/Kitchen & Dining/Kitchen Utensils & Gadgets/Bar & Wine Tools/Ice Buckets & Tongs/Ice Buckets",
          "Home & Kitchen/Kitchen & Dining/Dining & Entertaining/Bar Tools & Drinkware/Bar Tools/Ice Buckets & Tongs",
          "Home & Kitchen/Kitchen & Dining/Dining & Entertaining/Bar Tools & Drinkware/Bar Tools/Ice Crushers",
          "Home & Kitchen/Kitchen & Dining/Food Service Equipment & Supplies/Tabletop & Serveware/Kitchen Linens/Kitchen Rugs",
          "Home & Kitchen/Kitchen & Dining/Food Service Equipment & Supplies/Tabletop & Serveware/Glassware & Drinkware/Iced Tea Glasses",
          "Home & Kitchen/Kitchen & Dining/Small Appliances/Coffee, Tea & Espresso Appliances/Kettles & Tea Machines/Iced Tea Machines",
          "Home & Kitchen/Kitchen & Dining/Dining & Entertaining/Tabletop Accessories/Linens/Kitchen Rugs",
          "Home & Kitchen/Kitchen & Dining/Storage & Organization/Thermoses/Insulated Beverage Containers/Insulators",
          "Home & Kitchen/Kitchen & Dining/Food Service Equipment & Supplies/Tabletop & Serveware/Condiment Holders & Dispensers/Jars & Jar Holders",
          "Home & Kitchen/Kitchen & Dining/Dining & Entertaining/Bar Tools & Drinkware/Bar Tools/Jiggers",
          "Home & Kitchen/Kitchen & Dining/Food Service Equipment & Supplies/Tabletop & Serveware/Beverage Serveware/Jugs",
          "Home & Kitchen/Kitchen & Dining/Food Service Equipment & Supplies/Cookware, Bakeware & Tools/Kitchen Knives/Knife Blocks",
          "Home & Kitchen/Kitchen & Dining/Food Service Equipment & Supplies/Tabletop & Serveware/Beverage Serveware/Iced Beverage Dispensers",
          "Home & Kitchen/Storage & Organization/Kitchen Storage & Organization/Thermoses/Insulated Beverage Containers/Insulators",
          "Home & Kitchen/Kitchen & Dining/Food Service Equipment & Supplies/Cookware, Bakeware & Tools/Kitchen Knives/Knife Block Sets",
          "Home & Kitchen/Kitchen & Dining/Dining & Entertaining/Flatware/Knives/Butter Knives",
          "Home & Kitchen/Kitchen & Dining/Food Service Equipment & Supplies/Tabletop & Serveware/Condiment Holders & Dispensers/Caddies & Racks",
          "Home & Kitchen/Bath/Bathroom Accessories/Holders & Dispensers/Dispensers/Countertop Soap Dispensers",
          "Home & Kitchen/Storage & Organization/Kitchen Storage & Organization/Food Storage/Food Containers/Containers",
          "Home & Kitchen/Kitchen & Dining/Storage & Organization/Food Storage/Food Containers/Container Sets",
          "Home & Kitchen/Storage & Organization/Kitchen Storage & Organization/Food Storage/Food Containers/Container Sets",
          "Home & Kitchen/Kitchen & Dining/Food Service Equipment & Supplies/Tabletop & Serveware/Serveware & Accessories/Condiment Squeeze Bottles",
          "Home & Kitchen/Kitchen & Dining/Dining & Entertaining/Dinnerware & Serveware/Serveware/Condiment Racks",
          "Home & Kitchen/Kitchen & Dining/Food Service Equipment & Supplies/Restaurant Appliances & Equipment/Commercial Food Preparation Equipment/Commercial Food Packaging Equipment",
          "Home & Kitchen/Kitchen & Dining/Coffee, Tea & Espresso/Coffee Maker Parts & Accessories/Coffee Machine Accessories/Coffeemaker Pots",
          "Home & Kitchen/Kitchen & Dining/Small Appliance Parts & Accessories/Coffee & Espresso Machine Parts & Accessories/Coffee Machine Accessories/Coffeemaker Pots",
          "Home & Kitchen/Kitchen & Dining/Dining & Entertaining/Dinnerware & Serveware/Teapots & Coffee Servers/Coffee Servers",
          "Home & Kitchen/Kitchen & Dining/Storage & Organization/Food Storage/Food Containers/Containers",
          "Home & Kitchen/Kitchen & Dining/Coffee, Tea & Espresso/Coffee Maker Parts & Accessories/Coffee Machine Accessories/Coffee Pod Holders",
          "Home & Kitchen/Kitchen & Dining/Small Appliance Parts & Accessories/Coffee & Espresso Machine Parts & Accessories/Coffee Machine Accessories/Coffee Pod Holders",
          "Home & Kitchen/Kitchen & Dining/Dining & Entertaining/Novelty/Drinkware/Coffee Mugs",
          "Home & Kitchen/Kitchen & Dining/Coffee, Tea & Espresso/Coffee Maker Parts & Accessories/Coffee Machine Accessories/Coffee Filters",
          "Home & Kitchen/Kitchen & Dining/Small Appliance Parts & Accessories/Coffee & Espresso Machine Parts & Accessories/Coffee Machine Accessories/Coffee Filters",
          "Home & Kitchen/Kitchen & Dining/Dining & Entertaining/Glassware & Drinkware/Cups, Mugs, & Saucers/Coffee Cups & Mugs",
          "Home & Kitchen/Kitchen & Dining/Dining & Entertaining/Bar Tools & Drinkware/Bar Tools/Cocktail Shakers",
          "Home & Kitchen/Kitchen & Dining/Dining & Entertaining/Dinnerware & Serveware/Teapots & Coffee Servers/Coffee Urns",
          "Home & Kitchen/Kitchen & Dining/Kitchen Utensils & Gadgets/Fruit & Vegetable Tools/Corers & Pitters/Corers",
          "Home & Kitchen/Kitchen & Dining/Dining & Entertaining/Glassware & Drinkware/Cups, Mugs, & Saucers/Cup & Saucer Sets",
          "Home & Kitchen/Kitchen & Dining/Bakeware/Decorating Tools/Wrapping & Packaging/Cupcake Containers",
          "Home & Kitchen/Furniture/Game & Recreation Room Furniture/TV & Media Furniture/Media Storage/DVD Cases",
          "Home & Kitchen/Kitchen & Dining/Food Service Equipment & Supplies/Tabletop & Serveware/Glassware & Drinkware/Cups, Mugs, & Saucers",
          "Home & Kitchen/Kitchen & Dining/Storage & Organization/Thermoses/Insulated Beverage Containers/Cups & Mugs",
          "Home & Kitchen/Storage & Organization/Kitchen Storage & Organization/Thermoses/Insulated Beverage Containers/Cups & Mugs",
          "Home & Kitchen/Kitchen & Dining/Dining & Entertaining/Dinnerware & Serveware/Serveware/Cupcake Stands",
          "Home & Kitchen/Kitchen & Dining/Kitchen Utensils & Gadgets/Kitchen Accessories/Cookbook Stands & Recipe Holders/Cookbook Stands",
          "Home & Kitchen/Kitchen & Dining/Dining & Entertaining/Dinnerware & Serveware/Cream & Sugar/Creamers",
          "Home & Kitchen/Kitchen & Dining/Food Service Equipment & Supplies/Tabletop & Serveware/Serveware & Accessories/Cream & Sugar",
          "Home & Kitchen/Furniture/Living Room Furniture/TV & Media Furniture/Media Storage/DVD Cases",
          "Home & Kitchen/Kitchen & Dining/Kitchen Utensils & Gadgets/Baking Tools/Baking & Pastry Utensils/Dough Blenders",
          "Home & Kitchen/Bath/Bathroom Accessories/Shower Curtains, Hooks & Liners/Shower Curtain Hangers/Decorative Shower Curtain Hooks",
          "Home & Kitchen/Kitchen & Dining/Kitchen Utensils & Gadgets/Measuring Tools & Scales/Scales/Digital Scales",
          "Home & Kitchen/Kitchen & Dining/Dining & Entertaining/Flatware/Forks/Dinner Forks",
          "Home & Kitchen/Kitchen & Dining/Dining & Entertaining/Flatware/Knives/Dinner Knives",
          "Home & Kitchen/Kitchen & Dining/Food Service Equipment & Supplies/Tabletop & Serveware/Serveware & Accessories/Dinnerware",
          "Home & Kitchen/Kitchen & Dining/Food Service Equipment & Supplies/Tabletop & Serveware/Kitchen Linens/Disposable Table Covers",
          "Home & Kitchen/Kitchen & Dining/Kitchen Utensils & Gadgets/Kitchen Knives & Accessories/Asian Knives/Deba Knives",
          "Home & Kitchen/Kitchen & Dining/Dining & Entertaining/Tabletop Accessories/Linens/Dish Cloths & Dish Towels",
          "Home & Kitchen/Kitchen & Dining/Food Service Equipment & Supplies/Tabletop & Serveware/Kitchen Linens/Dish Cloths & Dish Towels",
          "Home & Kitchen/Kitchen & Dining/Food Service Equipment & Supplies/Tabletop & Serveware/Dinnerware/Dinnerware Sets",
          "Home & Kitchen/Kitchen & Dining/Dining & Entertaining/Dinnerware & Serveware/Dinnerware/Dinnerware Sets",
          "Home & Kitchen/Kitchen & Dining/Dining & Entertaining/Tabletop Accessories/Linens/Disposable Table Covers",
          "Home & Kitchen/Kitchen & Dining/Bakeware/Baking Tools & Accessories/Baking & Pastry Utensils/Dough Blenders",
          "Home & Kitchen/Kitchen & Dining/Food Service Equipment & Supplies/Tabletop & Serveware/Condiment Holders & Dispensers/Dredges",
          "Home & Kitchen/Kitchen & Dining/Coffee, Tea & Espresso/Coffee Maker Parts & Accessories/Espresso Machine Accessories/Tampers",
          "Home & Kitchen/Kitchen & Dining/Dining & Entertaining/Dinnerware & Serveware/Serveware/Trivets",
          "Home & Kitchen/Kitchen & Dining/Coffee, Tea & Espresso/Tea Accessories/Tea Strainers & Filters/Tea Ball Strainers",
          "Home & Kitchen/Kitchen & Dining/Dining & Entertaining/Flatware/Serving Utensils/Tongs",
          "Home & Kitchen/Kitchen & Dining/Dining & Entertaining/Dinnerware & Serveware/Serveware/Tongs",
          "Home & Kitchen/Kitchen & Dining/Coffee, Tea & Espresso/Tea Accessories/Tea Strainers & Filters/Tea Filters",
          "Home & Kitchen/Kitchen & Dining/Dining & Entertaining/Dinnerware & Serveware/Serveware/Taco Holders",
          "Home & Kitchen/Kitchen & Dining/Small Appliance Parts & Accessories/Coffee & Espresso Machine Parts & Accessories/Espresso Machine Accessories/Tampers",
          "Home & Kitchen/Kitchen & Dining/Food Service Equipment & Supplies/Tabletop & Serveware/Glassware & Drinkware/Tumblers & Water Glasses",
          "Home & Kitchen/Kitchen & Dining/Dining & Entertaining/Dinnerware & Serveware/Serveware/Tortilla Servers",
          "Home & Kitchen/Kitchen & Dining/Food Service Equipment & Supplies/Tabletop & Serveware/Flatware/Servers",
          "Home & Kitchen/Kitchen & Dining/Food Service Equipment & Supplies/Tabletop & Serveware/Serveware & Accessories/Serveware",
          "Home & Kitchen/Kitchen & Dining/Dining & Entertaining/Dinnerware & Serveware/Serveware/Servers",
          "Home & Kitchen/Kitchen & Dining/Dining & Entertaining/Bar Tools & Drinkware/Cocktail Drinkware/Drinking Jars",
          "Home & Kitchen/Kitchen & Dining/Dining & Entertaining/Glassware & Drinkware/Cocktail Drinkware/Drinking Jars",
          "Home & Kitchen/Kitchen & Dining/Food Service Equipment & Supplies/Tabletop & Serveware/Glassware & Drinkware/Drinking Jars",
          "Home & Kitchen/Kitchen & Dining/Food Service Equipment & Supplies/Tabletop & Serveware/Serveware & Accessories/Egg Cups",
          "Home & Kitchen/Kitchen & Dining/Kitchen Utensils & Gadgets/Graters, Peelers & Slicers/Mandolines & Slicers/Egg Slicers",
          "Home & Kitchen/Kitchen & Dining/Kitchen Utensils & Gadgets/Cheese Tools/Fondue Sets & Accessories/Electric Fondue Pots",
          "Home & Kitchen/Kitchen & Dining/Small Appliances/Coffee, Tea & Espresso Appliances/Kettles & Tea Machines/Electric Kettles",
          "Home & Kitchen/Kitchen & Dining/Food Service Equipment & Supplies/Cookware, Bakeware & Tools/Kitchen Knives/Electric Knives",
          "Home & Kitchen/Kitchen & Dining/Dining & Entertaining/Glassware & Drinkware/Cups, Mugs, & Saucers/Espresso Cups",
          "Home & Kitchen/Kitchen & Dining/Dining & Entertaining/Bar Tools & Drinkware/Bar Tools/Flasks",
          "Home & Kitchen/Storage & Organization/Kitchen Storage & Organization/Racks & Holders/Cabinet & Drawer Organization/Flatware Organizers",
          "Home & Kitchen/Kitchen & Dining/Storage & Organization/Racks & Holders/Cabinet & Drawer Organization/Flatware Organizers",
          "Home & Kitchen/Kitchen & Dining/Food Service Equipment & Supplies/Tabletop & Serveware/Flatware/Forks",
          "Home & Kitchen/Kitchen & Dining/Food Service Equipment & Supplies/Cookware, Bakeware & Tools/Kitchen Knives/Fillet Knives",
          "Home & Kitchen/Kitchen & Dining/Food Service Equipment & Supplies/Tabletop & Serveware/Flatware/Flatware Sets",
          "Home & Kitchen/Kitchen & Dining/Dining & Entertaining/Dinnerware & Serveware/Serveware/Serving Dishes, Trays & Platters",
          "Home & Kitchen/Kitchen & Dining/Dining & Entertaining/Dinnerware & Serveware/Serveware/Serving Bowls & Tureens",
          "Home & Kitchen/Kitchen & Dining/Food Service Equipment & Supplies/Tabletop & Serveware/Serveware & Accessories/Serveware Accessories",
          "Home & Kitchen/Kitchen & Dining/Food Service Equipment & Supplies/Tabletop & Serveware/Kitchen Linens/Accessories",
          "Home & Kitchen/Kitchen & Dining/Dining & Entertaining/Tabletop Accessories/Linens/Accessories",
          "Home & Kitchen/Kitchen & Dining/Food Service Equipment & Supplies/Tabletop & Serveware/Kitchen Linens/Aprons",
          "Home & Kitchen/Kitchen & Dining/Food Service Equipment & Supplies/Tabletop & Serveware/Glassware & Drinkware/Beer Mugs & Steins",
          "Home & Kitchen/Kitchen & Dining/Dining & Entertaining/Flatware/Forks/Serving Forks",
          "Home & Kitchen/Kitchen & Dining/Dining & Entertaining/Dinnerware & Serveware/Serveware/Serving Forks",
          "Home & Kitchen/Kitchen & Dining/Dining & Entertaining/Bar Tools & Drinkware/Liqueur & Spirits Glasses/Shot Glasses",
          "Home & Kitchen/Kitchen & Dining/Storage & Organization/Racks & Holders/Cabinet & Drawer Organization/Shelf Liners",
          "Home & Kitchen/Storage & Organization/Kitchen Storage & Organization/Racks & Holders/Cabinet & Drawer Organization/Shelf Liners",
          "Home & Kitchen/Kitchen & Dining/Food Service Equipment & Supplies/Tabletop & Serveware/Flatware/Serving Utensils",
          "Home & Kitchen/Kitchen & Dining/Dining & Entertaining/Flatware/Spoons/Serving Spoons",
          "Home & Kitchen/Kitchen & Dining/Dining & Entertaining/Dinnerware & Serveware/Serveware/Serving Spoons",
          "Home & Kitchen/Kitchen & Dining/Food Service Equipment & Supplies/Tabletop & Serveware/Flatware/Serving Sets",
          "Home & Kitchen/Bath/Bathroom Accessories/Shower Curtains, Hooks & Liners/Shower Curtain Hangers/Shower Curtain Rings",
          "Home & Kitchen/Kitchen & Dining/Dining & Entertaining/Glassware & Drinkware/Liqueur & Spirits Glasses/Shot Glasses",
          "Home & Kitchen/Storage & Organization/Kitchen Storage & Organization/Racks & Holders/Wine Racks & Cabinets/Freestanding Wine Racks & Cabinets",
          "Home & Kitchen/Bath/Bathroom Accessories/Holders & Dispensers/Dispensers/Shower Dispensers",
          "Home & Kitchen/Kitchen & Dining/Kitchen Utensils & Gadgets/Bar & Wine Tools/Corkscrews & Openers/Waiter Corkscrews",
          "Home & Kitchen/Storage & Organization/Kitchen Storage & Organization/Racks & Holders/Wine Racks & Cabinets/Wall-Mounted Wine Racks",
          "Home & Kitchen/Kitchen & Dining/Storage & Organization/Racks & Holders/Wine Racks & Cabinets/Wall-Mounted Wine Racks",
          "Home & Kitchen/Kitchen & Dining/Food Service Equipment & Supplies/Tabletop & Serveware/Glassware & Drinkware/Wine & Champagne Glasses",
          "Home & Kitchen/Kitchen & Dining/Food Service Equipment & Supplies/Tabletop & Serveware/Beverage Serveware/Wine Decanters",
          "Home & Kitchen/Kitchen & Dining/Dining & Entertaining/Glassware & Drinkware/Wine & Champagne Glasses/Wine Glasses",
          "Home & Kitchen/Kitchen & Dining/Kitchen Utensils & Gadgets/Bar & Wine Tools/Wine Stoppers & Pourers/Wine Pourers",
          "Home & Kitchen/Kitchen & Dining/Coffee, Tea & Espresso/Coffee Maker Parts & Accessories/Coffee Machine Accessories/Thermal Carafes",
          "Home & Kitchen/Kitchen & Dining/Small Appliance Parts & Accessories/Coffee & Espresso Machine Parts & Accessories/Coffee Machine Accessories/Thermal Carafes",
          "Home & Kitchen/Kitchen & Dining/Dining & Entertaining/Flatware/Spoons/Teaspoons",
          "Home & Kitchen/Kitchen & Dining/Food Service Equipment & Supplies/Tabletop & Serveware/Serveware & Accessories/Teapots & Coffee Servers",
          "Home & Kitchen/Kitchen & Dining/Dining & Entertaining/Dinnerware & Serveware/Teapots & Coffee Servers/Teapots",
          "Home & Kitchen/Kitchen & Dining/Food Service Equipment & Supplies/Tabletop & Serveware/Dinnerware/Teacups, Mugs & Saucers",
          "Home & Kitchen/Kitchen & Dining/Dining & Entertaining/Dinnerware & Serveware/Dinnerware/Teacups, Mugs & Saucers",
          "Home & Kitchen/Kitchen & Dining/Dining & Entertaining/Glassware & Drinkware/Cups, Mugs, & Saucers/Teacups",
          "Home & Kitchen/Kitchen & Dining/Food Service Equipment & Supplies/Cookware, Bakeware & Tools/Kitchen Knives/Utility Knives",
          "Home & Kitchen/Kitchen & Dining/Kitchen Utensils & Gadgets/Kitchen Knives & Accessories/Asian Knives/Usuba & Nakiri Knives",
          "Home & Kitchen/Kitchen & Dining/Dining & Entertaining/Dinnerware & Serveware/Teapots & Coffee Servers/Tea Sets",
          "Home & Kitchen/Kitchen & Dining/Food Service Equipment & Supplies/Cookware, Bakeware & Tools/Kitchen Knives/Knife Cases, Holders & Protectors",
          "Home & Kitchen/Kitchen & Dining/Dining & Entertaining/Flatware/Knives/Steak Knives",
          "Home & Kitchen/Kitchen & Dining/Dining & Entertaining/Flatware/Flatware Sets/Steak Sets",
          "Home & Kitchen/Kitchen & Dining/Food Service Equipment & Supplies/Tabletop & Serveware/Flatware/Spoons",
          "Home & Kitchen/Kitchen & Dining/Dining & Entertaining/Dinnerware & Serveware/Cream & Sugar/Sugar Bowls",
          "Home & Kitchen/Kitchen & Dining/Dining & Entertaining/Bar Tools & Drinkware/Liqueur & Spirits Glasses/Snifters",
          "Home & Kitchen/Kitchen & Dining/Dining & Entertaining/Glassware & Drinkware/Liqueur & Spirits Glasses/Snifters",
          "Home & Kitchen/Kitchen & Dining/Dining & Entertaining/Flatware/Forks/Specialty Forks",
          "Home & Kitchen/Kitchen & Dining/Food Service Equipment & Supplies/Cookware, Bakeware & Tools/Kitchen Knives/Specialty Knives",
          "Home & Kitchen/Kitchen & Dining/Dining & Entertaining/Flatware/Chopstick & Cutlery Rests/Spoon Rests",
          "Home & Kitchen/Kitchen & Dining/Food Service Equipment & Supplies/Tabletop & Serveware/Condiment Holders & Dispensers/Squeeze Bottles",
          "Home & Kitchen/Kitchen & Dining/Food Service Equipment & Supplies/Cookware, Bakeware & Tools/Kitchen Knives/Asian Knives",
          "Home & Kitchen/Kitchen & Dining/Dining & Entertaining/Tabletop Accessories/Linens/Aprons",
          "Home & Kitchen/Kitchen & Dining/Storage & Organization/Racks & Holders/Wine Racks & Cabinets/Tabletop Wine Racks",
          "Home & Kitchen/Kitchen & Dining/Dining & Entertaining/Dinnerware & Serveware/Dinnerware/Bowls",
          "Home & Kitchen/Kitchen & Dining/Kitchen Utensils & Gadgets/Bar & Wine Tools/Corkscrews & Openers/Bottle Openers",
          "Home & Kitchen/Kitchen & Dining/Food Service Equipment & Supplies/Cookware, Bakeware & Tools/Kitchen Knives/Boning Knives",
          "Home & Kitchen/Home Décor Products/Candles & Holders/Candles/Specialty Candles/Birthday Candles",
          "Home & Kitchen/Kitchen & Dining/Dining & Entertaining/Dinnerware & Serveware/Serveware/Beverage Serveware",
          "Home & Kitchen/Bath/Bathroom Accessories/Holders & Dispensers/Dispensers/Lotion Dispensers",
          "Home & Kitchen/Kitchen & Dining/Food Service Equipment & Supplies/Cookware, Bakeware & Tools/Kitchen Knives/Magnetic Knife Strips",
          "Home & Kitchen/Kitchen & Dining/Storage & Organization/Racks & Holders/Cabinet & Drawer Organization/Knife Storage",
          "Home & Kitchen/Kitchen & Dining/Bakeware/Baking Tools & Accessories/Baking & Pastry Utensils/Pastry Brushes",
          "Home & Kitchen/Kitchen & Dining/Kitchen Utensils & Gadgets/Baking Tools/Baking & Pastry Utensils/Pastry Brushes",
          "Home & Kitchen/Kitchen & Dining/Storage & Organization/Food Storage/Food Containers/Pasta Containers",
          "Home & Kitchen/Storage & Organization/Kitchen Storage & Organization/Food Storage/Food Containers/Pasta Containers",
          "Home & Kitchen/Kitchen & Dining/Food Service Equipment & Supplies/Cookware, Bakeware & Tools/Kitchen Knives/Paring Knives",
          "Home & Kitchen/Kitchen & Dining/Dining & Entertaining/Glassware & Drinkware/Liqueur & Spirits Glasses/Old Fashioned Glasses",
          "Home & Kitchen/Kitchen & Dining/Dining & Entertaining/Bar Tools & Drinkware/Liqueur & Spirits Glasses/Old Fashioned Glasses",
          "Home & Kitchen/Kitchen & Dining/Dining & Entertaining/Glassware & Drinkware/Cocktail Drinkware/Old Fashioned Glasses",
          "Home & Kitchen/Kitchen & Dining/Dining & Entertaining/Bar Tools & Drinkware/Cocktail Drinkware/Old Fashioned Glasses",
          "Home & Kitchen/Home Décor Products/Candles & Holders/Candles/Specialty Candles/Novelty Candles",
          "Home & Kitchen/Kitchen & Dining/Dining & Entertaining/Glassware & Drinkware/Cups, Mugs, & Saucers/Mug Sets",
          "Home & Kitchen/Kitchen & Dining/Dining & Entertaining/Bar Tools & Drinkware/Bar Tools/Muddlers",
          "Home & Kitchen/Kitchen & Dining/Food Service Equipment & Supplies/Tabletop & Serveware/Glassware & Drinkware/Mixed Drinkware Sets",
          "Home & Kitchen/Kitchen & Dining/Kitchen Utensils & Gadgets/Seasoning & Spice Tools/Choppers & Mincers/Mincers",
          "Home & Kitchen/Kitchen & Dining/Kitchen Utensils & Gadgets/Measuring Tools & Scales/Scales/Mechanical Scales",
          "Home & Kitchen/Kitchen & Dining/Kitchen Utensils & Gadgets/Kitchen Knives & Accessories/Cleavers/Meat Cleavers",
          "Home & Kitchen/Kitchen & Dining/Dining & Entertaining/Glassware & Drinkware/Cocktail Drinkware/Martini Glasses",
          "Home & Kitchen/Kitchen & Dining/Dining & Entertaining/Bar Tools & Drinkware/Cocktail Drinkware/Martini Glasses",
          "Home & Kitchen/Kitchen & Dining/Dining & Entertaining/Glassware & Drinkware/Cocktail Drinkware/Margarita Glasses",
          "Home & Kitchen/Kitchen & Dining/Dining & Entertaining/Bar Tools & Drinkware/Cocktail Drinkware/Margarita Glasses",
          "Home & Kitchen/Kitchen & Dining/Kitchen Utensils & Gadgets/Pasta & Pizza Tools/Pasta Makers & Accessories/Manual Pasta Makers",
          "Home & Kitchen/Heating, Cooling & Air Quality/Parts & Accessories/Stove & Fireplace Accessories/Mantels & Surrounds/Mantel Shelves",
          "Home & Kitchen/Kitchen & Dining/Kitchen Utensils & Gadgets/Graters, Peelers & Slicers/Mandolines & Slicers/Mandolines",
          "Home & Kitchen/Kitchen & Dining/Kitchen Utensils & Gadgets/Seasoning & Spice Tools/Salt & Pepper/Pepper Mills",
          "Home & Kitchen/Kitchen & Dining/Food Service Equipment & Supplies/Tabletop & Serveware/Kitchen Linens/Place Mats",
          "Home & Kitchen/Kitchen & Dining/Dining & Entertaining/Tabletop Accessories/Linens/Place Mats",
          "Home & Kitchen/Kitchen & Dining/Dining & Entertaining/Dinnerware & Serveware/Dinnerware/Plates",
          "Home & Kitchen/Kitchen & Dining/Food Service Equipment & Supplies/Tabletop & Serveware/Flatware/Knives",
          "Home & Kitchen/Storage & Organization/Kitchen Storage & Organization/Racks & Holders/Cabinet & Drawer Organization/Lazy Susans",
          "Home & Kitchen/Kitchen & Dining/Storage & Organization/Racks & Holders/Cabinet & Drawer Organization/Lazy Susans",
          "Home & Kitchen/Kitchen & Dining/Dining & Entertaining/Dinnerware & Serveware/Serveware/Lazy Susans",
          "Home & Kitchen/Kitchen & Dining/Food Service Equipment & Supplies/Tabletop & Serveware/Glassware & Drinkware/Liqueur & Spirits Glasses",
          "Home & Kitchen/Kitchen & Dining/Coffee, Tea & Espresso/Tea Accessories/Tea Strainers & Filters/Long-Handled Tea Strainers",
          "Home & Kitchen/Kitchen & Dining/Dining & Entertaining/Flatware/Servers/Salad Servers",
          "Home & Kitchen/Kitchen & Dining/Dining & Entertaining/Flatware/Forks/Salad Forks",
          "Home & Kitchen/Kitchen & Dining/Dining & Entertaining/Bar Tools & Drinkware/Bar Tools/Rimming Salts & Sugars",
          "Home & Kitchen/Kitchen & Dining/Kitchen Utensils & Gadgets/Kitchen Accessories/Cookbook Stands & Recipe Holders/Recipe Holders",
          "Home & Kitchen/Kitchen & Dining/Storage & Organization/Racks & Holders/Cabinet & Drawer Organization/Pull-Out Organizers",
          "Home & Kitchen/Storage & Organization/Kitchen Storage & Organization/Racks & Holders/Cabinet & Drawer Organization/Knife Storage",
          "Home & Kitchen/Storage & Organization/Kitchen Storage & Organization/Racks & Holders/Cabinet & Drawer Organization/Pull-Out Organizers",
          "Home & Kitchen/Kitchen & Dining/Dining & Entertaining/Tabletop Accessories/Linens/Potholders & Oven Mitts",
          "Home & Kitchen/Kitchen & Dining/Food Service Equipment & Supplies/Tabletop & Serveware/Kitchen Linens/Potholders & Oven Mitts",
          "Home & Kitchen/Kitchen & Dining/Kitchen Utensils & Gadgets/Fruit & Vegetable Tools/Potato Mashers & Ricers/Potato Ricers",
          "Home & Kitchen/Kitchen & Dining/Kitchen Utensils & Gadgets/Fruit & Vegetable Tools/Potato Mashers & Ricers/Potato Mashers",
          "Home & Kitchen/Kitchen & Dining/Storage & Organization/Racks & Holders/Cabinet & Drawer Organization/Pot Lid Holders",
          "Home & Kitchen/Storage & Organization/Kitchen Storage & Organization/Racks & Holders/Cabinet & Drawer Organization/Pot Lid Holders",
          "Home & Kitchen/Kitchen & Dining/Storage & Organization/Food Storage/Coffee Pod Holders/Pod Drawers",
          "Home & Kitchen/Storage & Organization/Kitchen Storage & Organization/Food Storage/Coffee Pod Holders/Pod Drawers",
          "Home & Kitchen/Kitchen & Dining/Storage & Organization/Food Storage/Coffee Pod Holders/Pod Baskets",
          "Home & Kitchen/Storage & Organization/Kitchen Storage & Organization/Food Storage/Coffee Pod Holders/Pod Baskets",
          "Home & Kitchen/Kitchen & Dining/Food Service Equipment & Supplies/Tabletop & Serveware/Dinnerware/Plates",
          "Home & Kitchen/Kitchen & Dining/Kitchen Utensils & Gadgets/Cheese Tools/Fondue Sets & Accessories/Pots & Sets",
          "Home & Kitchen/Kitchen & Dining/Food Service Equipment & Supplies/Cookware, Bakeware & Tools/Kitchen Knives/Knife Sets",
          "Home & Kitchen/Kitchen & Dining/Kitchen Utensils & Gadgets/Seasoning & Spice Tools/Garlic Tools/Garlic Roasters",
          "Home & Kitchen/Kitchen & Dining/Dining & Entertaining/Bar Tools & Drinkware/Bar Tools/Glass Markers & Charms",
          "Home & Kitchen/Kitchen & Dining/Storage & Organization/Racks & Holders/Wine Racks & Cabinets/Freestanding Wine Racks & Cabinets",
          "Home & Kitchen/Kitchen & Dining/Kitchen Utensils & Gadgets/Seasoning & Spice Tools/Garlic Tools/Garlic Keepers",
          "Home & Kitchen/Kitchen & Dining/Kitchen Utensils & Gadgets/Seasoning & Spice Tools/Garlic Tools/Garlic Presses",
          "Home & Kitchen/Kitchen & Dining/Food Service Equipment & Supplies/Tabletop & Serveware/Condiment Holders & Dispensers/Gravy Boats",
          "Home & Kitchen/Kitchen & Dining/Dining & Entertaining/Dinnerware & Serveware/Serveware/Gravy Boats",
          "Home & Kitchen/Furniture/Bedroom Furniture/Beds, Frames & Bases/Headboards & Footboards/Headboards",
          "Home & Kitchen/Kitchen & Dining/Small Appliances/Specialty Appliances/Food Grinders & Mills/Herb & Spice Mills",
          "Home & Kitchen/Kitchen & Dining/Dining & Entertaining/Bar Tools & Drinkware/Cocktail Drinkware/Highball Glasses",
          "Home & Kitchen/Kitchen & Dining/Dining & Entertaining/Dinnerware & Serveware/Serveware/Candy Servers",
          "Home & Kitchen/Kitchen & Dining/Food Service Equipment & Supplies/Tabletop & Serveware/Beverage Serveware/Carafes",
          "Home & Kitchen/Kitchen & Dining/Food Service Equipment & Supplies/Cookware, Bakeware & Tools/Kitchen Knives/Carving Knives",
          "Home & Kitchen/Kitchen & Dining/Kitchen Utensils & Gadgets/Bar & Wine Tools/Wine Stoppers & Pourers/Wine Stoppers",
          "Home & Kitchen/Kitchen & Dining/Dining & Entertaining/Bar Tools & Drinkware/Bar Tools/Wine Stoppers & Pourers",
          "Home & Kitchen/Cleaning Supplies/Household Cleaners/Cleaning Tools/Brushes/Toilet Brushes & Holders",
          "Home & Kitchen/Storage & Organization/Kitchen Storage & Organization/Thermoses/Insulated Beverage Containers/Thermoses",
          "Home & Kitchen/Kitchen & Dining/Storage & Organization/Thermoses/Insulated Beverage Containers/Thermoses",
          "Home & Kitchen/Kitchen & Dining/Kitchen Utensils & Gadgets/Bar & Wine Tools/Corkscrews & Openers/Wing Corkscrews",
          "Home & Kitchen/Kitchen & Dining/Kitchen Utensils & Gadgets/Kitchen Knives & Accessories/Asian Knives",
          "Home & Kitchen/Kitchen & Dining/Kitchen Utensils & Gadgets/Baking Tools/Baking & Pastry Utensils",
          "Home & Kitchen/Kitchen & Dining/Bakeware/Baking Tools & Accessories/Baking & Pastry Utensils",
          "Home & Kitchen/Kitchen & Dining/Food Service Equipment & Supplies/Tabletop & Serveware/Bar Equipment",
          "Home & Kitchen/Kitchen & Dining/Dining & Entertaining/Bar Tools & Drinkware/Bar Tools",
          "Home & Kitchen/Furniture/Game & Recreation Room Furniture/Home Bar Furniture/Bars & Wine Cabinets",
          "Home & Kitchen/Furniture/Bedroom Furniture/Beds, Frames & Bases/Bases & Foundations",
          "Home & Kitchen/Kitchen & Dining/Food Service Equipment & Supplies/Tabletop & Serveware/Beverage Serveware",
          "Home & Kitchen/Cleaning Supplies/Household Cleaners/Cleaning Tools/Brushes",
          "Home & Kitchen/Storage & Organization/Kitchen Storage & Organization/Racks & Holders/Cabinet & Drawer Organization",
          "Home & Kitchen/Kitchen & Dining/Storage & Organization/Racks & Holders/Cabinet & Drawer Organization",
          "Home & Kitchen/Kitchen & Dining/Kitchen Utensils & Gadgets/Seasoning & Spice Tools/Choppers & Mincers",
          "Home & Kitchen/Kitchen & Dining/Dining & Entertaining/Flatware/Chopstick & Cutlery Rests",
          "Home & Kitchen/Kitchen & Dining/Kitchen Utensils & Gadgets/Kitchen Knives & Accessories/Cleavers",
          "Home & Kitchen/Kitchen & Dining/Dining & Entertaining/Bar Tools & Drinkware/Cocktail Drinkware",
          "Home & Kitchen/Kitchen & Dining/Dining & Entertaining/Glassware & Drinkware/Cocktail Drinkware",
          "Home & Kitchen/Kitchen & Dining/Small Appliance Parts & Accessories/Coffee & Espresso Machine Parts & Accessories/Coffee Machine Accessories",
          "Home & Kitchen/Kitchen & Dining/Coffee, Tea & Espresso/Coffee Maker Parts & Accessories/Coffee Machine Accessories",
          "Home & Kitchen/Storage & Organization/Kitchen Storage & Organization/Food Storage/Coffee Pod Holders",
          "Home & Kitchen/Kitchen & Dining/Storage & Organization/Food Storage/Coffee Pod Holders",
          "Home & Kitchen/Kitchen & Dining/Food Service Equipment & Supplies/Restaurant Appliances & Equipment/Commercial Food Preparation Equipment",
          "Home & Kitchen/Kitchen & Dining/Food Service Equipment & Supplies/Tabletop & Serveware/Condiment Holders & Dispensers",
          "Home & Kitchen/Kitchen & Dining/Kitchen Utensils & Gadgets/Kitchen Accessories/Cookbook Stands & Recipe Holders",
          "Home & Kitchen/Kitchen & Dining/Kitchen Utensils & Gadgets/Fruit & Vegetable Tools/Corers & Pitters",
          "Home & Kitchen/Kitchen & Dining/Kitchen Utensils & Gadgets/Bar & Wine Tools/Corkscrews & Openers",
          "Home & Kitchen/Kitchen & Dining/Dining & Entertaining/Dinnerware & Serveware/Cream & Sugar",
          "Home & Kitchen/Kitchen & Dining/Dining & Entertaining/Glassware & Drinkware/Cups, Mugs, & Saucers",
          "Home & Kitchen/Kitchen & Dining/Dining & Entertaining/Dinnerware & Serveware/Dinnerware",
          "Home & Kitchen/Kitchen & Dining/Food Service Equipment & Supplies/Tabletop & Serveware/Dinnerware",
          "Home & Kitchen/Bath/Bathroom Accessories/Holders & Dispensers/Dispensers",
          "Home & Kitchen/Kitchen & Dining/Dining & Entertaining/Novelty/Drinkware",
          "Home & Kitchen/Kitchen & Dining/Small Appliance Parts & Accessories/Coffee & Espresso Machine Parts & Accessories/Espresso Machine Accessories",
          "Home & Kitchen/Kitchen & Dining/Coffee, Tea & Espresso/Coffee Maker Parts & Accessories/Espresso Machine Accessories",
          "Home & Kitchen/Kitchen & Dining/Food Service Equipment & Supplies/Tabletop & Serveware/Flatware",
          "Home & Kitchen/Kitchen & Dining/Dining & Entertaining/Flatware/Flatware Sets",
          "Home & Kitchen/Kitchen & Dining/Kitchen Utensils & Gadgets/Cheese Tools/Fondue Sets & Accessories",
          "Home & Kitchen/Storage & Organization/Kitchen Storage & Organization/Food Storage/Food Containers",
          "Home & Kitchen/Kitchen & Dining/Storage & Organization/Food Storage/Food Containers",
          "Home & Kitchen/Kitchen & Dining/Small Appliances/Specialty Appliances/Food Grinders & Mills",
          "Home & Kitchen/Kitchen & Dining/Dining & Entertaining/Flatware/Forks",
          "Home & Kitchen/Kitchen & Dining/Kitchen Utensils & Gadgets/Seasoning & Spice Tools/Garlic Tools",
          "Home & Kitchen/Kitchen & Dining/Food Service Equipment & Supplies/Tabletop & Serveware/Glassware & Drinkware",
          "Home & Kitchen/Furniture/Bedroom Furniture/Beds, Frames & Bases/Headboards & Footboards",
          "Home & Kitchen/Kitchen & Dining/Kitchen Utensils & Gadgets/Bar & Wine Tools/Ice Buckets & Tongs",
          "Home & Kitchen/Storage & Organization/Kitchen Storage & Organization/Thermoses/Insulated Beverage Containers",
          "Home & Kitchen/Kitchen & Dining/Storage & Organization/Thermoses/Insulated Beverage Containers",
          "Home & Kitchen/Kitchen & Dining/Small Appliances/Coffee, Tea & Espresso Appliances/Kettles & Tea Machines",
          "Home & Kitchen/Kitchen & Dining/Food Service Equipment & Supplies/Cookware, Bakeware & Tools/Kitchen Knives",
          "Home & Kitchen/Kitchen & Dining/Food Service Equipment & Supplies/Tabletop & Serveware/Kitchen Linens",
          "Home & Kitchen/Kitchen & Dining/Dining & Entertaining/Flatware/Knives",
          "Home & Kitchen/Kitchen & Dining/Food Service Equipment & Supplies/Tabletop & Serveware/Linen & Table Accessories",
          "Home & Kitchen/Kitchen & Dining/Dining & Entertaining/Tabletop Accessories/Linens",
          "Home & Kitchen/Kitchen & Dining/Dining & Entertaining/Bar Tools & Drinkware/Liqueur & Spirits Glasses",
          "Home & Kitchen/Kitchen & Dining/Dining & Entertaining/Glassware & Drinkware/Liqueur & Spirits Glasses",
          "Home & Kitchen/Kitchen & Dining/Kitchen Utensils & Gadgets/Graters, Peelers & Slicers/Mandolines & Slicers",
          "Home & Kitchen/Heating, Cooling & Air Quality/Parts & Accessories/Stove & Fireplace Accessories/Mantels & Surrounds",
          "Home & Kitchen/Furniture/Game & Recreation Room Furniture/TV & Media Furniture/Media Storage",
          "Home & Kitchen/Furniture/Living Room Furniture/TV & Media Furniture/Media Storage",
          "Home & Kitchen/Kitchen & Dining/Kitchen Utensils & Gadgets/Pasta & Pizza Tools/Pasta Makers & Accessories",
          "Home & Kitchen/Kitchen & Dining/Kitchen Utensils & Gadgets/Fruit & Vegetable Tools/Potato Mashers & Ricers",
          "Home & Kitchen/Kitchen & Dining/Kitchen Utensils & Gadgets/Seasoning & Spice Tools/Salt & Pepper",
          "Home & Kitchen/Kitchen & Dining/Kitchen Utensils & Gadgets/Measuring Tools & Scales/Scales",
          "Home & Kitchen/Kitchen & Dining/Dining & Entertaining/Flatware/Servers",
          "Home & Kitchen/Kitchen & Dining/Dining & Entertaining/Dinnerware & Serveware/Serveware",
          "Home & Kitchen/Kitchen & Dining/Food Service Equipment & Supplies/Tabletop & Serveware/Serveware & Accessories",
          "Home & Kitchen/Kitchen & Dining/Dining & Entertaining/Flatware/Serving Utensils",
          "Home & Kitchen/Bath/Bathroom Accessories/Shower Curtains, Hooks & Liners/Shower Curtain Hangers",
          "Home & Kitchen/Home Décor Products/Candles & Holders/Candles/Specialty Candles",
          "Home & Kitchen/Kitchen & Dining/Kitchen Utensils & Gadgets/Kitchen Knives & Accessories/Specialty Knives",
          "Home & Kitchen/Kitchen & Dining/Dining & Entertaining/Flatware/Spoons",
          "Home & Kitchen/Kitchen & Dining/Coffee, Tea & Espresso/Tea Accessories/Tea Strainers & Filters",
          "Home & Kitchen/Kitchen & Dining/Dining & Entertaining/Dinnerware & Serveware/Teapots & Coffee Servers",
          "Home & Kitchen/Kitchen & Dining/Dining & Entertaining/Glassware & Drinkware/Wine & Champagne Glasses",
          "Home & Kitchen/Storage & Organization/Kitchen Storage & Organization/Racks & Holders/Wine Racks & Cabinets",
          "Home & Kitchen/Kitchen & Dining/Storage & Organization/Racks & Holders/Wine Racks & Cabinets",
          "Home & Kitchen/Kitchen & Dining/Kitchen Utensils & Gadgets/Bar & Wine Tools/Wine Stoppers & Pourers",
          "Home & Kitchen/Kitchen & Dining/Bakeware/Decorating Tools/Wrapping & Packaging",
          "Home & Kitchen/Kitchen & Dining/Kitchen Utensils & Gadgets/Baking Tools",
          "Home & Kitchen/Kitchen & Dining/Bakeware/Baking Tools & Accessories",
          "Home & Kitchen/Kitchen & Dining/Kitchen Utensils & Gadgets/Bar & Wine Tools",
          "Home & Kitchen/Kitchen & Dining/Dining & Entertaining/Bar Tools & Drinkware",
          "Home & Kitchen/Furniture/Bedroom Furniture/Beds, Frames & Bases",
          "Home & Kitchen/Home Décor Products/Candles & Holders/Candles",
          "Home & Kitchen/Kitchen & Dining/Kitchen Utensils & Gadgets/Cheese Tools",
          "Home & Kitchen/Cleaning Supplies/Household Cleaners/Cleaning Tools",
          "Home & Kitchen/Kitchen & Dining/Small Appliance Parts & Accessories/Coffee & Espresso Machine Parts & Accessories",
          "Home & Kitchen/Kitchen & Dining/Coffee, Tea & Espresso/Coffee Maker Parts & Accessories",
          "Home & Kitchen/Kitchen & Dining/Small Appliances/Coffee, Tea & Espresso Appliances",
          "Home & Kitchen/Kitchen & Dining/Food Service Equipment & Supplies/Cookware, Bakeware & Tools",
          "Home & Kitchen/Kitchen & Dining/Bakeware/Decorating Tools",
          "Home & Kitchen/Kitchen & Dining/Dining & Entertaining/Dinnerware & Serveware",
          "Home & Kitchen/Kitchen & Dining/Dining & Entertaining/Flatware",
          "Home & Kitchen/Storage & Organization/Kitchen Storage & Organization/Food Storage",
          "Home & Kitchen/Kitchen & Dining/Storage & Organization/Food Storage",
          "Home & Kitchen/Kitchen & Dining/Kitchen Utensils & Gadgets/Fruit & Vegetable Tools",
          "Home & Kitchen/Kitchen & Dining/Dining & Entertaining/Glassware & Drinkware",
          "Home & Kitchen/Kitchen & Dining/Kitchen Utensils & Gadgets/Graters, Peelers & Slicers",
          "Home & Kitchen/Bath/Bathroom Accessories/Holders & Dispensers",
          "Home & Kitchen/Furniture/Game & Recreation Room Furniture/Home Bar Furniture",
          "Home & Kitchen/Kitchen & Dining/Kitchen Utensils & Gadgets/Kitchen Accessories",
          "Home & Kitchen/Kitchen & Dining/Kitchen Utensils & Gadgets/Kitchen Knives & Accessories",
          "Home & Kitchen/Kitchen & Dining/Kitchen Utensils & Gadgets/Measuring Tools & Scales",
          "Home & Kitchen/Kitchen & Dining/Dining & Entertaining/Novelty",
          "Home & Kitchen/Kitchen & Dining/Kitchen Utensils & Gadgets/Pasta & Pizza Tools",
          "Home & Kitchen/Storage & Organization/Kitchen Storage & Organization/Racks & Holders",
          "Home & Kitchen/Kitchen & Dining/Storage & Organization/Racks & Holders",
          "Home & Kitchen/Kitchen & Dining/Food Service Equipment & Supplies/Restaurant Appliances & Equipment",
          "Home & Kitchen/Kitchen & Dining/Kitchen Utensils & Gadgets/Seasoning & Spice Tools",
          "Home & Kitchen/Bath/Bathroom Accessories/Shower Curtains, Hooks & Liners",
          "Home & Kitchen/Kitchen & Dining/Small Appliances/Specialty Appliances",
          "Home & Kitchen/Heating, Cooling & Air Quality/Parts & Accessories/Stove & Fireplace Accessories",
          "Home & Kitchen/Furniture/Game & Recreation Room Furniture/TV & Media Furniture",
          "Home & Kitchen/Furniture/Living Room Furniture/TV & Media Furniture",
          "Home & Kitchen/Kitchen & Dining/Food Service Equipment & Supplies/Tabletop & Serveware",
          "Home & Kitchen/Kitchen & Dining/Dining & Entertaining/Tabletop Accessories",
          "Home & Kitchen/Kitchen & Dining/Coffee, Tea & Espresso/Tea Accessories",
          "Home & Kitchen/Storage & Organization/Kitchen Storage & Organization/Thermoses",
          "Home & Kitchen/Kitchen & Dining/Storage & Organization/Thermoses",
          "Home & Kitchen/Kitchen & Dining/Bakeware",
          "Home & Kitchen/Bath/Bathroom Accessories",
          "Home & Kitchen/Furniture/Bedroom Furniture",
          "Home & Kitchen/Home Décor Products/Candles & Holders",
          "Home & Kitchen/Kitchen & Dining/Coffee, Tea & Espresso",
          "Home & Kitchen/Kitchen & Dining/Dining & Entertaining",
          "Home & Kitchen/Kitchen & Dining/Food Service Equipment & Supplies",
          "Home & Kitchen/Furniture/Game & Recreation Room Furniture",
          "Home & Kitchen/Cleaning Supplies/Household Cleaners",
          "Home & Kitchen/Storage & Organization/Kitchen Storage & Organization",
          "Home & Kitchen/Kitchen & Dining/Kitchen Utensils & Gadgets",
          "Home & Kitchen/Furniture/Living Room Furniture",
          "Home & Kitchen/Heating, Cooling & Air Quality/Parts & Accessories",
          "Home & Kitchen/Kitchen & Dining/Small Appliance Parts & Accessories",
          "Home & Kitchen/Kitchen & Dining/Small Appliances",
          "Home & Kitchen/Kitchen & Dining/Storage & Organization",
          "Home & Kitchen/Bath",
          "Home & Kitchen/Cleaning Supplies",
          "Home & Kitchen/Furniture",
          "Home & Kitchen/Heating, Cooling & Air Quality",
          "Home & Kitchen/Home Décor Products",
          "Home & Kitchen/Kitchen & Dining",
          "Home & Kitchen/Storage & Organization",
          "Home & Kitchen"
         ],
         "labels": [
          "Salad Serving Sets",
          "Salt & Pepper",
          "Salt & Pepper Mill Sets",
          "Butter Dishes",
          "Butter Dishes & Servers",
          "Bunkie Boards",
          "Seafood Knives",
          "Screwpull Levers",
          "Salt Shakers",
          "Salt & Pepper Shaker Sets",
          "Salt Mills",
          "Salt & Pepper Shakers",
          "Santoku Knives",
          "Cheese Knives",
          "Chair Pads",
          "Cheese Slicers",
          "Chef's Knives",
          "Chinese Chef's Knives & Cleavers",
          "Choppers",
          "Cheese Knives",
          "Chopsticks",
          "Chafing Dishes",
          "Cleavers",
          "Cloth Napkins",
          "Cloth Napkins",
          "Coasters",
          "Cocktail Drinkware",
          "Cocktail Napkins",
          "Cocktail Picks",
          "Chopstick & Cutlery Rests",
          "Cassette Storage",
          "Champagne Glasses",
          "Chair Pads",
          "Cassette Storage",
          "Bar Tables",
          "Bar Tools & Glasses",
          "Beer Glasses",
          "Bowls",
          "Box Springs",
          "Bread Knives",
          "Seltzer Bottles & Chargers",
          "Seasonal Celebration Candles",
          "Bar Refrigeration",
          "Tablespoons",
          "Tablecloths",
          "Tablecloths",
          "Sugar Shakers",
          "Sugar Packet Holders",
          "Cake Carriers",
          "Cake Stands",
          "Cake Testers",
          "Cake Testers",
          "Cake, Pie & Pastry Servers",
          "Tabletop Accessories",
          "Tabletop Wine Racks",
          "Highball Glasses",
          "Honey Jars",
          "Ice Buckets",
          "Ice Buckets & Tongs",
          "Ice Crushers",
          "Kitchen Rugs",
          "Iced Tea Glasses",
          "Iced Tea Machines",
          "Kitchen Rugs",
          "Insulators",
          "Jars & Jar Holders",
          "Jiggers",
          "Jugs",
          "Knife Blocks",
          "Iced Beverage Dispensers",
          "Insulators",
          "Knife Block Sets",
          "Butter Knives",
          "Caddies & Racks",
          "Countertop Soap Dispensers",
          "Containers",
          "Container Sets",
          "Container Sets",
          "Condiment Squeeze Bottles",
          "Condiment Racks",
          "Commercial Food Packaging Equipment",
          "Coffeemaker Pots",
          "Coffeemaker Pots",
          "Coffee Servers",
          "Containers",
          "Coffee Pod Holders",
          "Coffee Pod Holders",
          "Coffee Mugs",
          "Coffee Filters",
          "Coffee Filters",
          "Coffee Cups & Mugs",
          "Cocktail Shakers",
          "Coffee Urns",
          "Corers",
          "Cup & Saucer Sets",
          "Cupcake Containers",
          "DVD Cases",
          "Cups, Mugs, & Saucers",
          "Cups & Mugs",
          "Cups & Mugs",
          "Cupcake Stands",
          "Cookbook Stands",
          "Creamers",
          "Cream & Sugar",
          "DVD Cases",
          "Dough Blenders",
          "Decorative Shower Curtain Hooks",
          "Digital Scales",
          "Dinner Forks",
          "Dinner Knives",
          "Dinnerware",
          "Disposable Table Covers",
          "Deba Knives",
          "Dish Cloths & Dish Towels",
          "Dish Cloths & Dish Towels",
          "Dinnerware Sets",
          "Dinnerware Sets",
          "Disposable Table Covers",
          "Dough Blenders",
          "Dredges",
          "Tampers",
          "Trivets",
          "Tea Ball Strainers",
          "Tongs",
          "Tongs",
          "Tea Filters",
          "Taco Holders",
          "Tampers",
          "Tumblers & Water Glasses",
          "Tortilla Servers",
          "Servers",
          "Serveware",
          "Servers",
          "Drinking Jars",
          "Drinking Jars",
          "Drinking Jars",
          "Egg Cups",
          "Egg Slicers",
          "Electric Fondue Pots",
          "Electric Kettles",
          "Electric Knives",
          "Espresso Cups",
          "Flasks",
          "Flatware Organizers",
          "Flatware Organizers",
          "Forks",
          "Fillet Knives",
          "Flatware Sets",
          "Serving Dishes, Trays & Platters",
          "Serving Bowls & Tureens",
          "Serveware Accessories",
          "Accessories",
          "Accessories",
          "Aprons",
          "Beer Mugs & Steins",
          "Serving Forks",
          "Serving Forks",
          "Shot Glasses",
          "Shelf Liners",
          "Shelf Liners",
          "Serving Utensils",
          "Serving Spoons",
          "Serving Spoons",
          "Serving Sets",
          "Shower Curtain Rings",
          "Shot Glasses",
          "Freestanding Wine Racks & Cabinets",
          "Shower Dispensers",
          "Waiter Corkscrews",
          "Wall-Mounted Wine Racks",
          "Wall-Mounted Wine Racks",
          "Wine & Champagne Glasses",
          "Wine Decanters",
          "Wine Glasses",
          "Wine Pourers",
          "Thermal Carafes",
          "Thermal Carafes",
          "Teaspoons",
          "Teapots & Coffee Servers",
          "Teapots",
          "Teacups, Mugs & Saucers",
          "Teacups, Mugs & Saucers",
          "Teacups",
          "Utility Knives",
          "Usuba & Nakiri Knives",
          "Tea Sets",
          "Knife Cases, Holders & Protectors",
          "Steak Knives",
          "Steak Sets",
          "Spoons",
          "Sugar Bowls",
          "Snifters",
          "Snifters",
          "Specialty Forks",
          "Specialty Knives",
          "Spoon Rests",
          "Squeeze Bottles",
          "Asian Knives",
          "Aprons",
          "Tabletop Wine Racks",
          "Bowls",
          "Bottle Openers",
          "Boning Knives",
          "Birthday Candles",
          "Beverage Serveware",
          "Lotion Dispensers",
          "Magnetic Knife Strips",
          "Knife Storage",
          "Pastry Brushes",
          "Pastry Brushes",
          "Pasta Containers",
          "Pasta Containers",
          "Paring Knives",
          "Old Fashioned Glasses",
          "Old Fashioned Glasses",
          "Old Fashioned Glasses",
          "Old Fashioned Glasses",
          "Novelty Candles",
          "Mug Sets",
          "Muddlers",
          "Mixed Drinkware Sets",
          "Mincers",
          "Mechanical Scales",
          "Meat Cleavers",
          "Martini Glasses",
          "Martini Glasses",
          "Margarita Glasses",
          "Margarita Glasses",
          "Manual Pasta Makers",
          "Mantel Shelves",
          "Mandolines",
          "Pepper Mills",
          "Place Mats",
          "Place Mats",
          "Plates",
          "Knives",
          "Lazy Susans",
          "Lazy Susans",
          "Lazy Susans",
          "Liqueur & Spirits Glasses",
          "Long-Handled Tea Strainers",
          "Salad Servers",
          "Salad Forks",
          "Rimming Salts & Sugars",
          "Recipe Holders",
          "Pull-Out Organizers",
          "Knife Storage",
          "Pull-Out Organizers",
          "Potholders & Oven Mitts",
          "Potholders & Oven Mitts",
          "Potato Ricers",
          "Potato Mashers",
          "Pot Lid Holders",
          "Pot Lid Holders",
          "Pod Drawers",
          "Pod Drawers",
          "Pod Baskets",
          "Pod Baskets",
          "Plates",
          "Pots & Sets",
          "Knife Sets",
          "Garlic Roasters",
          "Glass Markers & Charms",
          "Freestanding Wine Racks & Cabinets",
          "Garlic Keepers",
          "Garlic Presses",
          "Gravy Boats",
          "Gravy Boats",
          "Headboards",
          "Herb & Spice Mills",
          "Highball Glasses",
          "Candy Servers",
          "Carafes",
          "Carving Knives",
          "Wine Stoppers",
          "Wine Stoppers & Pourers",
          "Toilet Brushes & Holders",
          "Thermoses",
          "Thermoses",
          "Wing Corkscrews",
          "Asian Knives",
          "Baking & Pastry Utensils",
          "Baking & Pastry Utensils",
          "Bar Equipment",
          "Bar Tools",
          "Bars & Wine Cabinets",
          "Bases & Foundations",
          "Beverage Serveware",
          "Brushes",
          "Cabinet & Drawer Organization",
          "Cabinet & Drawer Organization",
          "Choppers & Mincers",
          "Chopstick & Cutlery Rests",
          "Cleavers",
          "Cocktail Drinkware",
          "Cocktail Drinkware",
          "Coffee Machine Accessories",
          "Coffee Machine Accessories",
          "Coffee Pod Holders",
          "Coffee Pod Holders",
          "Commercial Food Preparation Equipment",
          "Condiment Holders & Dispensers",
          "Cookbook Stands & Recipe Holders",
          "Corers & Pitters",
          "Corkscrews & Openers",
          "Cream & Sugar",
          "Cups, Mugs, & Saucers",
          "Dinnerware",
          "Dinnerware",
          "Dispensers",
          "Drinkware",
          "Espresso Machine Accessories",
          "Espresso Machine Accessories",
          "Flatware",
          "Flatware Sets",
          "Fondue Sets & Accessories",
          "Food Containers",
          "Food Containers",
          "Food Grinders & Mills",
          "Forks",
          "Garlic Tools",
          "Glassware & Drinkware",
          "Headboards & Footboards",
          "Ice Buckets & Tongs",
          "Insulated Beverage Containers",
          "Insulated Beverage Containers",
          "Kettles & Tea Machines",
          "Kitchen Knives",
          "Kitchen Linens",
          "Knives",
          "Linen & Table Accessories",
          "Linens",
          "Liqueur & Spirits Glasses",
          "Liqueur & Spirits Glasses",
          "Mandolines & Slicers",
          "Mantels & Surrounds",
          "Media Storage",
          "Media Storage",
          "Pasta Makers & Accessories",
          "Potato Mashers & Ricers",
          "Salt & Pepper",
          "Scales",
          "Servers",
          "Serveware",
          "Serveware & Accessories",
          "Serving Utensils",
          "Shower Curtain Hangers",
          "Specialty Candles",
          "Specialty Knives",
          "Spoons",
          "Tea Strainers & Filters",
          "Teapots & Coffee Servers",
          "Wine & Champagne Glasses",
          "Wine Racks & Cabinets",
          "Wine Racks & Cabinets",
          "Wine Stoppers & Pourers",
          "Wrapping & Packaging",
          "Baking Tools",
          "Baking Tools & Accessories",
          "Bar & Wine Tools",
          "Bar Tools & Drinkware",
          "Beds, Frames & Bases",
          "Candles",
          "Cheese Tools",
          "Cleaning Tools",
          "Coffee & Espresso Machine Parts & Accessories",
          "Coffee Maker Parts & Accessories",
          "Coffee, Tea & Espresso Appliances",
          "Cookware, Bakeware & Tools",
          "Decorating Tools",
          "Dinnerware & Serveware",
          "Flatware",
          "Food Storage",
          "Food Storage",
          "Fruit & Vegetable Tools",
          "Glassware & Drinkware",
          "Graters, Peelers & Slicers",
          "Holders & Dispensers",
          "Home Bar Furniture",
          "Kitchen Accessories",
          "Kitchen Knives & Accessories",
          "Measuring Tools & Scales",
          "Novelty",
          "Pasta & Pizza Tools",
          "Racks & Holders",
          "Racks & Holders",
          "Restaurant Appliances & Equipment",
          "Seasoning & Spice Tools",
          "Shower Curtains, Hooks & Liners",
          "Specialty Appliances",
          "Stove & Fireplace Accessories",
          "TV & Media Furniture",
          "TV & Media Furniture",
          "Tabletop & Serveware",
          "Tabletop Accessories",
          "Tea Accessories",
          "Thermoses",
          "Thermoses",
          "Bakeware",
          "Bathroom Accessories",
          "Bedroom Furniture",
          "Candles & Holders",
          "Coffee, Tea & Espresso",
          "Dining & Entertaining",
          "Food Service Equipment & Supplies",
          "Game & Recreation Room Furniture",
          "Household Cleaners",
          "Kitchen Storage & Organization",
          "Kitchen Utensils & Gadgets",
          "Living Room Furniture",
          "Parts & Accessories",
          "Small Appliance Parts & Accessories",
          "Small Appliances",
          "Storage & Organization",
          "Bath",
          "Cleaning Supplies",
          "Furniture",
          "Heating, Cooling & Air Quality",
          "Home Décor Products",
          "Kitchen & Dining",
          "Storage & Organization",
          "Home & Kitchen"
         ],
         "marker": {
          "colors": [
           "#636efa",
           "#EF553B",
           "#00cc96",
           "#636efa",
           "#EF553B",
           "#ab63fa",
           "#FFA15A",
           "#19d3f3",
           "#00cc96",
           "#00cc96",
           "#00cc96",
           "#EF553B",
           "#FFA15A",
           "#FF6692",
           "#EF553B",
           "#B6E880",
           "#FF6692",
           "#FFA15A",
           "#00cc96",
           "#FFA15A",
           "#EF553B",
           "#636efa",
           "#FF6692",
           "#EF553B",
           "#FF97FF",
           "#FECB52",
           "#EF553B",
           "#FECB52",
           "#FECB52",
           "#EF553B",
           "#636efa",
           "#EF553B",
           "#FF97FF",
           "#636efa",
           "#00cc96",
           "#EF553B",
           "#EF553B",
           "#EF553B",
           "#ab63fa",
           "#FF6692",
           "#FECB52",
           "#ab63fa",
           "#EF553B",
           "#FFA15A",
           "#EF553B",
           "#FF97FF",
           "#EF553B",
           "#636efa",
           "#19d3f3",
           "#636efa",
           "#FF6692",
           "#B6E880",
           "#FFA15A",
           "#EF553B",
           "#FF97FF",
           "#EF553B",
           "#636efa",
           "#19d3f3",
           "#FECB52",
           "#FECB52",
           "#EF553B",
           "#EF553B",
           "#FECB52",
           "#FF97FF",
           "#636efa",
           "#EF553B",
           "#FECB52",
           "#EF553B",
           "#FF6692",
           "#EF553B",
           "#636efa",
           "#FF6692",
           "#FFA15A",
           "#EF553B",
           "#EF553B",
           "#00cc96",
           "#00cc96",
           "#00cc96",
           "#EF553B",
           "#636efa",
           "#ab63fa",
           "#FFA15A",
           "#19d3f3",
           "#636efa",
           "#00cc96",
           "#FFA15A",
           "#19d3f3",
           "#FF6692",
           "#FFA15A",
           "#19d3f3",
           "#EF553B",
           "#FECB52",
           "#636efa",
           "#B6E880",
           "#EF553B",
           "#19d3f3",
           "#636efa",
           "#EF553B",
           "#636efa",
           "#636efa",
           "#636efa",
           "#FF97FF",
           "#636efa",
           "#EF553B",
           "#636efa",
           "#FF6692",
           "#FECB52",
           "#636efa",
           "#FFA15A",
           "#FFA15A",
           "#EF553B",
           "#EF553B",
           "#FFA15A",
           "#FF97FF",
           "#EF553B",
           "#EF553B",
           "#636efa",
           "#FF97FF",
           "#B6E880",
           "#EF553B",
           "#FFA15A",
           "#636efa",
           "#EF553B",
           "#FFA15A",
           "#636efa",
           "#EF553B",
           "#636efa",
           "#19d3f3",
           "#EF553B",
           "#636efa",
           "#EF553B",
           "#EF553B",
           "#636efa",
           "#FECB52",
           "#EF553B",
           "#EF553B",
           "#EF553B",
           "#B6E880",
           "#00cc96",
           "#FECB52",
           "#FF6692",
           "#EF553B",
           "#FECB52",
           "#FF97FF",
           "#FF97FF",
           "#EF553B",
           "#FF6692",
           "#EF553B",
           "#636efa",
           "#636efa",
           "#EF553B",
           "#EF553B",
           "#FF97FF",
           "#EF553B",
           "#EF553B",
           "#FFA15A",
           "#636efa",
           "#FECB52",
           "#FF97FF",
           "#FF97FF",
           "#EF553B",
           "#FFA15A",
           "#636efa",
           "#EF553B",
           "#FECB52",
           "#EF553B",
           "#FF97FF",
           "#EF553B",
           "#19d3f3",
           "#FF97FF",
           "#FF97FF",
           "#EF553B",
           "#EF553B",
           "#EF553B",
           "#19d3f3",
           "#FFA15A",
           "#19d3f3",
           "#FFA15A",
           "#EF553B",
           "#636efa",
           "#EF553B",
           "#636efa",
           "#EF553B",
           "#FF6692",
           "#FFA15A",
           "#636efa",
           "#FF6692",
           "#FFA15A",
           "#FFA15A",
           "#EF553B",
           "#636efa",
           "#FECB52",
           "#EF553B",
           "#FFA15A",
           "#FF6692",
           "#FFA15A",
           "#EF553B",
           "#FF6692",
           "#FF97FF",
           "#FF97FF",
           "#636efa",
           "#19d3f3",
           "#FF6692",
           "#ab63fa",
           "#636efa",
           "#EF553B",
           "#FF6692",
           "#FF97FF",
           "#B6E880",
           "#FF6692",
           "#00cc96",
           "#00cc96",
           "#FF6692",
           "#EF553B",
           "#FECB52",
           "#EF553B",
           "#FECB52",
           "#ab63fa",
           "#EF553B",
           "#FECB52",
           "#EF553B",
           "#00cc96",
           "#636efa",
           "#FFA15A",
           "#EF553B",
           "#FECB52",
           "#EF553B",
           "#FECB52",
           "#ab63fa",
           "#FFA15A",
           "#B6E880",
           "#00cc96",
           "#EF553B",
           "#FF97FF",
           "#636efa",
           "#EF553B",
           "#FF97FF",
           "#FF97FF",
           "#636efa",
           "#EF553B",
           "#EF553B",
           "#FFA15A",
           "#FFA15A",
           "#FECB52",
           "#FF97FF",
           "#FF97FF",
           "#FF97FF",
           "#FF97FF",
           "#FF97FF",
           "#EF553B",
           "#B6E880",
           "#B6E880",
           "#FF97FF",
           "#FF97FF",
           "#00cc96",
           "#00cc96",
           "#00cc96",
           "#00cc96",
           "#EF553B",
           "#00cc96",
           "#FF6692",
           "#00cc96",
           "#FECB52",
           "#FF97FF",
           "#00cc96",
           "#00cc96",
           "#EF553B",
           "#636efa",
           "#ab63fa",
           "#19d3f3",
           "#FECB52",
           "#636efa",
           "#EF553B",
           "#FF6692",
           "#19d3f3",
           "#FECB52",
           "#FF6692",
           "#636efa",
           "#636efa",
           "#19d3f3",
           "#FFA15A",
           "#FF6692",
           "#B6E880",
           "#EF553B",
           "#FECB52",
           "#00cc96",
           "#ab63fa",
           "#EF553B",
           "#FF6692",
           "#FF97FF",
           "#FF97FF",
           "#00cc96",
           "#FFA15A",
           "#FFA15A",
           "#FECB52",
           "#EF553B",
           "#19d3f3",
           "#FFA15A",
           "#00cc96",
           "#00cc96",
           "#ab63fa",
           "#EF553B",
           "#FF97FF",
           "#B6E880",
           "#19d3f3",
           "#636efa",
           "#EF553B",
           "#636efa",
           "#EF553B",
           "#EF553B",
           "#FF6692",
           "#19d3f3",
           "#FFA15A",
           "#EF553B",
           "#FFA15A",
           "#00cc96",
           "#00cc96",
           "#00cc96",
           "#19d3f3",
           "#FFA15A",
           "#00cc96",
           "#EF553B",
           "#ab63fa",
           "#19d3f3",
           "#636efa",
           "#636efa",
           "#FECB52",
           "#FF6692",
           "#EF553B",
           "#FFA15A",
           "#EF553B",
           "#FF97FF",
           "#FECB52",
           "#EF553B",
           "#B6E880",
           "#FFA15A",
           "#636efa",
           "#636efa",
           "#ab63fa",
           "#B6E880",
           "#00cc96",
           "#636efa",
           "#FFA15A",
           "#636efa",
           "#EF553B",
           "#FFA15A",
           "#FECB52",
           "#ab63fa",
           "#FFA15A",
           "#FFA15A",
           "#EF553B",
           "#636efa",
           "#EF553B",
           "#FF97FF",
           "#FF97FF",
           "#19d3f3",
           "#19d3f3",
           "#FF6692",
           "#B6E880",
           "#19d3f3",
           "#FECB52",
           "#ab63fa",
           "#ab63fa",
           "#00cc96",
           "#FF6692",
           "#19d3f3",
           "#FFA15A",
           "#FECB52",
           "#FF6692",
           "#19d3f3",
           "#636efa",
           "#FFA15A",
           "#00cc96",
           "#00cc96",
           "#B6E880",
           "#EF553B",
           "#B6E880",
           "#EF553B",
           "#00cc96",
           "#FF97FF",
           "#FFA15A",
           "#636efa",
           "#FF6692",
           "#ab63fa",
           "#FF97FF",
           "#FF97FF",
           "#ab63fa",
           "#00cc96",
           "#FECB52",
           "#19d3f3",
           "#FFA15A",
           "#636efa",
           "#636efa",
           "#EF553B",
           "#FF97FF",
           "#EF553B",
           "#636efa",
           "#636efa",
           "#B6E880",
           "#B6E880",
           "#ab63fa",
           "#ab63fa",
           "#B6E880",
           "#B6E880",
           "#B6E880",
           "#B6E880",
           "#FF6692",
           "#B6E880",
           "#B6E880",
           "#636efa",
           "#FFA15A",
           "#19d3f3",
           "#B6E880",
           "#B6E880",
           "#B6E880",
           "#FF6692",
           "#B6E880",
           "#FFA15A",
           "#ab63fa",
           "#B6E880",
           "#B6E880",
           "#B6E880"
          ]
         },
         "name": "",
         "parents": [
          "Home & Kitchen/Kitchen & Dining/Dining & Entertaining/Dinnerware & Serveware/Serveware",
          "Home & Kitchen/Kitchen & Dining/Food Service Equipment & Supplies/Tabletop & Serveware/Condiment Holders & Dispensers",
          "Home & Kitchen/Kitchen & Dining/Kitchen Utensils & Gadgets/Seasoning & Spice Tools/Salt & Pepper",
          "Home & Kitchen/Kitchen & Dining/Dining & Entertaining/Dinnerware & Serveware/Serveware",
          "Home & Kitchen/Kitchen & Dining/Food Service Equipment & Supplies/Tabletop & Serveware/Condiment Holders & Dispensers",
          "Home & Kitchen/Furniture/Bedroom Furniture/Beds, Frames & Bases/Bases & Foundations",
          "Home & Kitchen/Kitchen & Dining/Kitchen Utensils & Gadgets/Kitchen Knives & Accessories/Specialty Knives",
          "Home & Kitchen/Kitchen & Dining/Kitchen Utensils & Gadgets/Bar & Wine Tools/Corkscrews & Openers",
          "Home & Kitchen/Kitchen & Dining/Kitchen Utensils & Gadgets/Seasoning & Spice Tools/Salt & Pepper",
          "Home & Kitchen/Kitchen & Dining/Kitchen Utensils & Gadgets/Seasoning & Spice Tools/Salt & Pepper",
          "Home & Kitchen/Kitchen & Dining/Kitchen Utensils & Gadgets/Seasoning & Spice Tools/Salt & Pepper",
          "Home & Kitchen/Kitchen & Dining/Food Service Equipment & Supplies/Tabletop & Serveware/Condiment Holders & Dispensers",
          "Home & Kitchen/Kitchen & Dining/Kitchen Utensils & Gadgets/Kitchen Knives & Accessories/Asian Knives",
          "Home & Kitchen/Kitchen & Dining/Food Service Equipment & Supplies/Cookware, Bakeware & Tools/Kitchen Knives",
          "Home & Kitchen/Kitchen & Dining/Food Service Equipment & Supplies/Tabletop & Serveware/Kitchen Linens",
          "Home & Kitchen/Kitchen & Dining/Kitchen Utensils & Gadgets/Graters, Peelers & Slicers/Mandolines & Slicers",
          "Home & Kitchen/Kitchen & Dining/Food Service Equipment & Supplies/Cookware, Bakeware & Tools/Kitchen Knives",
          "Home & Kitchen/Kitchen & Dining/Kitchen Utensils & Gadgets/Kitchen Knives & Accessories/Asian Knives",
          "Home & Kitchen/Kitchen & Dining/Kitchen Utensils & Gadgets/Seasoning & Spice Tools/Choppers & Mincers",
          "Home & Kitchen/Kitchen & Dining/Kitchen Utensils & Gadgets/Kitchen Knives & Accessories/Specialty Knives",
          "Home & Kitchen/Kitchen & Dining/Food Service Equipment & Supplies/Tabletop & Serveware/Flatware",
          "Home & Kitchen/Kitchen & Dining/Dining & Entertaining/Dinnerware & Serveware/Serveware",
          "Home & Kitchen/Kitchen & Dining/Food Service Equipment & Supplies/Cookware, Bakeware & Tools/Kitchen Knives",
          "Home & Kitchen/Kitchen & Dining/Food Service Equipment & Supplies/Tabletop & Serveware/Kitchen Linens",
          "Home & Kitchen/Kitchen & Dining/Dining & Entertaining/Tabletop Accessories/Linens",
          "Home & Kitchen/Kitchen & Dining/Dining & Entertaining/Bar Tools & Drinkware/Bar Tools",
          "Home & Kitchen/Kitchen & Dining/Food Service Equipment & Supplies/Tabletop & Serveware/Glassware & Drinkware",
          "Home & Kitchen/Kitchen & Dining/Dining & Entertaining/Bar Tools & Drinkware/Bar Tools",
          "Home & Kitchen/Kitchen & Dining/Dining & Entertaining/Bar Tools & Drinkware/Bar Tools",
          "Home & Kitchen/Kitchen & Dining/Food Service Equipment & Supplies/Tabletop & Serveware/Flatware",
          "Home & Kitchen/Furniture/Living Room Furniture/TV & Media Furniture/Media Storage",
          "Home & Kitchen/Kitchen & Dining/Dining & Entertaining/Glassware & Drinkware/Wine & Champagne Glasses",
          "Home & Kitchen/Kitchen & Dining/Dining & Entertaining/Tabletop Accessories/Linens",
          "Home & Kitchen/Furniture/Game & Recreation Room Furniture/TV & Media Furniture/Media Storage",
          "Home & Kitchen/Furniture/Game & Recreation Room Furniture/Home Bar Furniture/Bars & Wine Cabinets",
          "Home & Kitchen/Kitchen & Dining/Food Service Equipment & Supplies/Tabletop & Serveware/Bar Equipment",
          "Home & Kitchen/Kitchen & Dining/Food Service Equipment & Supplies/Tabletop & Serveware/Glassware & Drinkware",
          "Home & Kitchen/Kitchen & Dining/Food Service Equipment & Supplies/Tabletop & Serveware/Dinnerware",
          "Home & Kitchen/Furniture/Bedroom Furniture/Beds, Frames & Bases/Bases & Foundations",
          "Home & Kitchen/Kitchen & Dining/Food Service Equipment & Supplies/Cookware, Bakeware & Tools/Kitchen Knives",
          "Home & Kitchen/Kitchen & Dining/Dining & Entertaining/Bar Tools & Drinkware/Bar Tools",
          "Home & Kitchen/Home Décor Products/Candles & Holders/Candles/Specialty Candles",
          "Home & Kitchen/Kitchen & Dining/Food Service Equipment & Supplies/Tabletop & Serveware/Bar Equipment",
          "Home & Kitchen/Kitchen & Dining/Dining & Entertaining/Flatware/Spoons",
          "Home & Kitchen/Kitchen & Dining/Food Service Equipment & Supplies/Tabletop & Serveware/Kitchen Linens",
          "Home & Kitchen/Kitchen & Dining/Dining & Entertaining/Tabletop Accessories/Linens",
          "Home & Kitchen/Kitchen & Dining/Food Service Equipment & Supplies/Tabletop & Serveware/Condiment Holders & Dispensers",
          "Home & Kitchen/Kitchen & Dining/Dining & Entertaining/Dinnerware & Serveware/Cream & Sugar",
          "Home & Kitchen/Kitchen & Dining/Bakeware/Decorating Tools/Wrapping & Packaging",
          "Home & Kitchen/Kitchen & Dining/Dining & Entertaining/Dinnerware & Serveware/Serveware",
          "Home & Kitchen/Kitchen & Dining/Kitchen Utensils & Gadgets/Baking Tools/Baking & Pastry Utensils",
          "Home & Kitchen/Kitchen & Dining/Bakeware/Baking Tools & Accessories/Baking & Pastry Utensils",
          "Home & Kitchen/Kitchen & Dining/Dining & Entertaining/Flatware/Servers",
          "Home & Kitchen/Kitchen & Dining/Food Service Equipment & Supplies/Tabletop & Serveware/Linen & Table Accessories",
          "Home & Kitchen/Storage & Organization/Kitchen Storage & Organization/Racks & Holders/Wine Racks & Cabinets",
          "Home & Kitchen/Kitchen & Dining/Dining & Entertaining/Glassware & Drinkware/Cocktail Drinkware",
          "Home & Kitchen/Kitchen & Dining/Dining & Entertaining/Dinnerware & Serveware/Serveware",
          "Home & Kitchen/Kitchen & Dining/Kitchen Utensils & Gadgets/Bar & Wine Tools/Ice Buckets & Tongs",
          "Home & Kitchen/Kitchen & Dining/Dining & Entertaining/Bar Tools & Drinkware/Bar Tools",
          "Home & Kitchen/Kitchen & Dining/Dining & Entertaining/Bar Tools & Drinkware/Bar Tools",
          "Home & Kitchen/Kitchen & Dining/Food Service Equipment & Supplies/Tabletop & Serveware/Kitchen Linens",
          "Home & Kitchen/Kitchen & Dining/Food Service Equipment & Supplies/Tabletop & Serveware/Glassware & Drinkware",
          "Home & Kitchen/Kitchen & Dining/Small Appliances/Coffee, Tea & Espresso Appliances/Kettles & Tea Machines",
          "Home & Kitchen/Kitchen & Dining/Dining & Entertaining/Tabletop Accessories/Linens",
          "Home & Kitchen/Kitchen & Dining/Storage & Organization/Thermoses/Insulated Beverage Containers",
          "Home & Kitchen/Kitchen & Dining/Food Service Equipment & Supplies/Tabletop & Serveware/Condiment Holders & Dispensers",
          "Home & Kitchen/Kitchen & Dining/Dining & Entertaining/Bar Tools & Drinkware/Bar Tools",
          "Home & Kitchen/Kitchen & Dining/Food Service Equipment & Supplies/Tabletop & Serveware/Beverage Serveware",
          "Home & Kitchen/Kitchen & Dining/Food Service Equipment & Supplies/Cookware, Bakeware & Tools/Kitchen Knives",
          "Home & Kitchen/Kitchen & Dining/Food Service Equipment & Supplies/Tabletop & Serveware/Beverage Serveware",
          "Home & Kitchen/Storage & Organization/Kitchen Storage & Organization/Thermoses/Insulated Beverage Containers",
          "Home & Kitchen/Kitchen & Dining/Food Service Equipment & Supplies/Cookware, Bakeware & Tools/Kitchen Knives",
          "Home & Kitchen/Kitchen & Dining/Dining & Entertaining/Flatware/Knives",
          "Home & Kitchen/Kitchen & Dining/Food Service Equipment & Supplies/Tabletop & Serveware/Condiment Holders & Dispensers",
          "Home & Kitchen/Bath/Bathroom Accessories/Holders & Dispensers/Dispensers",
          "Home & Kitchen/Storage & Organization/Kitchen Storage & Organization/Food Storage/Food Containers",
          "Home & Kitchen/Kitchen & Dining/Storage & Organization/Food Storage/Food Containers",
          "Home & Kitchen/Storage & Organization/Kitchen Storage & Organization/Food Storage/Food Containers",
          "Home & Kitchen/Kitchen & Dining/Food Service Equipment & Supplies/Tabletop & Serveware/Serveware & Accessories",
          "Home & Kitchen/Kitchen & Dining/Dining & Entertaining/Dinnerware & Serveware/Serveware",
          "Home & Kitchen/Kitchen & Dining/Food Service Equipment & Supplies/Restaurant Appliances & Equipment/Commercial Food Preparation Equipment",
          "Home & Kitchen/Kitchen & Dining/Coffee, Tea & Espresso/Coffee Maker Parts & Accessories/Coffee Machine Accessories",
          "Home & Kitchen/Kitchen & Dining/Small Appliance Parts & Accessories/Coffee & Espresso Machine Parts & Accessories/Coffee Machine Accessories",
          "Home & Kitchen/Kitchen & Dining/Dining & Entertaining/Dinnerware & Serveware/Teapots & Coffee Servers",
          "Home & Kitchen/Kitchen & Dining/Storage & Organization/Food Storage/Food Containers",
          "Home & Kitchen/Kitchen & Dining/Coffee, Tea & Espresso/Coffee Maker Parts & Accessories/Coffee Machine Accessories",
          "Home & Kitchen/Kitchen & Dining/Small Appliance Parts & Accessories/Coffee & Espresso Machine Parts & Accessories/Coffee Machine Accessories",
          "Home & Kitchen/Kitchen & Dining/Dining & Entertaining/Novelty/Drinkware",
          "Home & Kitchen/Kitchen & Dining/Coffee, Tea & Espresso/Coffee Maker Parts & Accessories/Coffee Machine Accessories",
          "Home & Kitchen/Kitchen & Dining/Small Appliance Parts & Accessories/Coffee & Espresso Machine Parts & Accessories/Coffee Machine Accessories",
          "Home & Kitchen/Kitchen & Dining/Dining & Entertaining/Glassware & Drinkware/Cups, Mugs, & Saucers",
          "Home & Kitchen/Kitchen & Dining/Dining & Entertaining/Bar Tools & Drinkware/Bar Tools",
          "Home & Kitchen/Kitchen & Dining/Dining & Entertaining/Dinnerware & Serveware/Teapots & Coffee Servers",
          "Home & Kitchen/Kitchen & Dining/Kitchen Utensils & Gadgets/Fruit & Vegetable Tools/Corers & Pitters",
          "Home & Kitchen/Kitchen & Dining/Dining & Entertaining/Glassware & Drinkware/Cups, Mugs, & Saucers",
          "Home & Kitchen/Kitchen & Dining/Bakeware/Decorating Tools/Wrapping & Packaging",
          "Home & Kitchen/Furniture/Game & Recreation Room Furniture/TV & Media Furniture/Media Storage",
          "Home & Kitchen/Kitchen & Dining/Food Service Equipment & Supplies/Tabletop & Serveware/Glassware & Drinkware",
          "Home & Kitchen/Kitchen & Dining/Storage & Organization/Thermoses/Insulated Beverage Containers",
          "Home & Kitchen/Storage & Organization/Kitchen Storage & Organization/Thermoses/Insulated Beverage Containers",
          "Home & Kitchen/Kitchen & Dining/Dining & Entertaining/Dinnerware & Serveware/Serveware",
          "Home & Kitchen/Kitchen & Dining/Kitchen Utensils & Gadgets/Kitchen Accessories/Cookbook Stands & Recipe Holders",
          "Home & Kitchen/Kitchen & Dining/Dining & Entertaining/Dinnerware & Serveware/Cream & Sugar",
          "Home & Kitchen/Kitchen & Dining/Food Service Equipment & Supplies/Tabletop & Serveware/Serveware & Accessories",
          "Home & Kitchen/Furniture/Living Room Furniture/TV & Media Furniture/Media Storage",
          "Home & Kitchen/Kitchen & Dining/Kitchen Utensils & Gadgets/Baking Tools/Baking & Pastry Utensils",
          "Home & Kitchen/Bath/Bathroom Accessories/Shower Curtains, Hooks & Liners/Shower Curtain Hangers",
          "Home & Kitchen/Kitchen & Dining/Kitchen Utensils & Gadgets/Measuring Tools & Scales/Scales",
          "Home & Kitchen/Kitchen & Dining/Dining & Entertaining/Flatware/Forks",
          "Home & Kitchen/Kitchen & Dining/Dining & Entertaining/Flatware/Knives",
          "Home & Kitchen/Kitchen & Dining/Food Service Equipment & Supplies/Tabletop & Serveware/Serveware & Accessories",
          "Home & Kitchen/Kitchen & Dining/Food Service Equipment & Supplies/Tabletop & Serveware/Kitchen Linens",
          "Home & Kitchen/Kitchen & Dining/Kitchen Utensils & Gadgets/Kitchen Knives & Accessories/Asian Knives",
          "Home & Kitchen/Kitchen & Dining/Dining & Entertaining/Tabletop Accessories/Linens",
          "Home & Kitchen/Kitchen & Dining/Food Service Equipment & Supplies/Tabletop & Serveware/Kitchen Linens",
          "Home & Kitchen/Kitchen & Dining/Food Service Equipment & Supplies/Tabletop & Serveware/Dinnerware",
          "Home & Kitchen/Kitchen & Dining/Dining & Entertaining/Dinnerware & Serveware/Dinnerware",
          "Home & Kitchen/Kitchen & Dining/Dining & Entertaining/Tabletop Accessories/Linens",
          "Home & Kitchen/Kitchen & Dining/Bakeware/Baking Tools & Accessories/Baking & Pastry Utensils",
          "Home & Kitchen/Kitchen & Dining/Food Service Equipment & Supplies/Tabletop & Serveware/Condiment Holders & Dispensers",
          "Home & Kitchen/Kitchen & Dining/Coffee, Tea & Espresso/Coffee Maker Parts & Accessories/Espresso Machine Accessories",
          "Home & Kitchen/Kitchen & Dining/Dining & Entertaining/Dinnerware & Serveware/Serveware",
          "Home & Kitchen/Kitchen & Dining/Coffee, Tea & Espresso/Tea Accessories/Tea Strainers & Filters",
          "Home & Kitchen/Kitchen & Dining/Dining & Entertaining/Flatware/Serving Utensils",
          "Home & Kitchen/Kitchen & Dining/Dining & Entertaining/Dinnerware & Serveware/Serveware",
          "Home & Kitchen/Kitchen & Dining/Coffee, Tea & Espresso/Tea Accessories/Tea Strainers & Filters",
          "Home & Kitchen/Kitchen & Dining/Dining & Entertaining/Dinnerware & Serveware/Serveware",
          "Home & Kitchen/Kitchen & Dining/Small Appliance Parts & Accessories/Coffee & Espresso Machine Parts & Accessories/Espresso Machine Accessories",
          "Home & Kitchen/Kitchen & Dining/Food Service Equipment & Supplies/Tabletop & Serveware/Glassware & Drinkware",
          "Home & Kitchen/Kitchen & Dining/Dining & Entertaining/Dinnerware & Serveware/Serveware",
          "Home & Kitchen/Kitchen & Dining/Food Service Equipment & Supplies/Tabletop & Serveware/Flatware",
          "Home & Kitchen/Kitchen & Dining/Food Service Equipment & Supplies/Tabletop & Serveware/Serveware & Accessories",
          "Home & Kitchen/Kitchen & Dining/Dining & Entertaining/Dinnerware & Serveware/Serveware",
          "Home & Kitchen/Kitchen & Dining/Dining & Entertaining/Bar Tools & Drinkware/Cocktail Drinkware",
          "Home & Kitchen/Kitchen & Dining/Dining & Entertaining/Glassware & Drinkware/Cocktail Drinkware",
          "Home & Kitchen/Kitchen & Dining/Food Service Equipment & Supplies/Tabletop & Serveware/Glassware & Drinkware",
          "Home & Kitchen/Kitchen & Dining/Food Service Equipment & Supplies/Tabletop & Serveware/Serveware & Accessories",
          "Home & Kitchen/Kitchen & Dining/Kitchen Utensils & Gadgets/Graters, Peelers & Slicers/Mandolines & Slicers",
          "Home & Kitchen/Kitchen & Dining/Kitchen Utensils & Gadgets/Cheese Tools/Fondue Sets & Accessories",
          "Home & Kitchen/Kitchen & Dining/Small Appliances/Coffee, Tea & Espresso Appliances/Kettles & Tea Machines",
          "Home & Kitchen/Kitchen & Dining/Food Service Equipment & Supplies/Cookware, Bakeware & Tools/Kitchen Knives",
          "Home & Kitchen/Kitchen & Dining/Dining & Entertaining/Glassware & Drinkware/Cups, Mugs, & Saucers",
          "Home & Kitchen/Kitchen & Dining/Dining & Entertaining/Bar Tools & Drinkware/Bar Tools",
          "Home & Kitchen/Storage & Organization/Kitchen Storage & Organization/Racks & Holders/Cabinet & Drawer Organization",
          "Home & Kitchen/Kitchen & Dining/Storage & Organization/Racks & Holders/Cabinet & Drawer Organization",
          "Home & Kitchen/Kitchen & Dining/Food Service Equipment & Supplies/Tabletop & Serveware/Flatware",
          "Home & Kitchen/Kitchen & Dining/Food Service Equipment & Supplies/Cookware, Bakeware & Tools/Kitchen Knives",
          "Home & Kitchen/Kitchen & Dining/Food Service Equipment & Supplies/Tabletop & Serveware/Flatware",
          "Home & Kitchen/Kitchen & Dining/Dining & Entertaining/Dinnerware & Serveware/Serveware",
          "Home & Kitchen/Kitchen & Dining/Dining & Entertaining/Dinnerware & Serveware/Serveware",
          "Home & Kitchen/Kitchen & Dining/Food Service Equipment & Supplies/Tabletop & Serveware/Serveware & Accessories",
          "Home & Kitchen/Kitchen & Dining/Food Service Equipment & Supplies/Tabletop & Serveware/Kitchen Linens",
          "Home & Kitchen/Kitchen & Dining/Dining & Entertaining/Tabletop Accessories/Linens",
          "Home & Kitchen/Kitchen & Dining/Food Service Equipment & Supplies/Tabletop & Serveware/Kitchen Linens",
          "Home & Kitchen/Kitchen & Dining/Food Service Equipment & Supplies/Tabletop & Serveware/Glassware & Drinkware",
          "Home & Kitchen/Kitchen & Dining/Dining & Entertaining/Flatware/Forks",
          "Home & Kitchen/Kitchen & Dining/Dining & Entertaining/Dinnerware & Serveware/Serveware",
          "Home & Kitchen/Kitchen & Dining/Dining & Entertaining/Bar Tools & Drinkware/Liqueur & Spirits Glasses",
          "Home & Kitchen/Kitchen & Dining/Storage & Organization/Racks & Holders/Cabinet & Drawer Organization",
          "Home & Kitchen/Storage & Organization/Kitchen Storage & Organization/Racks & Holders/Cabinet & Drawer Organization",
          "Home & Kitchen/Kitchen & Dining/Food Service Equipment & Supplies/Tabletop & Serveware/Flatware",
          "Home & Kitchen/Kitchen & Dining/Dining & Entertaining/Flatware/Spoons",
          "Home & Kitchen/Kitchen & Dining/Dining & Entertaining/Dinnerware & Serveware/Serveware",
          "Home & Kitchen/Kitchen & Dining/Food Service Equipment & Supplies/Tabletop & Serveware/Flatware",
          "Home & Kitchen/Bath/Bathroom Accessories/Shower Curtains, Hooks & Liners/Shower Curtain Hangers",
          "Home & Kitchen/Kitchen & Dining/Dining & Entertaining/Glassware & Drinkware/Liqueur & Spirits Glasses",
          "Home & Kitchen/Storage & Organization/Kitchen Storage & Organization/Racks & Holders/Wine Racks & Cabinets",
          "Home & Kitchen/Bath/Bathroom Accessories/Holders & Dispensers/Dispensers",
          "Home & Kitchen/Kitchen & Dining/Kitchen Utensils & Gadgets/Bar & Wine Tools/Corkscrews & Openers",
          "Home & Kitchen/Storage & Organization/Kitchen Storage & Organization/Racks & Holders/Wine Racks & Cabinets",
          "Home & Kitchen/Kitchen & Dining/Storage & Organization/Racks & Holders/Wine Racks & Cabinets",
          "Home & Kitchen/Kitchen & Dining/Food Service Equipment & Supplies/Tabletop & Serveware/Glassware & Drinkware",
          "Home & Kitchen/Kitchen & Dining/Food Service Equipment & Supplies/Tabletop & Serveware/Beverage Serveware",
          "Home & Kitchen/Kitchen & Dining/Dining & Entertaining/Glassware & Drinkware/Wine & Champagne Glasses",
          "Home & Kitchen/Kitchen & Dining/Kitchen Utensils & Gadgets/Bar & Wine Tools/Wine Stoppers & Pourers",
          "Home & Kitchen/Kitchen & Dining/Coffee, Tea & Espresso/Coffee Maker Parts & Accessories/Coffee Machine Accessories",
          "Home & Kitchen/Kitchen & Dining/Small Appliance Parts & Accessories/Coffee & Espresso Machine Parts & Accessories/Coffee Machine Accessories",
          "Home & Kitchen/Kitchen & Dining/Dining & Entertaining/Flatware/Spoons",
          "Home & Kitchen/Kitchen & Dining/Food Service Equipment & Supplies/Tabletop & Serveware/Serveware & Accessories",
          "Home & Kitchen/Kitchen & Dining/Dining & Entertaining/Dinnerware & Serveware/Teapots & Coffee Servers",
          "Home & Kitchen/Kitchen & Dining/Food Service Equipment & Supplies/Tabletop & Serveware/Dinnerware",
          "Home & Kitchen/Kitchen & Dining/Dining & Entertaining/Dinnerware & Serveware/Dinnerware",
          "Home & Kitchen/Kitchen & Dining/Dining & Entertaining/Glassware & Drinkware/Cups, Mugs, & Saucers",
          "Home & Kitchen/Kitchen & Dining/Food Service Equipment & Supplies/Cookware, Bakeware & Tools/Kitchen Knives",
          "Home & Kitchen/Kitchen & Dining/Kitchen Utensils & Gadgets/Kitchen Knives & Accessories/Asian Knives",
          "Home & Kitchen/Kitchen & Dining/Dining & Entertaining/Dinnerware & Serveware/Teapots & Coffee Servers",
          "Home & Kitchen/Kitchen & Dining/Food Service Equipment & Supplies/Cookware, Bakeware & Tools/Kitchen Knives",
          "Home & Kitchen/Kitchen & Dining/Dining & Entertaining/Flatware/Knives",
          "Home & Kitchen/Kitchen & Dining/Dining & Entertaining/Flatware/Flatware Sets",
          "Home & Kitchen/Kitchen & Dining/Food Service Equipment & Supplies/Tabletop & Serveware/Flatware",
          "Home & Kitchen/Kitchen & Dining/Dining & Entertaining/Dinnerware & Serveware/Cream & Sugar",
          "Home & Kitchen/Kitchen & Dining/Dining & Entertaining/Bar Tools & Drinkware/Liqueur & Spirits Glasses",
          "Home & Kitchen/Kitchen & Dining/Dining & Entertaining/Glassware & Drinkware/Liqueur & Spirits Glasses",
          "Home & Kitchen/Kitchen & Dining/Dining & Entertaining/Flatware/Forks",
          "Home & Kitchen/Kitchen & Dining/Food Service Equipment & Supplies/Cookware, Bakeware & Tools/Kitchen Knives",
          "Home & Kitchen/Kitchen & Dining/Dining & Entertaining/Flatware/Chopstick & Cutlery Rests",
          "Home & Kitchen/Kitchen & Dining/Food Service Equipment & Supplies/Tabletop & Serveware/Condiment Holders & Dispensers",
          "Home & Kitchen/Kitchen & Dining/Food Service Equipment & Supplies/Cookware, Bakeware & Tools/Kitchen Knives",
          "Home & Kitchen/Kitchen & Dining/Dining & Entertaining/Tabletop Accessories/Linens",
          "Home & Kitchen/Kitchen & Dining/Storage & Organization/Racks & Holders/Wine Racks & Cabinets",
          "Home & Kitchen/Kitchen & Dining/Dining & Entertaining/Dinnerware & Serveware/Dinnerware",
          "Home & Kitchen/Kitchen & Dining/Kitchen Utensils & Gadgets/Bar & Wine Tools/Corkscrews & Openers",
          "Home & Kitchen/Kitchen & Dining/Food Service Equipment & Supplies/Cookware, Bakeware & Tools/Kitchen Knives",
          "Home & Kitchen/Home Décor Products/Candles & Holders/Candles/Specialty Candles",
          "Home & Kitchen/Kitchen & Dining/Dining & Entertaining/Dinnerware & Serveware/Serveware",
          "Home & Kitchen/Bath/Bathroom Accessories/Holders & Dispensers/Dispensers",
          "Home & Kitchen/Kitchen & Dining/Food Service Equipment & Supplies/Cookware, Bakeware & Tools/Kitchen Knives",
          "Home & Kitchen/Kitchen & Dining/Storage & Organization/Racks & Holders/Cabinet & Drawer Organization",
          "Home & Kitchen/Kitchen & Dining/Bakeware/Baking Tools & Accessories/Baking & Pastry Utensils",
          "Home & Kitchen/Kitchen & Dining/Kitchen Utensils & Gadgets/Baking Tools/Baking & Pastry Utensils",
          "Home & Kitchen/Kitchen & Dining/Storage & Organization/Food Storage/Food Containers",
          "Home & Kitchen/Storage & Organization/Kitchen Storage & Organization/Food Storage/Food Containers",
          "Home & Kitchen/Kitchen & Dining/Food Service Equipment & Supplies/Cookware, Bakeware & Tools/Kitchen Knives",
          "Home & Kitchen/Kitchen & Dining/Dining & Entertaining/Glassware & Drinkware/Liqueur & Spirits Glasses",
          "Home & Kitchen/Kitchen & Dining/Dining & Entertaining/Bar Tools & Drinkware/Liqueur & Spirits Glasses",
          "Home & Kitchen/Kitchen & Dining/Dining & Entertaining/Glassware & Drinkware/Cocktail Drinkware",
          "Home & Kitchen/Kitchen & Dining/Dining & Entertaining/Bar Tools & Drinkware/Cocktail Drinkware",
          "Home & Kitchen/Home Décor Products/Candles & Holders/Candles/Specialty Candles",
          "Home & Kitchen/Kitchen & Dining/Dining & Entertaining/Glassware & Drinkware/Cups, Mugs, & Saucers",
          "Home & Kitchen/Kitchen & Dining/Dining & Entertaining/Bar Tools & Drinkware/Bar Tools",
          "Home & Kitchen/Kitchen & Dining/Food Service Equipment & Supplies/Tabletop & Serveware/Glassware & Drinkware",
          "Home & Kitchen/Kitchen & Dining/Kitchen Utensils & Gadgets/Seasoning & Spice Tools/Choppers & Mincers",
          "Home & Kitchen/Kitchen & Dining/Kitchen Utensils & Gadgets/Measuring Tools & Scales/Scales",
          "Home & Kitchen/Kitchen & Dining/Kitchen Utensils & Gadgets/Kitchen Knives & Accessories/Cleavers",
          "Home & Kitchen/Kitchen & Dining/Dining & Entertaining/Glassware & Drinkware/Cocktail Drinkware",
          "Home & Kitchen/Kitchen & Dining/Dining & Entertaining/Bar Tools & Drinkware/Cocktail Drinkware",
          "Home & Kitchen/Kitchen & Dining/Dining & Entertaining/Glassware & Drinkware/Cocktail Drinkware",
          "Home & Kitchen/Kitchen & Dining/Dining & Entertaining/Bar Tools & Drinkware/Cocktail Drinkware",
          "Home & Kitchen/Kitchen & Dining/Kitchen Utensils & Gadgets/Pasta & Pizza Tools/Pasta Makers & Accessories",
          "Home & Kitchen/Heating, Cooling & Air Quality/Parts & Accessories/Stove & Fireplace Accessories/Mantels & Surrounds",
          "Home & Kitchen/Kitchen & Dining/Kitchen Utensils & Gadgets/Graters, Peelers & Slicers/Mandolines & Slicers",
          "Home & Kitchen/Kitchen & Dining/Kitchen Utensils & Gadgets/Seasoning & Spice Tools/Salt & Pepper",
          "Home & Kitchen/Kitchen & Dining/Food Service Equipment & Supplies/Tabletop & Serveware/Kitchen Linens",
          "Home & Kitchen/Kitchen & Dining/Dining & Entertaining/Tabletop Accessories/Linens",
          "Home & Kitchen/Kitchen & Dining/Dining & Entertaining/Dinnerware & Serveware/Dinnerware",
          "Home & Kitchen/Kitchen & Dining/Food Service Equipment & Supplies/Tabletop & Serveware/Flatware",
          "Home & Kitchen/Storage & Organization/Kitchen Storage & Organization/Racks & Holders/Cabinet & Drawer Organization",
          "Home & Kitchen/Kitchen & Dining/Storage & Organization/Racks & Holders/Cabinet & Drawer Organization",
          "Home & Kitchen/Kitchen & Dining/Dining & Entertaining/Dinnerware & Serveware/Serveware",
          "Home & Kitchen/Kitchen & Dining/Food Service Equipment & Supplies/Tabletop & Serveware/Glassware & Drinkware",
          "Home & Kitchen/Kitchen & Dining/Coffee, Tea & Espresso/Tea Accessories/Tea Strainers & Filters",
          "Home & Kitchen/Kitchen & Dining/Dining & Entertaining/Flatware/Servers",
          "Home & Kitchen/Kitchen & Dining/Dining & Entertaining/Flatware/Forks",
          "Home & Kitchen/Kitchen & Dining/Dining & Entertaining/Bar Tools & Drinkware/Bar Tools",
          "Home & Kitchen/Kitchen & Dining/Kitchen Utensils & Gadgets/Kitchen Accessories/Cookbook Stands & Recipe Holders",
          "Home & Kitchen/Kitchen & Dining/Storage & Organization/Racks & Holders/Cabinet & Drawer Organization",
          "Home & Kitchen/Storage & Organization/Kitchen Storage & Organization/Racks & Holders/Cabinet & Drawer Organization",
          "Home & Kitchen/Storage & Organization/Kitchen Storage & Organization/Racks & Holders/Cabinet & Drawer Organization",
          "Home & Kitchen/Kitchen & Dining/Dining & Entertaining/Tabletop Accessories/Linens",
          "Home & Kitchen/Kitchen & Dining/Food Service Equipment & Supplies/Tabletop & Serveware/Kitchen Linens",
          "Home & Kitchen/Kitchen & Dining/Kitchen Utensils & Gadgets/Fruit & Vegetable Tools/Potato Mashers & Ricers",
          "Home & Kitchen/Kitchen & Dining/Kitchen Utensils & Gadgets/Fruit & Vegetable Tools/Potato Mashers & Ricers",
          "Home & Kitchen/Kitchen & Dining/Storage & Organization/Racks & Holders/Cabinet & Drawer Organization",
          "Home & Kitchen/Storage & Organization/Kitchen Storage & Organization/Racks & Holders/Cabinet & Drawer Organization",
          "Home & Kitchen/Kitchen & Dining/Storage & Organization/Food Storage/Coffee Pod Holders",
          "Home & Kitchen/Storage & Organization/Kitchen Storage & Organization/Food Storage/Coffee Pod Holders",
          "Home & Kitchen/Kitchen & Dining/Storage & Organization/Food Storage/Coffee Pod Holders",
          "Home & Kitchen/Storage & Organization/Kitchen Storage & Organization/Food Storage/Coffee Pod Holders",
          "Home & Kitchen/Kitchen & Dining/Food Service Equipment & Supplies/Tabletop & Serveware/Dinnerware",
          "Home & Kitchen/Kitchen & Dining/Kitchen Utensils & Gadgets/Cheese Tools/Fondue Sets & Accessories",
          "Home & Kitchen/Kitchen & Dining/Food Service Equipment & Supplies/Cookware, Bakeware & Tools/Kitchen Knives",
          "Home & Kitchen/Kitchen & Dining/Kitchen Utensils & Gadgets/Seasoning & Spice Tools/Garlic Tools",
          "Home & Kitchen/Kitchen & Dining/Dining & Entertaining/Bar Tools & Drinkware/Bar Tools",
          "Home & Kitchen/Kitchen & Dining/Storage & Organization/Racks & Holders/Wine Racks & Cabinets",
          "Home & Kitchen/Kitchen & Dining/Kitchen Utensils & Gadgets/Seasoning & Spice Tools/Garlic Tools",
          "Home & Kitchen/Kitchen & Dining/Kitchen Utensils & Gadgets/Seasoning & Spice Tools/Garlic Tools",
          "Home & Kitchen/Kitchen & Dining/Food Service Equipment & Supplies/Tabletop & Serveware/Condiment Holders & Dispensers",
          "Home & Kitchen/Kitchen & Dining/Dining & Entertaining/Dinnerware & Serveware/Serveware",
          "Home & Kitchen/Furniture/Bedroom Furniture/Beds, Frames & Bases/Headboards & Footboards",
          "Home & Kitchen/Kitchen & Dining/Small Appliances/Specialty Appliances/Food Grinders & Mills",
          "Home & Kitchen/Kitchen & Dining/Dining & Entertaining/Bar Tools & Drinkware/Cocktail Drinkware",
          "Home & Kitchen/Kitchen & Dining/Dining & Entertaining/Dinnerware & Serveware/Serveware",
          "Home & Kitchen/Kitchen & Dining/Food Service Equipment & Supplies/Tabletop & Serveware/Beverage Serveware",
          "Home & Kitchen/Kitchen & Dining/Food Service Equipment & Supplies/Cookware, Bakeware & Tools/Kitchen Knives",
          "Home & Kitchen/Kitchen & Dining/Kitchen Utensils & Gadgets/Bar & Wine Tools/Wine Stoppers & Pourers",
          "Home & Kitchen/Kitchen & Dining/Dining & Entertaining/Bar Tools & Drinkware/Bar Tools",
          "Home & Kitchen/Cleaning Supplies/Household Cleaners/Cleaning Tools/Brushes",
          "Home & Kitchen/Storage & Organization/Kitchen Storage & Organization/Thermoses/Insulated Beverage Containers",
          "Home & Kitchen/Kitchen & Dining/Storage & Organization/Thermoses/Insulated Beverage Containers",
          "Home & Kitchen/Kitchen & Dining/Kitchen Utensils & Gadgets/Bar & Wine Tools/Corkscrews & Openers",
          "Home & Kitchen/Kitchen & Dining/Kitchen Utensils & Gadgets/Kitchen Knives & Accessories",
          "Home & Kitchen/Kitchen & Dining/Kitchen Utensils & Gadgets/Baking Tools",
          "Home & Kitchen/Kitchen & Dining/Bakeware/Baking Tools & Accessories",
          "Home & Kitchen/Kitchen & Dining/Food Service Equipment & Supplies/Tabletop & Serveware",
          "Home & Kitchen/Kitchen & Dining/Dining & Entertaining/Bar Tools & Drinkware",
          "Home & Kitchen/Furniture/Game & Recreation Room Furniture/Home Bar Furniture",
          "Home & Kitchen/Furniture/Bedroom Furniture/Beds, Frames & Bases",
          "Home & Kitchen/Kitchen & Dining/Food Service Equipment & Supplies/Tabletop & Serveware",
          "Home & Kitchen/Cleaning Supplies/Household Cleaners/Cleaning Tools",
          "Home & Kitchen/Storage & Organization/Kitchen Storage & Organization/Racks & Holders",
          "Home & Kitchen/Kitchen & Dining/Storage & Organization/Racks & Holders",
          "Home & Kitchen/Kitchen & Dining/Kitchen Utensils & Gadgets/Seasoning & Spice Tools",
          "Home & Kitchen/Kitchen & Dining/Dining & Entertaining/Flatware",
          "Home & Kitchen/Kitchen & Dining/Kitchen Utensils & Gadgets/Kitchen Knives & Accessories",
          "Home & Kitchen/Kitchen & Dining/Dining & Entertaining/Bar Tools & Drinkware",
          "Home & Kitchen/Kitchen & Dining/Dining & Entertaining/Glassware & Drinkware",
          "Home & Kitchen/Kitchen & Dining/Small Appliance Parts & Accessories/Coffee & Espresso Machine Parts & Accessories",
          "Home & Kitchen/Kitchen & Dining/Coffee, Tea & Espresso/Coffee Maker Parts & Accessories",
          "Home & Kitchen/Storage & Organization/Kitchen Storage & Organization/Food Storage",
          "Home & Kitchen/Kitchen & Dining/Storage & Organization/Food Storage",
          "Home & Kitchen/Kitchen & Dining/Food Service Equipment & Supplies/Restaurant Appliances & Equipment",
          "Home & Kitchen/Kitchen & Dining/Food Service Equipment & Supplies/Tabletop & Serveware",
          "Home & Kitchen/Kitchen & Dining/Kitchen Utensils & Gadgets/Kitchen Accessories",
          "Home & Kitchen/Kitchen & Dining/Kitchen Utensils & Gadgets/Fruit & Vegetable Tools",
          "Home & Kitchen/Kitchen & Dining/Kitchen Utensils & Gadgets/Bar & Wine Tools",
          "Home & Kitchen/Kitchen & Dining/Dining & Entertaining/Dinnerware & Serveware",
          "Home & Kitchen/Kitchen & Dining/Dining & Entertaining/Glassware & Drinkware",
          "Home & Kitchen/Kitchen & Dining/Dining & Entertaining/Dinnerware & Serveware",
          "Home & Kitchen/Kitchen & Dining/Food Service Equipment & Supplies/Tabletop & Serveware",
          "Home & Kitchen/Bath/Bathroom Accessories/Holders & Dispensers",
          "Home & Kitchen/Kitchen & Dining/Dining & Entertaining/Novelty",
          "Home & Kitchen/Kitchen & Dining/Small Appliance Parts & Accessories/Coffee & Espresso Machine Parts & Accessories",
          "Home & Kitchen/Kitchen & Dining/Coffee, Tea & Espresso/Coffee Maker Parts & Accessories",
          "Home & Kitchen/Kitchen & Dining/Food Service Equipment & Supplies/Tabletop & Serveware",
          "Home & Kitchen/Kitchen & Dining/Dining & Entertaining/Flatware",
          "Home & Kitchen/Kitchen & Dining/Kitchen Utensils & Gadgets/Cheese Tools",
          "Home & Kitchen/Storage & Organization/Kitchen Storage & Organization/Food Storage",
          "Home & Kitchen/Kitchen & Dining/Storage & Organization/Food Storage",
          "Home & Kitchen/Kitchen & Dining/Small Appliances/Specialty Appliances",
          "Home & Kitchen/Kitchen & Dining/Dining & Entertaining/Flatware",
          "Home & Kitchen/Kitchen & Dining/Kitchen Utensils & Gadgets/Seasoning & Spice Tools",
          "Home & Kitchen/Kitchen & Dining/Food Service Equipment & Supplies/Tabletop & Serveware",
          "Home & Kitchen/Furniture/Bedroom Furniture/Beds, Frames & Bases",
          "Home & Kitchen/Kitchen & Dining/Kitchen Utensils & Gadgets/Bar & Wine Tools",
          "Home & Kitchen/Storage & Organization/Kitchen Storage & Organization/Thermoses",
          "Home & Kitchen/Kitchen & Dining/Storage & Organization/Thermoses",
          "Home & Kitchen/Kitchen & Dining/Small Appliances/Coffee, Tea & Espresso Appliances",
          "Home & Kitchen/Kitchen & Dining/Food Service Equipment & Supplies/Cookware, Bakeware & Tools",
          "Home & Kitchen/Kitchen & Dining/Food Service Equipment & Supplies/Tabletop & Serveware",
          "Home & Kitchen/Kitchen & Dining/Dining & Entertaining/Flatware",
          "Home & Kitchen/Kitchen & Dining/Food Service Equipment & Supplies/Tabletop & Serveware",
          "Home & Kitchen/Kitchen & Dining/Dining & Entertaining/Tabletop Accessories",
          "Home & Kitchen/Kitchen & Dining/Dining & Entertaining/Bar Tools & Drinkware",
          "Home & Kitchen/Kitchen & Dining/Dining & Entertaining/Glassware & Drinkware",
          "Home & Kitchen/Kitchen & Dining/Kitchen Utensils & Gadgets/Graters, Peelers & Slicers",
          "Home & Kitchen/Heating, Cooling & Air Quality/Parts & Accessories/Stove & Fireplace Accessories",
          "Home & Kitchen/Furniture/Game & Recreation Room Furniture/TV & Media Furniture",
          "Home & Kitchen/Furniture/Living Room Furniture/TV & Media Furniture",
          "Home & Kitchen/Kitchen & Dining/Kitchen Utensils & Gadgets/Pasta & Pizza Tools",
          "Home & Kitchen/Kitchen & Dining/Kitchen Utensils & Gadgets/Fruit & Vegetable Tools",
          "Home & Kitchen/Kitchen & Dining/Kitchen Utensils & Gadgets/Seasoning & Spice Tools",
          "Home & Kitchen/Kitchen & Dining/Kitchen Utensils & Gadgets/Measuring Tools & Scales",
          "Home & Kitchen/Kitchen & Dining/Dining & Entertaining/Flatware",
          "Home & Kitchen/Kitchen & Dining/Dining & Entertaining/Dinnerware & Serveware",
          "Home & Kitchen/Kitchen & Dining/Food Service Equipment & Supplies/Tabletop & Serveware",
          "Home & Kitchen/Kitchen & Dining/Dining & Entertaining/Flatware",
          "Home & Kitchen/Bath/Bathroom Accessories/Shower Curtains, Hooks & Liners",
          "Home & Kitchen/Home Décor Products/Candles & Holders/Candles",
          "Home & Kitchen/Kitchen & Dining/Kitchen Utensils & Gadgets/Kitchen Knives & Accessories",
          "Home & Kitchen/Kitchen & Dining/Dining & Entertaining/Flatware",
          "Home & Kitchen/Kitchen & Dining/Coffee, Tea & Espresso/Tea Accessories",
          "Home & Kitchen/Kitchen & Dining/Dining & Entertaining/Dinnerware & Serveware",
          "Home & Kitchen/Kitchen & Dining/Dining & Entertaining/Glassware & Drinkware",
          "Home & Kitchen/Storage & Organization/Kitchen Storage & Organization/Racks & Holders",
          "Home & Kitchen/Kitchen & Dining/Storage & Organization/Racks & Holders",
          "Home & Kitchen/Kitchen & Dining/Kitchen Utensils & Gadgets/Bar & Wine Tools",
          "Home & Kitchen/Kitchen & Dining/Bakeware/Decorating Tools",
          "Home & Kitchen/Kitchen & Dining/Kitchen Utensils & Gadgets",
          "Home & Kitchen/Kitchen & Dining/Bakeware",
          "Home & Kitchen/Kitchen & Dining/Kitchen Utensils & Gadgets",
          "Home & Kitchen/Kitchen & Dining/Dining & Entertaining",
          "Home & Kitchen/Furniture/Bedroom Furniture",
          "Home & Kitchen/Home Décor Products/Candles & Holders",
          "Home & Kitchen/Kitchen & Dining/Kitchen Utensils & Gadgets",
          "Home & Kitchen/Cleaning Supplies/Household Cleaners",
          "Home & Kitchen/Kitchen & Dining/Small Appliance Parts & Accessories",
          "Home & Kitchen/Kitchen & Dining/Coffee, Tea & Espresso",
          "Home & Kitchen/Kitchen & Dining/Small Appliances",
          "Home & Kitchen/Kitchen & Dining/Food Service Equipment & Supplies",
          "Home & Kitchen/Kitchen & Dining/Bakeware",
          "Home & Kitchen/Kitchen & Dining/Dining & Entertaining",
          "Home & Kitchen/Kitchen & Dining/Dining & Entertaining",
          "Home & Kitchen/Storage & Organization/Kitchen Storage & Organization",
          "Home & Kitchen/Kitchen & Dining/Storage & Organization",
          "Home & Kitchen/Kitchen & Dining/Kitchen Utensils & Gadgets",
          "Home & Kitchen/Kitchen & Dining/Dining & Entertaining",
          "Home & Kitchen/Kitchen & Dining/Kitchen Utensils & Gadgets",
          "Home & Kitchen/Bath/Bathroom Accessories",
          "Home & Kitchen/Furniture/Game & Recreation Room Furniture",
          "Home & Kitchen/Kitchen & Dining/Kitchen Utensils & Gadgets",
          "Home & Kitchen/Kitchen & Dining/Kitchen Utensils & Gadgets",
          "Home & Kitchen/Kitchen & Dining/Kitchen Utensils & Gadgets",
          "Home & Kitchen/Kitchen & Dining/Dining & Entertaining",
          "Home & Kitchen/Kitchen & Dining/Kitchen Utensils & Gadgets",
          "Home & Kitchen/Storage & Organization/Kitchen Storage & Organization",
          "Home & Kitchen/Kitchen & Dining/Storage & Organization",
          "Home & Kitchen/Kitchen & Dining/Food Service Equipment & Supplies",
          "Home & Kitchen/Kitchen & Dining/Kitchen Utensils & Gadgets",
          "Home & Kitchen/Bath/Bathroom Accessories",
          "Home & Kitchen/Kitchen & Dining/Small Appliances",
          "Home & Kitchen/Heating, Cooling & Air Quality/Parts & Accessories",
          "Home & Kitchen/Furniture/Game & Recreation Room Furniture",
          "Home & Kitchen/Furniture/Living Room Furniture",
          "Home & Kitchen/Kitchen & Dining/Food Service Equipment & Supplies",
          "Home & Kitchen/Kitchen & Dining/Dining & Entertaining",
          "Home & Kitchen/Kitchen & Dining/Coffee, Tea & Espresso",
          "Home & Kitchen/Storage & Organization/Kitchen Storage & Organization",
          "Home & Kitchen/Kitchen & Dining/Storage & Organization",
          "Home & Kitchen/Kitchen & Dining",
          "Home & Kitchen/Bath",
          "Home & Kitchen/Furniture",
          "Home & Kitchen/Home Décor Products",
          "Home & Kitchen/Kitchen & Dining",
          "Home & Kitchen/Kitchen & Dining",
          "Home & Kitchen/Kitchen & Dining",
          "Home & Kitchen/Furniture",
          "Home & Kitchen/Cleaning Supplies",
          "Home & Kitchen/Storage & Organization",
          "Home & Kitchen/Kitchen & Dining",
          "Home & Kitchen/Furniture",
          "Home & Kitchen/Heating, Cooling & Air Quality",
          "Home & Kitchen/Kitchen & Dining",
          "Home & Kitchen/Kitchen & Dining",
          "Home & Kitchen/Kitchen & Dining",
          "Home & Kitchen",
          "Home & Kitchen",
          "Home & Kitchen",
          "Home & Kitchen",
          "Home & Kitchen",
          "Home & Kitchen",
          "Home & Kitchen",
          ""
         ],
         "textinfo": "label+percent parent",
         "type": "sunburst",
         "values": [
          1,
          45,
          2,
          7,
          7,
          2,
          6,
          1,
          7,
          13,
          5,
          13,
          17,
          2,
          5,
          10,
          33,
          1,
          17,
          2,
          1,
          4,
          1,
          20,
          20,
          5,
          20,
          4,
          2,
          10,
          1,
          3,
          5,
          1,
          5,
          64,
          1,
          29,
          1,
          44,
          1,
          2,
          4,
          1,
          29,
          29,
          11,
          1,
          2,
          10,
          2,
          2,
          7,
          13,
          1,
          2,
          1,
          7,
          7,
          1,
          2,
          2,
          5,
          2,
          1,
          1,
          4,
          8,
          4,
          4,
          1,
          15,
          1,
          2,
          24,
          24,
          62,
          62,
          1,
          2,
          11,
          10,
          10,
          8,
          24,
          4,
          4,
          16,
          22,
          22,
          24,
          2,
          3,
          12,
          1,
          1,
          15,
          32,
          10,
          10,
          1,
          1,
          8,
          10,
          15,
          2,
          10,
          22,
          3,
          1,
          82,
          7,
          1,
          54,
          54,
          7,
          7,
          7,
          2,
          2,
          1,
          5,
          5,
          2,
          2,
          5,
          2,
          1,
          18,
          2,
          12,
          135,
          12,
          1,
          1,
          1,
          1,
          3,
          1,
          7,
          1,
          1,
          2,
          21,
          21,
          7,
          1,
          21,
          21,
          19,
          5,
          3,
          3,
          11,
          2,
          2,
          2,
          2,
          47,
          47,
          5,
          1,
          1,
          16,
          6,
          2,
          8,
          13,
          15,
          1,
          1,
          25,
          1,
          22,
          1,
          3,
          3,
          5,
          24,
          11,
          32,
          32,
          1,
          12,
          2,
          2,
          15,
          1,
          17,
          7,
          1,
          1,
          1,
          1,
          26,
          10,
          1,
          21,
          11,
          1,
          29,
          7,
          4,
          1,
          19,
          2,
          3,
          15,
          14,
          14,
          1,
          1,
          26,
          3,
          3,
          3,
          3,
          13,
          5,
          1,
          22,
          2,
          2,
          1,
          5,
          5,
          1,
          1,
          4,
          4,
          6,
          18,
          34,
          34,
          13,
          3,
          16,
          16,
          16,
          6,
          9,
          4,
          1,
          2,
          3,
          12,
          15,
          12,
          37,
          37,
          2,
          6,
          1,
          1,
          2,
          2,
          1,
          1,
          13,
          1,
          5,
          1,
          1,
          8,
          3,
          5,
          5,
          5,
          2,
          4,
          2,
          1,
          3,
          5,
          9,
          11,
          11,
          4,
          4,
          2,
          21,
          18,
          18,
          68,
          43,
          5,
          3,
          16,
          11,
          112,
          112,
          19,
          10,
          1,
          12,
          12,
          39,
          39,
          3,
          3,
          11,
          87,
          4,
          12,
          25,
          10,
          32,
          81,
          81,
          39,
          16,
          1,
          1,
          82,
          17,
          2,
          87,
          87,
          4,
          7,
          9,
          129,
          2,
          7,
          15,
          15,
          12,
          218,
          202,
          3,
          13,
          202,
          6,
          6,
          19,
          4,
          16,
          16,
          4,
          8,
          45,
          24,
          11,
          133,
          258,
          2,
          16,
          16,
          8,
          7,
          19,
          24,
          25,
          10,
          10,
          10,
          3,
          18,
          18,
          42,
          61,
          5,
          16,
          2,
          11,
          40,
          40,
          12,
          218,
          3,
          248,
          57,
          90,
          90,
          20,
          75,
          19,
          39,
          5,
          4,
          30,
          24,
          16,
          4,
          122,
          122,
          11,
          73,
          16,
          4,
          4,
          16,
          16,
          936,
          202,
          19,
          15,
          15,
          21,
          55,
          5,
          16,
          59,
          659,
          1165,
          21,
          11,
          227,
          236,
          16,
          4,
          40,
          16,
          227,
          55,
          11,
          42,
          4,
          16,
          2423,
          227,
          2778
         ]
        }
       ],
       "layout": {
        "height": 800,
        "legend": {
         "tracegroupgap": 0
        },
        "template": {
         "data": {
          "bar": [
           {
            "error_x": {
             "color": "#2a3f5f"
            },
            "error_y": {
             "color": "#2a3f5f"
            },
            "marker": {
             "line": {
              "color": "#E5ECF6",
              "width": 0.5
             },
             "pattern": {
              "fillmode": "overlay",
              "size": 10,
              "solidity": 0.2
             }
            },
            "type": "bar"
           }
          ],
          "barpolar": [
           {
            "marker": {
             "line": {
              "color": "#E5ECF6",
              "width": 0.5
             },
             "pattern": {
              "fillmode": "overlay",
              "size": 10,
              "solidity": 0.2
             }
            },
            "type": "barpolar"
           }
          ],
          "carpet": [
           {
            "aaxis": {
             "endlinecolor": "#2a3f5f",
             "gridcolor": "white",
             "linecolor": "white",
             "minorgridcolor": "white",
             "startlinecolor": "#2a3f5f"
            },
            "baxis": {
             "endlinecolor": "#2a3f5f",
             "gridcolor": "white",
             "linecolor": "white",
             "minorgridcolor": "white",
             "startlinecolor": "#2a3f5f"
            },
            "type": "carpet"
           }
          ],
          "choropleth": [
           {
            "colorbar": {
             "outlinewidth": 0,
             "ticks": ""
            },
            "type": "choropleth"
           }
          ],
          "contour": [
           {
            "colorbar": {
             "outlinewidth": 0,
             "ticks": ""
            },
            "colorscale": [
             [
              0,
              "#0d0887"
             ],
             [
              0.1111111111111111,
              "#46039f"
             ],
             [
              0.2222222222222222,
              "#7201a8"
             ],
             [
              0.3333333333333333,
              "#9c179e"
             ],
             [
              0.4444444444444444,
              "#bd3786"
             ],
             [
              0.5555555555555556,
              "#d8576b"
             ],
             [
              0.6666666666666666,
              "#ed7953"
             ],
             [
              0.7777777777777778,
              "#fb9f3a"
             ],
             [
              0.8888888888888888,
              "#fdca26"
             ],
             [
              1,
              "#f0f921"
             ]
            ],
            "type": "contour"
           }
          ],
          "contourcarpet": [
           {
            "colorbar": {
             "outlinewidth": 0,
             "ticks": ""
            },
            "type": "contourcarpet"
           }
          ],
          "heatmap": [
           {
            "colorbar": {
             "outlinewidth": 0,
             "ticks": ""
            },
            "colorscale": [
             [
              0,
              "#0d0887"
             ],
             [
              0.1111111111111111,
              "#46039f"
             ],
             [
              0.2222222222222222,
              "#7201a8"
             ],
             [
              0.3333333333333333,
              "#9c179e"
             ],
             [
              0.4444444444444444,
              "#bd3786"
             ],
             [
              0.5555555555555556,
              "#d8576b"
             ],
             [
              0.6666666666666666,
              "#ed7953"
             ],
             [
              0.7777777777777778,
              "#fb9f3a"
             ],
             [
              0.8888888888888888,
              "#fdca26"
             ],
             [
              1,
              "#f0f921"
             ]
            ],
            "type": "heatmap"
           }
          ],
          "heatmapgl": [
           {
            "colorbar": {
             "outlinewidth": 0,
             "ticks": ""
            },
            "colorscale": [
             [
              0,
              "#0d0887"
             ],
             [
              0.1111111111111111,
              "#46039f"
             ],
             [
              0.2222222222222222,
              "#7201a8"
             ],
             [
              0.3333333333333333,
              "#9c179e"
             ],
             [
              0.4444444444444444,
              "#bd3786"
             ],
             [
              0.5555555555555556,
              "#d8576b"
             ],
             [
              0.6666666666666666,
              "#ed7953"
             ],
             [
              0.7777777777777778,
              "#fb9f3a"
             ],
             [
              0.8888888888888888,
              "#fdca26"
             ],
             [
              1,
              "#f0f921"
             ]
            ],
            "type": "heatmapgl"
           }
          ],
          "histogram": [
           {
            "marker": {
             "pattern": {
              "fillmode": "overlay",
              "size": 10,
              "solidity": 0.2
             }
            },
            "type": "histogram"
           }
          ],
          "histogram2d": [
           {
            "colorbar": {
             "outlinewidth": 0,
             "ticks": ""
            },
            "colorscale": [
             [
              0,
              "#0d0887"
             ],
             [
              0.1111111111111111,
              "#46039f"
             ],
             [
              0.2222222222222222,
              "#7201a8"
             ],
             [
              0.3333333333333333,
              "#9c179e"
             ],
             [
              0.4444444444444444,
              "#bd3786"
             ],
             [
              0.5555555555555556,
              "#d8576b"
             ],
             [
              0.6666666666666666,
              "#ed7953"
             ],
             [
              0.7777777777777778,
              "#fb9f3a"
             ],
             [
              0.8888888888888888,
              "#fdca26"
             ],
             [
              1,
              "#f0f921"
             ]
            ],
            "type": "histogram2d"
           }
          ],
          "histogram2dcontour": [
           {
            "colorbar": {
             "outlinewidth": 0,
             "ticks": ""
            },
            "colorscale": [
             [
              0,
              "#0d0887"
             ],
             [
              0.1111111111111111,
              "#46039f"
             ],
             [
              0.2222222222222222,
              "#7201a8"
             ],
             [
              0.3333333333333333,
              "#9c179e"
             ],
             [
              0.4444444444444444,
              "#bd3786"
             ],
             [
              0.5555555555555556,
              "#d8576b"
             ],
             [
              0.6666666666666666,
              "#ed7953"
             ],
             [
              0.7777777777777778,
              "#fb9f3a"
             ],
             [
              0.8888888888888888,
              "#fdca26"
             ],
             [
              1,
              "#f0f921"
             ]
            ],
            "type": "histogram2dcontour"
           }
          ],
          "mesh3d": [
           {
            "colorbar": {
             "outlinewidth": 0,
             "ticks": ""
            },
            "type": "mesh3d"
           }
          ],
          "parcoords": [
           {
            "line": {
             "colorbar": {
              "outlinewidth": 0,
              "ticks": ""
             }
            },
            "type": "parcoords"
           }
          ],
          "pie": [
           {
            "automargin": true,
            "type": "pie"
           }
          ],
          "scatter": [
           {
            "fillpattern": {
             "fillmode": "overlay",
             "size": 10,
             "solidity": 0.2
            },
            "type": "scatter"
           }
          ],
          "scatter3d": [
           {
            "line": {
             "colorbar": {
              "outlinewidth": 0,
              "ticks": ""
             }
            },
            "marker": {
             "colorbar": {
              "outlinewidth": 0,
              "ticks": ""
             }
            },
            "type": "scatter3d"
           }
          ],
          "scattercarpet": [
           {
            "marker": {
             "colorbar": {
              "outlinewidth": 0,
              "ticks": ""
             }
            },
            "type": "scattercarpet"
           }
          ],
          "scattergeo": [
           {
            "marker": {
             "colorbar": {
              "outlinewidth": 0,
              "ticks": ""
             }
            },
            "type": "scattergeo"
           }
          ],
          "scattergl": [
           {
            "marker": {
             "colorbar": {
              "outlinewidth": 0,
              "ticks": ""
             }
            },
            "type": "scattergl"
           }
          ],
          "scattermapbox": [
           {
            "marker": {
             "colorbar": {
              "outlinewidth": 0,
              "ticks": ""
             }
            },
            "type": "scattermapbox"
           }
          ],
          "scatterpolar": [
           {
            "marker": {
             "colorbar": {
              "outlinewidth": 0,
              "ticks": ""
             }
            },
            "type": "scatterpolar"
           }
          ],
          "scatterpolargl": [
           {
            "marker": {
             "colorbar": {
              "outlinewidth": 0,
              "ticks": ""
             }
            },
            "type": "scatterpolargl"
           }
          ],
          "scatterternary": [
           {
            "marker": {
             "colorbar": {
              "outlinewidth": 0,
              "ticks": ""
             }
            },
            "type": "scatterternary"
           }
          ],
          "surface": [
           {
            "colorbar": {
             "outlinewidth": 0,
             "ticks": ""
            },
            "colorscale": [
             [
              0,
              "#0d0887"
             ],
             [
              0.1111111111111111,
              "#46039f"
             ],
             [
              0.2222222222222222,
              "#7201a8"
             ],
             [
              0.3333333333333333,
              "#9c179e"
             ],
             [
              0.4444444444444444,
              "#bd3786"
             ],
             [
              0.5555555555555556,
              "#d8576b"
             ],
             [
              0.6666666666666666,
              "#ed7953"
             ],
             [
              0.7777777777777778,
              "#fb9f3a"
             ],
             [
              0.8888888888888888,
              "#fdca26"
             ],
             [
              1,
              "#f0f921"
             ]
            ],
            "type": "surface"
           }
          ],
          "table": [
           {
            "cells": {
             "fill": {
              "color": "#EBF0F8"
             },
             "line": {
              "color": "white"
             }
            },
            "header": {
             "fill": {
              "color": "#C8D4E3"
             },
             "line": {
              "color": "white"
             }
            },
            "type": "table"
           }
          ]
         },
         "layout": {
          "annotationdefaults": {
           "arrowcolor": "#2a3f5f",
           "arrowhead": 0,
           "arrowwidth": 1
          },
          "autotypenumbers": "strict",
          "coloraxis": {
           "colorbar": {
            "outlinewidth": 0,
            "ticks": ""
           }
          },
          "colorscale": {
           "diverging": [
            [
             0,
             "#8e0152"
            ],
            [
             0.1,
             "#c51b7d"
            ],
            [
             0.2,
             "#de77ae"
            ],
            [
             0.3,
             "#f1b6da"
            ],
            [
             0.4,
             "#fde0ef"
            ],
            [
             0.5,
             "#f7f7f7"
            ],
            [
             0.6,
             "#e6f5d0"
            ],
            [
             0.7,
             "#b8e186"
            ],
            [
             0.8,
             "#7fbc41"
            ],
            [
             0.9,
             "#4d9221"
            ],
            [
             1,
             "#276419"
            ]
           ],
           "sequential": [
            [
             0,
             "#0d0887"
            ],
            [
             0.1111111111111111,
             "#46039f"
            ],
            [
             0.2222222222222222,
             "#7201a8"
            ],
            [
             0.3333333333333333,
             "#9c179e"
            ],
            [
             0.4444444444444444,
             "#bd3786"
            ],
            [
             0.5555555555555556,
             "#d8576b"
            ],
            [
             0.6666666666666666,
             "#ed7953"
            ],
            [
             0.7777777777777778,
             "#fb9f3a"
            ],
            [
             0.8888888888888888,
             "#fdca26"
            ],
            [
             1,
             "#f0f921"
            ]
           ],
           "sequentialminus": [
            [
             0,
             "#0d0887"
            ],
            [
             0.1111111111111111,
             "#46039f"
            ],
            [
             0.2222222222222222,
             "#7201a8"
            ],
            [
             0.3333333333333333,
             "#9c179e"
            ],
            [
             0.4444444444444444,
             "#bd3786"
            ],
            [
             0.5555555555555556,
             "#d8576b"
            ],
            [
             0.6666666666666666,
             "#ed7953"
            ],
            [
             0.7777777777777778,
             "#fb9f3a"
            ],
            [
             0.8888888888888888,
             "#fdca26"
            ],
            [
             1,
             "#f0f921"
            ]
           ]
          },
          "colorway": [
           "#636efa",
           "#EF553B",
           "#00cc96",
           "#ab63fa",
           "#FFA15A",
           "#19d3f3",
           "#FF6692",
           "#B6E880",
           "#FF97FF",
           "#FECB52"
          ],
          "font": {
           "color": "#2a3f5f"
          },
          "geo": {
           "bgcolor": "white",
           "lakecolor": "white",
           "landcolor": "#E5ECF6",
           "showlakes": true,
           "showland": true,
           "subunitcolor": "white"
          },
          "hoverlabel": {
           "align": "left"
          },
          "hovermode": "closest",
          "mapbox": {
           "style": "light"
          },
          "paper_bgcolor": "white",
          "plot_bgcolor": "#E5ECF6",
          "polar": {
           "angularaxis": {
            "gridcolor": "white",
            "linecolor": "white",
            "ticks": ""
           },
           "bgcolor": "#E5ECF6",
           "radialaxis": {
            "gridcolor": "white",
            "linecolor": "white",
            "ticks": ""
           }
          },
          "scene": {
           "xaxis": {
            "backgroundcolor": "#E5ECF6",
            "gridcolor": "white",
            "gridwidth": 2,
            "linecolor": "white",
            "showbackground": true,
            "ticks": "",
            "zerolinecolor": "white"
           },
           "yaxis": {
            "backgroundcolor": "#E5ECF6",
            "gridcolor": "white",
            "gridwidth": 2,
            "linecolor": "white",
            "showbackground": true,
            "ticks": "",
            "zerolinecolor": "white"
           },
           "zaxis": {
            "backgroundcolor": "#E5ECF6",
            "gridcolor": "white",
            "gridwidth": 2,
            "linecolor": "white",
            "showbackground": true,
            "ticks": "",
            "zerolinecolor": "white"
           }
          },
          "shapedefaults": {
           "line": {
            "color": "#2a3f5f"
           }
          },
          "ternary": {
           "aaxis": {
            "gridcolor": "white",
            "linecolor": "white",
            "ticks": ""
           },
           "baxis": {
            "gridcolor": "white",
            "linecolor": "white",
            "ticks": ""
           },
           "bgcolor": "#E5ECF6",
           "caxis": {
            "gridcolor": "white",
            "linecolor": "white",
            "ticks": ""
           }
          },
          "title": {
           "x": 0.05
          },
          "xaxis": {
           "automargin": true,
           "gridcolor": "white",
           "linecolor": "white",
           "ticks": "",
           "title": {
            "standoff": 15
           },
           "zerolinecolor": "white",
           "zerolinewidth": 2
          },
          "yaxis": {
           "automargin": true,
           "gridcolor": "white",
           "linecolor": "white",
           "ticks": "",
           "title": {
            "standoff": 15
           },
           "zerolinecolor": "white",
           "zerolinewidth": 2
          }
         }
        },
        "title": {
         "text": "Tree cats Distribution"
        },
        "width": 800
       }
      },
      "text/html": [
       "<div>                            <div id=\"72aa02d9-919f-472f-92b9-70de624028c7\" class=\"plotly-graph-div\" style=\"height:800px; width:800px;\"></div>            <script type=\"text/javascript\">                require([\"plotly\"], function(Plotly) {                    window.PLOTLYENV=window.PLOTLYENV || {};                                    if (document.getElementById(\"72aa02d9-919f-472f-92b9-70de624028c7\")) {                    Plotly.newPlot(                        \"72aa02d9-919f-472f-92b9-70de624028c7\",                        [{\"branchvalues\":\"total\",\"customdata\":[[\"Dinnerware & Serveware\"],[\"Tabletop & Serveware\"],[\"Seasoning & Spice Tools\"],[\"Dinnerware & Serveware\"],[\"Tabletop & Serveware\"],[\"Beds, Frames & Bases\"],[\"Kitchen Knives & Accessories\"],[\"Bar & Wine Tools\"],[\"Seasoning & Spice Tools\"],[\"Seasoning & Spice Tools\"],[\"Seasoning & Spice Tools\"],[\"Tabletop & Serveware\"],[\"Kitchen Knives & Accessories\"],[\"Cookware, Bakeware & Tools\"],[\"Tabletop & Serveware\"],[\"Graters, Peelers & Slicers\"],[\"Cookware, Bakeware & Tools\"],[\"Kitchen Knives & Accessories\"],[\"Seasoning & Spice Tools\"],[\"Kitchen Knives & Accessories\"],[\"Tabletop & Serveware\"],[\"Dinnerware & Serveware\"],[\"Cookware, Bakeware & Tools\"],[\"Tabletop & Serveware\"],[\"Tabletop Accessories\"],[\"Bar Tools & Drinkware\"],[\"Tabletop & Serveware\"],[\"Bar Tools & Drinkware\"],[\"Bar Tools & Drinkware\"],[\"Tabletop & Serveware\"],[\"TV & Media Furniture\"],[\"Glassware & Drinkware\"],[\"Tabletop Accessories\"],[\"TV & Media Furniture\"],[\"Home Bar Furniture\"],[\"Tabletop & Serveware\"],[\"Tabletop & Serveware\"],[\"Tabletop & Serveware\"],[\"Beds, Frames & Bases\"],[\"Cookware, Bakeware & Tools\"],[\"Bar Tools & Drinkware\"],[\"Candles\"],[\"Tabletop & Serveware\"],[\"Flatware\"],[\"Tabletop & Serveware\"],[\"Tabletop Accessories\"],[\"Tabletop & Serveware\"],[\"Dinnerware & Serveware\"],[\"Decorating Tools\"],[\"Dinnerware & Serveware\"],[\"Baking Tools\"],[\"Baking Tools & Accessories\"],[\"Flatware\"],[\"Tabletop & Serveware\"],[\"Racks & Holders\"],[\"Glassware & Drinkware\"],[\"Dinnerware & Serveware\"],[\"Bar & Wine Tools\"],[\"Bar Tools & Drinkware\"],[\"Bar Tools & Drinkware\"],[\"Tabletop & Serveware\"],[\"Tabletop & Serveware\"],[\"Coffee, Tea & Espresso Appliances\"],[\"Tabletop Accessories\"],[\"Thermoses\"],[\"Tabletop & Serveware\"],[\"Bar Tools & Drinkware\"],[\"Tabletop & Serveware\"],[\"Cookware, Bakeware & Tools\"],[\"Tabletop & Serveware\"],[\"Thermoses\"],[\"Cookware, Bakeware & Tools\"],[\"Flatware\"],[\"Tabletop & Serveware\"],[\"Holders & Dispensers\"],[\"Food Storage\"],[\"Food Storage\"],[\"Food Storage\"],[\"Tabletop & Serveware\"],[\"Dinnerware & Serveware\"],[\"Restaurant Appliances & Equipment\"],[\"Coffee Maker Parts & Accessories\"],[\"Coffee & Espresso Machine Parts & Accessories\"],[\"Dinnerware & Serveware\"],[\"Food Storage\"],[\"Coffee Maker Parts & Accessories\"],[\"Coffee & Espresso Machine Parts & Accessories\"],[\"Novelty\"],[\"Coffee Maker Parts & Accessories\"],[\"Coffee & Espresso Machine Parts & Accessories\"],[\"Glassware & Drinkware\"],[\"Bar Tools & Drinkware\"],[\"Dinnerware & Serveware\"],[\"Fruit & Vegetable Tools\"],[\"Glassware & Drinkware\"],[\"Decorating Tools\"],[\"TV & Media Furniture\"],[\"Tabletop & Serveware\"],[\"Thermoses\"],[\"Thermoses\"],[\"Dinnerware & Serveware\"],[\"Kitchen Accessories\"],[\"Dinnerware & Serveware\"],[\"Tabletop & Serveware\"],[\"TV & Media Furniture\"],[\"Baking Tools\"],[\"Shower Curtains, Hooks & Liners\"],[\"Measuring Tools & Scales\"],[\"Flatware\"],[\"Flatware\"],[\"Tabletop & Serveware\"],[\"Tabletop & Serveware\"],[\"Kitchen Knives & Accessories\"],[\"Tabletop Accessories\"],[\"Tabletop & Serveware\"],[\"Tabletop & Serveware\"],[\"Dinnerware & Serveware\"],[\"Tabletop Accessories\"],[\"Baking Tools & Accessories\"],[\"Tabletop & Serveware\"],[\"Coffee Maker Parts & Accessories\"],[\"Dinnerware & Serveware\"],[\"Tea Accessories\"],[\"Flatware\"],[\"Dinnerware & Serveware\"],[\"Tea Accessories\"],[\"Dinnerware & Serveware\"],[\"Coffee & Espresso Machine Parts & Accessories\"],[\"Tabletop & Serveware\"],[\"Dinnerware & Serveware\"],[\"Tabletop & Serveware\"],[\"Tabletop & Serveware\"],[\"Dinnerware & Serveware\"],[\"Bar Tools & Drinkware\"],[\"Glassware & Drinkware\"],[\"Tabletop & Serveware\"],[\"Tabletop & Serveware\"],[\"Graters, Peelers & Slicers\"],[\"Cheese Tools\"],[\"Coffee, Tea & Espresso Appliances\"],[\"Cookware, Bakeware & Tools\"],[\"Glassware & Drinkware\"],[\"Bar Tools & Drinkware\"],[\"Racks & Holders\"],[\"Racks & Holders\"],[\"Tabletop & Serveware\"],[\"Cookware, Bakeware & Tools\"],[\"Tabletop & Serveware\"],[\"Dinnerware & Serveware\"],[\"Dinnerware & Serveware\"],[\"Tabletop & Serveware\"],[\"Tabletop & Serveware\"],[\"Tabletop Accessories\"],[\"Tabletop & Serveware\"],[\"Tabletop & Serveware\"],[\"Flatware\"],[\"Dinnerware & Serveware\"],[\"Bar Tools & Drinkware\"],[\"Racks & Holders\"],[\"Racks & Holders\"],[\"Tabletop & Serveware\"],[\"Flatware\"],[\"Dinnerware & Serveware\"],[\"Tabletop & Serveware\"],[\"Shower Curtains, Hooks & Liners\"],[\"Glassware & Drinkware\"],[\"Racks & Holders\"],[\"Holders & Dispensers\"],[\"Bar & Wine Tools\"],[\"Racks & Holders\"],[\"Racks & Holders\"],[\"Tabletop & Serveware\"],[\"Tabletop & Serveware\"],[\"Glassware & Drinkware\"],[\"Bar & Wine Tools\"],[\"Coffee Maker Parts & Accessories\"],[\"Coffee & Espresso Machine Parts & Accessories\"],[\"Flatware\"],[\"Tabletop & Serveware\"],[\"Dinnerware & Serveware\"],[\"Tabletop & Serveware\"],[\"Dinnerware & Serveware\"],[\"Glassware & Drinkware\"],[\"Cookware, Bakeware & Tools\"],[\"Kitchen Knives & Accessories\"],[\"Dinnerware & Serveware\"],[\"Cookware, Bakeware & Tools\"],[\"Flatware\"],[\"Flatware\"],[\"Tabletop & Serveware\"],[\"Dinnerware & Serveware\"],[\"Bar Tools & Drinkware\"],[\"Glassware & Drinkware\"],[\"Flatware\"],[\"Cookware, Bakeware & Tools\"],[\"Flatware\"],[\"Tabletop & Serveware\"],[\"Cookware, Bakeware & Tools\"],[\"Tabletop Accessories\"],[\"Racks & Holders\"],[\"Dinnerware & Serveware\"],[\"Bar & Wine Tools\"],[\"Cookware, Bakeware & Tools\"],[\"Candles\"],[\"Dinnerware & Serveware\"],[\"Holders & Dispensers\"],[\"Cookware, Bakeware & Tools\"],[\"Racks & Holders\"],[\"Baking Tools & Accessories\"],[\"Baking Tools\"],[\"Food Storage\"],[\"Food Storage\"],[\"Cookware, Bakeware & Tools\"],[\"Glassware & Drinkware\"],[\"Bar Tools & Drinkware\"],[\"Glassware & Drinkware\"],[\"Bar Tools & Drinkware\"],[\"Candles\"],[\"Glassware & Drinkware\"],[\"Bar Tools & Drinkware\"],[\"Tabletop & Serveware\"],[\"Seasoning & Spice Tools\"],[\"Measuring Tools & Scales\"],[\"Kitchen Knives & Accessories\"],[\"Glassware & Drinkware\"],[\"Bar Tools & Drinkware\"],[\"Glassware & Drinkware\"],[\"Bar Tools & Drinkware\"],[\"Pasta & Pizza Tools\"],[\"Stove & Fireplace Accessories\"],[\"Graters, Peelers & Slicers\"],[\"Seasoning & Spice Tools\"],[\"Tabletop & Serveware\"],[\"Tabletop Accessories\"],[\"Dinnerware & Serveware\"],[\"Tabletop & Serveware\"],[\"Racks & Holders\"],[\"Racks & Holders\"],[\"Dinnerware & Serveware\"],[\"Tabletop & Serveware\"],[\"Tea Accessories\"],[\"Flatware\"],[\"Flatware\"],[\"Bar Tools & Drinkware\"],[\"Kitchen Accessories\"],[\"Racks & Holders\"],[\"Racks & Holders\"],[\"Racks & Holders\"],[\"Tabletop Accessories\"],[\"Tabletop & Serveware\"],[\"Fruit & Vegetable Tools\"],[\"Fruit & Vegetable Tools\"],[\"Racks & Holders\"],[\"Racks & Holders\"],[\"Food Storage\"],[\"Food Storage\"],[\"Food Storage\"],[\"Food Storage\"],[\"Tabletop & Serveware\"],[\"Cheese Tools\"],[\"Cookware, Bakeware & Tools\"],[\"Seasoning & Spice Tools\"],[\"Bar Tools & Drinkware\"],[\"Racks & Holders\"],[\"Seasoning & Spice Tools\"],[\"Seasoning & Spice Tools\"],[\"Tabletop & Serveware\"],[\"Dinnerware & Serveware\"],[\"Beds, Frames & Bases\"],[\"Specialty Appliances\"],[\"Bar Tools & Drinkware\"],[\"Dinnerware & Serveware\"],[\"Tabletop & Serveware\"],[\"Cookware, Bakeware & Tools\"],[\"Bar & Wine Tools\"],[\"Bar Tools & Drinkware\"],[\"Cleaning Tools\"],[\"Thermoses\"],[\"Thermoses\"],[\"Bar & Wine Tools\"],[\"Kitchen Knives & Accessories\"],[\"Baking Tools\"],[\"Baking Tools & Accessories\"],[\"Tabletop & Serveware\"],[\"Bar Tools & Drinkware\"],[\"Home Bar Furniture\"],[\"Beds, Frames & Bases\"],[\"Tabletop & Serveware\"],[\"Cleaning Tools\"],[\"Racks & Holders\"],[\"Racks & Holders\"],[\"Seasoning & Spice Tools\"],[\"Flatware\"],[\"Kitchen Knives & Accessories\"],[\"Bar Tools & Drinkware\"],[\"Glassware & Drinkware\"],[\"Coffee & Espresso Machine Parts & Accessories\"],[\"Coffee Maker Parts & Accessories\"],[\"Food Storage\"],[\"Food Storage\"],[\"Restaurant Appliances & Equipment\"],[\"Tabletop & Serveware\"],[\"Kitchen Accessories\"],[\"Fruit & Vegetable Tools\"],[\"Bar & Wine Tools\"],[\"Dinnerware & Serveware\"],[\"Glassware & Drinkware\"],[\"Dinnerware & Serveware\"],[\"Tabletop & Serveware\"],[\"Holders & Dispensers\"],[\"Novelty\"],[\"Coffee & Espresso Machine Parts & Accessories\"],[\"Coffee Maker Parts & Accessories\"],[\"Tabletop & Serveware\"],[\"Flatware\"],[\"Cheese Tools\"],[\"Food Storage\"],[\"Food Storage\"],[\"Specialty Appliances\"],[\"Flatware\"],[\"Seasoning & Spice Tools\"],[\"Tabletop & Serveware\"],[\"Beds, Frames & Bases\"],[\"Bar & Wine Tools\"],[\"Thermoses\"],[\"Thermoses\"],[\"Coffee, Tea & Espresso Appliances\"],[\"Cookware, Bakeware & Tools\"],[\"Tabletop & Serveware\"],[\"Flatware\"],[\"Tabletop & Serveware\"],[\"Tabletop Accessories\"],[\"Bar Tools & Drinkware\"],[\"Glassware & Drinkware\"],[\"Graters, Peelers & Slicers\"],[\"Stove & Fireplace Accessories\"],[\"TV & Media Furniture\"],[\"TV & Media Furniture\"],[\"Pasta & Pizza Tools\"],[\"Fruit & Vegetable Tools\"],[\"Seasoning & Spice Tools\"],[\"Measuring Tools & Scales\"],[\"Flatware\"],[\"Dinnerware & Serveware\"],[\"Tabletop & Serveware\"],[\"Flatware\"],[\"Shower Curtains, Hooks & Liners\"],[\"Candles\"],[\"Kitchen Knives & Accessories\"],[\"Flatware\"],[\"Tea Accessories\"],[\"Dinnerware & Serveware\"],[\"Glassware & Drinkware\"],[\"Racks & Holders\"],[\"Racks & Holders\"],[\"Bar & Wine Tools\"],[\"Decorating Tools\"],[\"Baking Tools\"],[\"Baking Tools & Accessories\"],[\"Bar & Wine Tools\"],[\"Bar Tools & Drinkware\"],[\"Beds, Frames & Bases\"],[\"Candles\"],[\"Cheese Tools\"],[\"Cleaning Tools\"],[\"Coffee & Espresso Machine Parts & Accessories\"],[\"Coffee Maker Parts & Accessories\"],[\"Coffee, Tea & Espresso Appliances\"],[\"Cookware, Bakeware & Tools\"],[\"Decorating Tools\"],[\"Dinnerware & Serveware\"],[\"Flatware\"],[\"Food Storage\"],[\"Food Storage\"],[\"Fruit & Vegetable Tools\"],[\"Glassware & Drinkware\"],[\"Graters, Peelers & Slicers\"],[\"Holders & Dispensers\"],[\"Home Bar Furniture\"],[\"Kitchen Accessories\"],[\"Kitchen Knives & Accessories\"],[\"Measuring Tools & Scales\"],[\"Novelty\"],[\"Pasta & Pizza Tools\"],[\"Racks & Holders\"],[\"Racks & Holders\"],[\"Restaurant Appliances & Equipment\"],[\"Seasoning & Spice Tools\"],[\"Shower Curtains, Hooks & Liners\"],[\"Specialty Appliances\"],[\"Stove & Fireplace Accessories\"],[\"TV & Media Furniture\"],[\"TV & Media Furniture\"],[\"Tabletop & Serveware\"],[\"Tabletop Accessories\"],[\"Tea Accessories\"],[\"Thermoses\"],[\"Thermoses\"],[\"(?)\"],[\"(?)\"],[\"Beds, Frames & Bases\"],[\"Candles\"],[\"(?)\"],[\"(?)\"],[\"(?)\"],[\"(?)\"],[\"Cleaning Tools\"],[\"(?)\"],[\"(?)\"],[\"TV & Media Furniture\"],[\"Stove & Fireplace Accessories\"],[\"Coffee & Espresso Machine Parts & Accessories\"],[\"(?)\"],[\"(?)\"],[\"(?)\"],[\"Cleaning Tools\"],[\"(?)\"],[\"Stove & Fireplace Accessories\"],[\"Candles\"],[\"(?)\"],[\"(?)\"],[\"(?)\"]],\"domain\":{\"x\":[0.0,1.0],\"y\":[0.0,1.0]},\"hovertemplate\":\"labels=%{label}\\u003cbr\\u003ecategories=%{value}\\u003cbr\\u003eparent=%{parent}\\u003cbr\\u003eid=%{id}\\u003cbr\\u003e3=%{customdata[0]}\\u003cextra\\u003e\\u003c\\u002fextra\\u003e\",\"ids\":[\"Home & Kitchen\\u002fKitchen & Dining\\u002fDining & Entertaining\\u002fDinnerware & Serveware\\u002fServeware\\u002fSalad Serving Sets\",\"Home & Kitchen\\u002fKitchen & Dining\\u002fFood Service Equipment & Supplies\\u002fTabletop & Serveware\\u002fCondiment Holders & Dispensers\\u002fSalt & Pepper\",\"Home & Kitchen\\u002fKitchen & Dining\\u002fKitchen Utensils & Gadgets\\u002fSeasoning & Spice Tools\\u002fSalt & Pepper\\u002fSalt & Pepper Mill Sets\",\"Home & Kitchen\\u002fKitchen & Dining\\u002fDining & Entertaining\\u002fDinnerware & Serveware\\u002fServeware\\u002fButter Dishes\",\"Home & Kitchen\\u002fKitchen & Dining\\u002fFood Service Equipment & Supplies\\u002fTabletop & Serveware\\u002fCondiment Holders & Dispensers\\u002fButter Dishes & Servers\",\"Home & Kitchen\\u002fFurniture\\u002fBedroom Furniture\\u002fBeds, Frames & Bases\\u002fBases & Foundations\\u002fBunkie Boards\",\"Home & Kitchen\\u002fKitchen & Dining\\u002fKitchen Utensils & Gadgets\\u002fKitchen Knives & Accessories\\u002fSpecialty Knives\\u002fSeafood Knives\",\"Home & Kitchen\\u002fKitchen & Dining\\u002fKitchen Utensils & Gadgets\\u002fBar & Wine Tools\\u002fCorkscrews & Openers\\u002fScrewpull Levers\",\"Home & Kitchen\\u002fKitchen & Dining\\u002fKitchen Utensils & Gadgets\\u002fSeasoning & Spice Tools\\u002fSalt & Pepper\\u002fSalt Shakers\",\"Home & Kitchen\\u002fKitchen & Dining\\u002fKitchen Utensils & Gadgets\\u002fSeasoning & Spice Tools\\u002fSalt & Pepper\\u002fSalt & Pepper Shaker Sets\",\"Home & Kitchen\\u002fKitchen & Dining\\u002fKitchen Utensils & Gadgets\\u002fSeasoning & Spice Tools\\u002fSalt & Pepper\\u002fSalt Mills\",\"Home & Kitchen\\u002fKitchen & Dining\\u002fFood Service Equipment & Supplies\\u002fTabletop & Serveware\\u002fCondiment Holders & Dispensers\\u002fSalt & Pepper Shakers\",\"Home & Kitchen\\u002fKitchen & Dining\\u002fKitchen Utensils & Gadgets\\u002fKitchen Knives & Accessories\\u002fAsian Knives\\u002fSantoku Knives\",\"Home & Kitchen\\u002fKitchen & Dining\\u002fFood Service Equipment & Supplies\\u002fCookware, Bakeware & Tools\\u002fKitchen Knives\\u002fCheese Knives\",\"Home & Kitchen\\u002fKitchen & Dining\\u002fFood Service Equipment & Supplies\\u002fTabletop & Serveware\\u002fKitchen Linens\\u002fChair Pads\",\"Home & Kitchen\\u002fKitchen & Dining\\u002fKitchen Utensils & Gadgets\\u002fGraters, Peelers & Slicers\\u002fMandolines & Slicers\\u002fCheese Slicers\",\"Home & Kitchen\\u002fKitchen & Dining\\u002fFood Service Equipment & Supplies\\u002fCookware, Bakeware & Tools\\u002fKitchen Knives\\u002fChef's Knives\",\"Home & Kitchen\\u002fKitchen & Dining\\u002fKitchen Utensils & Gadgets\\u002fKitchen Knives & Accessories\\u002fAsian Knives\\u002fChinese Chef's Knives & Cleavers\",\"Home & Kitchen\\u002fKitchen & Dining\\u002fKitchen Utensils & Gadgets\\u002fSeasoning & Spice Tools\\u002fChoppers & Mincers\\u002fChoppers\",\"Home & Kitchen\\u002fKitchen & Dining\\u002fKitchen Utensils & Gadgets\\u002fKitchen Knives & Accessories\\u002fSpecialty Knives\\u002fCheese Knives\",\"Home & Kitchen\\u002fKitchen & Dining\\u002fFood Service Equipment & Supplies\\u002fTabletop & Serveware\\u002fFlatware\\u002fChopsticks\",\"Home & Kitchen\\u002fKitchen & Dining\\u002fDining & Entertaining\\u002fDinnerware & Serveware\\u002fServeware\\u002fChafing Dishes\",\"Home & Kitchen\\u002fKitchen & Dining\\u002fFood Service Equipment & Supplies\\u002fCookware, Bakeware & Tools\\u002fKitchen Knives\\u002fCleavers\",\"Home & Kitchen\\u002fKitchen & Dining\\u002fFood Service Equipment & Supplies\\u002fTabletop & Serveware\\u002fKitchen Linens\\u002fCloth Napkins\",\"Home & Kitchen\\u002fKitchen & Dining\\u002fDining & Entertaining\\u002fTabletop Accessories\\u002fLinens\\u002fCloth Napkins\",\"Home & Kitchen\\u002fKitchen & Dining\\u002fDining & Entertaining\\u002fBar Tools & Drinkware\\u002fBar Tools\\u002fCoasters\",\"Home & Kitchen\\u002fKitchen & Dining\\u002fFood Service Equipment & Supplies\\u002fTabletop & Serveware\\u002fGlassware & Drinkware\\u002fCocktail Drinkware\",\"Home & Kitchen\\u002fKitchen & Dining\\u002fDining & Entertaining\\u002fBar Tools & Drinkware\\u002fBar Tools\\u002fCocktail Napkins\",\"Home & Kitchen\\u002fKitchen & Dining\\u002fDining & Entertaining\\u002fBar Tools & Drinkware\\u002fBar Tools\\u002fCocktail Picks\",\"Home & Kitchen\\u002fKitchen & Dining\\u002fFood Service Equipment & Supplies\\u002fTabletop & Serveware\\u002fFlatware\\u002fChopstick & Cutlery Rests\",\"Home & Kitchen\\u002fFurniture\\u002fLiving Room Furniture\\u002fTV & Media Furniture\\u002fMedia Storage\\u002fCassette Storage\",\"Home & Kitchen\\u002fKitchen & Dining\\u002fDining & Entertaining\\u002fGlassware & Drinkware\\u002fWine & Champagne Glasses\\u002fChampagne Glasses\",\"Home & Kitchen\\u002fKitchen & Dining\\u002fDining & Entertaining\\u002fTabletop Accessories\\u002fLinens\\u002fChair Pads\",\"Home & Kitchen\\u002fFurniture\\u002fGame & Recreation Room Furniture\\u002fTV & Media Furniture\\u002fMedia Storage\\u002fCassette Storage\",\"Home & Kitchen\\u002fFurniture\\u002fGame & Recreation Room Furniture\\u002fHome Bar Furniture\\u002fBars & Wine Cabinets\\u002fBar Tables\",\"Home & Kitchen\\u002fKitchen & Dining\\u002fFood Service Equipment & Supplies\\u002fTabletop & Serveware\\u002fBar Equipment\\u002fBar Tools & Glasses\",\"Home & Kitchen\\u002fKitchen & Dining\\u002fFood Service Equipment & Supplies\\u002fTabletop & Serveware\\u002fGlassware & Drinkware\\u002fBeer Glasses\",\"Home & Kitchen\\u002fKitchen & Dining\\u002fFood Service Equipment & Supplies\\u002fTabletop & Serveware\\u002fDinnerware\\u002fBowls\",\"Home & Kitchen\\u002fFurniture\\u002fBedroom Furniture\\u002fBeds, Frames & Bases\\u002fBases & Foundations\\u002fBox Springs\",\"Home & Kitchen\\u002fKitchen & Dining\\u002fFood Service Equipment & Supplies\\u002fCookware, Bakeware & Tools\\u002fKitchen Knives\\u002fBread Knives\",\"Home & Kitchen\\u002fKitchen & Dining\\u002fDining & Entertaining\\u002fBar Tools & Drinkware\\u002fBar Tools\\u002fSeltzer Bottles & Chargers\",\"Home & Kitchen\\u002fHome D\\u00e9cor Products\\u002fCandles & Holders\\u002fCandles\\u002fSpecialty Candles\\u002fSeasonal Celebration Candles\",\"Home & Kitchen\\u002fKitchen & Dining\\u002fFood Service Equipment & Supplies\\u002fTabletop & Serveware\\u002fBar Equipment\\u002fBar Refrigeration\",\"Home & Kitchen\\u002fKitchen & Dining\\u002fDining & Entertaining\\u002fFlatware\\u002fSpoons\\u002fTablespoons\",\"Home & Kitchen\\u002fKitchen & Dining\\u002fFood Service Equipment & Supplies\\u002fTabletop & Serveware\\u002fKitchen Linens\\u002fTablecloths\",\"Home & Kitchen\\u002fKitchen & Dining\\u002fDining & Entertaining\\u002fTabletop Accessories\\u002fLinens\\u002fTablecloths\",\"Home & Kitchen\\u002fKitchen & Dining\\u002fFood Service Equipment & Supplies\\u002fTabletop & Serveware\\u002fCondiment Holders & Dispensers\\u002fSugar Shakers\",\"Home & Kitchen\\u002fKitchen & Dining\\u002fDining & Entertaining\\u002fDinnerware & Serveware\\u002fCream & Sugar\\u002fSugar Packet Holders\",\"Home & Kitchen\\u002fKitchen & Dining\\u002fBakeware\\u002fDecorating Tools\\u002fWrapping & Packaging\\u002fCake Carriers\",\"Home & Kitchen\\u002fKitchen & Dining\\u002fDining & Entertaining\\u002fDinnerware & Serveware\\u002fServeware\\u002fCake Stands\",\"Home & Kitchen\\u002fKitchen & Dining\\u002fKitchen Utensils & Gadgets\\u002fBaking Tools\\u002fBaking & Pastry Utensils\\u002fCake Testers\",\"Home & Kitchen\\u002fKitchen & Dining\\u002fBakeware\\u002fBaking Tools & Accessories\\u002fBaking & Pastry Utensils\\u002fCake Testers\",\"Home & Kitchen\\u002fKitchen & Dining\\u002fDining & Entertaining\\u002fFlatware\\u002fServers\\u002fCake, Pie & Pastry Servers\",\"Home & Kitchen\\u002fKitchen & Dining\\u002fFood Service Equipment & Supplies\\u002fTabletop & Serveware\\u002fLinen & Table Accessories\\u002fTabletop Accessories\",\"Home & Kitchen\\u002fStorage & Organization\\u002fKitchen Storage & Organization\\u002fRacks & Holders\\u002fWine Racks & Cabinets\\u002fTabletop Wine Racks\",\"Home & Kitchen\\u002fKitchen & Dining\\u002fDining & Entertaining\\u002fGlassware & Drinkware\\u002fCocktail Drinkware\\u002fHighball Glasses\",\"Home & Kitchen\\u002fKitchen & Dining\\u002fDining & Entertaining\\u002fDinnerware & Serveware\\u002fServeware\\u002fHoney Jars\",\"Home & Kitchen\\u002fKitchen & Dining\\u002fKitchen Utensils & Gadgets\\u002fBar & Wine Tools\\u002fIce Buckets & Tongs\\u002fIce Buckets\",\"Home & Kitchen\\u002fKitchen & Dining\\u002fDining & Entertaining\\u002fBar Tools & Drinkware\\u002fBar Tools\\u002fIce Buckets & Tongs\",\"Home & Kitchen\\u002fKitchen & Dining\\u002fDining & Entertaining\\u002fBar Tools & Drinkware\\u002fBar Tools\\u002fIce Crushers\",\"Home & Kitchen\\u002fKitchen & Dining\\u002fFood Service Equipment & Supplies\\u002fTabletop & Serveware\\u002fKitchen Linens\\u002fKitchen Rugs\",\"Home & Kitchen\\u002fKitchen & Dining\\u002fFood Service Equipment & Supplies\\u002fTabletop & Serveware\\u002fGlassware & Drinkware\\u002fIced Tea Glasses\",\"Home & Kitchen\\u002fKitchen & Dining\\u002fSmall Appliances\\u002fCoffee, Tea & Espresso Appliances\\u002fKettles & Tea Machines\\u002fIced Tea Machines\",\"Home & Kitchen\\u002fKitchen & Dining\\u002fDining & Entertaining\\u002fTabletop Accessories\\u002fLinens\\u002fKitchen Rugs\",\"Home & Kitchen\\u002fKitchen & Dining\\u002fStorage & Organization\\u002fThermoses\\u002fInsulated Beverage Containers\\u002fInsulators\",\"Home & Kitchen\\u002fKitchen & Dining\\u002fFood Service Equipment & Supplies\\u002fTabletop & Serveware\\u002fCondiment Holders & Dispensers\\u002fJars & Jar Holders\",\"Home & Kitchen\\u002fKitchen & Dining\\u002fDining & Entertaining\\u002fBar Tools & Drinkware\\u002fBar Tools\\u002fJiggers\",\"Home & Kitchen\\u002fKitchen & Dining\\u002fFood Service Equipment & Supplies\\u002fTabletop & Serveware\\u002fBeverage Serveware\\u002fJugs\",\"Home & Kitchen\\u002fKitchen & Dining\\u002fFood Service Equipment & Supplies\\u002fCookware, Bakeware & Tools\\u002fKitchen Knives\\u002fKnife Blocks\",\"Home & Kitchen\\u002fKitchen & Dining\\u002fFood Service Equipment & Supplies\\u002fTabletop & Serveware\\u002fBeverage Serveware\\u002fIced Beverage Dispensers\",\"Home & Kitchen\\u002fStorage & Organization\\u002fKitchen Storage & Organization\\u002fThermoses\\u002fInsulated Beverage Containers\\u002fInsulators\",\"Home & Kitchen\\u002fKitchen & Dining\\u002fFood Service Equipment & Supplies\\u002fCookware, Bakeware & Tools\\u002fKitchen Knives\\u002fKnife Block Sets\",\"Home & Kitchen\\u002fKitchen & Dining\\u002fDining & Entertaining\\u002fFlatware\\u002fKnives\\u002fButter Knives\",\"Home & Kitchen\\u002fKitchen & Dining\\u002fFood Service Equipment & Supplies\\u002fTabletop & Serveware\\u002fCondiment Holders & Dispensers\\u002fCaddies & Racks\",\"Home & Kitchen\\u002fBath\\u002fBathroom Accessories\\u002fHolders & Dispensers\\u002fDispensers\\u002fCountertop Soap Dispensers\",\"Home & Kitchen\\u002fStorage & Organization\\u002fKitchen Storage & Organization\\u002fFood Storage\\u002fFood Containers\\u002fContainers\",\"Home & Kitchen\\u002fKitchen & Dining\\u002fStorage & Organization\\u002fFood Storage\\u002fFood Containers\\u002fContainer Sets\",\"Home & Kitchen\\u002fStorage & Organization\\u002fKitchen Storage & Organization\\u002fFood Storage\\u002fFood Containers\\u002fContainer Sets\",\"Home & Kitchen\\u002fKitchen & Dining\\u002fFood Service Equipment & Supplies\\u002fTabletop & Serveware\\u002fServeware & Accessories\\u002fCondiment Squeeze Bottles\",\"Home & Kitchen\\u002fKitchen & Dining\\u002fDining & Entertaining\\u002fDinnerware & Serveware\\u002fServeware\\u002fCondiment Racks\",\"Home & Kitchen\\u002fKitchen & Dining\\u002fFood Service Equipment & Supplies\\u002fRestaurant Appliances & Equipment\\u002fCommercial Food Preparation Equipment\\u002fCommercial Food Packaging Equipment\",\"Home & Kitchen\\u002fKitchen & Dining\\u002fCoffee, Tea & Espresso\\u002fCoffee Maker Parts & Accessories\\u002fCoffee Machine Accessories\\u002fCoffeemaker Pots\",\"Home & Kitchen\\u002fKitchen & Dining\\u002fSmall Appliance Parts & Accessories\\u002fCoffee & Espresso Machine Parts & Accessories\\u002fCoffee Machine Accessories\\u002fCoffeemaker Pots\",\"Home & Kitchen\\u002fKitchen & Dining\\u002fDining & Entertaining\\u002fDinnerware & Serveware\\u002fTeapots & Coffee Servers\\u002fCoffee Servers\",\"Home & Kitchen\\u002fKitchen & Dining\\u002fStorage & Organization\\u002fFood Storage\\u002fFood Containers\\u002fContainers\",\"Home & Kitchen\\u002fKitchen & Dining\\u002fCoffee, Tea & Espresso\\u002fCoffee Maker Parts & Accessories\\u002fCoffee Machine Accessories\\u002fCoffee Pod Holders\",\"Home & Kitchen\\u002fKitchen & Dining\\u002fSmall Appliance Parts & Accessories\\u002fCoffee & Espresso Machine Parts & Accessories\\u002fCoffee Machine Accessories\\u002fCoffee Pod Holders\",\"Home & Kitchen\\u002fKitchen & Dining\\u002fDining & Entertaining\\u002fNovelty\\u002fDrinkware\\u002fCoffee Mugs\",\"Home & Kitchen\\u002fKitchen & Dining\\u002fCoffee, Tea & Espresso\\u002fCoffee Maker Parts & Accessories\\u002fCoffee Machine Accessories\\u002fCoffee Filters\",\"Home & Kitchen\\u002fKitchen & Dining\\u002fSmall Appliance Parts & Accessories\\u002fCoffee & Espresso Machine Parts & Accessories\\u002fCoffee Machine Accessories\\u002fCoffee Filters\",\"Home & Kitchen\\u002fKitchen & Dining\\u002fDining & Entertaining\\u002fGlassware & Drinkware\\u002fCups, Mugs, & Saucers\\u002fCoffee Cups & Mugs\",\"Home & Kitchen\\u002fKitchen & Dining\\u002fDining & Entertaining\\u002fBar Tools & Drinkware\\u002fBar Tools\\u002fCocktail Shakers\",\"Home & Kitchen\\u002fKitchen & Dining\\u002fDining & Entertaining\\u002fDinnerware & Serveware\\u002fTeapots & Coffee Servers\\u002fCoffee Urns\",\"Home & Kitchen\\u002fKitchen & Dining\\u002fKitchen Utensils & Gadgets\\u002fFruit & Vegetable Tools\\u002fCorers & Pitters\\u002fCorers\",\"Home & Kitchen\\u002fKitchen & Dining\\u002fDining & Entertaining\\u002fGlassware & Drinkware\\u002fCups, Mugs, & Saucers\\u002fCup & Saucer Sets\",\"Home & Kitchen\\u002fKitchen & Dining\\u002fBakeware\\u002fDecorating Tools\\u002fWrapping & Packaging\\u002fCupcake Containers\",\"Home & Kitchen\\u002fFurniture\\u002fGame & Recreation Room Furniture\\u002fTV & Media Furniture\\u002fMedia Storage\\u002fDVD Cases\",\"Home & Kitchen\\u002fKitchen & Dining\\u002fFood Service Equipment & Supplies\\u002fTabletop & Serveware\\u002fGlassware & Drinkware\\u002fCups, Mugs, & Saucers\",\"Home & Kitchen\\u002fKitchen & Dining\\u002fStorage & Organization\\u002fThermoses\\u002fInsulated Beverage Containers\\u002fCups & Mugs\",\"Home & Kitchen\\u002fStorage & Organization\\u002fKitchen Storage & Organization\\u002fThermoses\\u002fInsulated Beverage Containers\\u002fCups & Mugs\",\"Home & Kitchen\\u002fKitchen & Dining\\u002fDining & Entertaining\\u002fDinnerware & Serveware\\u002fServeware\\u002fCupcake Stands\",\"Home & Kitchen\\u002fKitchen & Dining\\u002fKitchen Utensils & Gadgets\\u002fKitchen Accessories\\u002fCookbook Stands & Recipe Holders\\u002fCookbook Stands\",\"Home & Kitchen\\u002fKitchen & Dining\\u002fDining & Entertaining\\u002fDinnerware & Serveware\\u002fCream & Sugar\\u002fCreamers\",\"Home & Kitchen\\u002fKitchen & Dining\\u002fFood Service Equipment & Supplies\\u002fTabletop & Serveware\\u002fServeware & Accessories\\u002fCream & Sugar\",\"Home & Kitchen\\u002fFurniture\\u002fLiving Room Furniture\\u002fTV & Media Furniture\\u002fMedia Storage\\u002fDVD Cases\",\"Home & Kitchen\\u002fKitchen & Dining\\u002fKitchen Utensils & Gadgets\\u002fBaking Tools\\u002fBaking & Pastry Utensils\\u002fDough Blenders\",\"Home & Kitchen\\u002fBath\\u002fBathroom Accessories\\u002fShower Curtains, Hooks & Liners\\u002fShower Curtain Hangers\\u002fDecorative Shower Curtain Hooks\",\"Home & Kitchen\\u002fKitchen & Dining\\u002fKitchen Utensils & Gadgets\\u002fMeasuring Tools & Scales\\u002fScales\\u002fDigital Scales\",\"Home & Kitchen\\u002fKitchen & Dining\\u002fDining & Entertaining\\u002fFlatware\\u002fForks\\u002fDinner Forks\",\"Home & Kitchen\\u002fKitchen & Dining\\u002fDining & Entertaining\\u002fFlatware\\u002fKnives\\u002fDinner Knives\",\"Home & Kitchen\\u002fKitchen & Dining\\u002fFood Service Equipment & Supplies\\u002fTabletop & Serveware\\u002fServeware & Accessories\\u002fDinnerware\",\"Home & Kitchen\\u002fKitchen & Dining\\u002fFood Service Equipment & Supplies\\u002fTabletop & Serveware\\u002fKitchen Linens\\u002fDisposable Table Covers\",\"Home & Kitchen\\u002fKitchen & Dining\\u002fKitchen Utensils & Gadgets\\u002fKitchen Knives & Accessories\\u002fAsian Knives\\u002fDeba Knives\",\"Home & Kitchen\\u002fKitchen & Dining\\u002fDining & Entertaining\\u002fTabletop Accessories\\u002fLinens\\u002fDish Cloths & Dish Towels\",\"Home & Kitchen\\u002fKitchen & Dining\\u002fFood Service Equipment & Supplies\\u002fTabletop & Serveware\\u002fKitchen Linens\\u002fDish Cloths & Dish Towels\",\"Home & Kitchen\\u002fKitchen & Dining\\u002fFood Service Equipment & Supplies\\u002fTabletop & Serveware\\u002fDinnerware\\u002fDinnerware Sets\",\"Home & Kitchen\\u002fKitchen & Dining\\u002fDining & Entertaining\\u002fDinnerware & Serveware\\u002fDinnerware\\u002fDinnerware Sets\",\"Home & Kitchen\\u002fKitchen & Dining\\u002fDining & Entertaining\\u002fTabletop Accessories\\u002fLinens\\u002fDisposable Table Covers\",\"Home & Kitchen\\u002fKitchen & Dining\\u002fBakeware\\u002fBaking Tools & Accessories\\u002fBaking & Pastry Utensils\\u002fDough Blenders\",\"Home & Kitchen\\u002fKitchen & Dining\\u002fFood Service Equipment & Supplies\\u002fTabletop & Serveware\\u002fCondiment Holders & Dispensers\\u002fDredges\",\"Home & Kitchen\\u002fKitchen & Dining\\u002fCoffee, Tea & Espresso\\u002fCoffee Maker Parts & Accessories\\u002fEspresso Machine Accessories\\u002fTampers\",\"Home & Kitchen\\u002fKitchen & Dining\\u002fDining & Entertaining\\u002fDinnerware & Serveware\\u002fServeware\\u002fTrivets\",\"Home & Kitchen\\u002fKitchen & Dining\\u002fCoffee, Tea & Espresso\\u002fTea Accessories\\u002fTea Strainers & Filters\\u002fTea Ball Strainers\",\"Home & Kitchen\\u002fKitchen & Dining\\u002fDining & Entertaining\\u002fFlatware\\u002fServing Utensils\\u002fTongs\",\"Home & Kitchen\\u002fKitchen & Dining\\u002fDining & Entertaining\\u002fDinnerware & Serveware\\u002fServeware\\u002fTongs\",\"Home & Kitchen\\u002fKitchen & Dining\\u002fCoffee, Tea & Espresso\\u002fTea Accessories\\u002fTea Strainers & Filters\\u002fTea Filters\",\"Home & Kitchen\\u002fKitchen & Dining\\u002fDining & Entertaining\\u002fDinnerware & Serveware\\u002fServeware\\u002fTaco Holders\",\"Home & Kitchen\\u002fKitchen & Dining\\u002fSmall Appliance Parts & Accessories\\u002fCoffee & Espresso Machine Parts & Accessories\\u002fEspresso Machine Accessories\\u002fTampers\",\"Home & Kitchen\\u002fKitchen & Dining\\u002fFood Service Equipment & Supplies\\u002fTabletop & Serveware\\u002fGlassware & Drinkware\\u002fTumblers & Water Glasses\",\"Home & Kitchen\\u002fKitchen & Dining\\u002fDining & Entertaining\\u002fDinnerware & Serveware\\u002fServeware\\u002fTortilla Servers\",\"Home & Kitchen\\u002fKitchen & Dining\\u002fFood Service Equipment & Supplies\\u002fTabletop & Serveware\\u002fFlatware\\u002fServers\",\"Home & Kitchen\\u002fKitchen & Dining\\u002fFood Service Equipment & Supplies\\u002fTabletop & Serveware\\u002fServeware & Accessories\\u002fServeware\",\"Home & Kitchen\\u002fKitchen & Dining\\u002fDining & Entertaining\\u002fDinnerware & Serveware\\u002fServeware\\u002fServers\",\"Home & Kitchen\\u002fKitchen & Dining\\u002fDining & Entertaining\\u002fBar Tools & Drinkware\\u002fCocktail Drinkware\\u002fDrinking Jars\",\"Home & Kitchen\\u002fKitchen & Dining\\u002fDining & Entertaining\\u002fGlassware & Drinkware\\u002fCocktail Drinkware\\u002fDrinking Jars\",\"Home & Kitchen\\u002fKitchen & Dining\\u002fFood Service Equipment & Supplies\\u002fTabletop & Serveware\\u002fGlassware & Drinkware\\u002fDrinking Jars\",\"Home & Kitchen\\u002fKitchen & Dining\\u002fFood Service Equipment & Supplies\\u002fTabletop & Serveware\\u002fServeware & Accessories\\u002fEgg Cups\",\"Home & Kitchen\\u002fKitchen & Dining\\u002fKitchen Utensils & Gadgets\\u002fGraters, Peelers & Slicers\\u002fMandolines & Slicers\\u002fEgg Slicers\",\"Home & Kitchen\\u002fKitchen & Dining\\u002fKitchen Utensils & Gadgets\\u002fCheese Tools\\u002fFondue Sets & Accessories\\u002fElectric Fondue Pots\",\"Home & Kitchen\\u002fKitchen & Dining\\u002fSmall Appliances\\u002fCoffee, Tea & Espresso Appliances\\u002fKettles & Tea Machines\\u002fElectric Kettles\",\"Home & Kitchen\\u002fKitchen & Dining\\u002fFood Service Equipment & Supplies\\u002fCookware, Bakeware & Tools\\u002fKitchen Knives\\u002fElectric Knives\",\"Home & Kitchen\\u002fKitchen & Dining\\u002fDining & Entertaining\\u002fGlassware & Drinkware\\u002fCups, Mugs, & Saucers\\u002fEspresso Cups\",\"Home & Kitchen\\u002fKitchen & Dining\\u002fDining & Entertaining\\u002fBar Tools & Drinkware\\u002fBar Tools\\u002fFlasks\",\"Home & Kitchen\\u002fStorage & Organization\\u002fKitchen Storage & Organization\\u002fRacks & Holders\\u002fCabinet & Drawer Organization\\u002fFlatware Organizers\",\"Home & Kitchen\\u002fKitchen & Dining\\u002fStorage & Organization\\u002fRacks & Holders\\u002fCabinet & Drawer Organization\\u002fFlatware Organizers\",\"Home & Kitchen\\u002fKitchen & Dining\\u002fFood Service Equipment & Supplies\\u002fTabletop & Serveware\\u002fFlatware\\u002fForks\",\"Home & Kitchen\\u002fKitchen & Dining\\u002fFood Service Equipment & Supplies\\u002fCookware, Bakeware & Tools\\u002fKitchen Knives\\u002fFillet Knives\",\"Home & Kitchen\\u002fKitchen & Dining\\u002fFood Service Equipment & Supplies\\u002fTabletop & Serveware\\u002fFlatware\\u002fFlatware Sets\",\"Home & Kitchen\\u002fKitchen & Dining\\u002fDining & Entertaining\\u002fDinnerware & Serveware\\u002fServeware\\u002fServing Dishes, Trays & Platters\",\"Home & Kitchen\\u002fKitchen & Dining\\u002fDining & Entertaining\\u002fDinnerware & Serveware\\u002fServeware\\u002fServing Bowls & Tureens\",\"Home & Kitchen\\u002fKitchen & Dining\\u002fFood Service Equipment & Supplies\\u002fTabletop & Serveware\\u002fServeware & Accessories\\u002fServeware Accessories\",\"Home & Kitchen\\u002fKitchen & Dining\\u002fFood Service Equipment & Supplies\\u002fTabletop & Serveware\\u002fKitchen Linens\\u002fAccessories\",\"Home & Kitchen\\u002fKitchen & Dining\\u002fDining & Entertaining\\u002fTabletop Accessories\\u002fLinens\\u002fAccessories\",\"Home & Kitchen\\u002fKitchen & Dining\\u002fFood Service Equipment & Supplies\\u002fTabletop & Serveware\\u002fKitchen Linens\\u002fAprons\",\"Home & Kitchen\\u002fKitchen & Dining\\u002fFood Service Equipment & Supplies\\u002fTabletop & Serveware\\u002fGlassware & Drinkware\\u002fBeer Mugs & Steins\",\"Home & Kitchen\\u002fKitchen & Dining\\u002fDining & Entertaining\\u002fFlatware\\u002fForks\\u002fServing Forks\",\"Home & Kitchen\\u002fKitchen & Dining\\u002fDining & Entertaining\\u002fDinnerware & Serveware\\u002fServeware\\u002fServing Forks\",\"Home & Kitchen\\u002fKitchen & Dining\\u002fDining & Entertaining\\u002fBar Tools & Drinkware\\u002fLiqueur & Spirits Glasses\\u002fShot Glasses\",\"Home & Kitchen\\u002fKitchen & Dining\\u002fStorage & Organization\\u002fRacks & Holders\\u002fCabinet & Drawer Organization\\u002fShelf Liners\",\"Home & Kitchen\\u002fStorage & Organization\\u002fKitchen Storage & Organization\\u002fRacks & Holders\\u002fCabinet & Drawer Organization\\u002fShelf Liners\",\"Home & Kitchen\\u002fKitchen & Dining\\u002fFood Service Equipment & Supplies\\u002fTabletop & Serveware\\u002fFlatware\\u002fServing Utensils\",\"Home & Kitchen\\u002fKitchen & Dining\\u002fDining & Entertaining\\u002fFlatware\\u002fSpoons\\u002fServing Spoons\",\"Home & Kitchen\\u002fKitchen & Dining\\u002fDining & Entertaining\\u002fDinnerware & Serveware\\u002fServeware\\u002fServing Spoons\",\"Home & Kitchen\\u002fKitchen & Dining\\u002fFood Service Equipment & Supplies\\u002fTabletop & Serveware\\u002fFlatware\\u002fServing Sets\",\"Home & Kitchen\\u002fBath\\u002fBathroom Accessories\\u002fShower Curtains, Hooks & Liners\\u002fShower Curtain Hangers\\u002fShower Curtain Rings\",\"Home & Kitchen\\u002fKitchen & Dining\\u002fDining & Entertaining\\u002fGlassware & Drinkware\\u002fLiqueur & Spirits Glasses\\u002fShot Glasses\",\"Home & Kitchen\\u002fStorage & Organization\\u002fKitchen Storage & Organization\\u002fRacks & Holders\\u002fWine Racks & Cabinets\\u002fFreestanding Wine Racks & Cabinets\",\"Home & Kitchen\\u002fBath\\u002fBathroom Accessories\\u002fHolders & Dispensers\\u002fDispensers\\u002fShower Dispensers\",\"Home & Kitchen\\u002fKitchen & Dining\\u002fKitchen Utensils & Gadgets\\u002fBar & Wine Tools\\u002fCorkscrews & Openers\\u002fWaiter Corkscrews\",\"Home & Kitchen\\u002fStorage & Organization\\u002fKitchen Storage & Organization\\u002fRacks & Holders\\u002fWine Racks & Cabinets\\u002fWall-Mounted Wine Racks\",\"Home & Kitchen\\u002fKitchen & Dining\\u002fStorage & Organization\\u002fRacks & Holders\\u002fWine Racks & Cabinets\\u002fWall-Mounted Wine Racks\",\"Home & Kitchen\\u002fKitchen & Dining\\u002fFood Service Equipment & Supplies\\u002fTabletop & Serveware\\u002fGlassware & Drinkware\\u002fWine & Champagne Glasses\",\"Home & Kitchen\\u002fKitchen & Dining\\u002fFood Service Equipment & Supplies\\u002fTabletop & Serveware\\u002fBeverage Serveware\\u002fWine Decanters\",\"Home & Kitchen\\u002fKitchen & Dining\\u002fDining & Entertaining\\u002fGlassware & Drinkware\\u002fWine & Champagne Glasses\\u002fWine Glasses\",\"Home & Kitchen\\u002fKitchen & Dining\\u002fKitchen Utensils & Gadgets\\u002fBar & Wine Tools\\u002fWine Stoppers & Pourers\\u002fWine Pourers\",\"Home & Kitchen\\u002fKitchen & Dining\\u002fCoffee, Tea & Espresso\\u002fCoffee Maker Parts & Accessories\\u002fCoffee Machine Accessories\\u002fThermal Carafes\",\"Home & Kitchen\\u002fKitchen & Dining\\u002fSmall Appliance Parts & Accessories\\u002fCoffee & Espresso Machine Parts & Accessories\\u002fCoffee Machine Accessories\\u002fThermal Carafes\",\"Home & Kitchen\\u002fKitchen & Dining\\u002fDining & Entertaining\\u002fFlatware\\u002fSpoons\\u002fTeaspoons\",\"Home & Kitchen\\u002fKitchen & Dining\\u002fFood Service Equipment & Supplies\\u002fTabletop & Serveware\\u002fServeware & Accessories\\u002fTeapots & Coffee Servers\",\"Home & Kitchen\\u002fKitchen & Dining\\u002fDining & Entertaining\\u002fDinnerware & Serveware\\u002fTeapots & Coffee Servers\\u002fTeapots\",\"Home & Kitchen\\u002fKitchen & Dining\\u002fFood Service Equipment & Supplies\\u002fTabletop & Serveware\\u002fDinnerware\\u002fTeacups, Mugs & Saucers\",\"Home & Kitchen\\u002fKitchen & Dining\\u002fDining & Entertaining\\u002fDinnerware & Serveware\\u002fDinnerware\\u002fTeacups, Mugs & Saucers\",\"Home & Kitchen\\u002fKitchen & Dining\\u002fDining & Entertaining\\u002fGlassware & Drinkware\\u002fCups, Mugs, & Saucers\\u002fTeacups\",\"Home & Kitchen\\u002fKitchen & Dining\\u002fFood Service Equipment & Supplies\\u002fCookware, Bakeware & Tools\\u002fKitchen Knives\\u002fUtility Knives\",\"Home & Kitchen\\u002fKitchen & Dining\\u002fKitchen Utensils & Gadgets\\u002fKitchen Knives & Accessories\\u002fAsian Knives\\u002fUsuba & Nakiri Knives\",\"Home & Kitchen\\u002fKitchen & Dining\\u002fDining & Entertaining\\u002fDinnerware & Serveware\\u002fTeapots & Coffee Servers\\u002fTea Sets\",\"Home & Kitchen\\u002fKitchen & Dining\\u002fFood Service Equipment & Supplies\\u002fCookware, Bakeware & Tools\\u002fKitchen Knives\\u002fKnife Cases, Holders & Protectors\",\"Home & Kitchen\\u002fKitchen & Dining\\u002fDining & Entertaining\\u002fFlatware\\u002fKnives\\u002fSteak Knives\",\"Home & Kitchen\\u002fKitchen & Dining\\u002fDining & Entertaining\\u002fFlatware\\u002fFlatware Sets\\u002fSteak Sets\",\"Home & Kitchen\\u002fKitchen & Dining\\u002fFood Service Equipment & Supplies\\u002fTabletop & Serveware\\u002fFlatware\\u002fSpoons\",\"Home & Kitchen\\u002fKitchen & Dining\\u002fDining & Entertaining\\u002fDinnerware & Serveware\\u002fCream & Sugar\\u002fSugar Bowls\",\"Home & Kitchen\\u002fKitchen & Dining\\u002fDining & Entertaining\\u002fBar Tools & Drinkware\\u002fLiqueur & Spirits Glasses\\u002fSnifters\",\"Home & Kitchen\\u002fKitchen & Dining\\u002fDining & Entertaining\\u002fGlassware & Drinkware\\u002fLiqueur & Spirits Glasses\\u002fSnifters\",\"Home & Kitchen\\u002fKitchen & Dining\\u002fDining & Entertaining\\u002fFlatware\\u002fForks\\u002fSpecialty Forks\",\"Home & Kitchen\\u002fKitchen & Dining\\u002fFood Service Equipment & Supplies\\u002fCookware, Bakeware & Tools\\u002fKitchen Knives\\u002fSpecialty Knives\",\"Home & Kitchen\\u002fKitchen & Dining\\u002fDining & Entertaining\\u002fFlatware\\u002fChopstick & Cutlery Rests\\u002fSpoon Rests\",\"Home & Kitchen\\u002fKitchen & Dining\\u002fFood Service Equipment & Supplies\\u002fTabletop & Serveware\\u002fCondiment Holders & Dispensers\\u002fSqueeze Bottles\",\"Home & Kitchen\\u002fKitchen & Dining\\u002fFood Service Equipment & Supplies\\u002fCookware, Bakeware & Tools\\u002fKitchen Knives\\u002fAsian Knives\",\"Home & Kitchen\\u002fKitchen & Dining\\u002fDining & Entertaining\\u002fTabletop Accessories\\u002fLinens\\u002fAprons\",\"Home & Kitchen\\u002fKitchen & Dining\\u002fStorage & Organization\\u002fRacks & Holders\\u002fWine Racks & Cabinets\\u002fTabletop Wine Racks\",\"Home & Kitchen\\u002fKitchen & Dining\\u002fDining & Entertaining\\u002fDinnerware & Serveware\\u002fDinnerware\\u002fBowls\",\"Home & Kitchen\\u002fKitchen & Dining\\u002fKitchen Utensils & Gadgets\\u002fBar & Wine Tools\\u002fCorkscrews & Openers\\u002fBottle Openers\",\"Home & Kitchen\\u002fKitchen & Dining\\u002fFood Service Equipment & Supplies\\u002fCookware, Bakeware & Tools\\u002fKitchen Knives\\u002fBoning Knives\",\"Home & Kitchen\\u002fHome D\\u00e9cor Products\\u002fCandles & Holders\\u002fCandles\\u002fSpecialty Candles\\u002fBirthday Candles\",\"Home & Kitchen\\u002fKitchen & Dining\\u002fDining & Entertaining\\u002fDinnerware & Serveware\\u002fServeware\\u002fBeverage Serveware\",\"Home & Kitchen\\u002fBath\\u002fBathroom Accessories\\u002fHolders & Dispensers\\u002fDispensers\\u002fLotion Dispensers\",\"Home & Kitchen\\u002fKitchen & Dining\\u002fFood Service Equipment & Supplies\\u002fCookware, Bakeware & Tools\\u002fKitchen Knives\\u002fMagnetic Knife Strips\",\"Home & Kitchen\\u002fKitchen & Dining\\u002fStorage & Organization\\u002fRacks & Holders\\u002fCabinet & Drawer Organization\\u002fKnife Storage\",\"Home & Kitchen\\u002fKitchen & Dining\\u002fBakeware\\u002fBaking Tools & Accessories\\u002fBaking & Pastry Utensils\\u002fPastry Brushes\",\"Home & Kitchen\\u002fKitchen & Dining\\u002fKitchen Utensils & Gadgets\\u002fBaking Tools\\u002fBaking & Pastry Utensils\\u002fPastry Brushes\",\"Home & Kitchen\\u002fKitchen & Dining\\u002fStorage & Organization\\u002fFood Storage\\u002fFood Containers\\u002fPasta Containers\",\"Home & Kitchen\\u002fStorage & Organization\\u002fKitchen Storage & Organization\\u002fFood Storage\\u002fFood Containers\\u002fPasta Containers\",\"Home & Kitchen\\u002fKitchen & Dining\\u002fFood Service Equipment & Supplies\\u002fCookware, Bakeware & Tools\\u002fKitchen Knives\\u002fParing Knives\",\"Home & Kitchen\\u002fKitchen & Dining\\u002fDining & Entertaining\\u002fGlassware & Drinkware\\u002fLiqueur & Spirits Glasses\\u002fOld Fashioned Glasses\",\"Home & Kitchen\\u002fKitchen & Dining\\u002fDining & Entertaining\\u002fBar Tools & Drinkware\\u002fLiqueur & Spirits Glasses\\u002fOld Fashioned Glasses\",\"Home & Kitchen\\u002fKitchen & Dining\\u002fDining & Entertaining\\u002fGlassware & Drinkware\\u002fCocktail Drinkware\\u002fOld Fashioned Glasses\",\"Home & Kitchen\\u002fKitchen & Dining\\u002fDining & Entertaining\\u002fBar Tools & Drinkware\\u002fCocktail Drinkware\\u002fOld Fashioned Glasses\",\"Home & Kitchen\\u002fHome D\\u00e9cor Products\\u002fCandles & Holders\\u002fCandles\\u002fSpecialty Candles\\u002fNovelty Candles\",\"Home & Kitchen\\u002fKitchen & Dining\\u002fDining & Entertaining\\u002fGlassware & Drinkware\\u002fCups, Mugs, & Saucers\\u002fMug Sets\",\"Home & Kitchen\\u002fKitchen & Dining\\u002fDining & Entertaining\\u002fBar Tools & Drinkware\\u002fBar Tools\\u002fMuddlers\",\"Home & Kitchen\\u002fKitchen & Dining\\u002fFood Service Equipment & Supplies\\u002fTabletop & Serveware\\u002fGlassware & Drinkware\\u002fMixed Drinkware Sets\",\"Home & Kitchen\\u002fKitchen & Dining\\u002fKitchen Utensils & Gadgets\\u002fSeasoning & Spice Tools\\u002fChoppers & Mincers\\u002fMincers\",\"Home & Kitchen\\u002fKitchen & Dining\\u002fKitchen Utensils & Gadgets\\u002fMeasuring Tools & Scales\\u002fScales\\u002fMechanical Scales\",\"Home & Kitchen\\u002fKitchen & Dining\\u002fKitchen Utensils & Gadgets\\u002fKitchen Knives & Accessories\\u002fCleavers\\u002fMeat Cleavers\",\"Home & Kitchen\\u002fKitchen & Dining\\u002fDining & Entertaining\\u002fGlassware & Drinkware\\u002fCocktail Drinkware\\u002fMartini Glasses\",\"Home & Kitchen\\u002fKitchen & Dining\\u002fDining & Entertaining\\u002fBar Tools & Drinkware\\u002fCocktail Drinkware\\u002fMartini Glasses\",\"Home & Kitchen\\u002fKitchen & Dining\\u002fDining & Entertaining\\u002fGlassware & Drinkware\\u002fCocktail Drinkware\\u002fMargarita Glasses\",\"Home & Kitchen\\u002fKitchen & Dining\\u002fDining & Entertaining\\u002fBar Tools & Drinkware\\u002fCocktail Drinkware\\u002fMargarita Glasses\",\"Home & Kitchen\\u002fKitchen & Dining\\u002fKitchen Utensils & Gadgets\\u002fPasta & Pizza Tools\\u002fPasta Makers & Accessories\\u002fManual Pasta Makers\",\"Home & Kitchen\\u002fHeating, Cooling & Air Quality\\u002fParts & Accessories\\u002fStove & Fireplace Accessories\\u002fMantels & Surrounds\\u002fMantel Shelves\",\"Home & Kitchen\\u002fKitchen & Dining\\u002fKitchen Utensils & Gadgets\\u002fGraters, Peelers & Slicers\\u002fMandolines & Slicers\\u002fMandolines\",\"Home & Kitchen\\u002fKitchen & Dining\\u002fKitchen Utensils & Gadgets\\u002fSeasoning & Spice Tools\\u002fSalt & Pepper\\u002fPepper Mills\",\"Home & Kitchen\\u002fKitchen & Dining\\u002fFood Service Equipment & Supplies\\u002fTabletop & Serveware\\u002fKitchen Linens\\u002fPlace Mats\",\"Home & Kitchen\\u002fKitchen & Dining\\u002fDining & Entertaining\\u002fTabletop Accessories\\u002fLinens\\u002fPlace Mats\",\"Home & Kitchen\\u002fKitchen & Dining\\u002fDining & Entertaining\\u002fDinnerware & Serveware\\u002fDinnerware\\u002fPlates\",\"Home & Kitchen\\u002fKitchen & Dining\\u002fFood Service Equipment & Supplies\\u002fTabletop & Serveware\\u002fFlatware\\u002fKnives\",\"Home & Kitchen\\u002fStorage & Organization\\u002fKitchen Storage & Organization\\u002fRacks & Holders\\u002fCabinet & Drawer Organization\\u002fLazy Susans\",\"Home & Kitchen\\u002fKitchen & Dining\\u002fStorage & Organization\\u002fRacks & Holders\\u002fCabinet & Drawer Organization\\u002fLazy Susans\",\"Home & Kitchen\\u002fKitchen & Dining\\u002fDining & Entertaining\\u002fDinnerware & Serveware\\u002fServeware\\u002fLazy Susans\",\"Home & Kitchen\\u002fKitchen & Dining\\u002fFood Service Equipment & Supplies\\u002fTabletop & Serveware\\u002fGlassware & Drinkware\\u002fLiqueur & Spirits Glasses\",\"Home & Kitchen\\u002fKitchen & Dining\\u002fCoffee, Tea & Espresso\\u002fTea Accessories\\u002fTea Strainers & Filters\\u002fLong-Handled Tea Strainers\",\"Home & Kitchen\\u002fKitchen & Dining\\u002fDining & Entertaining\\u002fFlatware\\u002fServers\\u002fSalad Servers\",\"Home & Kitchen\\u002fKitchen & Dining\\u002fDining & Entertaining\\u002fFlatware\\u002fForks\\u002fSalad Forks\",\"Home & Kitchen\\u002fKitchen & Dining\\u002fDining & Entertaining\\u002fBar Tools & Drinkware\\u002fBar Tools\\u002fRimming Salts & Sugars\",\"Home & Kitchen\\u002fKitchen & Dining\\u002fKitchen Utensils & Gadgets\\u002fKitchen Accessories\\u002fCookbook Stands & Recipe Holders\\u002fRecipe Holders\",\"Home & Kitchen\\u002fKitchen & Dining\\u002fStorage & Organization\\u002fRacks & Holders\\u002fCabinet & Drawer Organization\\u002fPull-Out Organizers\",\"Home & Kitchen\\u002fStorage & Organization\\u002fKitchen Storage & Organization\\u002fRacks & Holders\\u002fCabinet & Drawer Organization\\u002fKnife Storage\",\"Home & Kitchen\\u002fStorage & Organization\\u002fKitchen Storage & Organization\\u002fRacks & Holders\\u002fCabinet & Drawer Organization\\u002fPull-Out Organizers\",\"Home & Kitchen\\u002fKitchen & Dining\\u002fDining & Entertaining\\u002fTabletop Accessories\\u002fLinens\\u002fPotholders & Oven Mitts\",\"Home & Kitchen\\u002fKitchen & Dining\\u002fFood Service Equipment & Supplies\\u002fTabletop & Serveware\\u002fKitchen Linens\\u002fPotholders & Oven Mitts\",\"Home & Kitchen\\u002fKitchen & Dining\\u002fKitchen Utensils & Gadgets\\u002fFruit & Vegetable Tools\\u002fPotato Mashers & Ricers\\u002fPotato Ricers\",\"Home & Kitchen\\u002fKitchen & Dining\\u002fKitchen Utensils & Gadgets\\u002fFruit & Vegetable Tools\\u002fPotato Mashers & Ricers\\u002fPotato Mashers\",\"Home & Kitchen\\u002fKitchen & Dining\\u002fStorage & Organization\\u002fRacks & Holders\\u002fCabinet & Drawer Organization\\u002fPot Lid Holders\",\"Home & Kitchen\\u002fStorage & Organization\\u002fKitchen Storage & Organization\\u002fRacks & Holders\\u002fCabinet & Drawer Organization\\u002fPot Lid Holders\",\"Home & Kitchen\\u002fKitchen & Dining\\u002fStorage & Organization\\u002fFood Storage\\u002fCoffee Pod Holders\\u002fPod Drawers\",\"Home & Kitchen\\u002fStorage & Organization\\u002fKitchen Storage & Organization\\u002fFood Storage\\u002fCoffee Pod Holders\\u002fPod Drawers\",\"Home & Kitchen\\u002fKitchen & Dining\\u002fStorage & Organization\\u002fFood Storage\\u002fCoffee Pod Holders\\u002fPod Baskets\",\"Home & Kitchen\\u002fStorage & Organization\\u002fKitchen Storage & Organization\\u002fFood Storage\\u002fCoffee Pod Holders\\u002fPod Baskets\",\"Home & Kitchen\\u002fKitchen & Dining\\u002fFood Service Equipment & Supplies\\u002fTabletop & Serveware\\u002fDinnerware\\u002fPlates\",\"Home & Kitchen\\u002fKitchen & Dining\\u002fKitchen Utensils & Gadgets\\u002fCheese Tools\\u002fFondue Sets & Accessories\\u002fPots & Sets\",\"Home & Kitchen\\u002fKitchen & Dining\\u002fFood Service Equipment & Supplies\\u002fCookware, Bakeware & Tools\\u002fKitchen Knives\\u002fKnife Sets\",\"Home & Kitchen\\u002fKitchen & Dining\\u002fKitchen Utensils & Gadgets\\u002fSeasoning & Spice Tools\\u002fGarlic Tools\\u002fGarlic Roasters\",\"Home & Kitchen\\u002fKitchen & Dining\\u002fDining & Entertaining\\u002fBar Tools & Drinkware\\u002fBar Tools\\u002fGlass Markers & Charms\",\"Home & Kitchen\\u002fKitchen & Dining\\u002fStorage & Organization\\u002fRacks & Holders\\u002fWine Racks & Cabinets\\u002fFreestanding Wine Racks & Cabinets\",\"Home & Kitchen\\u002fKitchen & Dining\\u002fKitchen Utensils & Gadgets\\u002fSeasoning & Spice Tools\\u002fGarlic Tools\\u002fGarlic Keepers\",\"Home & Kitchen\\u002fKitchen & Dining\\u002fKitchen Utensils & Gadgets\\u002fSeasoning & Spice Tools\\u002fGarlic Tools\\u002fGarlic Presses\",\"Home & Kitchen\\u002fKitchen & Dining\\u002fFood Service Equipment & Supplies\\u002fTabletop & Serveware\\u002fCondiment Holders & Dispensers\\u002fGravy Boats\",\"Home & Kitchen\\u002fKitchen & Dining\\u002fDining & Entertaining\\u002fDinnerware & Serveware\\u002fServeware\\u002fGravy Boats\",\"Home & Kitchen\\u002fFurniture\\u002fBedroom Furniture\\u002fBeds, Frames & Bases\\u002fHeadboards & Footboards\\u002fHeadboards\",\"Home & Kitchen\\u002fKitchen & Dining\\u002fSmall Appliances\\u002fSpecialty Appliances\\u002fFood Grinders & Mills\\u002fHerb & Spice Mills\",\"Home & Kitchen\\u002fKitchen & Dining\\u002fDining & Entertaining\\u002fBar Tools & Drinkware\\u002fCocktail Drinkware\\u002fHighball Glasses\",\"Home & Kitchen\\u002fKitchen & Dining\\u002fDining & Entertaining\\u002fDinnerware & Serveware\\u002fServeware\\u002fCandy Servers\",\"Home & Kitchen\\u002fKitchen & Dining\\u002fFood Service Equipment & Supplies\\u002fTabletop & Serveware\\u002fBeverage Serveware\\u002fCarafes\",\"Home & Kitchen\\u002fKitchen & Dining\\u002fFood Service Equipment & Supplies\\u002fCookware, Bakeware & Tools\\u002fKitchen Knives\\u002fCarving Knives\",\"Home & Kitchen\\u002fKitchen & Dining\\u002fKitchen Utensils & Gadgets\\u002fBar & Wine Tools\\u002fWine Stoppers & Pourers\\u002fWine Stoppers\",\"Home & Kitchen\\u002fKitchen & Dining\\u002fDining & Entertaining\\u002fBar Tools & Drinkware\\u002fBar Tools\\u002fWine Stoppers & Pourers\",\"Home & Kitchen\\u002fCleaning Supplies\\u002fHousehold Cleaners\\u002fCleaning Tools\\u002fBrushes\\u002fToilet Brushes & Holders\",\"Home & Kitchen\\u002fStorage & Organization\\u002fKitchen Storage & Organization\\u002fThermoses\\u002fInsulated Beverage Containers\\u002fThermoses\",\"Home & Kitchen\\u002fKitchen & Dining\\u002fStorage & Organization\\u002fThermoses\\u002fInsulated Beverage Containers\\u002fThermoses\",\"Home & Kitchen\\u002fKitchen & Dining\\u002fKitchen Utensils & Gadgets\\u002fBar & Wine Tools\\u002fCorkscrews & Openers\\u002fWing Corkscrews\",\"Home & Kitchen\\u002fKitchen & Dining\\u002fKitchen Utensils & Gadgets\\u002fKitchen Knives & Accessories\\u002fAsian Knives\",\"Home & Kitchen\\u002fKitchen & Dining\\u002fKitchen Utensils & Gadgets\\u002fBaking Tools\\u002fBaking & Pastry Utensils\",\"Home & Kitchen\\u002fKitchen & Dining\\u002fBakeware\\u002fBaking Tools & Accessories\\u002fBaking & Pastry Utensils\",\"Home & Kitchen\\u002fKitchen & Dining\\u002fFood Service Equipment & Supplies\\u002fTabletop & Serveware\\u002fBar Equipment\",\"Home & Kitchen\\u002fKitchen & Dining\\u002fDining & Entertaining\\u002fBar Tools & Drinkware\\u002fBar Tools\",\"Home & Kitchen\\u002fFurniture\\u002fGame & Recreation Room Furniture\\u002fHome Bar Furniture\\u002fBars & Wine Cabinets\",\"Home & Kitchen\\u002fFurniture\\u002fBedroom Furniture\\u002fBeds, Frames & Bases\\u002fBases & Foundations\",\"Home & Kitchen\\u002fKitchen & Dining\\u002fFood Service Equipment & Supplies\\u002fTabletop & Serveware\\u002fBeverage Serveware\",\"Home & Kitchen\\u002fCleaning Supplies\\u002fHousehold Cleaners\\u002fCleaning Tools\\u002fBrushes\",\"Home & Kitchen\\u002fStorage & Organization\\u002fKitchen Storage & Organization\\u002fRacks & Holders\\u002fCabinet & Drawer Organization\",\"Home & Kitchen\\u002fKitchen & Dining\\u002fStorage & Organization\\u002fRacks & Holders\\u002fCabinet & Drawer Organization\",\"Home & Kitchen\\u002fKitchen & Dining\\u002fKitchen Utensils & Gadgets\\u002fSeasoning & Spice Tools\\u002fChoppers & Mincers\",\"Home & Kitchen\\u002fKitchen & Dining\\u002fDining & Entertaining\\u002fFlatware\\u002fChopstick & Cutlery Rests\",\"Home & Kitchen\\u002fKitchen & Dining\\u002fKitchen Utensils & Gadgets\\u002fKitchen Knives & Accessories\\u002fCleavers\",\"Home & Kitchen\\u002fKitchen & Dining\\u002fDining & Entertaining\\u002fBar Tools & Drinkware\\u002fCocktail Drinkware\",\"Home & Kitchen\\u002fKitchen & Dining\\u002fDining & Entertaining\\u002fGlassware & Drinkware\\u002fCocktail Drinkware\",\"Home & Kitchen\\u002fKitchen & Dining\\u002fSmall Appliance Parts & Accessories\\u002fCoffee & Espresso Machine Parts & Accessories\\u002fCoffee Machine Accessories\",\"Home & Kitchen\\u002fKitchen & Dining\\u002fCoffee, Tea & Espresso\\u002fCoffee Maker Parts & Accessories\\u002fCoffee Machine Accessories\",\"Home & Kitchen\\u002fStorage & Organization\\u002fKitchen Storage & Organization\\u002fFood Storage\\u002fCoffee Pod Holders\",\"Home & Kitchen\\u002fKitchen & Dining\\u002fStorage & Organization\\u002fFood Storage\\u002fCoffee Pod Holders\",\"Home & Kitchen\\u002fKitchen & Dining\\u002fFood Service Equipment & Supplies\\u002fRestaurant Appliances & Equipment\\u002fCommercial Food Preparation Equipment\",\"Home & Kitchen\\u002fKitchen & Dining\\u002fFood Service Equipment & Supplies\\u002fTabletop & Serveware\\u002fCondiment Holders & Dispensers\",\"Home & Kitchen\\u002fKitchen & Dining\\u002fKitchen Utensils & Gadgets\\u002fKitchen Accessories\\u002fCookbook Stands & Recipe Holders\",\"Home & Kitchen\\u002fKitchen & Dining\\u002fKitchen Utensils & Gadgets\\u002fFruit & Vegetable Tools\\u002fCorers & Pitters\",\"Home & Kitchen\\u002fKitchen & Dining\\u002fKitchen Utensils & Gadgets\\u002fBar & Wine Tools\\u002fCorkscrews & Openers\",\"Home & Kitchen\\u002fKitchen & Dining\\u002fDining & Entertaining\\u002fDinnerware & Serveware\\u002fCream & Sugar\",\"Home & Kitchen\\u002fKitchen & Dining\\u002fDining & Entertaining\\u002fGlassware & Drinkware\\u002fCups, Mugs, & Saucers\",\"Home & Kitchen\\u002fKitchen & Dining\\u002fDining & Entertaining\\u002fDinnerware & Serveware\\u002fDinnerware\",\"Home & Kitchen\\u002fKitchen & Dining\\u002fFood Service Equipment & Supplies\\u002fTabletop & Serveware\\u002fDinnerware\",\"Home & Kitchen\\u002fBath\\u002fBathroom Accessories\\u002fHolders & Dispensers\\u002fDispensers\",\"Home & Kitchen\\u002fKitchen & Dining\\u002fDining & Entertaining\\u002fNovelty\\u002fDrinkware\",\"Home & Kitchen\\u002fKitchen & Dining\\u002fSmall Appliance Parts & Accessories\\u002fCoffee & Espresso Machine Parts & Accessories\\u002fEspresso Machine Accessories\",\"Home & Kitchen\\u002fKitchen & Dining\\u002fCoffee, Tea & Espresso\\u002fCoffee Maker Parts & Accessories\\u002fEspresso Machine Accessories\",\"Home & Kitchen\\u002fKitchen & Dining\\u002fFood Service Equipment & Supplies\\u002fTabletop & Serveware\\u002fFlatware\",\"Home & Kitchen\\u002fKitchen & Dining\\u002fDining & Entertaining\\u002fFlatware\\u002fFlatware Sets\",\"Home & Kitchen\\u002fKitchen & Dining\\u002fKitchen Utensils & Gadgets\\u002fCheese Tools\\u002fFondue Sets & Accessories\",\"Home & Kitchen\\u002fStorage & Organization\\u002fKitchen Storage & Organization\\u002fFood Storage\\u002fFood Containers\",\"Home & Kitchen\\u002fKitchen & Dining\\u002fStorage & Organization\\u002fFood Storage\\u002fFood Containers\",\"Home & Kitchen\\u002fKitchen & Dining\\u002fSmall Appliances\\u002fSpecialty Appliances\\u002fFood Grinders & Mills\",\"Home & Kitchen\\u002fKitchen & Dining\\u002fDining & Entertaining\\u002fFlatware\\u002fForks\",\"Home & Kitchen\\u002fKitchen & Dining\\u002fKitchen Utensils & Gadgets\\u002fSeasoning & Spice Tools\\u002fGarlic Tools\",\"Home & Kitchen\\u002fKitchen & Dining\\u002fFood Service Equipment & Supplies\\u002fTabletop & Serveware\\u002fGlassware & Drinkware\",\"Home & Kitchen\\u002fFurniture\\u002fBedroom Furniture\\u002fBeds, Frames & Bases\\u002fHeadboards & Footboards\",\"Home & Kitchen\\u002fKitchen & Dining\\u002fKitchen Utensils & Gadgets\\u002fBar & Wine Tools\\u002fIce Buckets & Tongs\",\"Home & Kitchen\\u002fStorage & Organization\\u002fKitchen Storage & Organization\\u002fThermoses\\u002fInsulated Beverage Containers\",\"Home & Kitchen\\u002fKitchen & Dining\\u002fStorage & Organization\\u002fThermoses\\u002fInsulated Beverage Containers\",\"Home & Kitchen\\u002fKitchen & Dining\\u002fSmall Appliances\\u002fCoffee, Tea & Espresso Appliances\\u002fKettles & Tea Machines\",\"Home & Kitchen\\u002fKitchen & Dining\\u002fFood Service Equipment & Supplies\\u002fCookware, Bakeware & Tools\\u002fKitchen Knives\",\"Home & Kitchen\\u002fKitchen & Dining\\u002fFood Service Equipment & Supplies\\u002fTabletop & Serveware\\u002fKitchen Linens\",\"Home & Kitchen\\u002fKitchen & Dining\\u002fDining & Entertaining\\u002fFlatware\\u002fKnives\",\"Home & Kitchen\\u002fKitchen & Dining\\u002fFood Service Equipment & Supplies\\u002fTabletop & Serveware\\u002fLinen & Table Accessories\",\"Home & Kitchen\\u002fKitchen & Dining\\u002fDining & Entertaining\\u002fTabletop Accessories\\u002fLinens\",\"Home & Kitchen\\u002fKitchen & Dining\\u002fDining & Entertaining\\u002fBar Tools & Drinkware\\u002fLiqueur & Spirits Glasses\",\"Home & Kitchen\\u002fKitchen & Dining\\u002fDining & Entertaining\\u002fGlassware & Drinkware\\u002fLiqueur & Spirits Glasses\",\"Home & Kitchen\\u002fKitchen & Dining\\u002fKitchen Utensils & Gadgets\\u002fGraters, Peelers & Slicers\\u002fMandolines & Slicers\",\"Home & Kitchen\\u002fHeating, Cooling & Air Quality\\u002fParts & Accessories\\u002fStove & Fireplace Accessories\\u002fMantels & Surrounds\",\"Home & Kitchen\\u002fFurniture\\u002fGame & Recreation Room Furniture\\u002fTV & Media Furniture\\u002fMedia Storage\",\"Home & Kitchen\\u002fFurniture\\u002fLiving Room Furniture\\u002fTV & Media Furniture\\u002fMedia Storage\",\"Home & Kitchen\\u002fKitchen & Dining\\u002fKitchen Utensils & Gadgets\\u002fPasta & Pizza Tools\\u002fPasta Makers & Accessories\",\"Home & Kitchen\\u002fKitchen & Dining\\u002fKitchen Utensils & Gadgets\\u002fFruit & Vegetable Tools\\u002fPotato Mashers & Ricers\",\"Home & Kitchen\\u002fKitchen & Dining\\u002fKitchen Utensils & Gadgets\\u002fSeasoning & Spice Tools\\u002fSalt & Pepper\",\"Home & Kitchen\\u002fKitchen & Dining\\u002fKitchen Utensils & Gadgets\\u002fMeasuring Tools & Scales\\u002fScales\",\"Home & Kitchen\\u002fKitchen & Dining\\u002fDining & Entertaining\\u002fFlatware\\u002fServers\",\"Home & Kitchen\\u002fKitchen & Dining\\u002fDining & Entertaining\\u002fDinnerware & Serveware\\u002fServeware\",\"Home & Kitchen\\u002fKitchen & Dining\\u002fFood Service Equipment & Supplies\\u002fTabletop & Serveware\\u002fServeware & Accessories\",\"Home & Kitchen\\u002fKitchen & Dining\\u002fDining & Entertaining\\u002fFlatware\\u002fServing Utensils\",\"Home & Kitchen\\u002fBath\\u002fBathroom Accessories\\u002fShower Curtains, Hooks & Liners\\u002fShower Curtain Hangers\",\"Home & Kitchen\\u002fHome D\\u00e9cor Products\\u002fCandles & Holders\\u002fCandles\\u002fSpecialty Candles\",\"Home & Kitchen\\u002fKitchen & Dining\\u002fKitchen Utensils & Gadgets\\u002fKitchen Knives & Accessories\\u002fSpecialty Knives\",\"Home & Kitchen\\u002fKitchen & Dining\\u002fDining & Entertaining\\u002fFlatware\\u002fSpoons\",\"Home & Kitchen\\u002fKitchen & Dining\\u002fCoffee, Tea & Espresso\\u002fTea Accessories\\u002fTea Strainers & Filters\",\"Home & Kitchen\\u002fKitchen & Dining\\u002fDining & Entertaining\\u002fDinnerware & Serveware\\u002fTeapots & Coffee Servers\",\"Home & Kitchen\\u002fKitchen & Dining\\u002fDining & Entertaining\\u002fGlassware & Drinkware\\u002fWine & Champagne Glasses\",\"Home & Kitchen\\u002fStorage & Organization\\u002fKitchen Storage & Organization\\u002fRacks & Holders\\u002fWine Racks & Cabinets\",\"Home & Kitchen\\u002fKitchen & Dining\\u002fStorage & Organization\\u002fRacks & Holders\\u002fWine Racks & Cabinets\",\"Home & Kitchen\\u002fKitchen & Dining\\u002fKitchen Utensils & Gadgets\\u002fBar & Wine Tools\\u002fWine Stoppers & Pourers\",\"Home & Kitchen\\u002fKitchen & Dining\\u002fBakeware\\u002fDecorating Tools\\u002fWrapping & Packaging\",\"Home & Kitchen\\u002fKitchen & Dining\\u002fKitchen Utensils & Gadgets\\u002fBaking Tools\",\"Home & Kitchen\\u002fKitchen & Dining\\u002fBakeware\\u002fBaking Tools & Accessories\",\"Home & Kitchen\\u002fKitchen & Dining\\u002fKitchen Utensils & Gadgets\\u002fBar & Wine Tools\",\"Home & Kitchen\\u002fKitchen & Dining\\u002fDining & Entertaining\\u002fBar Tools & Drinkware\",\"Home & Kitchen\\u002fFurniture\\u002fBedroom Furniture\\u002fBeds, Frames & Bases\",\"Home & Kitchen\\u002fHome D\\u00e9cor Products\\u002fCandles & Holders\\u002fCandles\",\"Home & Kitchen\\u002fKitchen & Dining\\u002fKitchen Utensils & Gadgets\\u002fCheese Tools\",\"Home & Kitchen\\u002fCleaning Supplies\\u002fHousehold Cleaners\\u002fCleaning Tools\",\"Home & Kitchen\\u002fKitchen & Dining\\u002fSmall Appliance Parts & Accessories\\u002fCoffee & Espresso Machine Parts & Accessories\",\"Home & Kitchen\\u002fKitchen & Dining\\u002fCoffee, Tea & Espresso\\u002fCoffee Maker Parts & Accessories\",\"Home & Kitchen\\u002fKitchen & Dining\\u002fSmall Appliances\\u002fCoffee, Tea & Espresso Appliances\",\"Home & Kitchen\\u002fKitchen & Dining\\u002fFood Service Equipment & Supplies\\u002fCookware, Bakeware & Tools\",\"Home & Kitchen\\u002fKitchen & Dining\\u002fBakeware\\u002fDecorating Tools\",\"Home & Kitchen\\u002fKitchen & Dining\\u002fDining & Entertaining\\u002fDinnerware & Serveware\",\"Home & Kitchen\\u002fKitchen & Dining\\u002fDining & Entertaining\\u002fFlatware\",\"Home & Kitchen\\u002fStorage & Organization\\u002fKitchen Storage & Organization\\u002fFood Storage\",\"Home & Kitchen\\u002fKitchen & Dining\\u002fStorage & Organization\\u002fFood Storage\",\"Home & Kitchen\\u002fKitchen & Dining\\u002fKitchen Utensils & Gadgets\\u002fFruit & Vegetable Tools\",\"Home & Kitchen\\u002fKitchen & Dining\\u002fDining & Entertaining\\u002fGlassware & Drinkware\",\"Home & Kitchen\\u002fKitchen & Dining\\u002fKitchen Utensils & Gadgets\\u002fGraters, Peelers & Slicers\",\"Home & Kitchen\\u002fBath\\u002fBathroom Accessories\\u002fHolders & Dispensers\",\"Home & Kitchen\\u002fFurniture\\u002fGame & Recreation Room Furniture\\u002fHome Bar Furniture\",\"Home & Kitchen\\u002fKitchen & Dining\\u002fKitchen Utensils & Gadgets\\u002fKitchen Accessories\",\"Home & Kitchen\\u002fKitchen & Dining\\u002fKitchen Utensils & Gadgets\\u002fKitchen Knives & Accessories\",\"Home & Kitchen\\u002fKitchen & Dining\\u002fKitchen Utensils & Gadgets\\u002fMeasuring Tools & Scales\",\"Home & Kitchen\\u002fKitchen & Dining\\u002fDining & Entertaining\\u002fNovelty\",\"Home & Kitchen\\u002fKitchen & Dining\\u002fKitchen Utensils & Gadgets\\u002fPasta & Pizza Tools\",\"Home & Kitchen\\u002fStorage & Organization\\u002fKitchen Storage & Organization\\u002fRacks & Holders\",\"Home & Kitchen\\u002fKitchen & Dining\\u002fStorage & Organization\\u002fRacks & Holders\",\"Home & Kitchen\\u002fKitchen & Dining\\u002fFood Service Equipment & Supplies\\u002fRestaurant Appliances & Equipment\",\"Home & Kitchen\\u002fKitchen & Dining\\u002fKitchen Utensils & Gadgets\\u002fSeasoning & Spice Tools\",\"Home & Kitchen\\u002fBath\\u002fBathroom Accessories\\u002fShower Curtains, Hooks & Liners\",\"Home & Kitchen\\u002fKitchen & Dining\\u002fSmall Appliances\\u002fSpecialty Appliances\",\"Home & Kitchen\\u002fHeating, Cooling & Air Quality\\u002fParts & Accessories\\u002fStove & Fireplace Accessories\",\"Home & Kitchen\\u002fFurniture\\u002fGame & Recreation Room Furniture\\u002fTV & Media Furniture\",\"Home & Kitchen\\u002fFurniture\\u002fLiving Room Furniture\\u002fTV & Media Furniture\",\"Home & Kitchen\\u002fKitchen & Dining\\u002fFood Service Equipment & Supplies\\u002fTabletop & Serveware\",\"Home & Kitchen\\u002fKitchen & Dining\\u002fDining & Entertaining\\u002fTabletop Accessories\",\"Home & Kitchen\\u002fKitchen & Dining\\u002fCoffee, Tea & Espresso\\u002fTea Accessories\",\"Home & Kitchen\\u002fStorage & Organization\\u002fKitchen Storage & Organization\\u002fThermoses\",\"Home & Kitchen\\u002fKitchen & Dining\\u002fStorage & Organization\\u002fThermoses\",\"Home & Kitchen\\u002fKitchen & Dining\\u002fBakeware\",\"Home & Kitchen\\u002fBath\\u002fBathroom Accessories\",\"Home & Kitchen\\u002fFurniture\\u002fBedroom Furniture\",\"Home & Kitchen\\u002fHome D\\u00e9cor Products\\u002fCandles & Holders\",\"Home & Kitchen\\u002fKitchen & Dining\\u002fCoffee, Tea & Espresso\",\"Home & Kitchen\\u002fKitchen & Dining\\u002fDining & Entertaining\",\"Home & Kitchen\\u002fKitchen & Dining\\u002fFood Service Equipment & Supplies\",\"Home & Kitchen\\u002fFurniture\\u002fGame & Recreation Room Furniture\",\"Home & Kitchen\\u002fCleaning Supplies\\u002fHousehold Cleaners\",\"Home & Kitchen\\u002fStorage & Organization\\u002fKitchen Storage & Organization\",\"Home & Kitchen\\u002fKitchen & Dining\\u002fKitchen Utensils & Gadgets\",\"Home & Kitchen\\u002fFurniture\\u002fLiving Room Furniture\",\"Home & Kitchen\\u002fHeating, Cooling & Air Quality\\u002fParts & Accessories\",\"Home & Kitchen\\u002fKitchen & Dining\\u002fSmall Appliance Parts & Accessories\",\"Home & Kitchen\\u002fKitchen & Dining\\u002fSmall Appliances\",\"Home & Kitchen\\u002fKitchen & Dining\\u002fStorage & Organization\",\"Home & Kitchen\\u002fBath\",\"Home & Kitchen\\u002fCleaning Supplies\",\"Home & Kitchen\\u002fFurniture\",\"Home & Kitchen\\u002fHeating, Cooling & Air Quality\",\"Home & Kitchen\\u002fHome D\\u00e9cor Products\",\"Home & Kitchen\\u002fKitchen & Dining\",\"Home & Kitchen\\u002fStorage & Organization\",\"Home & Kitchen\"],\"labels\":[\"Salad Serving Sets\",\"Salt & Pepper\",\"Salt & Pepper Mill Sets\",\"Butter Dishes\",\"Butter Dishes & Servers\",\"Bunkie Boards\",\"Seafood Knives\",\"Screwpull Levers\",\"Salt Shakers\",\"Salt & Pepper Shaker Sets\",\"Salt Mills\",\"Salt & Pepper Shakers\",\"Santoku Knives\",\"Cheese Knives\",\"Chair Pads\",\"Cheese Slicers\",\"Chef's Knives\",\"Chinese Chef's Knives & Cleavers\",\"Choppers\",\"Cheese Knives\",\"Chopsticks\",\"Chafing Dishes\",\"Cleavers\",\"Cloth Napkins\",\"Cloth Napkins\",\"Coasters\",\"Cocktail Drinkware\",\"Cocktail Napkins\",\"Cocktail Picks\",\"Chopstick & Cutlery Rests\",\"Cassette Storage\",\"Champagne Glasses\",\"Chair Pads\",\"Cassette Storage\",\"Bar Tables\",\"Bar Tools & Glasses\",\"Beer Glasses\",\"Bowls\",\"Box Springs\",\"Bread Knives\",\"Seltzer Bottles & Chargers\",\"Seasonal Celebration Candles\",\"Bar Refrigeration\",\"Tablespoons\",\"Tablecloths\",\"Tablecloths\",\"Sugar Shakers\",\"Sugar Packet Holders\",\"Cake Carriers\",\"Cake Stands\",\"Cake Testers\",\"Cake Testers\",\"Cake, Pie & Pastry Servers\",\"Tabletop Accessories\",\"Tabletop Wine Racks\",\"Highball Glasses\",\"Honey Jars\",\"Ice Buckets\",\"Ice Buckets & Tongs\",\"Ice Crushers\",\"Kitchen Rugs\",\"Iced Tea Glasses\",\"Iced Tea Machines\",\"Kitchen Rugs\",\"Insulators\",\"Jars & Jar Holders\",\"Jiggers\",\"Jugs\",\"Knife Blocks\",\"Iced Beverage Dispensers\",\"Insulators\",\"Knife Block Sets\",\"Butter Knives\",\"Caddies & Racks\",\"Countertop Soap Dispensers\",\"Containers\",\"Container Sets\",\"Container Sets\",\"Condiment Squeeze Bottles\",\"Condiment Racks\",\"Commercial Food Packaging Equipment\",\"Coffeemaker Pots\",\"Coffeemaker Pots\",\"Coffee Servers\",\"Containers\",\"Coffee Pod Holders\",\"Coffee Pod Holders\",\"Coffee Mugs\",\"Coffee Filters\",\"Coffee Filters\",\"Coffee Cups & Mugs\",\"Cocktail Shakers\",\"Coffee Urns\",\"Corers\",\"Cup & Saucer Sets\",\"Cupcake Containers\",\"DVD Cases\",\"Cups, Mugs, & Saucers\",\"Cups & Mugs\",\"Cups & Mugs\",\"Cupcake Stands\",\"Cookbook Stands\",\"Creamers\",\"Cream & Sugar\",\"DVD Cases\",\"Dough Blenders\",\"Decorative Shower Curtain Hooks\",\"Digital Scales\",\"Dinner Forks\",\"Dinner Knives\",\"Dinnerware\",\"Disposable Table Covers\",\"Deba Knives\",\"Dish Cloths & Dish Towels\",\"Dish Cloths & Dish Towels\",\"Dinnerware Sets\",\"Dinnerware Sets\",\"Disposable Table Covers\",\"Dough Blenders\",\"Dredges\",\"Tampers\",\"Trivets\",\"Tea Ball Strainers\",\"Tongs\",\"Tongs\",\"Tea Filters\",\"Taco Holders\",\"Tampers\",\"Tumblers & Water Glasses\",\"Tortilla Servers\",\"Servers\",\"Serveware\",\"Servers\",\"Drinking Jars\",\"Drinking Jars\",\"Drinking Jars\",\"Egg Cups\",\"Egg Slicers\",\"Electric Fondue Pots\",\"Electric Kettles\",\"Electric Knives\",\"Espresso Cups\",\"Flasks\",\"Flatware Organizers\",\"Flatware Organizers\",\"Forks\",\"Fillet Knives\",\"Flatware Sets\",\"Serving Dishes, Trays & Platters\",\"Serving Bowls & Tureens\",\"Serveware Accessories\",\"Accessories\",\"Accessories\",\"Aprons\",\"Beer Mugs & Steins\",\"Serving Forks\",\"Serving Forks\",\"Shot Glasses\",\"Shelf Liners\",\"Shelf Liners\",\"Serving Utensils\",\"Serving Spoons\",\"Serving Spoons\",\"Serving Sets\",\"Shower Curtain Rings\",\"Shot Glasses\",\"Freestanding Wine Racks & Cabinets\",\"Shower Dispensers\",\"Waiter Corkscrews\",\"Wall-Mounted Wine Racks\",\"Wall-Mounted Wine Racks\",\"Wine & Champagne Glasses\",\"Wine Decanters\",\"Wine Glasses\",\"Wine Pourers\",\"Thermal Carafes\",\"Thermal Carafes\",\"Teaspoons\",\"Teapots & Coffee Servers\",\"Teapots\",\"Teacups, Mugs & Saucers\",\"Teacups, Mugs & Saucers\",\"Teacups\",\"Utility Knives\",\"Usuba & Nakiri Knives\",\"Tea Sets\",\"Knife Cases, Holders & Protectors\",\"Steak Knives\",\"Steak Sets\",\"Spoons\",\"Sugar Bowls\",\"Snifters\",\"Snifters\",\"Specialty Forks\",\"Specialty Knives\",\"Spoon Rests\",\"Squeeze Bottles\",\"Asian Knives\",\"Aprons\",\"Tabletop Wine Racks\",\"Bowls\",\"Bottle Openers\",\"Boning Knives\",\"Birthday Candles\",\"Beverage Serveware\",\"Lotion Dispensers\",\"Magnetic Knife Strips\",\"Knife Storage\",\"Pastry Brushes\",\"Pastry Brushes\",\"Pasta Containers\",\"Pasta Containers\",\"Paring Knives\",\"Old Fashioned Glasses\",\"Old Fashioned Glasses\",\"Old Fashioned Glasses\",\"Old Fashioned Glasses\",\"Novelty Candles\",\"Mug Sets\",\"Muddlers\",\"Mixed Drinkware Sets\",\"Mincers\",\"Mechanical Scales\",\"Meat Cleavers\",\"Martini Glasses\",\"Martini Glasses\",\"Margarita Glasses\",\"Margarita Glasses\",\"Manual Pasta Makers\",\"Mantel Shelves\",\"Mandolines\",\"Pepper Mills\",\"Place Mats\",\"Place Mats\",\"Plates\",\"Knives\",\"Lazy Susans\",\"Lazy Susans\",\"Lazy Susans\",\"Liqueur & Spirits Glasses\",\"Long-Handled Tea Strainers\",\"Salad Servers\",\"Salad Forks\",\"Rimming Salts & Sugars\",\"Recipe Holders\",\"Pull-Out Organizers\",\"Knife Storage\",\"Pull-Out Organizers\",\"Potholders & Oven Mitts\",\"Potholders & Oven Mitts\",\"Potato Ricers\",\"Potato Mashers\",\"Pot Lid Holders\",\"Pot Lid Holders\",\"Pod Drawers\",\"Pod Drawers\",\"Pod Baskets\",\"Pod Baskets\",\"Plates\",\"Pots & Sets\",\"Knife Sets\",\"Garlic Roasters\",\"Glass Markers & Charms\",\"Freestanding Wine Racks & Cabinets\",\"Garlic Keepers\",\"Garlic Presses\",\"Gravy Boats\",\"Gravy Boats\",\"Headboards\",\"Herb & Spice Mills\",\"Highball Glasses\",\"Candy Servers\",\"Carafes\",\"Carving Knives\",\"Wine Stoppers\",\"Wine Stoppers & Pourers\",\"Toilet Brushes & Holders\",\"Thermoses\",\"Thermoses\",\"Wing Corkscrews\",\"Asian Knives\",\"Baking & Pastry Utensils\",\"Baking & Pastry Utensils\",\"Bar Equipment\",\"Bar Tools\",\"Bars & Wine Cabinets\",\"Bases & Foundations\",\"Beverage Serveware\",\"Brushes\",\"Cabinet & Drawer Organization\",\"Cabinet & Drawer Organization\",\"Choppers & Mincers\",\"Chopstick & Cutlery Rests\",\"Cleavers\",\"Cocktail Drinkware\",\"Cocktail Drinkware\",\"Coffee Machine Accessories\",\"Coffee Machine Accessories\",\"Coffee Pod Holders\",\"Coffee Pod Holders\",\"Commercial Food Preparation Equipment\",\"Condiment Holders & Dispensers\",\"Cookbook Stands & Recipe Holders\",\"Corers & Pitters\",\"Corkscrews & Openers\",\"Cream & Sugar\",\"Cups, Mugs, & Saucers\",\"Dinnerware\",\"Dinnerware\",\"Dispensers\",\"Drinkware\",\"Espresso Machine Accessories\",\"Espresso Machine Accessories\",\"Flatware\",\"Flatware Sets\",\"Fondue Sets & Accessories\",\"Food Containers\",\"Food Containers\",\"Food Grinders & Mills\",\"Forks\",\"Garlic Tools\",\"Glassware & Drinkware\",\"Headboards & Footboards\",\"Ice Buckets & Tongs\",\"Insulated Beverage Containers\",\"Insulated Beverage Containers\",\"Kettles & Tea Machines\",\"Kitchen Knives\",\"Kitchen Linens\",\"Knives\",\"Linen & Table Accessories\",\"Linens\",\"Liqueur & Spirits Glasses\",\"Liqueur & Spirits Glasses\",\"Mandolines & Slicers\",\"Mantels & Surrounds\",\"Media Storage\",\"Media Storage\",\"Pasta Makers & Accessories\",\"Potato Mashers & Ricers\",\"Salt & Pepper\",\"Scales\",\"Servers\",\"Serveware\",\"Serveware & Accessories\",\"Serving Utensils\",\"Shower Curtain Hangers\",\"Specialty Candles\",\"Specialty Knives\",\"Spoons\",\"Tea Strainers & Filters\",\"Teapots & Coffee Servers\",\"Wine & Champagne Glasses\",\"Wine Racks & Cabinets\",\"Wine Racks & Cabinets\",\"Wine Stoppers & Pourers\",\"Wrapping & Packaging\",\"Baking Tools\",\"Baking Tools & Accessories\",\"Bar & Wine Tools\",\"Bar Tools & Drinkware\",\"Beds, Frames & Bases\",\"Candles\",\"Cheese Tools\",\"Cleaning Tools\",\"Coffee & Espresso Machine Parts & Accessories\",\"Coffee Maker Parts & Accessories\",\"Coffee, Tea & Espresso Appliances\",\"Cookware, Bakeware & Tools\",\"Decorating Tools\",\"Dinnerware & Serveware\",\"Flatware\",\"Food Storage\",\"Food Storage\",\"Fruit & Vegetable Tools\",\"Glassware & Drinkware\",\"Graters, Peelers & Slicers\",\"Holders & Dispensers\",\"Home Bar Furniture\",\"Kitchen Accessories\",\"Kitchen Knives & Accessories\",\"Measuring Tools & Scales\",\"Novelty\",\"Pasta & Pizza Tools\",\"Racks & Holders\",\"Racks & Holders\",\"Restaurant Appliances & Equipment\",\"Seasoning & Spice Tools\",\"Shower Curtains, Hooks & Liners\",\"Specialty Appliances\",\"Stove & Fireplace Accessories\",\"TV & Media Furniture\",\"TV & Media Furniture\",\"Tabletop & Serveware\",\"Tabletop Accessories\",\"Tea Accessories\",\"Thermoses\",\"Thermoses\",\"Bakeware\",\"Bathroom Accessories\",\"Bedroom Furniture\",\"Candles & Holders\",\"Coffee, Tea & Espresso\",\"Dining & Entertaining\",\"Food Service Equipment & Supplies\",\"Game & Recreation Room Furniture\",\"Household Cleaners\",\"Kitchen Storage & Organization\",\"Kitchen Utensils & Gadgets\",\"Living Room Furniture\",\"Parts & Accessories\",\"Small Appliance Parts & Accessories\",\"Small Appliances\",\"Storage & Organization\",\"Bath\",\"Cleaning Supplies\",\"Furniture\",\"Heating, Cooling & Air Quality\",\"Home D\\u00e9cor Products\",\"Kitchen & Dining\",\"Storage & Organization\",\"Home & Kitchen\"],\"marker\":{\"colors\":[\"#636efa\",\"#EF553B\",\"#00cc96\",\"#636efa\",\"#EF553B\",\"#ab63fa\",\"#FFA15A\",\"#19d3f3\",\"#00cc96\",\"#00cc96\",\"#00cc96\",\"#EF553B\",\"#FFA15A\",\"#FF6692\",\"#EF553B\",\"#B6E880\",\"#FF6692\",\"#FFA15A\",\"#00cc96\",\"#FFA15A\",\"#EF553B\",\"#636efa\",\"#FF6692\",\"#EF553B\",\"#FF97FF\",\"#FECB52\",\"#EF553B\",\"#FECB52\",\"#FECB52\",\"#EF553B\",\"#636efa\",\"#EF553B\",\"#FF97FF\",\"#636efa\",\"#00cc96\",\"#EF553B\",\"#EF553B\",\"#EF553B\",\"#ab63fa\",\"#FF6692\",\"#FECB52\",\"#ab63fa\",\"#EF553B\",\"#FFA15A\",\"#EF553B\",\"#FF97FF\",\"#EF553B\",\"#636efa\",\"#19d3f3\",\"#636efa\",\"#FF6692\",\"#B6E880\",\"#FFA15A\",\"#EF553B\",\"#FF97FF\",\"#EF553B\",\"#636efa\",\"#19d3f3\",\"#FECB52\",\"#FECB52\",\"#EF553B\",\"#EF553B\",\"#FECB52\",\"#FF97FF\",\"#636efa\",\"#EF553B\",\"#FECB52\",\"#EF553B\",\"#FF6692\",\"#EF553B\",\"#636efa\",\"#FF6692\",\"#FFA15A\",\"#EF553B\",\"#EF553B\",\"#00cc96\",\"#00cc96\",\"#00cc96\",\"#EF553B\",\"#636efa\",\"#ab63fa\",\"#FFA15A\",\"#19d3f3\",\"#636efa\",\"#00cc96\",\"#FFA15A\",\"#19d3f3\",\"#FF6692\",\"#FFA15A\",\"#19d3f3\",\"#EF553B\",\"#FECB52\",\"#636efa\",\"#B6E880\",\"#EF553B\",\"#19d3f3\",\"#636efa\",\"#EF553B\",\"#636efa\",\"#636efa\",\"#636efa\",\"#FF97FF\",\"#636efa\",\"#EF553B\",\"#636efa\",\"#FF6692\",\"#FECB52\",\"#636efa\",\"#FFA15A\",\"#FFA15A\",\"#EF553B\",\"#EF553B\",\"#FFA15A\",\"#FF97FF\",\"#EF553B\",\"#EF553B\",\"#636efa\",\"#FF97FF\",\"#B6E880\",\"#EF553B\",\"#FFA15A\",\"#636efa\",\"#EF553B\",\"#FFA15A\",\"#636efa\",\"#EF553B\",\"#636efa\",\"#19d3f3\",\"#EF553B\",\"#636efa\",\"#EF553B\",\"#EF553B\",\"#636efa\",\"#FECB52\",\"#EF553B\",\"#EF553B\",\"#EF553B\",\"#B6E880\",\"#00cc96\",\"#FECB52\",\"#FF6692\",\"#EF553B\",\"#FECB52\",\"#FF97FF\",\"#FF97FF\",\"#EF553B\",\"#FF6692\",\"#EF553B\",\"#636efa\",\"#636efa\",\"#EF553B\",\"#EF553B\",\"#FF97FF\",\"#EF553B\",\"#EF553B\",\"#FFA15A\",\"#636efa\",\"#FECB52\",\"#FF97FF\",\"#FF97FF\",\"#EF553B\",\"#FFA15A\",\"#636efa\",\"#EF553B\",\"#FECB52\",\"#EF553B\",\"#FF97FF\",\"#EF553B\",\"#19d3f3\",\"#FF97FF\",\"#FF97FF\",\"#EF553B\",\"#EF553B\",\"#EF553B\",\"#19d3f3\",\"#FFA15A\",\"#19d3f3\",\"#FFA15A\",\"#EF553B\",\"#636efa\",\"#EF553B\",\"#636efa\",\"#EF553B\",\"#FF6692\",\"#FFA15A\",\"#636efa\",\"#FF6692\",\"#FFA15A\",\"#FFA15A\",\"#EF553B\",\"#636efa\",\"#FECB52\",\"#EF553B\",\"#FFA15A\",\"#FF6692\",\"#FFA15A\",\"#EF553B\",\"#FF6692\",\"#FF97FF\",\"#FF97FF\",\"#636efa\",\"#19d3f3\",\"#FF6692\",\"#ab63fa\",\"#636efa\",\"#EF553B\",\"#FF6692\",\"#FF97FF\",\"#B6E880\",\"#FF6692\",\"#00cc96\",\"#00cc96\",\"#FF6692\",\"#EF553B\",\"#FECB52\",\"#EF553B\",\"#FECB52\",\"#ab63fa\",\"#EF553B\",\"#FECB52\",\"#EF553B\",\"#00cc96\",\"#636efa\",\"#FFA15A\",\"#EF553B\",\"#FECB52\",\"#EF553B\",\"#FECB52\",\"#ab63fa\",\"#FFA15A\",\"#B6E880\",\"#00cc96\",\"#EF553B\",\"#FF97FF\",\"#636efa\",\"#EF553B\",\"#FF97FF\",\"#FF97FF\",\"#636efa\",\"#EF553B\",\"#EF553B\",\"#FFA15A\",\"#FFA15A\",\"#FECB52\",\"#FF97FF\",\"#FF97FF\",\"#FF97FF\",\"#FF97FF\",\"#FF97FF\",\"#EF553B\",\"#B6E880\",\"#B6E880\",\"#FF97FF\",\"#FF97FF\",\"#00cc96\",\"#00cc96\",\"#00cc96\",\"#00cc96\",\"#EF553B\",\"#00cc96\",\"#FF6692\",\"#00cc96\",\"#FECB52\",\"#FF97FF\",\"#00cc96\",\"#00cc96\",\"#EF553B\",\"#636efa\",\"#ab63fa\",\"#19d3f3\",\"#FECB52\",\"#636efa\",\"#EF553B\",\"#FF6692\",\"#19d3f3\",\"#FECB52\",\"#FF6692\",\"#636efa\",\"#636efa\",\"#19d3f3\",\"#FFA15A\",\"#FF6692\",\"#B6E880\",\"#EF553B\",\"#FECB52\",\"#00cc96\",\"#ab63fa\",\"#EF553B\",\"#FF6692\",\"#FF97FF\",\"#FF97FF\",\"#00cc96\",\"#FFA15A\",\"#FFA15A\",\"#FECB52\",\"#EF553B\",\"#19d3f3\",\"#FFA15A\",\"#00cc96\",\"#00cc96\",\"#ab63fa\",\"#EF553B\",\"#FF97FF\",\"#B6E880\",\"#19d3f3\",\"#636efa\",\"#EF553B\",\"#636efa\",\"#EF553B\",\"#EF553B\",\"#FF6692\",\"#19d3f3\",\"#FFA15A\",\"#EF553B\",\"#FFA15A\",\"#00cc96\",\"#00cc96\",\"#00cc96\",\"#19d3f3\",\"#FFA15A\",\"#00cc96\",\"#EF553B\",\"#ab63fa\",\"#19d3f3\",\"#636efa\",\"#636efa\",\"#FECB52\",\"#FF6692\",\"#EF553B\",\"#FFA15A\",\"#EF553B\",\"#FF97FF\",\"#FECB52\",\"#EF553B\",\"#B6E880\",\"#FFA15A\",\"#636efa\",\"#636efa\",\"#ab63fa\",\"#B6E880\",\"#00cc96\",\"#636efa\",\"#FFA15A\",\"#636efa\",\"#EF553B\",\"#FFA15A\",\"#FECB52\",\"#ab63fa\",\"#FFA15A\",\"#FFA15A\",\"#EF553B\",\"#636efa\",\"#EF553B\",\"#FF97FF\",\"#FF97FF\",\"#19d3f3\",\"#19d3f3\",\"#FF6692\",\"#B6E880\",\"#19d3f3\",\"#FECB52\",\"#ab63fa\",\"#ab63fa\",\"#00cc96\",\"#FF6692\",\"#19d3f3\",\"#FFA15A\",\"#FECB52\",\"#FF6692\",\"#19d3f3\",\"#636efa\",\"#FFA15A\",\"#00cc96\",\"#00cc96\",\"#B6E880\",\"#EF553B\",\"#B6E880\",\"#EF553B\",\"#00cc96\",\"#FF97FF\",\"#FFA15A\",\"#636efa\",\"#FF6692\",\"#ab63fa\",\"#FF97FF\",\"#FF97FF\",\"#ab63fa\",\"#00cc96\",\"#FECB52\",\"#19d3f3\",\"#FFA15A\",\"#636efa\",\"#636efa\",\"#EF553B\",\"#FF97FF\",\"#EF553B\",\"#636efa\",\"#636efa\",\"#B6E880\",\"#B6E880\",\"#ab63fa\",\"#ab63fa\",\"#B6E880\",\"#B6E880\",\"#B6E880\",\"#B6E880\",\"#FF6692\",\"#B6E880\",\"#B6E880\",\"#636efa\",\"#FFA15A\",\"#19d3f3\",\"#B6E880\",\"#B6E880\",\"#B6E880\",\"#FF6692\",\"#B6E880\",\"#FFA15A\",\"#ab63fa\",\"#B6E880\",\"#B6E880\",\"#B6E880\"]},\"name\":\"\",\"parents\":[\"Home & Kitchen\\u002fKitchen & Dining\\u002fDining & Entertaining\\u002fDinnerware & Serveware\\u002fServeware\",\"Home & Kitchen\\u002fKitchen & Dining\\u002fFood Service Equipment & Supplies\\u002fTabletop & Serveware\\u002fCondiment Holders & Dispensers\",\"Home & Kitchen\\u002fKitchen & Dining\\u002fKitchen Utensils & Gadgets\\u002fSeasoning & Spice Tools\\u002fSalt & Pepper\",\"Home & Kitchen\\u002fKitchen & Dining\\u002fDining & Entertaining\\u002fDinnerware & Serveware\\u002fServeware\",\"Home & Kitchen\\u002fKitchen & Dining\\u002fFood Service Equipment & Supplies\\u002fTabletop & Serveware\\u002fCondiment Holders & Dispensers\",\"Home & Kitchen\\u002fFurniture\\u002fBedroom Furniture\\u002fBeds, Frames & Bases\\u002fBases & Foundations\",\"Home & Kitchen\\u002fKitchen & Dining\\u002fKitchen Utensils & Gadgets\\u002fKitchen Knives & Accessories\\u002fSpecialty Knives\",\"Home & Kitchen\\u002fKitchen & Dining\\u002fKitchen Utensils & Gadgets\\u002fBar & Wine Tools\\u002fCorkscrews & Openers\",\"Home & Kitchen\\u002fKitchen & Dining\\u002fKitchen Utensils & Gadgets\\u002fSeasoning & Spice Tools\\u002fSalt & Pepper\",\"Home & Kitchen\\u002fKitchen & Dining\\u002fKitchen Utensils & Gadgets\\u002fSeasoning & Spice Tools\\u002fSalt & Pepper\",\"Home & Kitchen\\u002fKitchen & Dining\\u002fKitchen Utensils & Gadgets\\u002fSeasoning & Spice Tools\\u002fSalt & Pepper\",\"Home & Kitchen\\u002fKitchen & Dining\\u002fFood Service Equipment & Supplies\\u002fTabletop & Serveware\\u002fCondiment Holders & Dispensers\",\"Home & Kitchen\\u002fKitchen & Dining\\u002fKitchen Utensils & Gadgets\\u002fKitchen Knives & Accessories\\u002fAsian Knives\",\"Home & Kitchen\\u002fKitchen & Dining\\u002fFood Service Equipment & Supplies\\u002fCookware, Bakeware & Tools\\u002fKitchen Knives\",\"Home & Kitchen\\u002fKitchen & Dining\\u002fFood Service Equipment & Supplies\\u002fTabletop & Serveware\\u002fKitchen Linens\",\"Home & Kitchen\\u002fKitchen & Dining\\u002fKitchen Utensils & Gadgets\\u002fGraters, Peelers & Slicers\\u002fMandolines & Slicers\",\"Home & Kitchen\\u002fKitchen & Dining\\u002fFood Service Equipment & Supplies\\u002fCookware, Bakeware & Tools\\u002fKitchen Knives\",\"Home & Kitchen\\u002fKitchen & Dining\\u002fKitchen Utensils & Gadgets\\u002fKitchen Knives & Accessories\\u002fAsian Knives\",\"Home & Kitchen\\u002fKitchen & Dining\\u002fKitchen Utensils & Gadgets\\u002fSeasoning & Spice Tools\\u002fChoppers & Mincers\",\"Home & Kitchen\\u002fKitchen & Dining\\u002fKitchen Utensils & Gadgets\\u002fKitchen Knives & Accessories\\u002fSpecialty Knives\",\"Home & Kitchen\\u002fKitchen & Dining\\u002fFood Service Equipment & Supplies\\u002fTabletop & Serveware\\u002fFlatware\",\"Home & Kitchen\\u002fKitchen & Dining\\u002fDining & Entertaining\\u002fDinnerware & Serveware\\u002fServeware\",\"Home & Kitchen\\u002fKitchen & Dining\\u002fFood Service Equipment & Supplies\\u002fCookware, Bakeware & Tools\\u002fKitchen Knives\",\"Home & Kitchen\\u002fKitchen & Dining\\u002fFood Service Equipment & Supplies\\u002fTabletop & Serveware\\u002fKitchen Linens\",\"Home & Kitchen\\u002fKitchen & Dining\\u002fDining & Entertaining\\u002fTabletop Accessories\\u002fLinens\",\"Home & Kitchen\\u002fKitchen & Dining\\u002fDining & Entertaining\\u002fBar Tools & Drinkware\\u002fBar Tools\",\"Home & Kitchen\\u002fKitchen & Dining\\u002fFood Service Equipment & Supplies\\u002fTabletop & Serveware\\u002fGlassware & Drinkware\",\"Home & Kitchen\\u002fKitchen & Dining\\u002fDining & Entertaining\\u002fBar Tools & Drinkware\\u002fBar Tools\",\"Home & Kitchen\\u002fKitchen & Dining\\u002fDining & Entertaining\\u002fBar Tools & Drinkware\\u002fBar Tools\",\"Home & Kitchen\\u002fKitchen & Dining\\u002fFood Service Equipment & Supplies\\u002fTabletop & Serveware\\u002fFlatware\",\"Home & Kitchen\\u002fFurniture\\u002fLiving Room Furniture\\u002fTV & Media Furniture\\u002fMedia Storage\",\"Home & Kitchen\\u002fKitchen & Dining\\u002fDining & Entertaining\\u002fGlassware & Drinkware\\u002fWine & Champagne Glasses\",\"Home & Kitchen\\u002fKitchen & Dining\\u002fDining & Entertaining\\u002fTabletop Accessories\\u002fLinens\",\"Home & Kitchen\\u002fFurniture\\u002fGame & Recreation Room Furniture\\u002fTV & Media Furniture\\u002fMedia Storage\",\"Home & Kitchen\\u002fFurniture\\u002fGame & Recreation Room Furniture\\u002fHome Bar Furniture\\u002fBars & Wine Cabinets\",\"Home & Kitchen\\u002fKitchen & Dining\\u002fFood Service Equipment & Supplies\\u002fTabletop & Serveware\\u002fBar Equipment\",\"Home & Kitchen\\u002fKitchen & Dining\\u002fFood Service Equipment & Supplies\\u002fTabletop & Serveware\\u002fGlassware & Drinkware\",\"Home & Kitchen\\u002fKitchen & Dining\\u002fFood Service Equipment & Supplies\\u002fTabletop & Serveware\\u002fDinnerware\",\"Home & Kitchen\\u002fFurniture\\u002fBedroom Furniture\\u002fBeds, Frames & Bases\\u002fBases & Foundations\",\"Home & Kitchen\\u002fKitchen & Dining\\u002fFood Service Equipment & Supplies\\u002fCookware, Bakeware & Tools\\u002fKitchen Knives\",\"Home & Kitchen\\u002fKitchen & Dining\\u002fDining & Entertaining\\u002fBar Tools & Drinkware\\u002fBar Tools\",\"Home & Kitchen\\u002fHome D\\u00e9cor Products\\u002fCandles & Holders\\u002fCandles\\u002fSpecialty Candles\",\"Home & Kitchen\\u002fKitchen & Dining\\u002fFood Service Equipment & Supplies\\u002fTabletop & Serveware\\u002fBar Equipment\",\"Home & Kitchen\\u002fKitchen & Dining\\u002fDining & Entertaining\\u002fFlatware\\u002fSpoons\",\"Home & Kitchen\\u002fKitchen & Dining\\u002fFood Service Equipment & Supplies\\u002fTabletop & Serveware\\u002fKitchen Linens\",\"Home & Kitchen\\u002fKitchen & Dining\\u002fDining & Entertaining\\u002fTabletop Accessories\\u002fLinens\",\"Home & Kitchen\\u002fKitchen & Dining\\u002fFood Service Equipment & Supplies\\u002fTabletop & Serveware\\u002fCondiment Holders & Dispensers\",\"Home & Kitchen\\u002fKitchen & Dining\\u002fDining & Entertaining\\u002fDinnerware & Serveware\\u002fCream & Sugar\",\"Home & Kitchen\\u002fKitchen & Dining\\u002fBakeware\\u002fDecorating Tools\\u002fWrapping & Packaging\",\"Home & Kitchen\\u002fKitchen & Dining\\u002fDining & Entertaining\\u002fDinnerware & Serveware\\u002fServeware\",\"Home & Kitchen\\u002fKitchen & Dining\\u002fKitchen Utensils & Gadgets\\u002fBaking Tools\\u002fBaking & Pastry Utensils\",\"Home & Kitchen\\u002fKitchen & Dining\\u002fBakeware\\u002fBaking Tools & Accessories\\u002fBaking & Pastry Utensils\",\"Home & Kitchen\\u002fKitchen & Dining\\u002fDining & Entertaining\\u002fFlatware\\u002fServers\",\"Home & Kitchen\\u002fKitchen & Dining\\u002fFood Service Equipment & Supplies\\u002fTabletop & Serveware\\u002fLinen & Table Accessories\",\"Home & Kitchen\\u002fStorage & Organization\\u002fKitchen Storage & Organization\\u002fRacks & Holders\\u002fWine Racks & Cabinets\",\"Home & Kitchen\\u002fKitchen & Dining\\u002fDining & Entertaining\\u002fGlassware & Drinkware\\u002fCocktail Drinkware\",\"Home & Kitchen\\u002fKitchen & Dining\\u002fDining & Entertaining\\u002fDinnerware & Serveware\\u002fServeware\",\"Home & Kitchen\\u002fKitchen & Dining\\u002fKitchen Utensils & Gadgets\\u002fBar & Wine Tools\\u002fIce Buckets & Tongs\",\"Home & Kitchen\\u002fKitchen & Dining\\u002fDining & Entertaining\\u002fBar Tools & Drinkware\\u002fBar Tools\",\"Home & Kitchen\\u002fKitchen & Dining\\u002fDining & Entertaining\\u002fBar Tools & Drinkware\\u002fBar Tools\",\"Home & Kitchen\\u002fKitchen & Dining\\u002fFood Service Equipment & Supplies\\u002fTabletop & Serveware\\u002fKitchen Linens\",\"Home & Kitchen\\u002fKitchen & Dining\\u002fFood Service Equipment & Supplies\\u002fTabletop & Serveware\\u002fGlassware & Drinkware\",\"Home & Kitchen\\u002fKitchen & Dining\\u002fSmall Appliances\\u002fCoffee, Tea & Espresso Appliances\\u002fKettles & Tea Machines\",\"Home & Kitchen\\u002fKitchen & Dining\\u002fDining & Entertaining\\u002fTabletop Accessories\\u002fLinens\",\"Home & Kitchen\\u002fKitchen & Dining\\u002fStorage & Organization\\u002fThermoses\\u002fInsulated Beverage Containers\",\"Home & Kitchen\\u002fKitchen & Dining\\u002fFood Service Equipment & Supplies\\u002fTabletop & Serveware\\u002fCondiment Holders & Dispensers\",\"Home & Kitchen\\u002fKitchen & Dining\\u002fDining & Entertaining\\u002fBar Tools & Drinkware\\u002fBar Tools\",\"Home & Kitchen\\u002fKitchen & Dining\\u002fFood Service Equipment & Supplies\\u002fTabletop & Serveware\\u002fBeverage Serveware\",\"Home & Kitchen\\u002fKitchen & Dining\\u002fFood Service Equipment & Supplies\\u002fCookware, Bakeware & Tools\\u002fKitchen Knives\",\"Home & Kitchen\\u002fKitchen & Dining\\u002fFood Service Equipment & Supplies\\u002fTabletop & Serveware\\u002fBeverage Serveware\",\"Home & Kitchen\\u002fStorage & Organization\\u002fKitchen Storage & Organization\\u002fThermoses\\u002fInsulated Beverage Containers\",\"Home & Kitchen\\u002fKitchen & Dining\\u002fFood Service Equipment & Supplies\\u002fCookware, Bakeware & Tools\\u002fKitchen Knives\",\"Home & Kitchen\\u002fKitchen & Dining\\u002fDining & Entertaining\\u002fFlatware\\u002fKnives\",\"Home & Kitchen\\u002fKitchen & Dining\\u002fFood Service Equipment & Supplies\\u002fTabletop & Serveware\\u002fCondiment Holders & Dispensers\",\"Home & Kitchen\\u002fBath\\u002fBathroom Accessories\\u002fHolders & Dispensers\\u002fDispensers\",\"Home & Kitchen\\u002fStorage & Organization\\u002fKitchen Storage & Organization\\u002fFood Storage\\u002fFood Containers\",\"Home & Kitchen\\u002fKitchen & Dining\\u002fStorage & Organization\\u002fFood Storage\\u002fFood Containers\",\"Home & Kitchen\\u002fStorage & Organization\\u002fKitchen Storage & Organization\\u002fFood Storage\\u002fFood Containers\",\"Home & Kitchen\\u002fKitchen & Dining\\u002fFood Service Equipment & Supplies\\u002fTabletop & Serveware\\u002fServeware & Accessories\",\"Home & Kitchen\\u002fKitchen & Dining\\u002fDining & Entertaining\\u002fDinnerware & Serveware\\u002fServeware\",\"Home & Kitchen\\u002fKitchen & Dining\\u002fFood Service Equipment & Supplies\\u002fRestaurant Appliances & Equipment\\u002fCommercial Food Preparation Equipment\",\"Home & Kitchen\\u002fKitchen & Dining\\u002fCoffee, Tea & Espresso\\u002fCoffee Maker Parts & Accessories\\u002fCoffee Machine Accessories\",\"Home & Kitchen\\u002fKitchen & Dining\\u002fSmall Appliance Parts & Accessories\\u002fCoffee & Espresso Machine Parts & Accessories\\u002fCoffee Machine Accessories\",\"Home & Kitchen\\u002fKitchen & Dining\\u002fDining & Entertaining\\u002fDinnerware & Serveware\\u002fTeapots & Coffee Servers\",\"Home & Kitchen\\u002fKitchen & Dining\\u002fStorage & Organization\\u002fFood Storage\\u002fFood Containers\",\"Home & Kitchen\\u002fKitchen & Dining\\u002fCoffee, Tea & Espresso\\u002fCoffee Maker Parts & Accessories\\u002fCoffee Machine Accessories\",\"Home & Kitchen\\u002fKitchen & Dining\\u002fSmall Appliance Parts & Accessories\\u002fCoffee & Espresso Machine Parts & Accessories\\u002fCoffee Machine Accessories\",\"Home & Kitchen\\u002fKitchen & Dining\\u002fDining & Entertaining\\u002fNovelty\\u002fDrinkware\",\"Home & Kitchen\\u002fKitchen & Dining\\u002fCoffee, Tea & Espresso\\u002fCoffee Maker Parts & Accessories\\u002fCoffee Machine Accessories\",\"Home & Kitchen\\u002fKitchen & Dining\\u002fSmall Appliance Parts & Accessories\\u002fCoffee & Espresso Machine Parts & Accessories\\u002fCoffee Machine Accessories\",\"Home & Kitchen\\u002fKitchen & Dining\\u002fDining & Entertaining\\u002fGlassware & Drinkware\\u002fCups, Mugs, & Saucers\",\"Home & Kitchen\\u002fKitchen & Dining\\u002fDining & Entertaining\\u002fBar Tools & Drinkware\\u002fBar Tools\",\"Home & Kitchen\\u002fKitchen & Dining\\u002fDining & Entertaining\\u002fDinnerware & Serveware\\u002fTeapots & Coffee Servers\",\"Home & Kitchen\\u002fKitchen & Dining\\u002fKitchen Utensils & Gadgets\\u002fFruit & Vegetable Tools\\u002fCorers & Pitters\",\"Home & Kitchen\\u002fKitchen & Dining\\u002fDining & Entertaining\\u002fGlassware & Drinkware\\u002fCups, Mugs, & Saucers\",\"Home & Kitchen\\u002fKitchen & Dining\\u002fBakeware\\u002fDecorating Tools\\u002fWrapping & Packaging\",\"Home & Kitchen\\u002fFurniture\\u002fGame & Recreation Room Furniture\\u002fTV & Media Furniture\\u002fMedia Storage\",\"Home & Kitchen\\u002fKitchen & Dining\\u002fFood Service Equipment & Supplies\\u002fTabletop & Serveware\\u002fGlassware & Drinkware\",\"Home & Kitchen\\u002fKitchen & Dining\\u002fStorage & Organization\\u002fThermoses\\u002fInsulated Beverage Containers\",\"Home & Kitchen\\u002fStorage & Organization\\u002fKitchen Storage & Organization\\u002fThermoses\\u002fInsulated Beverage Containers\",\"Home & Kitchen\\u002fKitchen & Dining\\u002fDining & Entertaining\\u002fDinnerware & Serveware\\u002fServeware\",\"Home & Kitchen\\u002fKitchen & Dining\\u002fKitchen Utensils & Gadgets\\u002fKitchen Accessories\\u002fCookbook Stands & Recipe Holders\",\"Home & Kitchen\\u002fKitchen & Dining\\u002fDining & Entertaining\\u002fDinnerware & Serveware\\u002fCream & Sugar\",\"Home & Kitchen\\u002fKitchen & Dining\\u002fFood Service Equipment & Supplies\\u002fTabletop & Serveware\\u002fServeware & Accessories\",\"Home & Kitchen\\u002fFurniture\\u002fLiving Room Furniture\\u002fTV & Media Furniture\\u002fMedia Storage\",\"Home & Kitchen\\u002fKitchen & Dining\\u002fKitchen Utensils & Gadgets\\u002fBaking Tools\\u002fBaking & Pastry Utensils\",\"Home & Kitchen\\u002fBath\\u002fBathroom Accessories\\u002fShower Curtains, Hooks & Liners\\u002fShower Curtain Hangers\",\"Home & Kitchen\\u002fKitchen & Dining\\u002fKitchen Utensils & Gadgets\\u002fMeasuring Tools & Scales\\u002fScales\",\"Home & Kitchen\\u002fKitchen & Dining\\u002fDining & Entertaining\\u002fFlatware\\u002fForks\",\"Home & Kitchen\\u002fKitchen & Dining\\u002fDining & Entertaining\\u002fFlatware\\u002fKnives\",\"Home & Kitchen\\u002fKitchen & Dining\\u002fFood Service Equipment & Supplies\\u002fTabletop & Serveware\\u002fServeware & Accessories\",\"Home & Kitchen\\u002fKitchen & Dining\\u002fFood Service Equipment & Supplies\\u002fTabletop & Serveware\\u002fKitchen Linens\",\"Home & Kitchen\\u002fKitchen & Dining\\u002fKitchen Utensils & Gadgets\\u002fKitchen Knives & Accessories\\u002fAsian Knives\",\"Home & Kitchen\\u002fKitchen & Dining\\u002fDining & Entertaining\\u002fTabletop Accessories\\u002fLinens\",\"Home & Kitchen\\u002fKitchen & Dining\\u002fFood Service Equipment & Supplies\\u002fTabletop & Serveware\\u002fKitchen Linens\",\"Home & Kitchen\\u002fKitchen & Dining\\u002fFood Service Equipment & Supplies\\u002fTabletop & Serveware\\u002fDinnerware\",\"Home & Kitchen\\u002fKitchen & Dining\\u002fDining & Entertaining\\u002fDinnerware & Serveware\\u002fDinnerware\",\"Home & Kitchen\\u002fKitchen & Dining\\u002fDining & Entertaining\\u002fTabletop Accessories\\u002fLinens\",\"Home & Kitchen\\u002fKitchen & Dining\\u002fBakeware\\u002fBaking Tools & Accessories\\u002fBaking & Pastry Utensils\",\"Home & Kitchen\\u002fKitchen & Dining\\u002fFood Service Equipment & Supplies\\u002fTabletop & Serveware\\u002fCondiment Holders & Dispensers\",\"Home & Kitchen\\u002fKitchen & Dining\\u002fCoffee, Tea & Espresso\\u002fCoffee Maker Parts & Accessories\\u002fEspresso Machine Accessories\",\"Home & Kitchen\\u002fKitchen & Dining\\u002fDining & Entertaining\\u002fDinnerware & Serveware\\u002fServeware\",\"Home & Kitchen\\u002fKitchen & Dining\\u002fCoffee, Tea & Espresso\\u002fTea Accessories\\u002fTea Strainers & Filters\",\"Home & Kitchen\\u002fKitchen & Dining\\u002fDining & Entertaining\\u002fFlatware\\u002fServing Utensils\",\"Home & Kitchen\\u002fKitchen & Dining\\u002fDining & Entertaining\\u002fDinnerware & Serveware\\u002fServeware\",\"Home & Kitchen\\u002fKitchen & Dining\\u002fCoffee, Tea & Espresso\\u002fTea Accessories\\u002fTea Strainers & Filters\",\"Home & Kitchen\\u002fKitchen & Dining\\u002fDining & Entertaining\\u002fDinnerware & Serveware\\u002fServeware\",\"Home & Kitchen\\u002fKitchen & Dining\\u002fSmall Appliance Parts & Accessories\\u002fCoffee & Espresso Machine Parts & Accessories\\u002fEspresso Machine Accessories\",\"Home & Kitchen\\u002fKitchen & Dining\\u002fFood Service Equipment & Supplies\\u002fTabletop & Serveware\\u002fGlassware & Drinkware\",\"Home & Kitchen\\u002fKitchen & Dining\\u002fDining & Entertaining\\u002fDinnerware & Serveware\\u002fServeware\",\"Home & Kitchen\\u002fKitchen & Dining\\u002fFood Service Equipment & Supplies\\u002fTabletop & Serveware\\u002fFlatware\",\"Home & Kitchen\\u002fKitchen & Dining\\u002fFood Service Equipment & Supplies\\u002fTabletop & Serveware\\u002fServeware & Accessories\",\"Home & Kitchen\\u002fKitchen & Dining\\u002fDining & Entertaining\\u002fDinnerware & Serveware\\u002fServeware\",\"Home & Kitchen\\u002fKitchen & Dining\\u002fDining & Entertaining\\u002fBar Tools & Drinkware\\u002fCocktail Drinkware\",\"Home & Kitchen\\u002fKitchen & Dining\\u002fDining & Entertaining\\u002fGlassware & Drinkware\\u002fCocktail Drinkware\",\"Home & Kitchen\\u002fKitchen & Dining\\u002fFood Service Equipment & Supplies\\u002fTabletop & Serveware\\u002fGlassware & Drinkware\",\"Home & Kitchen\\u002fKitchen & Dining\\u002fFood Service Equipment & Supplies\\u002fTabletop & Serveware\\u002fServeware & Accessories\",\"Home & Kitchen\\u002fKitchen & Dining\\u002fKitchen Utensils & Gadgets\\u002fGraters, Peelers & Slicers\\u002fMandolines & Slicers\",\"Home & Kitchen\\u002fKitchen & Dining\\u002fKitchen Utensils & Gadgets\\u002fCheese Tools\\u002fFondue Sets & Accessories\",\"Home & Kitchen\\u002fKitchen & Dining\\u002fSmall Appliances\\u002fCoffee, Tea & Espresso Appliances\\u002fKettles & Tea Machines\",\"Home & Kitchen\\u002fKitchen & Dining\\u002fFood Service Equipment & Supplies\\u002fCookware, Bakeware & Tools\\u002fKitchen Knives\",\"Home & Kitchen\\u002fKitchen & Dining\\u002fDining & Entertaining\\u002fGlassware & Drinkware\\u002fCups, Mugs, & Saucers\",\"Home & Kitchen\\u002fKitchen & Dining\\u002fDining & Entertaining\\u002fBar Tools & Drinkware\\u002fBar Tools\",\"Home & Kitchen\\u002fStorage & Organization\\u002fKitchen Storage & Organization\\u002fRacks & Holders\\u002fCabinet & Drawer Organization\",\"Home & Kitchen\\u002fKitchen & Dining\\u002fStorage & Organization\\u002fRacks & Holders\\u002fCabinet & Drawer Organization\",\"Home & Kitchen\\u002fKitchen & Dining\\u002fFood Service Equipment & Supplies\\u002fTabletop & Serveware\\u002fFlatware\",\"Home & Kitchen\\u002fKitchen & Dining\\u002fFood Service Equipment & Supplies\\u002fCookware, Bakeware & Tools\\u002fKitchen Knives\",\"Home & Kitchen\\u002fKitchen & Dining\\u002fFood Service Equipment & Supplies\\u002fTabletop & Serveware\\u002fFlatware\",\"Home & Kitchen\\u002fKitchen & Dining\\u002fDining & Entertaining\\u002fDinnerware & Serveware\\u002fServeware\",\"Home & Kitchen\\u002fKitchen & Dining\\u002fDining & Entertaining\\u002fDinnerware & Serveware\\u002fServeware\",\"Home & Kitchen\\u002fKitchen & Dining\\u002fFood Service Equipment & Supplies\\u002fTabletop & Serveware\\u002fServeware & Accessories\",\"Home & Kitchen\\u002fKitchen & Dining\\u002fFood Service Equipment & Supplies\\u002fTabletop & Serveware\\u002fKitchen Linens\",\"Home & Kitchen\\u002fKitchen & Dining\\u002fDining & Entertaining\\u002fTabletop Accessories\\u002fLinens\",\"Home & Kitchen\\u002fKitchen & Dining\\u002fFood Service Equipment & Supplies\\u002fTabletop & Serveware\\u002fKitchen Linens\",\"Home & Kitchen\\u002fKitchen & Dining\\u002fFood Service Equipment & Supplies\\u002fTabletop & Serveware\\u002fGlassware & Drinkware\",\"Home & Kitchen\\u002fKitchen & Dining\\u002fDining & Entertaining\\u002fFlatware\\u002fForks\",\"Home & Kitchen\\u002fKitchen & Dining\\u002fDining & Entertaining\\u002fDinnerware & Serveware\\u002fServeware\",\"Home & Kitchen\\u002fKitchen & Dining\\u002fDining & Entertaining\\u002fBar Tools & Drinkware\\u002fLiqueur & Spirits Glasses\",\"Home & Kitchen\\u002fKitchen & Dining\\u002fStorage & Organization\\u002fRacks & Holders\\u002fCabinet & Drawer Organization\",\"Home & Kitchen\\u002fStorage & Organization\\u002fKitchen Storage & Organization\\u002fRacks & Holders\\u002fCabinet & Drawer Organization\",\"Home & Kitchen\\u002fKitchen & Dining\\u002fFood Service Equipment & Supplies\\u002fTabletop & Serveware\\u002fFlatware\",\"Home & Kitchen\\u002fKitchen & Dining\\u002fDining & Entertaining\\u002fFlatware\\u002fSpoons\",\"Home & Kitchen\\u002fKitchen & Dining\\u002fDining & Entertaining\\u002fDinnerware & Serveware\\u002fServeware\",\"Home & Kitchen\\u002fKitchen & Dining\\u002fFood Service Equipment & Supplies\\u002fTabletop & Serveware\\u002fFlatware\",\"Home & Kitchen\\u002fBath\\u002fBathroom Accessories\\u002fShower Curtains, Hooks & Liners\\u002fShower Curtain Hangers\",\"Home & Kitchen\\u002fKitchen & Dining\\u002fDining & Entertaining\\u002fGlassware & Drinkware\\u002fLiqueur & Spirits Glasses\",\"Home & Kitchen\\u002fStorage & Organization\\u002fKitchen Storage & Organization\\u002fRacks & Holders\\u002fWine Racks & Cabinets\",\"Home & Kitchen\\u002fBath\\u002fBathroom Accessories\\u002fHolders & Dispensers\\u002fDispensers\",\"Home & Kitchen\\u002fKitchen & Dining\\u002fKitchen Utensils & Gadgets\\u002fBar & Wine Tools\\u002fCorkscrews & Openers\",\"Home & Kitchen\\u002fStorage & Organization\\u002fKitchen Storage & Organization\\u002fRacks & Holders\\u002fWine Racks & Cabinets\",\"Home & Kitchen\\u002fKitchen & Dining\\u002fStorage & Organization\\u002fRacks & Holders\\u002fWine Racks & Cabinets\",\"Home & Kitchen\\u002fKitchen & Dining\\u002fFood Service Equipment & Supplies\\u002fTabletop & Serveware\\u002fGlassware & Drinkware\",\"Home & Kitchen\\u002fKitchen & Dining\\u002fFood Service Equipment & Supplies\\u002fTabletop & Serveware\\u002fBeverage Serveware\",\"Home & Kitchen\\u002fKitchen & Dining\\u002fDining & Entertaining\\u002fGlassware & Drinkware\\u002fWine & Champagne Glasses\",\"Home & Kitchen\\u002fKitchen & Dining\\u002fKitchen Utensils & Gadgets\\u002fBar & Wine Tools\\u002fWine Stoppers & Pourers\",\"Home & Kitchen\\u002fKitchen & Dining\\u002fCoffee, Tea & Espresso\\u002fCoffee Maker Parts & Accessories\\u002fCoffee Machine Accessories\",\"Home & Kitchen\\u002fKitchen & Dining\\u002fSmall Appliance Parts & Accessories\\u002fCoffee & Espresso Machine Parts & Accessories\\u002fCoffee Machine Accessories\",\"Home & Kitchen\\u002fKitchen & Dining\\u002fDining & Entertaining\\u002fFlatware\\u002fSpoons\",\"Home & Kitchen\\u002fKitchen & Dining\\u002fFood Service Equipment & Supplies\\u002fTabletop & Serveware\\u002fServeware & Accessories\",\"Home & Kitchen\\u002fKitchen & Dining\\u002fDining & Entertaining\\u002fDinnerware & Serveware\\u002fTeapots & Coffee Servers\",\"Home & Kitchen\\u002fKitchen & Dining\\u002fFood Service Equipment & Supplies\\u002fTabletop & Serveware\\u002fDinnerware\",\"Home & Kitchen\\u002fKitchen & Dining\\u002fDining & Entertaining\\u002fDinnerware & Serveware\\u002fDinnerware\",\"Home & Kitchen\\u002fKitchen & Dining\\u002fDining & Entertaining\\u002fGlassware & Drinkware\\u002fCups, Mugs, & Saucers\",\"Home & Kitchen\\u002fKitchen & Dining\\u002fFood Service Equipment & Supplies\\u002fCookware, Bakeware & Tools\\u002fKitchen Knives\",\"Home & Kitchen\\u002fKitchen & Dining\\u002fKitchen Utensils & Gadgets\\u002fKitchen Knives & Accessories\\u002fAsian Knives\",\"Home & Kitchen\\u002fKitchen & Dining\\u002fDining & Entertaining\\u002fDinnerware & Serveware\\u002fTeapots & Coffee Servers\",\"Home & Kitchen\\u002fKitchen & Dining\\u002fFood Service Equipment & Supplies\\u002fCookware, Bakeware & Tools\\u002fKitchen Knives\",\"Home & Kitchen\\u002fKitchen & Dining\\u002fDining & Entertaining\\u002fFlatware\\u002fKnives\",\"Home & Kitchen\\u002fKitchen & Dining\\u002fDining & Entertaining\\u002fFlatware\\u002fFlatware Sets\",\"Home & Kitchen\\u002fKitchen & Dining\\u002fFood Service Equipment & Supplies\\u002fTabletop & Serveware\\u002fFlatware\",\"Home & Kitchen\\u002fKitchen & Dining\\u002fDining & Entertaining\\u002fDinnerware & Serveware\\u002fCream & Sugar\",\"Home & Kitchen\\u002fKitchen & Dining\\u002fDining & Entertaining\\u002fBar Tools & Drinkware\\u002fLiqueur & Spirits Glasses\",\"Home & Kitchen\\u002fKitchen & Dining\\u002fDining & Entertaining\\u002fGlassware & Drinkware\\u002fLiqueur & Spirits Glasses\",\"Home & Kitchen\\u002fKitchen & Dining\\u002fDining & Entertaining\\u002fFlatware\\u002fForks\",\"Home & Kitchen\\u002fKitchen & Dining\\u002fFood Service Equipment & Supplies\\u002fCookware, Bakeware & Tools\\u002fKitchen Knives\",\"Home & Kitchen\\u002fKitchen & Dining\\u002fDining & Entertaining\\u002fFlatware\\u002fChopstick & Cutlery Rests\",\"Home & Kitchen\\u002fKitchen & Dining\\u002fFood Service Equipment & Supplies\\u002fTabletop & Serveware\\u002fCondiment Holders & Dispensers\",\"Home & Kitchen\\u002fKitchen & Dining\\u002fFood Service Equipment & Supplies\\u002fCookware, Bakeware & Tools\\u002fKitchen Knives\",\"Home & Kitchen\\u002fKitchen & Dining\\u002fDining & Entertaining\\u002fTabletop Accessories\\u002fLinens\",\"Home & Kitchen\\u002fKitchen & Dining\\u002fStorage & Organization\\u002fRacks & Holders\\u002fWine Racks & Cabinets\",\"Home & Kitchen\\u002fKitchen & Dining\\u002fDining & Entertaining\\u002fDinnerware & Serveware\\u002fDinnerware\",\"Home & Kitchen\\u002fKitchen & Dining\\u002fKitchen Utensils & Gadgets\\u002fBar & Wine Tools\\u002fCorkscrews & Openers\",\"Home & Kitchen\\u002fKitchen & Dining\\u002fFood Service Equipment & Supplies\\u002fCookware, Bakeware & Tools\\u002fKitchen Knives\",\"Home & Kitchen\\u002fHome D\\u00e9cor Products\\u002fCandles & Holders\\u002fCandles\\u002fSpecialty Candles\",\"Home & Kitchen\\u002fKitchen & Dining\\u002fDining & Entertaining\\u002fDinnerware & Serveware\\u002fServeware\",\"Home & Kitchen\\u002fBath\\u002fBathroom Accessories\\u002fHolders & Dispensers\\u002fDispensers\",\"Home & Kitchen\\u002fKitchen & Dining\\u002fFood Service Equipment & Supplies\\u002fCookware, Bakeware & Tools\\u002fKitchen Knives\",\"Home & Kitchen\\u002fKitchen & Dining\\u002fStorage & Organization\\u002fRacks & Holders\\u002fCabinet & Drawer Organization\",\"Home & Kitchen\\u002fKitchen & Dining\\u002fBakeware\\u002fBaking Tools & Accessories\\u002fBaking & Pastry Utensils\",\"Home & Kitchen\\u002fKitchen & Dining\\u002fKitchen Utensils & Gadgets\\u002fBaking Tools\\u002fBaking & Pastry Utensils\",\"Home & Kitchen\\u002fKitchen & Dining\\u002fStorage & Organization\\u002fFood Storage\\u002fFood Containers\",\"Home & Kitchen\\u002fStorage & Organization\\u002fKitchen Storage & Organization\\u002fFood Storage\\u002fFood Containers\",\"Home & Kitchen\\u002fKitchen & Dining\\u002fFood Service Equipment & Supplies\\u002fCookware, Bakeware & Tools\\u002fKitchen Knives\",\"Home & Kitchen\\u002fKitchen & Dining\\u002fDining & Entertaining\\u002fGlassware & Drinkware\\u002fLiqueur & Spirits Glasses\",\"Home & Kitchen\\u002fKitchen & Dining\\u002fDining & Entertaining\\u002fBar Tools & Drinkware\\u002fLiqueur & Spirits Glasses\",\"Home & Kitchen\\u002fKitchen & Dining\\u002fDining & Entertaining\\u002fGlassware & Drinkware\\u002fCocktail Drinkware\",\"Home & Kitchen\\u002fKitchen & Dining\\u002fDining & Entertaining\\u002fBar Tools & Drinkware\\u002fCocktail Drinkware\",\"Home & Kitchen\\u002fHome D\\u00e9cor Products\\u002fCandles & Holders\\u002fCandles\\u002fSpecialty Candles\",\"Home & Kitchen\\u002fKitchen & Dining\\u002fDining & Entertaining\\u002fGlassware & Drinkware\\u002fCups, Mugs, & Saucers\",\"Home & Kitchen\\u002fKitchen & Dining\\u002fDining & Entertaining\\u002fBar Tools & Drinkware\\u002fBar Tools\",\"Home & Kitchen\\u002fKitchen & Dining\\u002fFood Service Equipment & Supplies\\u002fTabletop & Serveware\\u002fGlassware & Drinkware\",\"Home & Kitchen\\u002fKitchen & Dining\\u002fKitchen Utensils & Gadgets\\u002fSeasoning & Spice Tools\\u002fChoppers & Mincers\",\"Home & Kitchen\\u002fKitchen & Dining\\u002fKitchen Utensils & Gadgets\\u002fMeasuring Tools & Scales\\u002fScales\",\"Home & Kitchen\\u002fKitchen & Dining\\u002fKitchen Utensils & Gadgets\\u002fKitchen Knives & Accessories\\u002fCleavers\",\"Home & Kitchen\\u002fKitchen & Dining\\u002fDining & Entertaining\\u002fGlassware & Drinkware\\u002fCocktail Drinkware\",\"Home & Kitchen\\u002fKitchen & Dining\\u002fDining & Entertaining\\u002fBar Tools & Drinkware\\u002fCocktail Drinkware\",\"Home & Kitchen\\u002fKitchen & Dining\\u002fDining & Entertaining\\u002fGlassware & Drinkware\\u002fCocktail Drinkware\",\"Home & Kitchen\\u002fKitchen & Dining\\u002fDining & Entertaining\\u002fBar Tools & Drinkware\\u002fCocktail Drinkware\",\"Home & Kitchen\\u002fKitchen & Dining\\u002fKitchen Utensils & Gadgets\\u002fPasta & Pizza Tools\\u002fPasta Makers & Accessories\",\"Home & Kitchen\\u002fHeating, Cooling & Air Quality\\u002fParts & Accessories\\u002fStove & Fireplace Accessories\\u002fMantels & Surrounds\",\"Home & Kitchen\\u002fKitchen & Dining\\u002fKitchen Utensils & Gadgets\\u002fGraters, Peelers & Slicers\\u002fMandolines & Slicers\",\"Home & Kitchen\\u002fKitchen & Dining\\u002fKitchen Utensils & Gadgets\\u002fSeasoning & Spice Tools\\u002fSalt & Pepper\",\"Home & Kitchen\\u002fKitchen & Dining\\u002fFood Service Equipment & Supplies\\u002fTabletop & Serveware\\u002fKitchen Linens\",\"Home & Kitchen\\u002fKitchen & Dining\\u002fDining & Entertaining\\u002fTabletop Accessories\\u002fLinens\",\"Home & Kitchen\\u002fKitchen & Dining\\u002fDining & Entertaining\\u002fDinnerware & Serveware\\u002fDinnerware\",\"Home & Kitchen\\u002fKitchen & Dining\\u002fFood Service Equipment & Supplies\\u002fTabletop & Serveware\\u002fFlatware\",\"Home & Kitchen\\u002fStorage & Organization\\u002fKitchen Storage & Organization\\u002fRacks & Holders\\u002fCabinet & Drawer Organization\",\"Home & Kitchen\\u002fKitchen & Dining\\u002fStorage & Organization\\u002fRacks & Holders\\u002fCabinet & Drawer Organization\",\"Home & Kitchen\\u002fKitchen & Dining\\u002fDining & Entertaining\\u002fDinnerware & Serveware\\u002fServeware\",\"Home & Kitchen\\u002fKitchen & Dining\\u002fFood Service Equipment & Supplies\\u002fTabletop & Serveware\\u002fGlassware & Drinkware\",\"Home & Kitchen\\u002fKitchen & Dining\\u002fCoffee, Tea & Espresso\\u002fTea Accessories\\u002fTea Strainers & Filters\",\"Home & Kitchen\\u002fKitchen & Dining\\u002fDining & Entertaining\\u002fFlatware\\u002fServers\",\"Home & Kitchen\\u002fKitchen & Dining\\u002fDining & Entertaining\\u002fFlatware\\u002fForks\",\"Home & Kitchen\\u002fKitchen & Dining\\u002fDining & Entertaining\\u002fBar Tools & Drinkware\\u002fBar Tools\",\"Home & Kitchen\\u002fKitchen & Dining\\u002fKitchen Utensils & Gadgets\\u002fKitchen Accessories\\u002fCookbook Stands & Recipe Holders\",\"Home & Kitchen\\u002fKitchen & Dining\\u002fStorage & Organization\\u002fRacks & Holders\\u002fCabinet & Drawer Organization\",\"Home & Kitchen\\u002fStorage & Organization\\u002fKitchen Storage & Organization\\u002fRacks & Holders\\u002fCabinet & Drawer Organization\",\"Home & Kitchen\\u002fStorage & Organization\\u002fKitchen Storage & Organization\\u002fRacks & Holders\\u002fCabinet & Drawer Organization\",\"Home & Kitchen\\u002fKitchen & Dining\\u002fDining & Entertaining\\u002fTabletop Accessories\\u002fLinens\",\"Home & Kitchen\\u002fKitchen & Dining\\u002fFood Service Equipment & Supplies\\u002fTabletop & Serveware\\u002fKitchen Linens\",\"Home & Kitchen\\u002fKitchen & Dining\\u002fKitchen Utensils & Gadgets\\u002fFruit & Vegetable Tools\\u002fPotato Mashers & Ricers\",\"Home & Kitchen\\u002fKitchen & Dining\\u002fKitchen Utensils & Gadgets\\u002fFruit & Vegetable Tools\\u002fPotato Mashers & Ricers\",\"Home & Kitchen\\u002fKitchen & Dining\\u002fStorage & Organization\\u002fRacks & Holders\\u002fCabinet & Drawer Organization\",\"Home & Kitchen\\u002fStorage & Organization\\u002fKitchen Storage & Organization\\u002fRacks & Holders\\u002fCabinet & Drawer Organization\",\"Home & Kitchen\\u002fKitchen & Dining\\u002fStorage & Organization\\u002fFood Storage\\u002fCoffee Pod Holders\",\"Home & Kitchen\\u002fStorage & Organization\\u002fKitchen Storage & Organization\\u002fFood Storage\\u002fCoffee Pod Holders\",\"Home & Kitchen\\u002fKitchen & Dining\\u002fStorage & Organization\\u002fFood Storage\\u002fCoffee Pod Holders\",\"Home & Kitchen\\u002fStorage & Organization\\u002fKitchen Storage & Organization\\u002fFood Storage\\u002fCoffee Pod Holders\",\"Home & Kitchen\\u002fKitchen & Dining\\u002fFood Service Equipment & Supplies\\u002fTabletop & Serveware\\u002fDinnerware\",\"Home & Kitchen\\u002fKitchen & Dining\\u002fKitchen Utensils & Gadgets\\u002fCheese Tools\\u002fFondue Sets & Accessories\",\"Home & Kitchen\\u002fKitchen & Dining\\u002fFood Service Equipment & Supplies\\u002fCookware, Bakeware & Tools\\u002fKitchen Knives\",\"Home & Kitchen\\u002fKitchen & Dining\\u002fKitchen Utensils & Gadgets\\u002fSeasoning & Spice Tools\\u002fGarlic Tools\",\"Home & Kitchen\\u002fKitchen & Dining\\u002fDining & Entertaining\\u002fBar Tools & Drinkware\\u002fBar Tools\",\"Home & Kitchen\\u002fKitchen & Dining\\u002fStorage & Organization\\u002fRacks & Holders\\u002fWine Racks & Cabinets\",\"Home & Kitchen\\u002fKitchen & Dining\\u002fKitchen Utensils & Gadgets\\u002fSeasoning & Spice Tools\\u002fGarlic Tools\",\"Home & Kitchen\\u002fKitchen & Dining\\u002fKitchen Utensils & Gadgets\\u002fSeasoning & Spice Tools\\u002fGarlic Tools\",\"Home & Kitchen\\u002fKitchen & Dining\\u002fFood Service Equipment & Supplies\\u002fTabletop & Serveware\\u002fCondiment Holders & Dispensers\",\"Home & Kitchen\\u002fKitchen & Dining\\u002fDining & Entertaining\\u002fDinnerware & Serveware\\u002fServeware\",\"Home & Kitchen\\u002fFurniture\\u002fBedroom Furniture\\u002fBeds, Frames & Bases\\u002fHeadboards & Footboards\",\"Home & Kitchen\\u002fKitchen & Dining\\u002fSmall Appliances\\u002fSpecialty Appliances\\u002fFood Grinders & Mills\",\"Home & Kitchen\\u002fKitchen & Dining\\u002fDining & Entertaining\\u002fBar Tools & Drinkware\\u002fCocktail Drinkware\",\"Home & Kitchen\\u002fKitchen & Dining\\u002fDining & Entertaining\\u002fDinnerware & Serveware\\u002fServeware\",\"Home & Kitchen\\u002fKitchen & Dining\\u002fFood Service Equipment & Supplies\\u002fTabletop & Serveware\\u002fBeverage Serveware\",\"Home & Kitchen\\u002fKitchen & Dining\\u002fFood Service Equipment & Supplies\\u002fCookware, Bakeware & Tools\\u002fKitchen Knives\",\"Home & Kitchen\\u002fKitchen & Dining\\u002fKitchen Utensils & Gadgets\\u002fBar & Wine Tools\\u002fWine Stoppers & Pourers\",\"Home & Kitchen\\u002fKitchen & Dining\\u002fDining & Entertaining\\u002fBar Tools & Drinkware\\u002fBar Tools\",\"Home & Kitchen\\u002fCleaning Supplies\\u002fHousehold Cleaners\\u002fCleaning Tools\\u002fBrushes\",\"Home & Kitchen\\u002fStorage & Organization\\u002fKitchen Storage & Organization\\u002fThermoses\\u002fInsulated Beverage Containers\",\"Home & Kitchen\\u002fKitchen & Dining\\u002fStorage & Organization\\u002fThermoses\\u002fInsulated Beverage Containers\",\"Home & Kitchen\\u002fKitchen & Dining\\u002fKitchen Utensils & Gadgets\\u002fBar & Wine Tools\\u002fCorkscrews & Openers\",\"Home & Kitchen\\u002fKitchen & Dining\\u002fKitchen Utensils & Gadgets\\u002fKitchen Knives & Accessories\",\"Home & Kitchen\\u002fKitchen & Dining\\u002fKitchen Utensils & Gadgets\\u002fBaking Tools\",\"Home & Kitchen\\u002fKitchen & Dining\\u002fBakeware\\u002fBaking Tools & Accessories\",\"Home & Kitchen\\u002fKitchen & Dining\\u002fFood Service Equipment & Supplies\\u002fTabletop & Serveware\",\"Home & Kitchen\\u002fKitchen & Dining\\u002fDining & Entertaining\\u002fBar Tools & Drinkware\",\"Home & Kitchen\\u002fFurniture\\u002fGame & Recreation Room Furniture\\u002fHome Bar Furniture\",\"Home & Kitchen\\u002fFurniture\\u002fBedroom Furniture\\u002fBeds, Frames & Bases\",\"Home & Kitchen\\u002fKitchen & Dining\\u002fFood Service Equipment & Supplies\\u002fTabletop & Serveware\",\"Home & Kitchen\\u002fCleaning Supplies\\u002fHousehold Cleaners\\u002fCleaning Tools\",\"Home & Kitchen\\u002fStorage & Organization\\u002fKitchen Storage & Organization\\u002fRacks & Holders\",\"Home & Kitchen\\u002fKitchen & Dining\\u002fStorage & Organization\\u002fRacks & Holders\",\"Home & Kitchen\\u002fKitchen & Dining\\u002fKitchen Utensils & Gadgets\\u002fSeasoning & Spice Tools\",\"Home & Kitchen\\u002fKitchen & Dining\\u002fDining & Entertaining\\u002fFlatware\",\"Home & Kitchen\\u002fKitchen & Dining\\u002fKitchen Utensils & Gadgets\\u002fKitchen Knives & Accessories\",\"Home & Kitchen\\u002fKitchen & Dining\\u002fDining & Entertaining\\u002fBar Tools & Drinkware\",\"Home & Kitchen\\u002fKitchen & Dining\\u002fDining & Entertaining\\u002fGlassware & Drinkware\",\"Home & Kitchen\\u002fKitchen & Dining\\u002fSmall Appliance Parts & Accessories\\u002fCoffee & Espresso Machine Parts & Accessories\",\"Home & Kitchen\\u002fKitchen & Dining\\u002fCoffee, Tea & Espresso\\u002fCoffee Maker Parts & Accessories\",\"Home & Kitchen\\u002fStorage & Organization\\u002fKitchen Storage & Organization\\u002fFood Storage\",\"Home & Kitchen\\u002fKitchen & Dining\\u002fStorage & Organization\\u002fFood Storage\",\"Home & Kitchen\\u002fKitchen & Dining\\u002fFood Service Equipment & Supplies\\u002fRestaurant Appliances & Equipment\",\"Home & Kitchen\\u002fKitchen & Dining\\u002fFood Service Equipment & Supplies\\u002fTabletop & Serveware\",\"Home & Kitchen\\u002fKitchen & Dining\\u002fKitchen Utensils & Gadgets\\u002fKitchen Accessories\",\"Home & Kitchen\\u002fKitchen & Dining\\u002fKitchen Utensils & Gadgets\\u002fFruit & Vegetable Tools\",\"Home & Kitchen\\u002fKitchen & Dining\\u002fKitchen Utensils & Gadgets\\u002fBar & Wine Tools\",\"Home & Kitchen\\u002fKitchen & Dining\\u002fDining & Entertaining\\u002fDinnerware & Serveware\",\"Home & Kitchen\\u002fKitchen & Dining\\u002fDining & Entertaining\\u002fGlassware & Drinkware\",\"Home & Kitchen\\u002fKitchen & Dining\\u002fDining & Entertaining\\u002fDinnerware & Serveware\",\"Home & Kitchen\\u002fKitchen & Dining\\u002fFood Service Equipment & Supplies\\u002fTabletop & Serveware\",\"Home & Kitchen\\u002fBath\\u002fBathroom Accessories\\u002fHolders & Dispensers\",\"Home & Kitchen\\u002fKitchen & Dining\\u002fDining & Entertaining\\u002fNovelty\",\"Home & Kitchen\\u002fKitchen & Dining\\u002fSmall Appliance Parts & Accessories\\u002fCoffee & Espresso Machine Parts & Accessories\",\"Home & Kitchen\\u002fKitchen & Dining\\u002fCoffee, Tea & Espresso\\u002fCoffee Maker Parts & Accessories\",\"Home & Kitchen\\u002fKitchen & Dining\\u002fFood Service Equipment & Supplies\\u002fTabletop & Serveware\",\"Home & Kitchen\\u002fKitchen & Dining\\u002fDining & Entertaining\\u002fFlatware\",\"Home & Kitchen\\u002fKitchen & Dining\\u002fKitchen Utensils & Gadgets\\u002fCheese Tools\",\"Home & Kitchen\\u002fStorage & Organization\\u002fKitchen Storage & Organization\\u002fFood Storage\",\"Home & Kitchen\\u002fKitchen & Dining\\u002fStorage & Organization\\u002fFood Storage\",\"Home & Kitchen\\u002fKitchen & Dining\\u002fSmall Appliances\\u002fSpecialty Appliances\",\"Home & Kitchen\\u002fKitchen & Dining\\u002fDining & Entertaining\\u002fFlatware\",\"Home & Kitchen\\u002fKitchen & Dining\\u002fKitchen Utensils & Gadgets\\u002fSeasoning & Spice Tools\",\"Home & Kitchen\\u002fKitchen & Dining\\u002fFood Service Equipment & Supplies\\u002fTabletop & Serveware\",\"Home & Kitchen\\u002fFurniture\\u002fBedroom Furniture\\u002fBeds, Frames & Bases\",\"Home & Kitchen\\u002fKitchen & Dining\\u002fKitchen Utensils & Gadgets\\u002fBar & Wine Tools\",\"Home & Kitchen\\u002fStorage & Organization\\u002fKitchen Storage & Organization\\u002fThermoses\",\"Home & Kitchen\\u002fKitchen & Dining\\u002fStorage & Organization\\u002fThermoses\",\"Home & Kitchen\\u002fKitchen & Dining\\u002fSmall Appliances\\u002fCoffee, Tea & Espresso Appliances\",\"Home & Kitchen\\u002fKitchen & Dining\\u002fFood Service Equipment & Supplies\\u002fCookware, Bakeware & Tools\",\"Home & Kitchen\\u002fKitchen & Dining\\u002fFood Service Equipment & Supplies\\u002fTabletop & Serveware\",\"Home & Kitchen\\u002fKitchen & Dining\\u002fDining & Entertaining\\u002fFlatware\",\"Home & Kitchen\\u002fKitchen & Dining\\u002fFood Service Equipment & Supplies\\u002fTabletop & Serveware\",\"Home & Kitchen\\u002fKitchen & Dining\\u002fDining & Entertaining\\u002fTabletop Accessories\",\"Home & Kitchen\\u002fKitchen & Dining\\u002fDining & Entertaining\\u002fBar Tools & Drinkware\",\"Home & Kitchen\\u002fKitchen & Dining\\u002fDining & Entertaining\\u002fGlassware & Drinkware\",\"Home & Kitchen\\u002fKitchen & Dining\\u002fKitchen Utensils & Gadgets\\u002fGraters, Peelers & Slicers\",\"Home & Kitchen\\u002fHeating, Cooling & Air Quality\\u002fParts & Accessories\\u002fStove & Fireplace Accessories\",\"Home & Kitchen\\u002fFurniture\\u002fGame & Recreation Room Furniture\\u002fTV & Media Furniture\",\"Home & Kitchen\\u002fFurniture\\u002fLiving Room Furniture\\u002fTV & Media Furniture\",\"Home & Kitchen\\u002fKitchen & Dining\\u002fKitchen Utensils & Gadgets\\u002fPasta & Pizza Tools\",\"Home & Kitchen\\u002fKitchen & Dining\\u002fKitchen Utensils & Gadgets\\u002fFruit & Vegetable Tools\",\"Home & Kitchen\\u002fKitchen & Dining\\u002fKitchen Utensils & Gadgets\\u002fSeasoning & Spice Tools\",\"Home & Kitchen\\u002fKitchen & Dining\\u002fKitchen Utensils & Gadgets\\u002fMeasuring Tools & Scales\",\"Home & Kitchen\\u002fKitchen & Dining\\u002fDining & Entertaining\\u002fFlatware\",\"Home & Kitchen\\u002fKitchen & Dining\\u002fDining & Entertaining\\u002fDinnerware & Serveware\",\"Home & Kitchen\\u002fKitchen & Dining\\u002fFood Service Equipment & Supplies\\u002fTabletop & Serveware\",\"Home & Kitchen\\u002fKitchen & Dining\\u002fDining & Entertaining\\u002fFlatware\",\"Home & Kitchen\\u002fBath\\u002fBathroom Accessories\\u002fShower Curtains, Hooks & Liners\",\"Home & Kitchen\\u002fHome D\\u00e9cor Products\\u002fCandles & Holders\\u002fCandles\",\"Home & Kitchen\\u002fKitchen & Dining\\u002fKitchen Utensils & Gadgets\\u002fKitchen Knives & Accessories\",\"Home & Kitchen\\u002fKitchen & Dining\\u002fDining & Entertaining\\u002fFlatware\",\"Home & Kitchen\\u002fKitchen & Dining\\u002fCoffee, Tea & Espresso\\u002fTea Accessories\",\"Home & Kitchen\\u002fKitchen & Dining\\u002fDining & Entertaining\\u002fDinnerware & Serveware\",\"Home & Kitchen\\u002fKitchen & Dining\\u002fDining & Entertaining\\u002fGlassware & Drinkware\",\"Home & Kitchen\\u002fStorage & Organization\\u002fKitchen Storage & Organization\\u002fRacks & Holders\",\"Home & Kitchen\\u002fKitchen & Dining\\u002fStorage & Organization\\u002fRacks & Holders\",\"Home & Kitchen\\u002fKitchen & Dining\\u002fKitchen Utensils & Gadgets\\u002fBar & Wine Tools\",\"Home & Kitchen\\u002fKitchen & Dining\\u002fBakeware\\u002fDecorating Tools\",\"Home & Kitchen\\u002fKitchen & Dining\\u002fKitchen Utensils & Gadgets\",\"Home & Kitchen\\u002fKitchen & Dining\\u002fBakeware\",\"Home & Kitchen\\u002fKitchen & Dining\\u002fKitchen Utensils & Gadgets\",\"Home & Kitchen\\u002fKitchen & Dining\\u002fDining & Entertaining\",\"Home & Kitchen\\u002fFurniture\\u002fBedroom Furniture\",\"Home & Kitchen\\u002fHome D\\u00e9cor Products\\u002fCandles & Holders\",\"Home & Kitchen\\u002fKitchen & Dining\\u002fKitchen Utensils & Gadgets\",\"Home & Kitchen\\u002fCleaning Supplies\\u002fHousehold Cleaners\",\"Home & Kitchen\\u002fKitchen & Dining\\u002fSmall Appliance Parts & Accessories\",\"Home & Kitchen\\u002fKitchen & Dining\\u002fCoffee, Tea & Espresso\",\"Home & Kitchen\\u002fKitchen & Dining\\u002fSmall Appliances\",\"Home & Kitchen\\u002fKitchen & Dining\\u002fFood Service Equipment & Supplies\",\"Home & Kitchen\\u002fKitchen & Dining\\u002fBakeware\",\"Home & Kitchen\\u002fKitchen & Dining\\u002fDining & Entertaining\",\"Home & Kitchen\\u002fKitchen & Dining\\u002fDining & Entertaining\",\"Home & Kitchen\\u002fStorage & Organization\\u002fKitchen Storage & Organization\",\"Home & Kitchen\\u002fKitchen & Dining\\u002fStorage & Organization\",\"Home & Kitchen\\u002fKitchen & Dining\\u002fKitchen Utensils & Gadgets\",\"Home & Kitchen\\u002fKitchen & Dining\\u002fDining & Entertaining\",\"Home & Kitchen\\u002fKitchen & Dining\\u002fKitchen Utensils & Gadgets\",\"Home & Kitchen\\u002fBath\\u002fBathroom Accessories\",\"Home & Kitchen\\u002fFurniture\\u002fGame & Recreation Room Furniture\",\"Home & Kitchen\\u002fKitchen & Dining\\u002fKitchen Utensils & Gadgets\",\"Home & Kitchen\\u002fKitchen & Dining\\u002fKitchen Utensils & Gadgets\",\"Home & Kitchen\\u002fKitchen & Dining\\u002fKitchen Utensils & Gadgets\",\"Home & Kitchen\\u002fKitchen & Dining\\u002fDining & Entertaining\",\"Home & Kitchen\\u002fKitchen & Dining\\u002fKitchen Utensils & Gadgets\",\"Home & Kitchen\\u002fStorage & Organization\\u002fKitchen Storage & Organization\",\"Home & Kitchen\\u002fKitchen & Dining\\u002fStorage & Organization\",\"Home & Kitchen\\u002fKitchen & Dining\\u002fFood Service Equipment & Supplies\",\"Home & Kitchen\\u002fKitchen & Dining\\u002fKitchen Utensils & Gadgets\",\"Home & Kitchen\\u002fBath\\u002fBathroom Accessories\",\"Home & Kitchen\\u002fKitchen & Dining\\u002fSmall Appliances\",\"Home & Kitchen\\u002fHeating, Cooling & Air Quality\\u002fParts & Accessories\",\"Home & Kitchen\\u002fFurniture\\u002fGame & Recreation Room Furniture\",\"Home & Kitchen\\u002fFurniture\\u002fLiving Room Furniture\",\"Home & Kitchen\\u002fKitchen & Dining\\u002fFood Service Equipment & Supplies\",\"Home & Kitchen\\u002fKitchen & Dining\\u002fDining & Entertaining\",\"Home & Kitchen\\u002fKitchen & Dining\\u002fCoffee, Tea & Espresso\",\"Home & Kitchen\\u002fStorage & Organization\\u002fKitchen Storage & Organization\",\"Home & Kitchen\\u002fKitchen & Dining\\u002fStorage & Organization\",\"Home & Kitchen\\u002fKitchen & Dining\",\"Home & Kitchen\\u002fBath\",\"Home & Kitchen\\u002fFurniture\",\"Home & Kitchen\\u002fHome D\\u00e9cor Products\",\"Home & Kitchen\\u002fKitchen & Dining\",\"Home & Kitchen\\u002fKitchen & Dining\",\"Home & Kitchen\\u002fKitchen & Dining\",\"Home & Kitchen\\u002fFurniture\",\"Home & Kitchen\\u002fCleaning Supplies\",\"Home & Kitchen\\u002fStorage & Organization\",\"Home & Kitchen\\u002fKitchen & Dining\",\"Home & Kitchen\\u002fFurniture\",\"Home & Kitchen\\u002fHeating, Cooling & Air Quality\",\"Home & Kitchen\\u002fKitchen & Dining\",\"Home & Kitchen\\u002fKitchen & Dining\",\"Home & Kitchen\\u002fKitchen & Dining\",\"Home & Kitchen\",\"Home & Kitchen\",\"Home & Kitchen\",\"Home & Kitchen\",\"Home & Kitchen\",\"Home & Kitchen\",\"Home & Kitchen\",\"\"],\"values\":[1,45,2,7,7,2,6,1,7,13,5,13,17,2,5,10,33,1,17,2,1,4,1,20,20,5,20,4,2,10,1,3,5,1,5,64,1,29,1,44,1,2,4,1,29,29,11,1,2,10,2,2,7,13,1,2,1,7,7,1,2,2,5,2,1,1,4,8,4,4,1,15,1,2,24,24,62,62,1,2,11,10,10,8,24,4,4,16,22,22,24,2,3,12,1,1,15,32,10,10,1,1,8,10,15,2,10,22,3,1,82,7,1,54,54,7,7,7,2,2,1,5,5,2,2,5,2,1,18,2,12,135,12,1,1,1,1,3,1,7,1,1,2,21,21,7,1,21,21,19,5,3,3,11,2,2,2,2,47,47,5,1,1,16,6,2,8,13,15,1,1,25,1,22,1,3,3,5,24,11,32,32,1,12,2,2,15,1,17,7,1,1,1,1,26,10,1,21,11,1,29,7,4,1,19,2,3,15,14,14,1,1,26,3,3,3,3,13,5,1,22,2,2,1,5,5,1,1,4,4,6,18,34,34,13,3,16,16,16,6,9,4,1,2,3,12,15,12,37,37,2,6,1,1,2,2,1,1,13,1,5,1,1,8,3,5,5,5,2,4,2,1,3,5,9,11,11,4,4,2,21,18,18,68,43,5,3,16,11,112,112,19,10,1,12,12,39,39,3,3,11,87,4,12,25,10,32,81,81,39,16,1,1,82,17,2,87,87,4,7,9,129,2,7,15,15,12,218,202,3,13,202,6,6,19,4,16,16,4,8,45,24,11,133,258,2,16,16,8,7,19,24,25,10,10,10,3,18,18,42,61,5,16,2,11,40,40,12,218,3,248,57,90,90,20,75,19,39,5,4,30,24,16,4,122,122,11,73,16,4,4,16,16,936,202,19,15,15,21,55,5,16,59,659,1165,21,11,227,236,16,4,40,16,227,55,11,42,4,16,2423,227,2778],\"type\":\"sunburst\",\"textinfo\":\"label+percent parent\"}],                        {\"template\":{\"data\":{\"histogram2dcontour\":[{\"type\":\"histogram2dcontour\",\"colorbar\":{\"outlinewidth\":0,\"ticks\":\"\"},\"colorscale\":[[0.0,\"#0d0887\"],[0.1111111111111111,\"#46039f\"],[0.2222222222222222,\"#7201a8\"],[0.3333333333333333,\"#9c179e\"],[0.4444444444444444,\"#bd3786\"],[0.5555555555555556,\"#d8576b\"],[0.6666666666666666,\"#ed7953\"],[0.7777777777777778,\"#fb9f3a\"],[0.8888888888888888,\"#fdca26\"],[1.0,\"#f0f921\"]]}],\"choropleth\":[{\"type\":\"choropleth\",\"colorbar\":{\"outlinewidth\":0,\"ticks\":\"\"}}],\"histogram2d\":[{\"type\":\"histogram2d\",\"colorbar\":{\"outlinewidth\":0,\"ticks\":\"\"},\"colorscale\":[[0.0,\"#0d0887\"],[0.1111111111111111,\"#46039f\"],[0.2222222222222222,\"#7201a8\"],[0.3333333333333333,\"#9c179e\"],[0.4444444444444444,\"#bd3786\"],[0.5555555555555556,\"#d8576b\"],[0.6666666666666666,\"#ed7953\"],[0.7777777777777778,\"#fb9f3a\"],[0.8888888888888888,\"#fdca26\"],[1.0,\"#f0f921\"]]}],\"heatmap\":[{\"type\":\"heatmap\",\"colorbar\":{\"outlinewidth\":0,\"ticks\":\"\"},\"colorscale\":[[0.0,\"#0d0887\"],[0.1111111111111111,\"#46039f\"],[0.2222222222222222,\"#7201a8\"],[0.3333333333333333,\"#9c179e\"],[0.4444444444444444,\"#bd3786\"],[0.5555555555555556,\"#d8576b\"],[0.6666666666666666,\"#ed7953\"],[0.7777777777777778,\"#fb9f3a\"],[0.8888888888888888,\"#fdca26\"],[1.0,\"#f0f921\"]]}],\"heatmapgl\":[{\"type\":\"heatmapgl\",\"colorbar\":{\"outlinewidth\":0,\"ticks\":\"\"},\"colorscale\":[[0.0,\"#0d0887\"],[0.1111111111111111,\"#46039f\"],[0.2222222222222222,\"#7201a8\"],[0.3333333333333333,\"#9c179e\"],[0.4444444444444444,\"#bd3786\"],[0.5555555555555556,\"#d8576b\"],[0.6666666666666666,\"#ed7953\"],[0.7777777777777778,\"#fb9f3a\"],[0.8888888888888888,\"#fdca26\"],[1.0,\"#f0f921\"]]}],\"contourcarpet\":[{\"type\":\"contourcarpet\",\"colorbar\":{\"outlinewidth\":0,\"ticks\":\"\"}}],\"contour\":[{\"type\":\"contour\",\"colorbar\":{\"outlinewidth\":0,\"ticks\":\"\"},\"colorscale\":[[0.0,\"#0d0887\"],[0.1111111111111111,\"#46039f\"],[0.2222222222222222,\"#7201a8\"],[0.3333333333333333,\"#9c179e\"],[0.4444444444444444,\"#bd3786\"],[0.5555555555555556,\"#d8576b\"],[0.6666666666666666,\"#ed7953\"],[0.7777777777777778,\"#fb9f3a\"],[0.8888888888888888,\"#fdca26\"],[1.0,\"#f0f921\"]]}],\"surface\":[{\"type\":\"surface\",\"colorbar\":{\"outlinewidth\":0,\"ticks\":\"\"},\"colorscale\":[[0.0,\"#0d0887\"],[0.1111111111111111,\"#46039f\"],[0.2222222222222222,\"#7201a8\"],[0.3333333333333333,\"#9c179e\"],[0.4444444444444444,\"#bd3786\"],[0.5555555555555556,\"#d8576b\"],[0.6666666666666666,\"#ed7953\"],[0.7777777777777778,\"#fb9f3a\"],[0.8888888888888888,\"#fdca26\"],[1.0,\"#f0f921\"]]}],\"mesh3d\":[{\"type\":\"mesh3d\",\"colorbar\":{\"outlinewidth\":0,\"ticks\":\"\"}}],\"scatter\":[{\"fillpattern\":{\"fillmode\":\"overlay\",\"size\":10,\"solidity\":0.2},\"type\":\"scatter\"}],\"parcoords\":[{\"type\":\"parcoords\",\"line\":{\"colorbar\":{\"outlinewidth\":0,\"ticks\":\"\"}}}],\"scatterpolargl\":[{\"type\":\"scatterpolargl\",\"marker\":{\"colorbar\":{\"outlinewidth\":0,\"ticks\":\"\"}}}],\"bar\":[{\"error_x\":{\"color\":\"#2a3f5f\"},\"error_y\":{\"color\":\"#2a3f5f\"},\"marker\":{\"line\":{\"color\":\"#E5ECF6\",\"width\":0.5},\"pattern\":{\"fillmode\":\"overlay\",\"size\":10,\"solidity\":0.2}},\"type\":\"bar\"}],\"scattergeo\":[{\"type\":\"scattergeo\",\"marker\":{\"colorbar\":{\"outlinewidth\":0,\"ticks\":\"\"}}}],\"scatterpolar\":[{\"type\":\"scatterpolar\",\"marker\":{\"colorbar\":{\"outlinewidth\":0,\"ticks\":\"\"}}}],\"histogram\":[{\"marker\":{\"pattern\":{\"fillmode\":\"overlay\",\"size\":10,\"solidity\":0.2}},\"type\":\"histogram\"}],\"scattergl\":[{\"type\":\"scattergl\",\"marker\":{\"colorbar\":{\"outlinewidth\":0,\"ticks\":\"\"}}}],\"scatter3d\":[{\"type\":\"scatter3d\",\"line\":{\"colorbar\":{\"outlinewidth\":0,\"ticks\":\"\"}},\"marker\":{\"colorbar\":{\"outlinewidth\":0,\"ticks\":\"\"}}}],\"scattermapbox\":[{\"type\":\"scattermapbox\",\"marker\":{\"colorbar\":{\"outlinewidth\":0,\"ticks\":\"\"}}}],\"scatterternary\":[{\"type\":\"scatterternary\",\"marker\":{\"colorbar\":{\"outlinewidth\":0,\"ticks\":\"\"}}}],\"scattercarpet\":[{\"type\":\"scattercarpet\",\"marker\":{\"colorbar\":{\"outlinewidth\":0,\"ticks\":\"\"}}}],\"carpet\":[{\"aaxis\":{\"endlinecolor\":\"#2a3f5f\",\"gridcolor\":\"white\",\"linecolor\":\"white\",\"minorgridcolor\":\"white\",\"startlinecolor\":\"#2a3f5f\"},\"baxis\":{\"endlinecolor\":\"#2a3f5f\",\"gridcolor\":\"white\",\"linecolor\":\"white\",\"minorgridcolor\":\"white\",\"startlinecolor\":\"#2a3f5f\"},\"type\":\"carpet\"}],\"table\":[{\"cells\":{\"fill\":{\"color\":\"#EBF0F8\"},\"line\":{\"color\":\"white\"}},\"header\":{\"fill\":{\"color\":\"#C8D4E3\"},\"line\":{\"color\":\"white\"}},\"type\":\"table\"}],\"barpolar\":[{\"marker\":{\"line\":{\"color\":\"#E5ECF6\",\"width\":0.5},\"pattern\":{\"fillmode\":\"overlay\",\"size\":10,\"solidity\":0.2}},\"type\":\"barpolar\"}],\"pie\":[{\"automargin\":true,\"type\":\"pie\"}]},\"layout\":{\"autotypenumbers\":\"strict\",\"colorway\":[\"#636efa\",\"#EF553B\",\"#00cc96\",\"#ab63fa\",\"#FFA15A\",\"#19d3f3\",\"#FF6692\",\"#B6E880\",\"#FF97FF\",\"#FECB52\"],\"font\":{\"color\":\"#2a3f5f\"},\"hovermode\":\"closest\",\"hoverlabel\":{\"align\":\"left\"},\"paper_bgcolor\":\"white\",\"plot_bgcolor\":\"#E5ECF6\",\"polar\":{\"bgcolor\":\"#E5ECF6\",\"angularaxis\":{\"gridcolor\":\"white\",\"linecolor\":\"white\",\"ticks\":\"\"},\"radialaxis\":{\"gridcolor\":\"white\",\"linecolor\":\"white\",\"ticks\":\"\"}},\"ternary\":{\"bgcolor\":\"#E5ECF6\",\"aaxis\":{\"gridcolor\":\"white\",\"linecolor\":\"white\",\"ticks\":\"\"},\"baxis\":{\"gridcolor\":\"white\",\"linecolor\":\"white\",\"ticks\":\"\"},\"caxis\":{\"gridcolor\":\"white\",\"linecolor\":\"white\",\"ticks\":\"\"}},\"coloraxis\":{\"colorbar\":{\"outlinewidth\":0,\"ticks\":\"\"}},\"colorscale\":{\"sequential\":[[0.0,\"#0d0887\"],[0.1111111111111111,\"#46039f\"],[0.2222222222222222,\"#7201a8\"],[0.3333333333333333,\"#9c179e\"],[0.4444444444444444,\"#bd3786\"],[0.5555555555555556,\"#d8576b\"],[0.6666666666666666,\"#ed7953\"],[0.7777777777777778,\"#fb9f3a\"],[0.8888888888888888,\"#fdca26\"],[1.0,\"#f0f921\"]],\"sequentialminus\":[[0.0,\"#0d0887\"],[0.1111111111111111,\"#46039f\"],[0.2222222222222222,\"#7201a8\"],[0.3333333333333333,\"#9c179e\"],[0.4444444444444444,\"#bd3786\"],[0.5555555555555556,\"#d8576b\"],[0.6666666666666666,\"#ed7953\"],[0.7777777777777778,\"#fb9f3a\"],[0.8888888888888888,\"#fdca26\"],[1.0,\"#f0f921\"]],\"diverging\":[[0,\"#8e0152\"],[0.1,\"#c51b7d\"],[0.2,\"#de77ae\"],[0.3,\"#f1b6da\"],[0.4,\"#fde0ef\"],[0.5,\"#f7f7f7\"],[0.6,\"#e6f5d0\"],[0.7,\"#b8e186\"],[0.8,\"#7fbc41\"],[0.9,\"#4d9221\"],[1,\"#276419\"]]},\"xaxis\":{\"gridcolor\":\"white\",\"linecolor\":\"white\",\"ticks\":\"\",\"title\":{\"standoff\":15},\"zerolinecolor\":\"white\",\"automargin\":true,\"zerolinewidth\":2},\"yaxis\":{\"gridcolor\":\"white\",\"linecolor\":\"white\",\"ticks\":\"\",\"title\":{\"standoff\":15},\"zerolinecolor\":\"white\",\"automargin\":true,\"zerolinewidth\":2},\"scene\":{\"xaxis\":{\"backgroundcolor\":\"#E5ECF6\",\"gridcolor\":\"white\",\"linecolor\":\"white\",\"showbackground\":true,\"ticks\":\"\",\"zerolinecolor\":\"white\",\"gridwidth\":2},\"yaxis\":{\"backgroundcolor\":\"#E5ECF6\",\"gridcolor\":\"white\",\"linecolor\":\"white\",\"showbackground\":true,\"ticks\":\"\",\"zerolinecolor\":\"white\",\"gridwidth\":2},\"zaxis\":{\"backgroundcolor\":\"#E5ECF6\",\"gridcolor\":\"white\",\"linecolor\":\"white\",\"showbackground\":true,\"ticks\":\"\",\"zerolinecolor\":\"white\",\"gridwidth\":2}},\"shapedefaults\":{\"line\":{\"color\":\"#2a3f5f\"}},\"annotationdefaults\":{\"arrowcolor\":\"#2a3f5f\",\"arrowhead\":0,\"arrowwidth\":1},\"geo\":{\"bgcolor\":\"white\",\"landcolor\":\"#E5ECF6\",\"subunitcolor\":\"white\",\"showland\":true,\"showlakes\":true,\"lakecolor\":\"white\"},\"title\":{\"x\":0.05},\"mapbox\":{\"style\":\"light\"}}},\"legend\":{\"tracegroupgap\":0},\"title\":{\"text\":\"Tree cats Distribution\"},\"height\":800,\"width\":800},                        {\"responsive\": true}                    ).then(function(){\n",
       "                            \n",
       "var gd = document.getElementById('72aa02d9-919f-472f-92b9-70de624028c7');\n",
       "var x = new MutationObserver(function (mutations, observer) {{\n",
       "        var display = window.getComputedStyle(gd).display;\n",
       "        if (!display || display === 'none') {{\n",
       "            console.log([gd, 'removed!']);\n",
       "            Plotly.purge(gd);\n",
       "            observer.disconnect();\n",
       "        }}\n",
       "}});\n",
       "\n",
       "// Listen for the removal of the full notebook cells\n",
       "var notebookContainer = gd.closest('#notebook-container');\n",
       "if (notebookContainer) {{\n",
       "    x.observe(notebookContainer, {childList: true});\n",
       "}}\n",
       "\n",
       "// Listen for the clearing of the current output cell\n",
       "var outputEl = gd.closest('.output');\n",
       "if (outputEl) {{\n",
       "    x.observe(outputEl, {childList: true});\n",
       "}}\n",
       "\n",
       "                        })                };                });            </script>        </div>"
      ]
     },
     "metadata": {},
     "output_type": "display_data"
    }
   ],
   "source": [
    "ch_group=ch[[0,1,2,3,4,5,'categories']].groupby([0,1,2,3,4,5],as_index = False).sum()\n",
    "\n",
    "fig = px.sunburst(ch_group,\n",
    "                  path=[0,1,2,3,4,5,],\n",
    "                  values='categories',\n",
    "                  title=\"Tree cats Distribution\",\n",
    "                  width=800, \n",
    "                  height=800,\n",
    "                  color=3)\n",
    "fig.update_traces(textinfo=\"label+percent parent\")\n",
    "fig.show()\n",
    "fig.write_html(\"ch.html\")"
   ]
  },
  {
   "cell_type": "code",
   "execution_count": null,
   "id": "4a1e9d90",
   "metadata": {},
   "outputs": [],
   "source": []
  }
 ],
 "metadata": {
  "kernelspec": {
   "display_name": "Python 3 (ipykernel)",
   "language": "python",
   "name": "python3"
  },
  "language_info": {
   "codemirror_mode": {
    "name": "ipython",
    "version": 3
   },
   "file_extension": ".py",
   "mimetype": "text/x-python",
   "name": "python",
   "nbconvert_exporter": "python",
   "pygments_lexer": "ipython3",
   "version": "3.11.6"
  }
 },
 "nbformat": 4,
 "nbformat_minor": 5
}
